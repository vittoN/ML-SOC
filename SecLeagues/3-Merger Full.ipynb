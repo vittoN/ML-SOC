{
 "cells": [
  {
   "cell_type": "code",
   "execution_count": 2,
   "metadata": {},
   "outputs": [
    {
     "name": "stdout",
     "output_type": "stream",
     "text": [
      "Processing file: ../data/finals\\mergedDataFull2.xlsx\n",
      "Processing file: ../data/finals\\mergedEsotic.xlsx\n",
      "Processing file: ../data/finals\\mergedSecleagues.xlsx\n"
     ]
    },
    {
     "name": "stderr",
     "output_type": "stream",
     "text": [
      "C:\\Users\\vitto\\AppData\\Local\\Temp\\ipykernel_12320\\2973529629.py:30: PerformanceWarning: DataFrame is highly fragmented.  This is usually the result of calling `frame.insert` many times, which has poor performance.  Consider joining all columns at once using pd.concat(axis=1) instead. To get a de-fragmented frame, use `newframe = frame.copy()`\n",
      "  final_df['GoalsAvgSum'] = final_df['HomeAvgGoalsScored'] + final_df['HomeAvgGoalsConceded'] + final_df['AwayAvgGoalsScored'] + final_df['AwayAvgGoalsConceded']\n",
      "C:\\Users\\vitto\\AppData\\Local\\Temp\\ipykernel_12320\\2973529629.py:31: PerformanceWarning: DataFrame is highly fragmented.  This is usually the result of calling `frame.insert` many times, which has poor performance.  Consider joining all columns at once using pd.concat(axis=1) instead. To get a de-fragmented frame, use `newframe = frame.copy()`\n",
      "  final_df['RecentFormRatio']= final_df['HomeRecentHomeForm']/final_df['AwayRecentAwayForm']\n"
     ]
    }
   ],
   "source": [
    "import pandas as pd\n",
    "import os\n",
    "\n",
    "# Sostituisci con il percorso reale della cartella contenente i file .xlsx\n",
    "folder_path = \"../data/finals\"\n",
    "\n",
    "# Crea una lista vuota per memorizzare i dataframe di ogni file\n",
    "all_dataframes = []\n",
    "\n",
    "# Iterazione su tutti i file .xlsx nella cartella\n",
    "for filename in os.listdir(folder_path):\n",
    "    if filename.endswith('.xlsx'):\n",
    "        file_path = os.path.join(folder_path, filename)\n",
    "        print(f\"Processing file: {file_path}\")\n",
    "        # Leggi il file Excel in un dataframe\n",
    "        df = pd.read_excel(file_path)\n",
    "        colonne_origine = ['Home', 'League', 'Away', 'Res', 'HG', 'AG']\n",
    "        colonne_destinazione = ['HomeTeam', 'Div', 'AwayTeam', 'FTR', 'FTHG', 'FTAG']\n",
    "\n",
    "        for dest, orig in zip(colonne_destinazione, colonne_origine):\n",
    "            if orig in df.columns:\n",
    "                df[dest] = df[orig]\n",
    "            \n",
    "        # Aggiungi il dataframe alla lista\n",
    "        all_dataframes.append(df)\n",
    "\n",
    "# Concatena tutti i dataframe in un unico dataframe\n",
    "final_df = pd.concat(all_dataframes, ignore_index=True)\n",
    "\n",
    "final_df['GoalsAvgSum'] = final_df['HomeAvgGoalsScored'] + final_df['HomeAvgGoalsConceded'] + final_df['AwayAvgGoalsScored'] + final_df['AwayAvgGoalsConceded']\n",
    "final_df['RecentFormRatio']= final_df['HomeRecentHomeForm']/final_df['AwayRecentAwayForm']"
   ]
  },
  {
   "cell_type": "code",
   "execution_count": 4,
   "metadata": {},
   "outputs": [
    {
     "name": "stdout",
     "output_type": "stream",
     "text": [
      "File Excel uniti con successo in 'dati_uniti.xlsx'\n"
     ]
    }
   ],
   "source": [
    "\n",
    "# Salva il dataframe finale in un nuovo file Excel\n",
    "final_df.to_excel(\"../data/mergedFinalFull.xlsx\", index=False)\n",
    "\n",
    "print(\"File Excel uniti con successo in 'dati_uniti.xlsx'\")"
   ]
  }
 ],
 "metadata": {
  "kernelspec": {
   "display_name": "Python 3",
   "language": "python",
   "name": "python3"
  },
  "language_info": {
   "codemirror_mode": {
    "name": "ipython",
    "version": 3
   },
   "file_extension": ".py",
   "mimetype": "text/x-python",
   "name": "python",
   "nbconvert_exporter": "python",
   "pygments_lexer": "ipython3",
   "version": "3.11.2"
  }
 },
 "nbformat": 4,
 "nbformat_minor": 2
}
