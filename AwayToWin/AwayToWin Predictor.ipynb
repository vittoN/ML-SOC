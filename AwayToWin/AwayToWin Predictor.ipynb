{
 "cells": [
  {
   "cell_type": "code",
   "execution_count": 2,
   "metadata": {},
   "outputs": [],
   "source": [
    "# Import libraries\n",
    "import pandas as pd\n",
    "import numpy as np\n",
    "import matplotlib.pyplot as plt\n",
    "import seaborn as sns\n",
    "from sklearn.model_selection import train_test_split\n",
    "import sys\n",
    "import os\n",
    "from sklearn.ensemble import RandomForestClassifier\n",
    "\n",
    "\n",
    "# Trova il percorso assoluto della cartella \"esotic\" (dove si trova il tuo ipynb)\n",
    "current_dir = os.path.dirname(os.path.abspath(\"__file__\"))\n",
    "\n",
    "# Trova il percorso assoluto della cartella \"lib\"\n",
    "lib_dir = os.path.join(current_dir, \"..\", \"lib\")\n",
    "\n",
    "# Aggiungi il percorso di \"lib\" al PYTHONPATH\n",
    "sys.path.append(lib_dir)\n",
    "\n",
    "from Utility import *\n",
    "\n",
    "# features = [\n",
    "# 'RecentFormRatio', 'EloRatio'\n",
    "# ]\n",
    "\n",
    "\n",
    "features = [\n",
    "'GoalRatioDifference', 'RecentFormDiff'\n",
    "]\n",
    "\n",
    "features2 = ['UltimoScontroDiretto', 'feat1', 'feat2']\n",
    "\n",
    "classWeight={1: 3, 0: 1}"
   ]
  },
  {
   "cell_type": "markdown",
   "metadata": {},
   "source": [
    "## DATA"
   ]
  },
  {
   "cell_type": "code",
   "execution_count": 3,
   "metadata": {},
   "outputs": [
    {
     "name": "stderr",
     "output_type": "stream",
     "text": [
      "c:\\Users\\vitto\\OneDrive\\Desktop\\Personale\\ML - Soccer\\AwayToWin\\..\\lib\\Utility.py:212: FutureWarning: Downcasting behavior in `replace` is deprecated and will be removed in a future version. To retain the old behavior, explicitly call `result.infer_objects(copy=False)`. To opt-in to the future behavior, set `pd.set_option('future.no_silent_downcasting', True)`\n",
      "  data['UltimoScontroDiretto'] = data['UltimoScontroDiretto'].replace(\n"
     ]
    }
   ],
   "source": [
    "data = getFullData().copy()\n",
    "# data = pd.read_excel('../data/mergedSerieA.xlsx')\n",
    "\n",
    "dataU = data.dropna(subset=features2)\n"
   ]
  },
  {
   "cell_type": "markdown",
   "metadata": {},
   "source": [
    "## Feature Engineering"
   ]
  },
  {
   "cell_type": "code",
   "execution_count": 4,
   "metadata": {},
   "outputs": [
    {
     "name": "stdout",
     "output_type": "stream",
     "text": [
      "38192 21165\n",
      "38192\n",
      "isATW: 29 %\n",
      "X_train: (26734, 2) \n",
      "X_test: (11458, 2) \n",
      "y_train: (26734,) \n",
      "y_test: (11458,)\n"
     ]
    }
   ],
   "source": [
    "data = data.dropna(subset=features)\n",
    "print(len(data), len(dataU))\n",
    "# data = data.dropna()\n",
    "print(len(data))\n",
    "data['isOver'] = np.where(data['MatchGoal'] > 2.5, 1, 0)\n",
    "data['isATW'] = np.where(((data['FTR'] == 'A')), 1, 0)\n",
    "print('isATW:', round(100*data[data['isATW']==1]['isATW'].count() / len(data['isATW'])), '%')\n",
    "x_train, x_test, y_train, y_test = train_test_split(\n",
    "    data[features], data['isATW'], test_size=0.3, random_state=42, shuffle=True)#, stratify=data['isATS'])\n",
    "\n",
    "x_train = x_train.sort_index()\n",
    "x_test = x_test.sort_index()\n",
    "y_train = y_train.sort_index()\n",
    "y_test = y_test.sort_index()\n",
    "\n",
    "\n",
    "print(f'X_train: {x_train.shape} \\nX_test: {x_test.shape} \\ny_train: {y_train.shape} \\ny_test: {y_test.shape}')"
   ]
  },
  {
   "cell_type": "markdown",
   "metadata": {},
   "source": [
    "## Models"
   ]
  },
  {
   "cell_type": "markdown",
   "metadata": {},
   "source": [
    "### Decision Tree model"
   ]
  },
  {
   "cell_type": "code",
   "execution_count": 5,
   "metadata": {},
   "outputs": [],
   "source": [
    "from sklearn.tree import DecisionTreeClassifier\n",
    "\n",
    "\n",
    "\n",
    "# Crea e addestra il modello di albero di decisione per la regressione\n",
    "decTreeModel = DecisionTreeClassifier(random_state=42, min_samples_split=80\n",
    "                                 , class_weight=classWeight\n",
    "                                 # , class_weight='balanced'\n",
    "                                 , max_depth=3  # , ccp_alpha= 0.00001\n",
    "                                 # , max_features= 3\n",
    "                                 ).fit(x_train, y_train)\n",
    "\n",
    "# decTreeModel = RandomForestClassifier(random_state=42, n_estimators=100, \n",
    "#                                 min_samples_split=80, max_depth=3).fit(x_train_under, y_train_under) \n",
    "\n",
    "# dumpModel(\"Step1.joblib\", decTreeModel)\n",
    "# decTreeModel = loadModel(\"Step1.joblib\")"
   ]
  },
  {
   "cell_type": "markdown",
   "metadata": {},
   "source": [
    "### LogisticRegression"
   ]
  },
  {
   "cell_type": "code",
   "execution_count": 6,
   "metadata": {},
   "outputs": [],
   "source": [
    "logRegModel = trainLogRegModel(x_train, y_train, class_weight=classWeight)\n",
    "\n",
    "# dumpModel(\"Step1LogReg.joblib\", logRegModel_u)\n",
    "# rfModel = loadModel('Step1LogReg.joblib')"
   ]
  },
  {
   "cell_type": "markdown",
   "metadata": {},
   "source": [
    "### Random Forest"
   ]
  },
  {
   "cell_type": "code",
   "execution_count": 7,
   "metadata": {},
   "outputs": [],
   "source": [
    "# Crea e addestra il modello di Random Forest\n",
    "\n",
    "\n",
    "from sklearn.model_selection import GridSearchCV\n",
    "\n",
    "rfModel = RandomForestClassifier(random_state=42, n_estimators=200, \n",
    "                                min_samples_split=80, max_depth=3\n",
    "                                # class_weight='balanced_subsample'\n",
    "                                 , class_weight=classWeight\n",
    "                                ).fit(x_train, y_train) \n",
    "\n",
    "\n",
    "# param_grid = {\n",
    "#     'n_estimators': [200],\n",
    "#     'min_samples_split': [50, 100],\n",
    "#     'max_depth': [3, 5],\n",
    "# }\n",
    "\n",
    "# grid_search = GridSearchCV(estimator=rfModel, param_grid=param_grid, cv=5, scoring='accuracy')\n",
    "# grid_search.fit(x_train, y_train)\n",
    "\n",
    "# print(\"Migliori iperparametri:\", grid_search.best_params_)\n",
    "# print(\"Migliore accuratezza:\", grid_search.best_score_)\n",
    "\n",
    "# best_rfModel = grid_search.best_estimator_\n",
    "\n",
    "# rfModel = best_rfModel\n",
    "\n",
    "\n",
    "# dumpModel(\"ATS-RF.joblib\", rfModel)\n",
    "# rfModel = loadModel('ATS-RF.joblib')"
   ]
  },
  {
   "cell_type": "code",
   "execution_count": 8,
   "metadata": {},
   "outputs": [
    {
     "data": {
      "text/html": [
       "<style>#sk-container-id-1 {color: black;}#sk-container-id-1 pre{padding: 0;}#sk-container-id-1 div.sk-toggleable {background-color: white;}#sk-container-id-1 label.sk-toggleable__label {cursor: pointer;display: block;width: 100%;margin-bottom: 0;padding: 0.3em;box-sizing: border-box;text-align: center;}#sk-container-id-1 label.sk-toggleable__label-arrow:before {content: \"▸\";float: left;margin-right: 0.25em;color: #696969;}#sk-container-id-1 label.sk-toggleable__label-arrow:hover:before {color: black;}#sk-container-id-1 div.sk-estimator:hover label.sk-toggleable__label-arrow:before {color: black;}#sk-container-id-1 div.sk-toggleable__content {max-height: 0;max-width: 0;overflow: hidden;text-align: left;background-color: #f0f8ff;}#sk-container-id-1 div.sk-toggleable__content pre {margin: 0.2em;color: black;border-radius: 0.25em;background-color: #f0f8ff;}#sk-container-id-1 input.sk-toggleable__control:checked~div.sk-toggleable__content {max-height: 200px;max-width: 100%;overflow: auto;}#sk-container-id-1 input.sk-toggleable__control:checked~label.sk-toggleable__label-arrow:before {content: \"▾\";}#sk-container-id-1 div.sk-estimator input.sk-toggleable__control:checked~label.sk-toggleable__label {background-color: #d4ebff;}#sk-container-id-1 div.sk-label input.sk-toggleable__control:checked~label.sk-toggleable__label {background-color: #d4ebff;}#sk-container-id-1 input.sk-hidden--visually {border: 0;clip: rect(1px 1px 1px 1px);clip: rect(1px, 1px, 1px, 1px);height: 1px;margin: -1px;overflow: hidden;padding: 0;position: absolute;width: 1px;}#sk-container-id-1 div.sk-estimator {font-family: monospace;background-color: #f0f8ff;border: 1px dotted black;border-radius: 0.25em;box-sizing: border-box;margin-bottom: 0.5em;}#sk-container-id-1 div.sk-estimator:hover {background-color: #d4ebff;}#sk-container-id-1 div.sk-parallel-item::after {content: \"\";width: 100%;border-bottom: 1px solid gray;flex-grow: 1;}#sk-container-id-1 div.sk-label:hover label.sk-toggleable__label {background-color: #d4ebff;}#sk-container-id-1 div.sk-serial::before {content: \"\";position: absolute;border-left: 1px solid gray;box-sizing: border-box;top: 0;bottom: 0;left: 50%;z-index: 0;}#sk-container-id-1 div.sk-serial {display: flex;flex-direction: column;align-items: center;background-color: white;padding-right: 0.2em;padding-left: 0.2em;position: relative;}#sk-container-id-1 div.sk-item {position: relative;z-index: 1;}#sk-container-id-1 div.sk-parallel {display: flex;align-items: stretch;justify-content: center;background-color: white;position: relative;}#sk-container-id-1 div.sk-item::before, #sk-container-id-1 div.sk-parallel-item::before {content: \"\";position: absolute;border-left: 1px solid gray;box-sizing: border-box;top: 0;bottom: 0;left: 50%;z-index: -1;}#sk-container-id-1 div.sk-parallel-item {display: flex;flex-direction: column;z-index: 1;position: relative;background-color: white;}#sk-container-id-1 div.sk-parallel-item:first-child::after {align-self: flex-end;width: 50%;}#sk-container-id-1 div.sk-parallel-item:last-child::after {align-self: flex-start;width: 50%;}#sk-container-id-1 div.sk-parallel-item:only-child::after {width: 0;}#sk-container-id-1 div.sk-dashed-wrapped {border: 1px dashed gray;margin: 0 0.4em 0.5em 0.4em;box-sizing: border-box;padding-bottom: 0.4em;background-color: white;}#sk-container-id-1 div.sk-label label {font-family: monospace;font-weight: bold;display: inline-block;line-height: 1.2em;}#sk-container-id-1 div.sk-label-container {text-align: center;}#sk-container-id-1 div.sk-container {/* jupyter's `normalize.less` sets `[hidden] { display: none; }` but bootstrap.min.css set `[hidden] { display: none !important; }` so we also need the `!important` here to be able to override the default hidden behavior on the sphinx rendered scikit-learn.org. See: https://github.com/scikit-learn/scikit-learn/issues/21755 */display: inline-block !important;position: relative;}#sk-container-id-1 div.sk-text-repr-fallback {display: none;}</style><div id=\"sk-container-id-1\" class=\"sk-top-container\"><div class=\"sk-text-repr-fallback\"><pre>OneVsRestClassifier(estimator=LogisticRegression())</pre><b>In a Jupyter environment, please rerun this cell to show the HTML representation or trust the notebook. <br />On GitHub, the HTML representation is unable to render, please try loading this page with nbviewer.org.</b></div><div class=\"sk-container\" hidden><div class=\"sk-item sk-dashed-wrapped\"><div class=\"sk-label-container\"><div class=\"sk-label sk-toggleable\"><input class=\"sk-toggleable__control sk-hidden--visually\" id=\"sk-estimator-id-1\" type=\"checkbox\" ><label for=\"sk-estimator-id-1\" class=\"sk-toggleable__label sk-toggleable__label-arrow\">OneVsRestClassifier</label><div class=\"sk-toggleable__content\"><pre>OneVsRestClassifier(estimator=LogisticRegression())</pre></div></div></div><div class=\"sk-parallel\"><div class=\"sk-parallel-item\"><div class=\"sk-item\"><div class=\"sk-label-container\"><div class=\"sk-label sk-toggleable\"><input class=\"sk-toggleable__control sk-hidden--visually\" id=\"sk-estimator-id-2\" type=\"checkbox\" ><label for=\"sk-estimator-id-2\" class=\"sk-toggleable__label sk-toggleable__label-arrow\">estimator: LogisticRegression</label><div class=\"sk-toggleable__content\"><pre>LogisticRegression()</pre></div></div></div><div class=\"sk-serial\"><div class=\"sk-item\"><div class=\"sk-estimator sk-toggleable\"><input class=\"sk-toggleable__control sk-hidden--visually\" id=\"sk-estimator-id-3\" type=\"checkbox\" ><label for=\"sk-estimator-id-3\" class=\"sk-toggleable__label sk-toggleable__label-arrow\">LogisticRegression</label><div class=\"sk-toggleable__content\"><pre>LogisticRegression()</pre></div></div></div></div></div></div></div></div></div></div>"
      ],
      "text/plain": [
       "OneVsRestClassifier(estimator=LogisticRegression())"
      ]
     },
     "execution_count": 8,
     "metadata": {},
     "output_type": "execute_result"
    }
   ],
   "source": [
    "from sklearn.multiclass import OneVsRestClassifier\n",
    "\n",
    "# Crea un classificatore One-vs-Rest usando Logistic Regression come classificatore base\n",
    "ovr_classifier = OneVsRestClassifier(LogisticRegression())\n",
    "\n",
    "# Addestra il classificatore\n",
    "ovr_classifier.fit(x_train, y_train)\n"
   ]
  },
  {
   "cell_type": "markdown",
   "metadata": {},
   "source": [
    "## Utility Func for Gain"
   ]
  },
  {
   "cell_type": "code",
   "execution_count": 9,
   "metadata": {},
   "outputs": [],
   "source": [
    "quotaMin = 1.4\n",
    "\n",
    "def calculate_gain_1x(row, prediction):\n",
    "    if (row[prediction] == 0):\n",
    "        if row['Quota1x'] > quotaMin :\n",
    "            if row['FTR'] != 'A':\n",
    "                return row['Quota1x']-1\n",
    "            else:\n",
    "                return -1\n",
    "        else:\n",
    "            return 0\n",
    "    else:\n",
    "        return 0\n",
    "\n",
    "def calculate_gain_ATW(row, prediction):\n",
    "    if (row[prediction] == 1):\n",
    "        if row['QuotaATW'] > quotaMin :\n",
    "            if row['FTR'] == 'A':\n",
    "                return row['QuotaATW']-1\n",
    "            else:\n",
    "                return -1\n",
    "        else:\n",
    "            return 0\n",
    "    else:\n",
    "        return 0\n",
    "\n",
    "def calculate_gain_ATS(row, prediction):\n",
    "    if (row[prediction] == 1):\n",
    "        if row['ATS'] > quotaMin :\n",
    "            if row['FTAG'] > 0:\n",
    "                return row['ATS']-1\n",
    "            else:\n",
    "                return -1\n",
    "        else:\n",
    "            return 0\n",
    "    else:\n",
    "        return 0\n",
    "\n",
    "def calculate_gain_BTS(row, prediction):\n",
    "    if (row[prediction] == 1):\n",
    "        if row['BTS'] > quotaMin :\n",
    "            if row['FTHG'] > 0 and row['FTAG'] > 0:\n",
    "                return row['BTS']-1\n",
    "            else:\n",
    "                return -1\n",
    "        else:\n",
    "            return 0\n",
    "    else:\n",
    "        return 0\n",
    "def calculate_gain_O25(row, prediction):\n",
    "    \n",
    "    if (row[prediction] == 1):\n",
    "        if row['B365>2.5'] > quotaMin :\n",
    "            if row['MatchGoal'] > 2.5:\n",
    "                return row['B365>2.5']-1\n",
    "            else:\n",
    "                return -1\n",
    "        else:\n",
    "            return 0\n",
    "    elif (row[prediction] == 0): \n",
    "        if row['B365<2.5'] > quotaMin :\n",
    "            if row['MatchGoal'] < 2.5:\n",
    "                return row['B365<2.5']-1\n",
    "            else:\n",
    "                return -1\n",
    "        else:\n",
    "            return 0\n",
    "    else:\n",
    "        return 0\n",
    "\n",
    "def calculate_gain_Over25(row, prediction):\n",
    "    # print('row', row['B365>2.5'], pd.isna(row['B365>2.5']))\n",
    "    if (row[prediction] == 1):\n",
    "        # return 0\n",
    "        if row['B365>2.5'] > quotaMin :\n",
    "            if row['MatchGoal'] > 2.5:\n",
    "                return row['B365>2.5']-1\n",
    "            else:\n",
    "                return -1\n",
    "        else:\n",
    "            return 0\n",
    "    else:\n",
    "        return 0\n",
    "    \n",
    "def calculate_gain_Under25(row, prediction):\n",
    "    if (row[prediction] == 0): \n",
    "        # return 0\n",
    "        if row['B365<2.5'] > quotaMin :\n",
    "            if row['MatchGoal'] < 2.5:\n",
    "                return row['B365<2.5']-1\n",
    "            else:\n",
    "                return -1\n",
    "        else:\n",
    "            return 0\n",
    "    else:\n",
    "        return 0"
   ]
  },
  {
   "cell_type": "markdown",
   "metadata": {},
   "source": [
    "## Metrics"
   ]
  },
  {
   "cell_type": "code",
   "execution_count": 10,
   "metadata": {},
   "outputs": [
    {
     "name": "stdout",
     "output_type": "stream",
     "text": [
      "26734\n",
      "11458\n",
      "Test LogReg Accuracy score: 52.44%\n",
      "Test DecTree Accuracy score: 52.6%\n",
      "Train Random Forest Accuracy score: 59.23%\n",
      "Test Random Forest Accuracy score: 58.66%\n",
      "Test OneVsAll Accuracy score: 70.97%\n",
      "Test FullPred Accuracy score: 58.72%\n",
      "\n",
      "         Accuratezza_Over  Accuratezza_Under\n",
      "Modello                                     \n",
      "LogReg           0.361789           0.818784\n",
      "RF               0.385989           0.793930\n",
      "DecTree          0.362036           0.816949\n",
      "1vsAll           0.582834           0.715524\n",
      "51638   -372.09\n",
      "Name: EquityATW, dtype: float64\n",
      "Equity1x 51638   -11.035135\n",
      "Name: Equity1x, dtype: float64\n",
      "Bet number: 51638    5626\n",
      "Name: BetNum, dtype: int64 on 51638    11458\n",
      "Name: RowNum, dtype: int64\n"
     ]
    }
   ],
   "source": [
    "from itertools import count\n",
    "from math import nan\n",
    "from sklearn.metrics import accuracy_score\n",
    "\n",
    "df_train = data[data.index.isin(x_train.index)].copy()\n",
    "print(len(df_train))\n",
    "\n",
    "df_train['LogRegPred'] = logRegModel.predict(x_train)\n",
    "df_train['DecTreePred'] = decTreeModel.predict(x_train)\n",
    "df_train['RFPred'] = rfModel.predict(x_train)\n",
    "\n",
    "\n",
    "df_test = data[data.index.isin(x_test.index)].copy()\n",
    "\n",
    "print(len(df_test))\n",
    "\n",
    "df_test['LogRegPred'] = logRegModel.predict(x_test)\n",
    "df_test['DecTreePred'] = decTreeModel.predict(x_test)\n",
    "df_test['RFPred'] = rfModel.predict(x_test)\n",
    "df_test['1vsAllPred'] = ovr_classifier.predict(x_test)\n",
    "df_test['FullPred'] = np.where(df_test['RFPred']+df_test['LogRegPred'] ==2, 1, 0)\n",
    "\n",
    "print(\n",
    "    f\"Test LogReg Accuracy score: {round(100*accuracy_score(y_test, df_test['LogRegPred']),2)}%\")\n",
    "print(\n",
    "    f\"Test DecTree Accuracy score: {round(100*accuracy_score(y_test, df_test['DecTreePred']),2)}%\")\n",
    "print(\n",
    "    f\"Train Random Forest Accuracy score: {round(100*accuracy_score(y_train, df_train['RFPred']),2)}%\")\n",
    "print(\n",
    "    f\"Test Random Forest Accuracy score: {round(100*accuracy_score(y_test, df_test['RFPred']),2)}%\")\n",
    "print(\n",
    "    f\"Test OneVsAll Accuracy score: {round(100*accuracy_score(y_test, df_test['1vsAllPred']),2)}%\")\n",
    "print(\n",
    "    f\"Test FullPred Accuracy score: {round(100*accuracy_score(y_test, df_test['FullPred']),2)}%\")\n",
    "\n",
    "\n",
    "models = ['LogReg', 'RF', 'DecTree', '1vsAll']\n",
    "rows = []\n",
    "classAccuracyDf = pd.DataFrame(\n",
    "    columns=['Modello', 'Accuratezza_Under', 'Accuratezza_Over'])\n",
    "for model in models:\n",
    "    row = {\n",
    "        \"Modello\": model,\n",
    "        \"Accuratezza_Over\": class_accuracy(y_test, df_test[model+'Pred'])['Over'],\n",
    "        \"Accuratezza_Under\": class_accuracy(y_test, df_test[model+'Pred'])['Under']\n",
    "    }\n",
    "    rows.append(row)\n",
    "\n",
    "classAccuracyDf = pd.DataFrame(rows)\n",
    "classAccuracyDf.set_index('Modello', inplace=True)\n",
    "\n",
    "print('')\n",
    "print(classAccuracyDf)\n",
    "\n",
    "\n",
    "# Ottieni le probabilità predette per ogni classe\n",
    "probabilita = logRegModel.predict_proba(x_test)\n",
    "\n",
    "# \n",
    "prediction = '1vsAllPred'\n",
    "prediction = 'LogRegPred'\n",
    "prediction = 'RFPred'\n",
    "# prediction = 'DecTreePred'\n",
    "\n",
    "df_test['QuotaATW'] = df_test['B365A'].fillna(df_test['AvgCA'].fillna(df_test['AvgA']))\n",
    "df_test['QuotaH'] = df_test['B365H'].fillna(df_test['AvgCH'].fillna(df_test['AvgH']))\n",
    "df_test['QuotaX'] = df_test['B365D'].fillna(df_test['AvgCD'].fillna(df_test['AvgD']))\n",
    "df_test['Quota1x'] = 1/(1/df_test['QuotaH'] + 1/df_test['QuotaX'])\n",
    "\n",
    "df_test['GainATW'] = df_test.apply(calculate_gain_ATW, axis=1, args=(prediction,) )\n",
    "df_test['Gain1X'] = df_test.apply(calculate_gain_1x, axis=1, args=(prediction,) )\n",
    "\n",
    "# df_test['Gain'] = df_test['GainOver'].loc(-1)+ df_test_under['GainUnder'].loc(-1) \n",
    "# df_test['Equity'] = df_test['Gain'].cumsum()\n",
    "df_test['EquityATW'] = df_test['GainATW'].cumsum()\n",
    "df_test['Equity1x'] = df_test['Gain1X'].cumsum()\n",
    "df_test['BetNum'] =  df_test['GainATW'][df_test['GainATW'] != 0].count()\n",
    "df_test['RowNum'] =  df_test['GainATW'].count()\n",
    "\n",
    "# print(df_test['Equity'].tail(1))\n",
    "print(df_test['EquityATW'].tail(1))\n",
    "print('Equity1x', df_test['Equity1x'].tail(1))\n",
    "print('Bet number:', df_test['BetNum'].tail(1), 'on', df_test['RowNum'].tail(1))\n",
    "\n",
    "from sklearn.metrics import confusion_matrix\n",
    "# cm = confusion_matrix(df_test['BTS'], df_test[prediction])\n",
    "# print(cm)\n",
    "\n",
    "\n",
    "# exportExcelWithTimeStamp(df_test, \"../Dataframe/\", \"df.xlsx\")"
   ]
  },
  {
   "cell_type": "code",
   "execution_count": 11,
   "metadata": {},
   "outputs": [],
   "source": [
    "# Unisci i due DataFrame verticalmente\n",
    "complete_df = pd.concat([df_train, df_test])\n",
    "exportExcelWithTimeStamp(complete_df, \"../Dataframe/\", \"df.xlsx\")"
   ]
  }
 ],
 "metadata": {
  "kernelspec": {
   "display_name": "Python 3",
   "language": "python",
   "name": "python3"
  },
  "language_info": {
   "codemirror_mode": {
    "name": "ipython",
    "version": 3
   },
   "file_extension": ".py",
   "mimetype": "text/x-python",
   "name": "python",
   "nbconvert_exporter": "python",
   "pygments_lexer": "ipython3",
   "version": "3.11.2"
  }
 },
 "nbformat": 4,
 "nbformat_minor": 2
}
