{
 "cells": [
  {
   "cell_type": "markdown",
   "metadata": {},
   "source": [
    "### Libraries"
   ]
  },
  {
   "cell_type": "code",
   "execution_count": 13,
   "metadata": {},
   "outputs": [],
   "source": [
    "import pandas as pd\n",
    "import numpy as np\n",
    "\n",
    "from sklearn.model_selection import train_test_split\n",
    "import sys\n",
    "import os\n",
    "from sklearn.ensemble import RandomForestClassifier\n",
    "from sklearn.metrics import accuracy_score\n"
   ]
  },
  {
   "cell_type": "code",
   "execution_count": 14,
   "metadata": {},
   "outputs": [],
   "source": [
    "# Trova il percorso assoluto della cartella \"esotic\" (dove si trova il tuo ipynb)\n",
    "current_dir = os.path.dirname(os.path.abspath(\"__file__\"))\n",
    "\n",
    "# Trova il percorso assoluto della cartella \"lib\"\n",
    "lib_dir = os.path.join(current_dir, \"..\", \"lib\")\n",
    "\n",
    "# Aggiungi il percorso di \"lib\" al PYTHONPATH\n",
    "sys.path.append(lib_dir)\n",
    "\n",
    "from Utility import *"
   ]
  },
  {
   "cell_type": "markdown",
   "metadata": {},
   "source": [
    "### <b>Step 0</b> Data Preparation"
   ]
  },
  {
   "cell_type": "code",
   "execution_count": 15,
   "metadata": {},
   "outputs": [
    {
     "name": "stdout",
     "output_type": "stream",
     "text": [
      "Processing file: ./data\\I1.xlsx\n"
     ]
    }
   ],
   "source": [
    "from Utility import *\n",
    "\n",
    "convert_csv_to_xlsx(['./data'])\n",
    "feature_engineering(['./data'])"
   ]
  },
  {
   "cell_type": "markdown",
   "metadata": {},
   "source": [
    "## <b>Step 1</b> Away To Win Prediction"
   ]
  },
  {
   "cell_type": "markdown",
   "metadata": {},
   "source": [
    "### Constants"
   ]
  },
  {
   "cell_type": "code",
   "execution_count": 16,
   "metadata": {},
   "outputs": [],
   "source": [
    "# features = ['GoalRatioDifference', 'RecentFormDiff']\n",
    "features = ['HomeLast3Points', 'GoalRatioDifference', 'AwayPointGap']\n",
    "classWeight={1: 3, 0: 1}"
   ]
  },
  {
   "cell_type": "markdown",
   "metadata": {},
   "source": [
    "### Data"
   ]
  },
  {
   "cell_type": "code",
   "execution_count": 17,
   "metadata": {},
   "outputs": [
    {
     "name": "stdout",
     "output_type": "stream",
     "text": [
      "10\n",
      "isATW: 20 %\n"
     ]
    }
   ],
   "source": [
    "data = pd.read_excel('./data/engdata/I1-E.xlsx').copy()\n",
    "# data = getFullData().copy()\n",
    "data.replace([np.inf, -np.inf], np.nan, inplace=True)\n",
    "data = data.dropna(subset=features)\n",
    "print(len(data))\n",
    "data['isATW'] = np.where(((data['FTR'] == 'A')), 1, 0)\n",
    "print('isATW:', round(100*data[data['isATW']==1]['isATW'].count() / len(data['isATW'])), '%')\n",
    "\n",
    "x_train, x_test, y_train, y_test = train_test_split(\n",
    "    data[features], data['isATW'], test_size=0.3, random_state=42, shuffle=True)#, stratify=data['isATS'])\n",
    "\n",
    "x_train = x_train.sort_index()\n",
    "x_test = x_test.sort_index()\n",
    "y_train = y_train.sort_index()\n",
    "y_test = y_test.sort_index()"
   ]
  },
  {
   "cell_type": "markdown",
   "metadata": {},
   "source": [
    "### Model"
   ]
  },
  {
   "cell_type": "code",
   "execution_count": 18,
   "metadata": {},
   "outputs": [],
   "source": [
    "# logRegModel = trainLogRegModel(x_train, y_train, class_weight=classWeight)\n",
    "\n",
    "# dumpModel(\"Step1-ATW-LogReg2.joblib\", logRegModel)\n",
    "logRegModel = loadModel('Step1-ATW-LogReg2.joblib')"
   ]
  },
  {
   "cell_type": "markdown",
   "metadata": {},
   "source": [
    "## Metrics"
   ]
  },
  {
   "cell_type": "code",
   "execution_count": 19,
   "metadata": {},
   "outputs": [
    {
     "name": "stdout",
     "output_type": "stream",
     "text": [
      "Train Length: 7\n",
      "Test Length: 3\n",
      "Test LogReg Accuracy score: 33.33%\n",
      "\n",
      "         Accuratezza_Over  Accuratezza_Under\n",
      "Modello                                     \n",
      "LogReg                0.0                0.5\n",
      "EquityATW: -1\n",
      "Bet number: 1 on 3\n"
     ]
    }
   ],
   "source": [
    "df_train = data[data.index.isin(x_train.index)].copy()\n",
    "df_test = data[data.index.isin(x_test.index)].copy()\n",
    "print('Train Length:', len(df_train))\n",
    "print('Test Length:',len(df_test))\n",
    "\n",
    "df_train['LogRegPred'] = logRegModel.predict(x_train)\n",
    "\n",
    "df_test['LogRegPred'] = logRegModel.predict(x_test)\n",
    "\n",
    "print(\n",
    "    f\"Test LogReg Accuracy score: {round(100*accuracy_score(y_test, df_test['LogRegPred']),2)}%\")\n",
    "\n",
    "models = ['LogReg']\n",
    "rows = []\n",
    "classAccuracyDf = pd.DataFrame(\n",
    "    columns=['Modello', 'Accuratezza_Under', 'Accuratezza_Over'])\n",
    "for model in models:\n",
    "    row = {\n",
    "        \"Modello\": model,\n",
    "        \"Accuratezza_Over\": class_accuracy(y_test, df_test[model+'Pred'])['Over'],\n",
    "        \"Accuratezza_Under\": class_accuracy(y_test, df_test[model+'Pred'])['Under']\n",
    "    }\n",
    "    rows.append(row)\n",
    "\n",
    "classAccuracyDf = pd.DataFrame(rows)\n",
    "classAccuracyDf.set_index('Modello', inplace=True)\n",
    "\n",
    "print('')\n",
    "print(classAccuracyDf)\n",
    "\n",
    "# Ottieni le probabilità predette per ogni classe\n",
    "probabilita = logRegModel.predict_proba(x_test)\n",
    "\n",
    "prediction = 'LogRegPred'\n",
    "\n",
    "df_test['QuotaATW'] = df_test['B365A'].fillna(df_test['AvgCA'].fillna(df_test['AvgA']))\n",
    "df_test['QuotaH'] = df_test['B365H'].fillna(df_test['AvgCH'].fillna(df_test['AvgH']))\n",
    "df_test['QuotaX'] = df_test['B365D'].fillna(df_test['AvgCD'].fillna(df_test['AvgD']))\n",
    "df_test['Quota1x'] = 1/(1/df_test['QuotaH'] + 1/df_test['QuotaX'])\n",
    "\n",
    "df_test['GainATW'] = df_test.apply(calculate_gain_ATW, axis=1, args=(prediction,) )\n",
    "\n",
    "\n",
    "df_test['EquityATW'] = df_test['GainATW'].cumsum()\n",
    "df_test['NumOfBet'] =  df_test['GainATW'][df_test['GainATW'] != 0].count()\n",
    "df_test['NumOfRow'] =  df_test['GainATW'].count()\n",
    "\n",
    "print('EquityATW:', df_test['EquityATW'].iat[-1])\n",
    "print('Bet number:', df_test['NumOfBet'].iat[-1], 'on', df_test['NumOfRow'].iat[-1])"
   ]
  },
  {
   "cell_type": "code",
   "execution_count": 20,
   "metadata": {},
   "outputs": [],
   "source": [
    "# Unisci i due DataFrame verticalmente\n",
    "complete_df = pd.concat([df_train, df_test])\n",
    "complete_df['ATW_LogRegPred'] = complete_df['LogRegPred']\n",
    "# exportExcelWithTimeStamp(complete_df, \"../Dataframe/\", \"df.xlsx\")"
   ]
  },
  {
   "cell_type": "markdown",
   "metadata": {},
   "source": [
    "## <b>Step 2</b> Away To Score Prediction"
   ]
  },
  {
   "cell_type": "code",
   "execution_count": 21,
   "metadata": {},
   "outputs": [],
   "source": [
    "featuresATS = ['ATW_LogRegPred']\n",
    "classWeight={1: 1, 0: 2}"
   ]
  },
  {
   "cell_type": "code",
   "execution_count": 22,
   "metadata": {},
   "outputs": [
    {
     "name": "stdout",
     "output_type": "stream",
     "text": [
      "10\n",
      "isATS: 80 %\n"
     ]
    }
   ],
   "source": [
    "dataATS = complete_df.dropna(subset=features)\n",
    "print(len(dataATS))\n",
    "dataATS['isATS'] = np.where(((dataATS['FTAG'] > 0)), 1, 0)\n",
    "print('isATS:', round(100*dataATS[dataATS['isATS']==1]['isATS'].count() / len(dataATS['isATS'])), '%')"
   ]
  },
  {
   "cell_type": "code",
   "execution_count": 23,
   "metadata": {},
   "outputs": [
    {
     "name": "stdout",
     "output_type": "stream",
     "text": [
      "Equity ATS 0.45249566140628716\n",
      "Equity ANTS -1.3671455675787185\n",
      "Equity Reverse ATS -1.959531088297359\n"
     ]
    }
   ],
   "source": [
    "complete_df['LogRegPred'] = complete_df['ATW_LogRegPred']\n",
    "complete_df['QuotaA'] = complete_df['B365A'].fillna(complete_df['AvgCA'].fillna(complete_df['AvgA']))\n",
    "complete_df['PA'] =  1/complete_df['QuotaA']\n",
    "complete_df['PATS'] = complete_df['PA']**(1/4.8)#+0.003/complete_df['PA']\n",
    "complete_df['PANTS'] = 1-complete_df['PATS']\n",
    "complete_df['QuotaATS'] = 1/complete_df['PATS']\n",
    "complete_df['QuotaANTS'] = 1/complete_df['PANTS']\n",
    "complete_df['QuotaANTS'] = complete_df['QuotaANTS']*0.8\n",
    "\n",
    "complete_df['GainATS'] = complete_df.apply(calculate_gain_ATS, axis=1, args=(prediction,) )\n",
    "complete_df['GainANTS'] = complete_df.apply(calculate_gain_ANTS, axis=1, args=(prediction,) )\n",
    "complete_df['GainReverseATS'] = complete_df.apply(calculate_gain_ReverseATS, axis=1, args=(prediction,) )\n",
    "\n",
    "# complete_df['Gain'] = complete_df['GainOver'].loc(-1)+ complete_df_under['GainUnder'].loc(-1) \n",
    "# complete_df['Equity'] = complete_df['Gain'].cumsum()\n",
    "complete_df['EquityATS'] = complete_df['GainATS'].cumsum()\n",
    "complete_df['EquityANTS'] = complete_df['GainANTS'].cumsum()\n",
    "complete_df['EquityRevATS'] = complete_df['GainReverseATS'].cumsum()\n",
    "\n",
    "# print(complete_df['Equity'].iloc[-1])\n",
    "print('Equity ATS', complete_df['EquityATS'].iloc[-1])\n",
    "print('Equity ANTS', complete_df['EquityANTS'].iloc[-1])\n",
    "print('Equity Reverse ATS', complete_df['EquityRevATS'].iloc[-1])"
   ]
  },
  {
   "cell_type": "code",
   "execution_count": 24,
   "metadata": {},
   "outputs": [],
   "source": [
    "exportExcelWithTimeStamp(complete_df, \"../Dataframe/\", \"df.xlsx\")"
   ]
  }
 ],
 "metadata": {
  "kernelspec": {
   "display_name": "Python 3",
   "language": "python",
   "name": "python3"
  },
  "language_info": {
   "codemirror_mode": {
    "name": "ipython",
    "version": 3
   },
   "file_extension": ".py",
   "mimetype": "text/x-python",
   "name": "python",
   "nbconvert_exporter": "python",
   "pygments_lexer": "ipython3",
   "version": "3.11.2"
  }
 },
 "nbformat": 4,
 "nbformat_minor": 2
}
