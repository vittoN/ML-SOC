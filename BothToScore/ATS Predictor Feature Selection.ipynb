{
 "cells": [
  {
   "cell_type": "code",
   "execution_count": 3,
   "metadata": {},
   "outputs": [],
   "source": [
    "from itertools import chain, combinations\n",
    "import numpy as np  # Fundamental package for scientific computing with Python\n",
    "import pandas as pd\n",
    "import calendar\n",
    "import time\n",
    "from sklearn.metrics import accuracy_score, precision_score, f1_score\n",
    "\n",
    "from sklearn.linear_model import LogisticRegression\n",
    "from sklearn.model_selection import train_test_split\n",
    "from sklearn.ensemble import RandomForestClassifier\n",
    "import sys\n",
    "import os\n",
    "from sklearn.tree import DecisionTreeClassifier\n",
    "# Trova il percorso assoluto della cartella \"esotic\" (dove si trova il tuo ipynb)\n",
    "current_dir = os.path.dirname(os.path.abspath(\"__file__\"))\n",
    "\n",
    "# Trova il percorso assoluto della cartella \"lib\"\n",
    "lib_dir = os.path.join(current_dir, \"..\", \"lib\")\n",
    "\n",
    "# Aggiungi il percorso di \"lib\" al PYTHONPATH\n",
    "sys.path.append(lib_dir)\n",
    "\n",
    "from Utility import *"
   ]
  },
  {
   "cell_type": "code",
   "execution_count": 4,
   "metadata": {},
   "outputs": [],
   "source": [
    "dataframe = pd.DataFrame(columns=['DataSetName', 'TrainAccuracy', 'TrainPrecision', 'TrainF2', 'TrainRecall',\n",
    "                                  'TrainROC', 'TestAccuracy', 'TestPrecision', 'TestF2', 'TestRecall', 'TestROC', \"UnderTestAccuracy\"\n",
    "\"OverTestAccuracy\", 'BestParams'])\n",
    "\n",
    "features = [\n",
    "    'EloDiff', \n",
    "    \"PointsDifference\",\n",
    "    \"HomeGoalsRatio\",\n",
    "    \"AwayGoalsRatio\",\n",
    "    \"GoalsDifference\",\n",
    "    \"ConcededGoalsDifference\",\n",
    "    'GoalsAvgSum',\n",
    "    'RecentFormRatio',\n",
    "    \"EloRatio\",\n",
    "    \"HomeLast3Points\",\n",
    "    \"HomeAvgGoalsScored\",\n",
    "    \"HomeAvgGoalsConceded\",\n",
    "    \"HomeEwmaPoints\",\n",
    "    \"HomeEwmaGoalsScored\",\n",
    "    \"HomeEwmaGoalsConceded\",\n",
    "    \"AwayLast3Points\",\n",
    "    \"AwayAvgGoalsScored\",\n",
    "    \"AwayAvgGoalsConceded\",\n",
    "    \"AwayEwmaPoints\",\n",
    "    \"AwayEwmaGoalsScored\",\n",
    "    \"AwayEwmaGoalsConceded\",\n",
    "    \"HomeWins\",\n",
    "    \"HomeDraws\",\n",
    "    \"HomeLosses\",\n",
    "    \"AwayWins\",\n",
    "    \"AwayDraws\",\n",
    "    \"AwayLosses\",\n",
    "    \"UltimoScontroDiretto\",\n",
    "    \"Last3PointsDifference\",\n",
    "    \"GoalRatioDifference\",\n",
    "    \"EwmaGoalsSum\",\n",
    "    \"GoalsSum\",\n",
    "    \"HomePointGap\",\n",
    "    \"AwayPointGap\",\n",
    "    \"HomeGoalGap\",\n",
    "    \"AwayGoalGap\",\n",
    "    \"feat1\",\n",
    "    \"feat2\",\n",
    "    'FormDiff',\n",
    "    'RecentFormDiff', \n",
    "    'GoalCumulativeSum',\n",
    "    # 'GoalCumulativeSumPrev'\n",
    "     'ATW_LogRegPred'\n",
    "]\n",
    "classWeight={1: 1, 0: 2.5}\n",
    "# features = ['AwayGoalsRatio', 'GoalsDifference', 'HomeEwmaGoalsScored']\n",
    "combinazioni = chain.from_iterable(combinations(\n",
    "    features, r) for r in range(1,3))#len(features) + 1))\n",
    "\n",
    "combos = []"
   ]
  },
  {
   "cell_type": "markdown",
   "metadata": {},
   "source": [
    "## Combo"
   ]
  },
  {
   "cell_type": "code",
   "execution_count": 5,
   "metadata": {},
   "outputs": [
    {
     "name": "stdout",
     "output_type": "stream",
     "text": [
      "0 17:41:52 : ('EloDiff',)\n",
      "1 17:41:52 : ('PointsDifference',)\n",
      "2 17:41:52 : ('HomeGoalsRatio',)\n",
      "3 17:41:52 : ('AwayGoalsRatio',)\n",
      "4 17:41:52 : ('GoalsDifference',)\n",
      "5 17:41:52 : ('ConcededGoalsDifference',)\n",
      "6 17:41:52 : ('GoalsAvgSum',)\n",
      "7 17:41:52 : ('RecentFormRatio',)\n",
      "8 17:41:52 : ('EloRatio',)\n",
      "9 17:41:52 : ('HomeLast3Points',)\n",
      "10 17:41:52 : ('HomeAvgGoalsScored',)\n",
      "11 17:41:52 : ('HomeAvgGoalsConceded',)\n",
      "12 17:41:52 : ('HomeEwmaPoints',)\n",
      "13 17:41:52 : ('HomeEwmaGoalsScored',)\n",
      "14 17:41:52 : ('HomeEwmaGoalsConceded',)\n",
      "15 17:41:52 : ('AwayLast3Points',)\n",
      "16 17:41:52 : ('AwayAvgGoalsScored',)\n",
      "17 17:41:52 : ('AwayAvgGoalsConceded',)\n",
      "18 17:41:52 : ('AwayEwmaPoints',)\n",
      "19 17:41:52 : ('AwayEwmaGoalsScored',)\n",
      "20 17:41:52 : ('AwayEwmaGoalsConceded',)\n",
      "21 17:41:52 : ('HomeWins',)\n",
      "22 17:41:52 : ('HomeDraws',)\n",
      "23 17:41:52 : ('HomeLosses',)\n",
      "24 17:41:52 : ('AwayWins',)\n",
      "25 17:41:52 : ('AwayDraws',)\n",
      "26 17:41:52 : ('AwayLosses',)\n",
      "27 17:41:52 : ('UltimoScontroDiretto',)\n",
      "28 17:41:52 : ('Last3PointsDifference',)\n",
      "29 17:41:52 : ('GoalRatioDifference',)\n",
      "30 17:41:52 : ('EwmaGoalsSum',)\n",
      "31 17:41:52 : ('GoalsSum',)\n",
      "32 17:41:52 : ('HomePointGap',)\n",
      "33 17:41:52 : ('AwayPointGap',)\n",
      "34 17:41:52 : ('HomeGoalGap',)\n",
      "35 17:41:52 : ('AwayGoalGap',)\n",
      "36 17:41:52 : ('feat1',)\n",
      "37 17:41:52 : ('feat2',)\n",
      "38 17:41:52 : ('FormDiff',)\n",
      "39 17:41:52 : ('RecentFormDiff',)\n",
      "40 17:41:52 : ('GoalCumulativeSum',)\n",
      "41 17:41:52 : ('ATW_LogRegPred',)\n",
      "42 17:41:52 : ('EloDiff', 'PointsDifference')\n",
      "43 17:41:52 : ('EloDiff', 'HomeGoalsRatio')\n",
      "44 17:41:52 : ('EloDiff', 'AwayGoalsRatio')\n",
      "45 17:41:52 : ('EloDiff', 'GoalsDifference')\n",
      "46 17:41:52 : ('EloDiff', 'ConcededGoalsDifference')\n",
      "47 17:41:52 : ('EloDiff', 'GoalsAvgSum')\n",
      "48 17:41:52 : ('EloDiff', 'RecentFormRatio')\n",
      "49 17:41:52 : ('EloDiff', 'EloRatio')\n",
      "50 17:41:52 : ('EloDiff', 'HomeLast3Points')\n",
      "51 17:41:52 : ('EloDiff', 'HomeAvgGoalsScored')\n",
      "52 17:41:52 : ('EloDiff', 'HomeAvgGoalsConceded')\n",
      "53 17:41:52 : ('EloDiff', 'HomeEwmaPoints')\n",
      "54 17:41:52 : ('EloDiff', 'HomeEwmaGoalsScored')\n",
      "55 17:41:52 : ('EloDiff', 'HomeEwmaGoalsConceded')\n",
      "56 17:41:52 : ('EloDiff', 'AwayLast3Points')\n",
      "57 17:41:52 : ('EloDiff', 'AwayAvgGoalsScored')\n",
      "58 17:41:52 : ('EloDiff', 'AwayAvgGoalsConceded')\n",
      "59 17:41:52 : ('EloDiff', 'AwayEwmaPoints')\n",
      "60 17:41:52 : ('EloDiff', 'AwayEwmaGoalsScored')\n",
      "61 17:41:52 : ('EloDiff', 'AwayEwmaGoalsConceded')\n",
      "62 17:41:52 : ('EloDiff', 'HomeWins')\n",
      "63 17:41:52 : ('EloDiff', 'HomeDraws')\n",
      "64 17:41:52 : ('EloDiff', 'HomeLosses')\n",
      "65 17:41:52 : ('EloDiff', 'AwayWins')\n",
      "66 17:41:52 : ('EloDiff', 'AwayDraws')\n",
      "67 17:41:52 : ('EloDiff', 'AwayLosses')\n",
      "68 17:41:52 : ('EloDiff', 'UltimoScontroDiretto')\n",
      "69 17:41:52 : ('EloDiff', 'Last3PointsDifference')\n",
      "70 17:41:52 : ('EloDiff', 'GoalRatioDifference')\n",
      "71 17:41:52 : ('EloDiff', 'EwmaGoalsSum')\n",
      "72 17:41:52 : ('EloDiff', 'GoalsSum')\n",
      "73 17:41:52 : ('EloDiff', 'HomePointGap')\n",
      "74 17:41:52 : ('EloDiff', 'AwayPointGap')\n",
      "75 17:41:52 : ('EloDiff', 'HomeGoalGap')\n",
      "76 17:41:52 : ('EloDiff', 'AwayGoalGap')\n",
      "77 17:41:52 : ('EloDiff', 'feat1')\n",
      "78 17:41:52 : ('EloDiff', 'feat2')\n",
      "79 17:41:52 : ('EloDiff', 'FormDiff')\n",
      "80 17:41:52 : ('EloDiff', 'RecentFormDiff')\n",
      "81 17:41:52 : ('EloDiff', 'GoalCumulativeSum')\n",
      "82 17:41:52 : ('EloDiff', 'ATW_LogRegPred')\n",
      "83 17:41:52 : ('PointsDifference', 'HomeGoalsRatio')\n",
      "84 17:41:52 : ('PointsDifference', 'AwayGoalsRatio')\n",
      "85 17:41:52 : ('PointsDifference', 'GoalsDifference')\n",
      "86 17:41:52 : ('PointsDifference', 'ConcededGoalsDifference')\n",
      "87 17:41:52 : ('PointsDifference', 'GoalsAvgSum')\n",
      "88 17:41:52 : ('PointsDifference', 'RecentFormRatio')\n",
      "89 17:41:52 : ('PointsDifference', 'EloRatio')\n",
      "90 17:41:52 : ('PointsDifference', 'HomeLast3Points')\n",
      "91 17:41:52 : ('PointsDifference', 'HomeAvgGoalsScored')\n",
      "92 17:41:52 : ('PointsDifference', 'HomeAvgGoalsConceded')\n",
      "93 17:41:52 : ('PointsDifference', 'HomeEwmaPoints')\n",
      "94 17:41:52 : ('PointsDifference', 'HomeEwmaGoalsScored')\n",
      "95 17:41:52 : ('PointsDifference', 'HomeEwmaGoalsConceded')\n",
      "96 17:41:52 : ('PointsDifference', 'AwayLast3Points')\n",
      "97 17:41:52 : ('PointsDifference', 'AwayAvgGoalsScored')\n",
      "98 17:41:52 : ('PointsDifference', 'AwayAvgGoalsConceded')\n",
      "99 17:41:52 : ('PointsDifference', 'AwayEwmaPoints')\n",
      "100 17:41:52 : ('PointsDifference', 'AwayEwmaGoalsScored')\n",
      "101 17:41:52 : ('PointsDifference', 'AwayEwmaGoalsConceded')\n",
      "102 17:41:52 : ('PointsDifference', 'HomeWins')\n",
      "103 17:41:52 : ('PointsDifference', 'HomeDraws')\n",
      "104 17:41:52 : ('PointsDifference', 'HomeLosses')\n",
      "105 17:41:52 : ('PointsDifference', 'AwayWins')\n",
      "106 17:41:52 : ('PointsDifference', 'AwayDraws')\n",
      "107 17:41:52 : ('PointsDifference', 'AwayLosses')\n",
      "108 17:41:52 : ('PointsDifference', 'UltimoScontroDiretto')\n",
      "109 17:41:52 : ('PointsDifference', 'Last3PointsDifference')\n",
      "110 17:41:52 : ('PointsDifference', 'GoalRatioDifference')\n",
      "111 17:41:52 : ('PointsDifference', 'EwmaGoalsSum')\n",
      "112 17:41:52 : ('PointsDifference', 'GoalsSum')\n",
      "113 17:41:52 : ('PointsDifference', 'HomePointGap')\n",
      "114 17:41:52 : ('PointsDifference', 'AwayPointGap')\n",
      "115 17:41:52 : ('PointsDifference', 'HomeGoalGap')\n",
      "116 17:41:52 : ('PointsDifference', 'AwayGoalGap')\n",
      "117 17:41:52 : ('PointsDifference', 'feat1')\n",
      "118 17:41:52 : ('PointsDifference', 'feat2')\n",
      "119 17:41:52 : ('PointsDifference', 'FormDiff')\n",
      "120 17:41:52 : ('PointsDifference', 'RecentFormDiff')\n",
      "121 17:41:52 : ('PointsDifference', 'GoalCumulativeSum')\n",
      "122 17:41:52 : ('PointsDifference', 'ATW_LogRegPred')\n",
      "123 17:41:52 : ('HomeGoalsRatio', 'AwayGoalsRatio')\n",
      "124 17:41:52 : ('HomeGoalsRatio', 'GoalsDifference')\n",
      "125 17:41:52 : ('HomeGoalsRatio', 'ConcededGoalsDifference')\n",
      "126 17:41:52 : ('HomeGoalsRatio', 'GoalsAvgSum')\n",
      "127 17:41:52 : ('HomeGoalsRatio', 'RecentFormRatio')\n",
      "128 17:41:52 : ('HomeGoalsRatio', 'EloRatio')\n",
      "129 17:41:52 : ('HomeGoalsRatio', 'HomeLast3Points')\n",
      "130 17:41:52 : ('HomeGoalsRatio', 'HomeAvgGoalsScored')\n",
      "131 17:41:52 : ('HomeGoalsRatio', 'HomeAvgGoalsConceded')\n",
      "132 17:41:52 : ('HomeGoalsRatio', 'HomeEwmaPoints')\n",
      "133 17:41:52 : ('HomeGoalsRatio', 'HomeEwmaGoalsScored')\n",
      "134 17:41:52 : ('HomeGoalsRatio', 'HomeEwmaGoalsConceded')\n",
      "135 17:41:52 : ('HomeGoalsRatio', 'AwayLast3Points')\n",
      "136 17:41:52 : ('HomeGoalsRatio', 'AwayAvgGoalsScored')\n",
      "137 17:41:52 : ('HomeGoalsRatio', 'AwayAvgGoalsConceded')\n",
      "138 17:41:52 : ('HomeGoalsRatio', 'AwayEwmaPoints')\n",
      "139 17:41:52 : ('HomeGoalsRatio', 'AwayEwmaGoalsScored')\n",
      "140 17:41:52 : ('HomeGoalsRatio', 'AwayEwmaGoalsConceded')\n",
      "141 17:41:52 : ('HomeGoalsRatio', 'HomeWins')\n",
      "142 17:41:52 : ('HomeGoalsRatio', 'HomeDraws')\n",
      "143 17:41:52 : ('HomeGoalsRatio', 'HomeLosses')\n",
      "144 17:41:52 : ('HomeGoalsRatio', 'AwayWins')\n",
      "145 17:41:52 : ('HomeGoalsRatio', 'AwayDraws')\n",
      "146 17:41:52 : ('HomeGoalsRatio', 'AwayLosses')\n",
      "147 17:41:52 : ('HomeGoalsRatio', 'UltimoScontroDiretto')\n",
      "148 17:41:52 : ('HomeGoalsRatio', 'Last3PointsDifference')\n",
      "149 17:41:52 : ('HomeGoalsRatio', 'GoalRatioDifference')\n",
      "150 17:41:52 : ('HomeGoalsRatio', 'EwmaGoalsSum')\n",
      "151 17:41:52 : ('HomeGoalsRatio', 'GoalsSum')\n",
      "152 17:41:52 : ('HomeGoalsRatio', 'HomePointGap')\n",
      "153 17:41:52 : ('HomeGoalsRatio', 'AwayPointGap')\n",
      "154 17:41:52 : ('HomeGoalsRatio', 'HomeGoalGap')\n",
      "155 17:41:52 : ('HomeGoalsRatio', 'AwayGoalGap')\n",
      "156 17:41:52 : ('HomeGoalsRatio', 'feat1')\n",
      "157 17:41:52 : ('HomeGoalsRatio', 'feat2')\n",
      "158 17:41:52 : ('HomeGoalsRatio', 'FormDiff')\n",
      "159 17:41:52 : ('HomeGoalsRatio', 'RecentFormDiff')\n",
      "160 17:41:52 : ('HomeGoalsRatio', 'GoalCumulativeSum')\n",
      "161 17:41:52 : ('HomeGoalsRatio', 'ATW_LogRegPred')\n",
      "162 17:41:52 : ('AwayGoalsRatio', 'GoalsDifference')\n",
      "163 17:41:52 : ('AwayGoalsRatio', 'ConcededGoalsDifference')\n",
      "164 17:41:52 : ('AwayGoalsRatio', 'GoalsAvgSum')\n",
      "165 17:41:52 : ('AwayGoalsRatio', 'RecentFormRatio')\n",
      "166 17:41:52 : ('AwayGoalsRatio', 'EloRatio')\n",
      "167 17:41:52 : ('AwayGoalsRatio', 'HomeLast3Points')\n",
      "168 17:41:52 : ('AwayGoalsRatio', 'HomeAvgGoalsScored')\n",
      "169 17:41:52 : ('AwayGoalsRatio', 'HomeAvgGoalsConceded')\n",
      "170 17:41:52 : ('AwayGoalsRatio', 'HomeEwmaPoints')\n",
      "171 17:41:52 : ('AwayGoalsRatio', 'HomeEwmaGoalsScored')\n",
      "172 17:41:52 : ('AwayGoalsRatio', 'HomeEwmaGoalsConceded')\n",
      "173 17:41:52 : ('AwayGoalsRatio', 'AwayLast3Points')\n",
      "174 17:41:52 : ('AwayGoalsRatio', 'AwayAvgGoalsScored')\n",
      "175 17:41:52 : ('AwayGoalsRatio', 'AwayAvgGoalsConceded')\n",
      "176 17:41:52 : ('AwayGoalsRatio', 'AwayEwmaPoints')\n",
      "177 17:41:52 : ('AwayGoalsRatio', 'AwayEwmaGoalsScored')\n",
      "178 17:41:52 : ('AwayGoalsRatio', 'AwayEwmaGoalsConceded')\n",
      "179 17:41:52 : ('AwayGoalsRatio', 'HomeWins')\n",
      "180 17:41:52 : ('AwayGoalsRatio', 'HomeDraws')\n",
      "181 17:41:52 : ('AwayGoalsRatio', 'HomeLosses')\n",
      "182 17:41:52 : ('AwayGoalsRatio', 'AwayWins')\n",
      "183 17:41:52 : ('AwayGoalsRatio', 'AwayDraws')\n",
      "184 17:41:52 : ('AwayGoalsRatio', 'AwayLosses')\n",
      "185 17:41:52 : ('AwayGoalsRatio', 'UltimoScontroDiretto')\n",
      "186 17:41:52 : ('AwayGoalsRatio', 'Last3PointsDifference')\n",
      "187 17:41:52 : ('AwayGoalsRatio', 'GoalRatioDifference')\n",
      "188 17:41:52 : ('AwayGoalsRatio', 'EwmaGoalsSum')\n",
      "189 17:41:52 : ('AwayGoalsRatio', 'GoalsSum')\n",
      "190 17:41:52 : ('AwayGoalsRatio', 'HomePointGap')\n",
      "191 17:41:52 : ('AwayGoalsRatio', 'AwayPointGap')\n",
      "192 17:41:52 : ('AwayGoalsRatio', 'HomeGoalGap')\n",
      "193 17:41:52 : ('AwayGoalsRatio', 'AwayGoalGap')\n",
      "194 17:41:52 : ('AwayGoalsRatio', 'feat1')\n",
      "195 17:41:52 : ('AwayGoalsRatio', 'feat2')\n",
      "196 17:41:52 : ('AwayGoalsRatio', 'FormDiff')\n",
      "197 17:41:52 : ('AwayGoalsRatio', 'RecentFormDiff')\n",
      "198 17:41:52 : ('AwayGoalsRatio', 'GoalCumulativeSum')\n",
      "199 17:41:52 : ('AwayGoalsRatio', 'ATW_LogRegPred')\n",
      "200 17:41:52 : ('GoalsDifference', 'ConcededGoalsDifference')\n",
      "201 17:41:52 : ('GoalsDifference', 'GoalsAvgSum')\n",
      "202 17:41:52 : ('GoalsDifference', 'RecentFormRatio')\n",
      "203 17:41:52 : ('GoalsDifference', 'EloRatio')\n",
      "204 17:41:52 : ('GoalsDifference', 'HomeLast3Points')\n",
      "205 17:41:52 : ('GoalsDifference', 'HomeAvgGoalsScored')\n",
      "206 17:41:52 : ('GoalsDifference', 'HomeAvgGoalsConceded')\n",
      "207 17:41:52 : ('GoalsDifference', 'HomeEwmaPoints')\n",
      "208 17:41:52 : ('GoalsDifference', 'HomeEwmaGoalsScored')\n",
      "209 17:41:52 : ('GoalsDifference', 'HomeEwmaGoalsConceded')\n",
      "210 17:41:52 : ('GoalsDifference', 'AwayLast3Points')\n",
      "211 17:41:52 : ('GoalsDifference', 'AwayAvgGoalsScored')\n",
      "212 17:41:52 : ('GoalsDifference', 'AwayAvgGoalsConceded')\n",
      "213 17:41:52 : ('GoalsDifference', 'AwayEwmaPoints')\n",
      "214 17:41:52 : ('GoalsDifference', 'AwayEwmaGoalsScored')\n",
      "215 17:41:52 : ('GoalsDifference', 'AwayEwmaGoalsConceded')\n",
      "216 17:41:52 : ('GoalsDifference', 'HomeWins')\n",
      "217 17:41:52 : ('GoalsDifference', 'HomeDraws')\n",
      "218 17:41:52 : ('GoalsDifference', 'HomeLosses')\n",
      "219 17:41:52 : ('GoalsDifference', 'AwayWins')\n",
      "220 17:41:52 : ('GoalsDifference', 'AwayDraws')\n",
      "221 17:41:52 : ('GoalsDifference', 'AwayLosses')\n",
      "222 17:41:52 : ('GoalsDifference', 'UltimoScontroDiretto')\n",
      "223 17:41:52 : ('GoalsDifference', 'Last3PointsDifference')\n",
      "224 17:41:52 : ('GoalsDifference', 'GoalRatioDifference')\n",
      "225 17:41:52 : ('GoalsDifference', 'EwmaGoalsSum')\n",
      "226 17:41:52 : ('GoalsDifference', 'GoalsSum')\n",
      "227 17:41:52 : ('GoalsDifference', 'HomePointGap')\n",
      "228 17:41:52 : ('GoalsDifference', 'AwayPointGap')\n",
      "229 17:41:52 : ('GoalsDifference', 'HomeGoalGap')\n",
      "230 17:41:52 : ('GoalsDifference', 'AwayGoalGap')\n",
      "231 17:41:52 : ('GoalsDifference', 'feat1')\n",
      "232 17:41:52 : ('GoalsDifference', 'feat2')\n",
      "233 17:41:52 : ('GoalsDifference', 'FormDiff')\n",
      "234 17:41:52 : ('GoalsDifference', 'RecentFormDiff')\n",
      "235 17:41:52 : ('GoalsDifference', 'GoalCumulativeSum')\n",
      "236 17:41:52 : ('GoalsDifference', 'ATW_LogRegPred')\n",
      "237 17:41:52 : ('ConcededGoalsDifference', 'GoalsAvgSum')\n",
      "238 17:41:52 : ('ConcededGoalsDifference', 'RecentFormRatio')\n",
      "239 17:41:52 : ('ConcededGoalsDifference', 'EloRatio')\n",
      "240 17:41:52 : ('ConcededGoalsDifference', 'HomeLast3Points')\n",
      "241 17:41:52 : ('ConcededGoalsDifference', 'HomeAvgGoalsScored')\n",
      "242 17:41:52 : ('ConcededGoalsDifference', 'HomeAvgGoalsConceded')\n",
      "243 17:41:52 : ('ConcededGoalsDifference', 'HomeEwmaPoints')\n",
      "244 17:41:52 : ('ConcededGoalsDifference', 'HomeEwmaGoalsScored')\n",
      "245 17:41:52 : ('ConcededGoalsDifference', 'HomeEwmaGoalsConceded')\n",
      "246 17:41:52 : ('ConcededGoalsDifference', 'AwayLast3Points')\n",
      "247 17:41:52 : ('ConcededGoalsDifference', 'AwayAvgGoalsScored')\n",
      "248 17:41:52 : ('ConcededGoalsDifference', 'AwayAvgGoalsConceded')\n",
      "249 17:41:52 : ('ConcededGoalsDifference', 'AwayEwmaPoints')\n",
      "250 17:41:52 : ('ConcededGoalsDifference', 'AwayEwmaGoalsScored')\n",
      "251 17:41:52 : ('ConcededGoalsDifference', 'AwayEwmaGoalsConceded')\n",
      "252 17:41:52 : ('ConcededGoalsDifference', 'HomeWins')\n",
      "253 17:41:52 : ('ConcededGoalsDifference', 'HomeDraws')\n",
      "254 17:41:52 : ('ConcededGoalsDifference', 'HomeLosses')\n",
      "255 17:41:52 : ('ConcededGoalsDifference', 'AwayWins')\n",
      "256 17:41:52 : ('ConcededGoalsDifference', 'AwayDraws')\n",
      "257 17:41:52 : ('ConcededGoalsDifference', 'AwayLosses')\n",
      "258 17:41:52 : ('ConcededGoalsDifference', 'UltimoScontroDiretto')\n",
      "259 17:41:52 : ('ConcededGoalsDifference', 'Last3PointsDifference')\n",
      "260 17:41:52 : ('ConcededGoalsDifference', 'GoalRatioDifference')\n",
      "261 17:41:52 : ('ConcededGoalsDifference', 'EwmaGoalsSum')\n",
      "262 17:41:52 : ('ConcededGoalsDifference', 'GoalsSum')\n",
      "263 17:41:52 : ('ConcededGoalsDifference', 'HomePointGap')\n",
      "264 17:41:52 : ('ConcededGoalsDifference', 'AwayPointGap')\n",
      "265 17:41:52 : ('ConcededGoalsDifference', 'HomeGoalGap')\n",
      "266 17:41:52 : ('ConcededGoalsDifference', 'AwayGoalGap')\n",
      "267 17:41:52 : ('ConcededGoalsDifference', 'feat1')\n",
      "268 17:41:52 : ('ConcededGoalsDifference', 'feat2')\n",
      "269 17:41:52 : ('ConcededGoalsDifference', 'FormDiff')\n",
      "270 17:41:52 : ('ConcededGoalsDifference', 'RecentFormDiff')\n",
      "271 17:41:52 : ('ConcededGoalsDifference', 'GoalCumulativeSum')\n",
      "272 17:41:52 : ('ConcededGoalsDifference', 'ATW_LogRegPred')\n",
      "273 17:41:52 : ('GoalsAvgSum', 'RecentFormRatio')\n",
      "274 17:41:52 : ('GoalsAvgSum', 'EloRatio')\n",
      "275 17:41:52 : ('GoalsAvgSum', 'HomeLast3Points')\n",
      "276 17:41:52 : ('GoalsAvgSum', 'HomeAvgGoalsScored')\n",
      "277 17:41:52 : ('GoalsAvgSum', 'HomeAvgGoalsConceded')\n",
      "278 17:41:52 : ('GoalsAvgSum', 'HomeEwmaPoints')\n",
      "279 17:41:52 : ('GoalsAvgSum', 'HomeEwmaGoalsScored')\n",
      "280 17:41:52 : ('GoalsAvgSum', 'HomeEwmaGoalsConceded')\n",
      "281 17:41:52 : ('GoalsAvgSum', 'AwayLast3Points')\n",
      "282 17:41:52 : ('GoalsAvgSum', 'AwayAvgGoalsScored')\n",
      "283 17:41:52 : ('GoalsAvgSum', 'AwayAvgGoalsConceded')\n",
      "284 17:41:52 : ('GoalsAvgSum', 'AwayEwmaPoints')\n",
      "285 17:41:52 : ('GoalsAvgSum', 'AwayEwmaGoalsScored')\n",
      "286 17:41:52 : ('GoalsAvgSum', 'AwayEwmaGoalsConceded')\n",
      "287 17:41:52 : ('GoalsAvgSum', 'HomeWins')\n",
      "288 17:41:52 : ('GoalsAvgSum', 'HomeDraws')\n",
      "289 17:41:52 : ('GoalsAvgSum', 'HomeLosses')\n",
      "290 17:41:52 : ('GoalsAvgSum', 'AwayWins')\n",
      "291 17:41:52 : ('GoalsAvgSum', 'AwayDraws')\n",
      "292 17:41:52 : ('GoalsAvgSum', 'AwayLosses')\n",
      "293 17:41:52 : ('GoalsAvgSum', 'UltimoScontroDiretto')\n",
      "294 17:41:52 : ('GoalsAvgSum', 'Last3PointsDifference')\n",
      "295 17:41:52 : ('GoalsAvgSum', 'GoalRatioDifference')\n",
      "296 17:41:52 : ('GoalsAvgSum', 'EwmaGoalsSum')\n",
      "297 17:41:52 : ('GoalsAvgSum', 'GoalsSum')\n",
      "298 17:41:52 : ('GoalsAvgSum', 'HomePointGap')\n",
      "299 17:41:52 : ('GoalsAvgSum', 'AwayPointGap')\n",
      "300 17:41:52 : ('GoalsAvgSum', 'HomeGoalGap')\n",
      "301 17:41:52 : ('GoalsAvgSum', 'AwayGoalGap')\n",
      "302 17:41:52 : ('GoalsAvgSum', 'feat1')\n",
      "303 17:41:52 : ('GoalsAvgSum', 'feat2')\n",
      "304 17:41:52 : ('GoalsAvgSum', 'FormDiff')\n",
      "305 17:41:52 : ('GoalsAvgSum', 'RecentFormDiff')\n",
      "306 17:41:52 : ('GoalsAvgSum', 'GoalCumulativeSum')\n",
      "307 17:41:52 : ('GoalsAvgSum', 'ATW_LogRegPred')\n",
      "308 17:41:52 : ('RecentFormRatio', 'EloRatio')\n",
      "309 17:41:52 : ('RecentFormRatio', 'HomeLast3Points')\n",
      "310 17:41:52 : ('RecentFormRatio', 'HomeAvgGoalsScored')\n",
      "311 17:41:52 : ('RecentFormRatio', 'HomeAvgGoalsConceded')\n",
      "312 17:41:52 : ('RecentFormRatio', 'HomeEwmaPoints')\n",
      "313 17:41:52 : ('RecentFormRatio', 'HomeEwmaGoalsScored')\n",
      "314 17:41:52 : ('RecentFormRatio', 'HomeEwmaGoalsConceded')\n",
      "315 17:41:52 : ('RecentFormRatio', 'AwayLast3Points')\n",
      "316 17:41:52 : ('RecentFormRatio', 'AwayAvgGoalsScored')\n",
      "317 17:41:52 : ('RecentFormRatio', 'AwayAvgGoalsConceded')\n",
      "318 17:41:52 : ('RecentFormRatio', 'AwayEwmaPoints')\n",
      "319 17:41:52 : ('RecentFormRatio', 'AwayEwmaGoalsScored')\n",
      "320 17:41:52 : ('RecentFormRatio', 'AwayEwmaGoalsConceded')\n",
      "321 17:41:52 : ('RecentFormRatio', 'HomeWins')\n",
      "322 17:41:52 : ('RecentFormRatio', 'HomeDraws')\n",
      "323 17:41:52 : ('RecentFormRatio', 'HomeLosses')\n",
      "324 17:41:52 : ('RecentFormRatio', 'AwayWins')\n",
      "325 17:41:52 : ('RecentFormRatio', 'AwayDraws')\n",
      "326 17:41:52 : ('RecentFormRatio', 'AwayLosses')\n",
      "327 17:41:52 : ('RecentFormRatio', 'UltimoScontroDiretto')\n",
      "328 17:41:52 : ('RecentFormRatio', 'Last3PointsDifference')\n",
      "329 17:41:52 : ('RecentFormRatio', 'GoalRatioDifference')\n",
      "330 17:41:52 : ('RecentFormRatio', 'EwmaGoalsSum')\n",
      "331 17:41:52 : ('RecentFormRatio', 'GoalsSum')\n",
      "332 17:41:52 : ('RecentFormRatio', 'HomePointGap')\n",
      "333 17:41:52 : ('RecentFormRatio', 'AwayPointGap')\n",
      "334 17:41:52 : ('RecentFormRatio', 'HomeGoalGap')\n",
      "335 17:41:52 : ('RecentFormRatio', 'AwayGoalGap')\n",
      "336 17:41:52 : ('RecentFormRatio', 'feat1')\n",
      "337 17:41:52 : ('RecentFormRatio', 'feat2')\n",
      "338 17:41:52 : ('RecentFormRatio', 'FormDiff')\n",
      "339 17:41:52 : ('RecentFormRatio', 'RecentFormDiff')\n",
      "340 17:41:52 : ('RecentFormRatio', 'GoalCumulativeSum')\n",
      "341 17:41:52 : ('RecentFormRatio', 'ATW_LogRegPred')\n",
      "342 17:41:52 : ('EloRatio', 'HomeLast3Points')\n",
      "343 17:41:52 : ('EloRatio', 'HomeAvgGoalsScored')\n",
      "344 17:41:52 : ('EloRatio', 'HomeAvgGoalsConceded')\n",
      "345 17:41:52 : ('EloRatio', 'HomeEwmaPoints')\n",
      "346 17:41:52 : ('EloRatio', 'HomeEwmaGoalsScored')\n",
      "347 17:41:52 : ('EloRatio', 'HomeEwmaGoalsConceded')\n",
      "348 17:41:52 : ('EloRatio', 'AwayLast3Points')\n",
      "349 17:41:52 : ('EloRatio', 'AwayAvgGoalsScored')\n",
      "350 17:41:52 : ('EloRatio', 'AwayAvgGoalsConceded')\n",
      "351 17:41:52 : ('EloRatio', 'AwayEwmaPoints')\n",
      "352 17:41:52 : ('EloRatio', 'AwayEwmaGoalsScored')\n",
      "353 17:41:52 : ('EloRatio', 'AwayEwmaGoalsConceded')\n",
      "354 17:41:52 : ('EloRatio', 'HomeWins')\n",
      "355 17:41:52 : ('EloRatio', 'HomeDraws')\n",
      "356 17:41:52 : ('EloRatio', 'HomeLosses')\n",
      "357 17:41:52 : ('EloRatio', 'AwayWins')\n",
      "358 17:41:52 : ('EloRatio', 'AwayDraws')\n",
      "359 17:41:52 : ('EloRatio', 'AwayLosses')\n",
      "360 17:41:52 : ('EloRatio', 'UltimoScontroDiretto')\n",
      "361 17:41:52 : ('EloRatio', 'Last3PointsDifference')\n",
      "362 17:41:52 : ('EloRatio', 'GoalRatioDifference')\n",
      "363 17:41:52 : ('EloRatio', 'EwmaGoalsSum')\n",
      "364 17:41:52 : ('EloRatio', 'GoalsSum')\n",
      "365 17:41:52 : ('EloRatio', 'HomePointGap')\n",
      "366 17:41:52 : ('EloRatio', 'AwayPointGap')\n",
      "367 17:41:52 : ('EloRatio', 'HomeGoalGap')\n",
      "368 17:41:52 : ('EloRatio', 'AwayGoalGap')\n",
      "369 17:41:52 : ('EloRatio', 'feat1')\n",
      "370 17:41:52 : ('EloRatio', 'feat2')\n",
      "371 17:41:52 : ('EloRatio', 'FormDiff')\n",
      "372 17:41:52 : ('EloRatio', 'RecentFormDiff')\n",
      "373 17:41:52 : ('EloRatio', 'GoalCumulativeSum')\n",
      "374 17:41:52 : ('EloRatio', 'ATW_LogRegPred')\n",
      "375 17:41:52 : ('HomeLast3Points', 'HomeAvgGoalsScored')\n",
      "376 17:41:52 : ('HomeLast3Points', 'HomeAvgGoalsConceded')\n",
      "377 17:41:52 : ('HomeLast3Points', 'HomeEwmaPoints')\n",
      "378 17:41:52 : ('HomeLast3Points', 'HomeEwmaGoalsScored')\n",
      "379 17:41:52 : ('HomeLast3Points', 'HomeEwmaGoalsConceded')\n",
      "380 17:41:52 : ('HomeLast3Points', 'AwayLast3Points')\n",
      "381 17:41:52 : ('HomeLast3Points', 'AwayAvgGoalsScored')\n",
      "382 17:41:52 : ('HomeLast3Points', 'AwayAvgGoalsConceded')\n",
      "383 17:41:52 : ('HomeLast3Points', 'AwayEwmaPoints')\n",
      "384 17:41:52 : ('HomeLast3Points', 'AwayEwmaGoalsScored')\n",
      "385 17:41:52 : ('HomeLast3Points', 'AwayEwmaGoalsConceded')\n",
      "386 17:41:52 : ('HomeLast3Points', 'HomeWins')\n",
      "387 17:41:52 : ('HomeLast3Points', 'HomeDraws')\n",
      "388 17:41:52 : ('HomeLast3Points', 'HomeLosses')\n",
      "389 17:41:52 : ('HomeLast3Points', 'AwayWins')\n",
      "390 17:41:52 : ('HomeLast3Points', 'AwayDraws')\n",
      "391 17:41:52 : ('HomeLast3Points', 'AwayLosses')\n",
      "392 17:41:52 : ('HomeLast3Points', 'UltimoScontroDiretto')\n",
      "393 17:41:52 : ('HomeLast3Points', 'Last3PointsDifference')\n",
      "394 17:41:52 : ('HomeLast3Points', 'GoalRatioDifference')\n",
      "395 17:41:52 : ('HomeLast3Points', 'EwmaGoalsSum')\n",
      "396 17:41:52 : ('HomeLast3Points', 'GoalsSum')\n",
      "397 17:41:52 : ('HomeLast3Points', 'HomePointGap')\n",
      "398 17:41:52 : ('HomeLast3Points', 'AwayPointGap')\n",
      "399 17:41:52 : ('HomeLast3Points', 'HomeGoalGap')\n",
      "400 17:41:52 : ('HomeLast3Points', 'AwayGoalGap')\n",
      "401 17:41:52 : ('HomeLast3Points', 'feat1')\n",
      "402 17:41:52 : ('HomeLast3Points', 'feat2')\n",
      "403 17:41:52 : ('HomeLast3Points', 'FormDiff')\n",
      "404 17:41:52 : ('HomeLast3Points', 'RecentFormDiff')\n",
      "405 17:41:52 : ('HomeLast3Points', 'GoalCumulativeSum')\n",
      "406 17:41:52 : ('HomeLast3Points', 'ATW_LogRegPred')\n",
      "407 17:41:52 : ('HomeAvgGoalsScored', 'HomeAvgGoalsConceded')\n",
      "408 17:41:52 : ('HomeAvgGoalsScored', 'HomeEwmaPoints')\n",
      "409 17:41:52 : ('HomeAvgGoalsScored', 'HomeEwmaGoalsScored')\n",
      "410 17:41:52 : ('HomeAvgGoalsScored', 'HomeEwmaGoalsConceded')\n",
      "411 17:41:52 : ('HomeAvgGoalsScored', 'AwayLast3Points')\n",
      "412 17:41:52 : ('HomeAvgGoalsScored', 'AwayAvgGoalsScored')\n",
      "413 17:41:52 : ('HomeAvgGoalsScored', 'AwayAvgGoalsConceded')\n",
      "414 17:41:52 : ('HomeAvgGoalsScored', 'AwayEwmaPoints')\n",
      "415 17:41:52 : ('HomeAvgGoalsScored', 'AwayEwmaGoalsScored')\n",
      "416 17:41:52 : ('HomeAvgGoalsScored', 'AwayEwmaGoalsConceded')\n",
      "417 17:41:52 : ('HomeAvgGoalsScored', 'HomeWins')\n",
      "418 17:41:52 : ('HomeAvgGoalsScored', 'HomeDraws')\n",
      "419 17:41:52 : ('HomeAvgGoalsScored', 'HomeLosses')\n",
      "420 17:41:52 : ('HomeAvgGoalsScored', 'AwayWins')\n",
      "421 17:41:52 : ('HomeAvgGoalsScored', 'AwayDraws')\n",
      "422 17:41:52 : ('HomeAvgGoalsScored', 'AwayLosses')\n",
      "423 17:41:52 : ('HomeAvgGoalsScored', 'UltimoScontroDiretto')\n",
      "424 17:41:52 : ('HomeAvgGoalsScored', 'Last3PointsDifference')\n",
      "425 17:41:52 : ('HomeAvgGoalsScored', 'GoalRatioDifference')\n",
      "426 17:41:52 : ('HomeAvgGoalsScored', 'EwmaGoalsSum')\n",
      "427 17:41:52 : ('HomeAvgGoalsScored', 'GoalsSum')\n",
      "428 17:41:52 : ('HomeAvgGoalsScored', 'HomePointGap')\n",
      "429 17:41:52 : ('HomeAvgGoalsScored', 'AwayPointGap')\n",
      "430 17:41:52 : ('HomeAvgGoalsScored', 'HomeGoalGap')\n",
      "431 17:41:52 : ('HomeAvgGoalsScored', 'AwayGoalGap')\n",
      "432 17:41:52 : ('HomeAvgGoalsScored', 'feat1')\n",
      "433 17:41:52 : ('HomeAvgGoalsScored', 'feat2')\n",
      "434 17:41:52 : ('HomeAvgGoalsScored', 'FormDiff')\n",
      "435 17:41:52 : ('HomeAvgGoalsScored', 'RecentFormDiff')\n",
      "436 17:41:52 : ('HomeAvgGoalsScored', 'GoalCumulativeSum')\n",
      "437 17:41:52 : ('HomeAvgGoalsScored', 'ATW_LogRegPred')\n",
      "438 17:41:52 : ('HomeAvgGoalsConceded', 'HomeEwmaPoints')\n",
      "439 17:41:52 : ('HomeAvgGoalsConceded', 'HomeEwmaGoalsScored')\n",
      "440 17:41:52 : ('HomeAvgGoalsConceded', 'HomeEwmaGoalsConceded')\n",
      "441 17:41:52 : ('HomeAvgGoalsConceded', 'AwayLast3Points')\n",
      "442 17:41:52 : ('HomeAvgGoalsConceded', 'AwayAvgGoalsScored')\n",
      "443 17:41:52 : ('HomeAvgGoalsConceded', 'AwayAvgGoalsConceded')\n",
      "444 17:41:52 : ('HomeAvgGoalsConceded', 'AwayEwmaPoints')\n",
      "445 17:41:52 : ('HomeAvgGoalsConceded', 'AwayEwmaGoalsScored')\n",
      "446 17:41:52 : ('HomeAvgGoalsConceded', 'AwayEwmaGoalsConceded')\n",
      "447 17:41:52 : ('HomeAvgGoalsConceded', 'HomeWins')\n",
      "448 17:41:52 : ('HomeAvgGoalsConceded', 'HomeDraws')\n",
      "449 17:41:52 : ('HomeAvgGoalsConceded', 'HomeLosses')\n",
      "450 17:41:52 : ('HomeAvgGoalsConceded', 'AwayWins')\n",
      "451 17:41:52 : ('HomeAvgGoalsConceded', 'AwayDraws')\n",
      "452 17:41:52 : ('HomeAvgGoalsConceded', 'AwayLosses')\n",
      "453 17:41:52 : ('HomeAvgGoalsConceded', 'UltimoScontroDiretto')\n",
      "454 17:41:52 : ('HomeAvgGoalsConceded', 'Last3PointsDifference')\n",
      "455 17:41:52 : ('HomeAvgGoalsConceded', 'GoalRatioDifference')\n",
      "456 17:41:52 : ('HomeAvgGoalsConceded', 'EwmaGoalsSum')\n",
      "457 17:41:52 : ('HomeAvgGoalsConceded', 'GoalsSum')\n",
      "458 17:41:52 : ('HomeAvgGoalsConceded', 'HomePointGap')\n",
      "459 17:41:52 : ('HomeAvgGoalsConceded', 'AwayPointGap')\n",
      "460 17:41:52 : ('HomeAvgGoalsConceded', 'HomeGoalGap')\n",
      "461 17:41:52 : ('HomeAvgGoalsConceded', 'AwayGoalGap')\n",
      "462 17:41:52 : ('HomeAvgGoalsConceded', 'feat1')\n",
      "463 17:41:52 : ('HomeAvgGoalsConceded', 'feat2')\n",
      "464 17:41:52 : ('HomeAvgGoalsConceded', 'FormDiff')\n",
      "465 17:41:52 : ('HomeAvgGoalsConceded', 'RecentFormDiff')\n",
      "466 17:41:52 : ('HomeAvgGoalsConceded', 'GoalCumulativeSum')\n",
      "467 17:41:52 : ('HomeAvgGoalsConceded', 'ATW_LogRegPred')\n",
      "468 17:41:52 : ('HomeEwmaPoints', 'HomeEwmaGoalsScored')\n",
      "469 17:41:52 : ('HomeEwmaPoints', 'HomeEwmaGoalsConceded')\n",
      "470 17:41:52 : ('HomeEwmaPoints', 'AwayLast3Points')\n",
      "471 17:41:52 : ('HomeEwmaPoints', 'AwayAvgGoalsScored')\n",
      "472 17:41:52 : ('HomeEwmaPoints', 'AwayAvgGoalsConceded')\n",
      "473 17:41:52 : ('HomeEwmaPoints', 'AwayEwmaPoints')\n",
      "474 17:41:52 : ('HomeEwmaPoints', 'AwayEwmaGoalsScored')\n",
      "475 17:41:52 : ('HomeEwmaPoints', 'AwayEwmaGoalsConceded')\n",
      "476 17:41:52 : ('HomeEwmaPoints', 'HomeWins')\n",
      "477 17:41:52 : ('HomeEwmaPoints', 'HomeDraws')\n",
      "478 17:41:52 : ('HomeEwmaPoints', 'HomeLosses')\n",
      "479 17:41:52 : ('HomeEwmaPoints', 'AwayWins')\n",
      "480 17:41:52 : ('HomeEwmaPoints', 'AwayDraws')\n",
      "481 17:41:52 : ('HomeEwmaPoints', 'AwayLosses')\n",
      "482 17:41:52 : ('HomeEwmaPoints', 'UltimoScontroDiretto')\n",
      "483 17:41:52 : ('HomeEwmaPoints', 'Last3PointsDifference')\n",
      "484 17:41:52 : ('HomeEwmaPoints', 'GoalRatioDifference')\n",
      "485 17:41:52 : ('HomeEwmaPoints', 'EwmaGoalsSum')\n",
      "486 17:41:52 : ('HomeEwmaPoints', 'GoalsSum')\n",
      "487 17:41:52 : ('HomeEwmaPoints', 'HomePointGap')\n",
      "488 17:41:52 : ('HomeEwmaPoints', 'AwayPointGap')\n",
      "489 17:41:52 : ('HomeEwmaPoints', 'HomeGoalGap')\n",
      "490 17:41:52 : ('HomeEwmaPoints', 'AwayGoalGap')\n",
      "491 17:41:52 : ('HomeEwmaPoints', 'feat1')\n",
      "492 17:41:52 : ('HomeEwmaPoints', 'feat2')\n",
      "493 17:41:52 : ('HomeEwmaPoints', 'FormDiff')\n",
      "494 17:41:52 : ('HomeEwmaPoints', 'RecentFormDiff')\n",
      "495 17:41:52 : ('HomeEwmaPoints', 'GoalCumulativeSum')\n",
      "496 17:41:52 : ('HomeEwmaPoints', 'ATW_LogRegPred')\n",
      "497 17:41:52 : ('HomeEwmaGoalsScored', 'HomeEwmaGoalsConceded')\n",
      "498 17:41:52 : ('HomeEwmaGoalsScored', 'AwayLast3Points')\n",
      "499 17:41:52 : ('HomeEwmaGoalsScored', 'AwayAvgGoalsScored')\n",
      "500 17:41:52 : ('HomeEwmaGoalsScored', 'AwayAvgGoalsConceded')\n",
      "501 17:41:52 : ('HomeEwmaGoalsScored', 'AwayEwmaPoints')\n",
      "502 17:41:52 : ('HomeEwmaGoalsScored', 'AwayEwmaGoalsScored')\n",
      "503 17:41:52 : ('HomeEwmaGoalsScored', 'AwayEwmaGoalsConceded')\n",
      "504 17:41:52 : ('HomeEwmaGoalsScored', 'HomeWins')\n",
      "505 17:41:52 : ('HomeEwmaGoalsScored', 'HomeDraws')\n",
      "506 17:41:52 : ('HomeEwmaGoalsScored', 'HomeLosses')\n",
      "507 17:41:52 : ('HomeEwmaGoalsScored', 'AwayWins')\n",
      "508 17:41:52 : ('HomeEwmaGoalsScored', 'AwayDraws')\n",
      "509 17:41:52 : ('HomeEwmaGoalsScored', 'AwayLosses')\n",
      "510 17:41:52 : ('HomeEwmaGoalsScored', 'UltimoScontroDiretto')\n",
      "511 17:41:52 : ('HomeEwmaGoalsScored', 'Last3PointsDifference')\n",
      "512 17:41:52 : ('HomeEwmaGoalsScored', 'GoalRatioDifference')\n",
      "513 17:41:52 : ('HomeEwmaGoalsScored', 'EwmaGoalsSum')\n",
      "514 17:41:52 : ('HomeEwmaGoalsScored', 'GoalsSum')\n",
      "515 17:41:52 : ('HomeEwmaGoalsScored', 'HomePointGap')\n",
      "516 17:41:52 : ('HomeEwmaGoalsScored', 'AwayPointGap')\n",
      "517 17:41:52 : ('HomeEwmaGoalsScored', 'HomeGoalGap')\n",
      "518 17:41:52 : ('HomeEwmaGoalsScored', 'AwayGoalGap')\n",
      "519 17:41:52 : ('HomeEwmaGoalsScored', 'feat1')\n",
      "520 17:41:52 : ('HomeEwmaGoalsScored', 'feat2')\n",
      "521 17:41:52 : ('HomeEwmaGoalsScored', 'FormDiff')\n",
      "522 17:41:52 : ('HomeEwmaGoalsScored', 'RecentFormDiff')\n",
      "523 17:41:52 : ('HomeEwmaGoalsScored', 'GoalCumulativeSum')\n",
      "524 17:41:52 : ('HomeEwmaGoalsScored', 'ATW_LogRegPred')\n",
      "525 17:41:52 : ('HomeEwmaGoalsConceded', 'AwayLast3Points')\n",
      "526 17:41:52 : ('HomeEwmaGoalsConceded', 'AwayAvgGoalsScored')\n",
      "527 17:41:52 : ('HomeEwmaGoalsConceded', 'AwayAvgGoalsConceded')\n",
      "528 17:41:52 : ('HomeEwmaGoalsConceded', 'AwayEwmaPoints')\n",
      "529 17:41:52 : ('HomeEwmaGoalsConceded', 'AwayEwmaGoalsScored')\n",
      "530 17:41:52 : ('HomeEwmaGoalsConceded', 'AwayEwmaGoalsConceded')\n",
      "531 17:41:52 : ('HomeEwmaGoalsConceded', 'HomeWins')\n",
      "532 17:41:52 : ('HomeEwmaGoalsConceded', 'HomeDraws')\n",
      "533 17:41:52 : ('HomeEwmaGoalsConceded', 'HomeLosses')\n",
      "534 17:41:52 : ('HomeEwmaGoalsConceded', 'AwayWins')\n",
      "535 17:41:52 : ('HomeEwmaGoalsConceded', 'AwayDraws')\n",
      "536 17:41:52 : ('HomeEwmaGoalsConceded', 'AwayLosses')\n",
      "537 17:41:52 : ('HomeEwmaGoalsConceded', 'UltimoScontroDiretto')\n",
      "538 17:41:52 : ('HomeEwmaGoalsConceded', 'Last3PointsDifference')\n",
      "539 17:41:52 : ('HomeEwmaGoalsConceded', 'GoalRatioDifference')\n",
      "540 17:41:52 : ('HomeEwmaGoalsConceded', 'EwmaGoalsSum')\n",
      "541 17:41:52 : ('HomeEwmaGoalsConceded', 'GoalsSum')\n",
      "542 17:41:52 : ('HomeEwmaGoalsConceded', 'HomePointGap')\n",
      "543 17:41:52 : ('HomeEwmaGoalsConceded', 'AwayPointGap')\n",
      "544 17:41:52 : ('HomeEwmaGoalsConceded', 'HomeGoalGap')\n",
      "545 17:41:52 : ('HomeEwmaGoalsConceded', 'AwayGoalGap')\n",
      "546 17:41:52 : ('HomeEwmaGoalsConceded', 'feat1')\n",
      "547 17:41:52 : ('HomeEwmaGoalsConceded', 'feat2')\n",
      "548 17:41:52 : ('HomeEwmaGoalsConceded', 'FormDiff')\n",
      "549 17:41:52 : ('HomeEwmaGoalsConceded', 'RecentFormDiff')\n",
      "550 17:41:52 : ('HomeEwmaGoalsConceded', 'GoalCumulativeSum')\n",
      "551 17:41:52 : ('HomeEwmaGoalsConceded', 'ATW_LogRegPred')\n",
      "552 17:41:52 : ('AwayLast3Points', 'AwayAvgGoalsScored')\n",
      "553 17:41:52 : ('AwayLast3Points', 'AwayAvgGoalsConceded')\n",
      "554 17:41:52 : ('AwayLast3Points', 'AwayEwmaPoints')\n",
      "555 17:41:52 : ('AwayLast3Points', 'AwayEwmaGoalsScored')\n",
      "556 17:41:52 : ('AwayLast3Points', 'AwayEwmaGoalsConceded')\n",
      "557 17:41:52 : ('AwayLast3Points', 'HomeWins')\n",
      "558 17:41:52 : ('AwayLast3Points', 'HomeDraws')\n",
      "559 17:41:52 : ('AwayLast3Points', 'HomeLosses')\n",
      "560 17:41:52 : ('AwayLast3Points', 'AwayWins')\n",
      "561 17:41:52 : ('AwayLast3Points', 'AwayDraws')\n",
      "562 17:41:52 : ('AwayLast3Points', 'AwayLosses')\n",
      "563 17:41:52 : ('AwayLast3Points', 'UltimoScontroDiretto')\n",
      "564 17:41:52 : ('AwayLast3Points', 'Last3PointsDifference')\n",
      "565 17:41:52 : ('AwayLast3Points', 'GoalRatioDifference')\n",
      "566 17:41:52 : ('AwayLast3Points', 'EwmaGoalsSum')\n",
      "567 17:41:52 : ('AwayLast3Points', 'GoalsSum')\n",
      "568 17:41:52 : ('AwayLast3Points', 'HomePointGap')\n",
      "569 17:41:52 : ('AwayLast3Points', 'AwayPointGap')\n",
      "570 17:41:52 : ('AwayLast3Points', 'HomeGoalGap')\n",
      "571 17:41:52 : ('AwayLast3Points', 'AwayGoalGap')\n",
      "572 17:41:52 : ('AwayLast3Points', 'feat1')\n",
      "573 17:41:52 : ('AwayLast3Points', 'feat2')\n",
      "574 17:41:52 : ('AwayLast3Points', 'FormDiff')\n",
      "575 17:41:52 : ('AwayLast3Points', 'RecentFormDiff')\n",
      "576 17:41:52 : ('AwayLast3Points', 'GoalCumulativeSum')\n",
      "577 17:41:52 : ('AwayLast3Points', 'ATW_LogRegPred')\n",
      "578 17:41:52 : ('AwayAvgGoalsScored', 'AwayAvgGoalsConceded')\n",
      "579 17:41:52 : ('AwayAvgGoalsScored', 'AwayEwmaPoints')\n",
      "580 17:41:52 : ('AwayAvgGoalsScored', 'AwayEwmaGoalsScored')\n",
      "581 17:41:52 : ('AwayAvgGoalsScored', 'AwayEwmaGoalsConceded')\n",
      "582 17:41:52 : ('AwayAvgGoalsScored', 'HomeWins')\n",
      "583 17:41:52 : ('AwayAvgGoalsScored', 'HomeDraws')\n",
      "584 17:41:52 : ('AwayAvgGoalsScored', 'HomeLosses')\n",
      "585 17:41:52 : ('AwayAvgGoalsScored', 'AwayWins')\n",
      "586 17:41:52 : ('AwayAvgGoalsScored', 'AwayDraws')\n",
      "587 17:41:52 : ('AwayAvgGoalsScored', 'AwayLosses')\n",
      "588 17:41:52 : ('AwayAvgGoalsScored', 'UltimoScontroDiretto')\n",
      "589 17:41:52 : ('AwayAvgGoalsScored', 'Last3PointsDifference')\n",
      "590 17:41:52 : ('AwayAvgGoalsScored', 'GoalRatioDifference')\n",
      "591 17:41:52 : ('AwayAvgGoalsScored', 'EwmaGoalsSum')\n",
      "592 17:41:52 : ('AwayAvgGoalsScored', 'GoalsSum')\n",
      "593 17:41:52 : ('AwayAvgGoalsScored', 'HomePointGap')\n",
      "594 17:41:52 : ('AwayAvgGoalsScored', 'AwayPointGap')\n",
      "595 17:41:52 : ('AwayAvgGoalsScored', 'HomeGoalGap')\n",
      "596 17:41:52 : ('AwayAvgGoalsScored', 'AwayGoalGap')\n",
      "597 17:41:52 : ('AwayAvgGoalsScored', 'feat1')\n",
      "598 17:41:52 : ('AwayAvgGoalsScored', 'feat2')\n",
      "599 17:41:52 : ('AwayAvgGoalsScored', 'FormDiff')\n",
      "600 17:41:52 : ('AwayAvgGoalsScored', 'RecentFormDiff')\n",
      "601 17:41:52 : ('AwayAvgGoalsScored', 'GoalCumulativeSum')\n",
      "602 17:41:52 : ('AwayAvgGoalsScored', 'ATW_LogRegPred')\n",
      "603 17:41:52 : ('AwayAvgGoalsConceded', 'AwayEwmaPoints')\n",
      "604 17:41:52 : ('AwayAvgGoalsConceded', 'AwayEwmaGoalsScored')\n",
      "605 17:41:52 : ('AwayAvgGoalsConceded', 'AwayEwmaGoalsConceded')\n",
      "606 17:41:52 : ('AwayAvgGoalsConceded', 'HomeWins')\n",
      "607 17:41:52 : ('AwayAvgGoalsConceded', 'HomeDraws')\n",
      "608 17:41:52 : ('AwayAvgGoalsConceded', 'HomeLosses')\n",
      "609 17:41:52 : ('AwayAvgGoalsConceded', 'AwayWins')\n",
      "610 17:41:52 : ('AwayAvgGoalsConceded', 'AwayDraws')\n",
      "611 17:41:52 : ('AwayAvgGoalsConceded', 'AwayLosses')\n",
      "612 17:41:52 : ('AwayAvgGoalsConceded', 'UltimoScontroDiretto')\n",
      "613 17:41:52 : ('AwayAvgGoalsConceded', 'Last3PointsDifference')\n",
      "614 17:41:52 : ('AwayAvgGoalsConceded', 'GoalRatioDifference')\n",
      "615 17:41:52 : ('AwayAvgGoalsConceded', 'EwmaGoalsSum')\n",
      "616 17:41:52 : ('AwayAvgGoalsConceded', 'GoalsSum')\n",
      "617 17:41:52 : ('AwayAvgGoalsConceded', 'HomePointGap')\n",
      "618 17:41:52 : ('AwayAvgGoalsConceded', 'AwayPointGap')\n",
      "619 17:41:52 : ('AwayAvgGoalsConceded', 'HomeGoalGap')\n",
      "620 17:41:52 : ('AwayAvgGoalsConceded', 'AwayGoalGap')\n",
      "621 17:41:52 : ('AwayAvgGoalsConceded', 'feat1')\n",
      "622 17:41:52 : ('AwayAvgGoalsConceded', 'feat2')\n",
      "623 17:41:52 : ('AwayAvgGoalsConceded', 'FormDiff')\n",
      "624 17:41:52 : ('AwayAvgGoalsConceded', 'RecentFormDiff')\n",
      "625 17:41:52 : ('AwayAvgGoalsConceded', 'GoalCumulativeSum')\n",
      "626 17:41:52 : ('AwayAvgGoalsConceded', 'ATW_LogRegPred')\n",
      "627 17:41:52 : ('AwayEwmaPoints', 'AwayEwmaGoalsScored')\n",
      "628 17:41:52 : ('AwayEwmaPoints', 'AwayEwmaGoalsConceded')\n",
      "629 17:41:52 : ('AwayEwmaPoints', 'HomeWins')\n",
      "630 17:41:52 : ('AwayEwmaPoints', 'HomeDraws')\n",
      "631 17:41:52 : ('AwayEwmaPoints', 'HomeLosses')\n",
      "632 17:41:52 : ('AwayEwmaPoints', 'AwayWins')\n",
      "633 17:41:52 : ('AwayEwmaPoints', 'AwayDraws')\n",
      "634 17:41:52 : ('AwayEwmaPoints', 'AwayLosses')\n",
      "635 17:41:52 : ('AwayEwmaPoints', 'UltimoScontroDiretto')\n",
      "636 17:41:52 : ('AwayEwmaPoints', 'Last3PointsDifference')\n",
      "637 17:41:52 : ('AwayEwmaPoints', 'GoalRatioDifference')\n",
      "638 17:41:52 : ('AwayEwmaPoints', 'EwmaGoalsSum')\n",
      "639 17:41:52 : ('AwayEwmaPoints', 'GoalsSum')\n",
      "640 17:41:52 : ('AwayEwmaPoints', 'HomePointGap')\n",
      "641 17:41:52 : ('AwayEwmaPoints', 'AwayPointGap')\n",
      "642 17:41:52 : ('AwayEwmaPoints', 'HomeGoalGap')\n",
      "643 17:41:52 : ('AwayEwmaPoints', 'AwayGoalGap')\n",
      "644 17:41:52 : ('AwayEwmaPoints', 'feat1')\n",
      "645 17:41:52 : ('AwayEwmaPoints', 'feat2')\n",
      "646 17:41:52 : ('AwayEwmaPoints', 'FormDiff')\n",
      "647 17:41:52 : ('AwayEwmaPoints', 'RecentFormDiff')\n",
      "648 17:41:52 : ('AwayEwmaPoints', 'GoalCumulativeSum')\n",
      "649 17:41:52 : ('AwayEwmaPoints', 'ATW_LogRegPred')\n",
      "650 17:41:52 : ('AwayEwmaGoalsScored', 'AwayEwmaGoalsConceded')\n",
      "651 17:41:52 : ('AwayEwmaGoalsScored', 'HomeWins')\n",
      "652 17:41:52 : ('AwayEwmaGoalsScored', 'HomeDraws')\n",
      "653 17:41:52 : ('AwayEwmaGoalsScored', 'HomeLosses')\n",
      "654 17:41:52 : ('AwayEwmaGoalsScored', 'AwayWins')\n",
      "655 17:41:52 : ('AwayEwmaGoalsScored', 'AwayDraws')\n",
      "656 17:41:52 : ('AwayEwmaGoalsScored', 'AwayLosses')\n",
      "657 17:41:52 : ('AwayEwmaGoalsScored', 'UltimoScontroDiretto')\n",
      "658 17:41:52 : ('AwayEwmaGoalsScored', 'Last3PointsDifference')\n",
      "659 17:41:52 : ('AwayEwmaGoalsScored', 'GoalRatioDifference')\n",
      "660 17:41:52 : ('AwayEwmaGoalsScored', 'EwmaGoalsSum')\n",
      "661 17:41:52 : ('AwayEwmaGoalsScored', 'GoalsSum')\n",
      "662 17:41:52 : ('AwayEwmaGoalsScored', 'HomePointGap')\n",
      "663 17:41:52 : ('AwayEwmaGoalsScored', 'AwayPointGap')\n",
      "664 17:41:52 : ('AwayEwmaGoalsScored', 'HomeGoalGap')\n",
      "665 17:41:52 : ('AwayEwmaGoalsScored', 'AwayGoalGap')\n",
      "666 17:41:52 : ('AwayEwmaGoalsScored', 'feat1')\n",
      "667 17:41:52 : ('AwayEwmaGoalsScored', 'feat2')\n",
      "668 17:41:52 : ('AwayEwmaGoalsScored', 'FormDiff')\n",
      "669 17:41:52 : ('AwayEwmaGoalsScored', 'RecentFormDiff')\n",
      "670 17:41:52 : ('AwayEwmaGoalsScored', 'GoalCumulativeSum')\n",
      "671 17:41:52 : ('AwayEwmaGoalsScored', 'ATW_LogRegPred')\n",
      "672 17:41:52 : ('AwayEwmaGoalsConceded', 'HomeWins')\n",
      "673 17:41:52 : ('AwayEwmaGoalsConceded', 'HomeDraws')\n",
      "674 17:41:52 : ('AwayEwmaGoalsConceded', 'HomeLosses')\n",
      "675 17:41:52 : ('AwayEwmaGoalsConceded', 'AwayWins')\n",
      "676 17:41:52 : ('AwayEwmaGoalsConceded', 'AwayDraws')\n",
      "677 17:41:52 : ('AwayEwmaGoalsConceded', 'AwayLosses')\n",
      "678 17:41:52 : ('AwayEwmaGoalsConceded', 'UltimoScontroDiretto')\n",
      "679 17:41:52 : ('AwayEwmaGoalsConceded', 'Last3PointsDifference')\n",
      "680 17:41:52 : ('AwayEwmaGoalsConceded', 'GoalRatioDifference')\n",
      "681 17:41:52 : ('AwayEwmaGoalsConceded', 'EwmaGoalsSum')\n",
      "682 17:41:52 : ('AwayEwmaGoalsConceded', 'GoalsSum')\n",
      "683 17:41:52 : ('AwayEwmaGoalsConceded', 'HomePointGap')\n",
      "684 17:41:52 : ('AwayEwmaGoalsConceded', 'AwayPointGap')\n",
      "685 17:41:52 : ('AwayEwmaGoalsConceded', 'HomeGoalGap')\n",
      "686 17:41:52 : ('AwayEwmaGoalsConceded', 'AwayGoalGap')\n",
      "687 17:41:52 : ('AwayEwmaGoalsConceded', 'feat1')\n",
      "688 17:41:52 : ('AwayEwmaGoalsConceded', 'feat2')\n",
      "689 17:41:52 : ('AwayEwmaGoalsConceded', 'FormDiff')\n",
      "690 17:41:52 : ('AwayEwmaGoalsConceded', 'RecentFormDiff')\n",
      "691 17:41:52 : ('AwayEwmaGoalsConceded', 'GoalCumulativeSum')\n",
      "692 17:41:52 : ('AwayEwmaGoalsConceded', 'ATW_LogRegPred')\n",
      "693 17:41:52 : ('HomeWins', 'HomeDraws')\n",
      "694 17:41:52 : ('HomeWins', 'HomeLosses')\n",
      "695 17:41:52 : ('HomeWins', 'AwayWins')\n",
      "696 17:41:52 : ('HomeWins', 'AwayDraws')\n",
      "697 17:41:52 : ('HomeWins', 'AwayLosses')\n",
      "698 17:41:52 : ('HomeWins', 'UltimoScontroDiretto')\n",
      "699 17:41:52 : ('HomeWins', 'Last3PointsDifference')\n",
      "700 17:41:52 : ('HomeWins', 'GoalRatioDifference')\n",
      "701 17:41:52 : ('HomeWins', 'EwmaGoalsSum')\n",
      "702 17:41:52 : ('HomeWins', 'GoalsSum')\n",
      "703 17:41:52 : ('HomeWins', 'HomePointGap')\n",
      "704 17:41:52 : ('HomeWins', 'AwayPointGap')\n",
      "705 17:41:52 : ('HomeWins', 'HomeGoalGap')\n",
      "706 17:41:52 : ('HomeWins', 'AwayGoalGap')\n",
      "707 17:41:52 : ('HomeWins', 'feat1')\n",
      "708 17:41:52 : ('HomeWins', 'feat2')\n",
      "709 17:41:52 : ('HomeWins', 'FormDiff')\n",
      "710 17:41:52 : ('HomeWins', 'RecentFormDiff')\n",
      "711 17:41:52 : ('HomeWins', 'GoalCumulativeSum')\n",
      "712 17:41:52 : ('HomeWins', 'ATW_LogRegPred')\n",
      "713 17:41:52 : ('HomeDraws', 'HomeLosses')\n",
      "714 17:41:52 : ('HomeDraws', 'AwayWins')\n",
      "715 17:41:52 : ('HomeDraws', 'AwayDraws')\n",
      "716 17:41:52 : ('HomeDraws', 'AwayLosses')\n",
      "717 17:41:52 : ('HomeDraws', 'UltimoScontroDiretto')\n",
      "718 17:41:52 : ('HomeDraws', 'Last3PointsDifference')\n",
      "719 17:41:52 : ('HomeDraws', 'GoalRatioDifference')\n",
      "720 17:41:52 : ('HomeDraws', 'EwmaGoalsSum')\n",
      "721 17:41:52 : ('HomeDraws', 'GoalsSum')\n",
      "722 17:41:52 : ('HomeDraws', 'HomePointGap')\n",
      "723 17:41:52 : ('HomeDraws', 'AwayPointGap')\n",
      "724 17:41:52 : ('HomeDraws', 'HomeGoalGap')\n",
      "725 17:41:52 : ('HomeDraws', 'AwayGoalGap')\n",
      "726 17:41:52 : ('HomeDraws', 'feat1')\n",
      "727 17:41:52 : ('HomeDraws', 'feat2')\n",
      "728 17:41:52 : ('HomeDraws', 'FormDiff')\n",
      "729 17:41:52 : ('HomeDraws', 'RecentFormDiff')\n",
      "730 17:41:52 : ('HomeDraws', 'GoalCumulativeSum')\n",
      "731 17:41:52 : ('HomeDraws', 'ATW_LogRegPred')\n",
      "732 17:41:52 : ('HomeLosses', 'AwayWins')\n",
      "733 17:41:52 : ('HomeLosses', 'AwayDraws')\n",
      "734 17:41:52 : ('HomeLosses', 'AwayLosses')\n",
      "735 17:41:52 : ('HomeLosses', 'UltimoScontroDiretto')\n",
      "736 17:41:52 : ('HomeLosses', 'Last3PointsDifference')\n",
      "737 17:41:52 : ('HomeLosses', 'GoalRatioDifference')\n",
      "738 17:41:52 : ('HomeLosses', 'EwmaGoalsSum')\n",
      "739 17:41:52 : ('HomeLosses', 'GoalsSum')\n",
      "740 17:41:52 : ('HomeLosses', 'HomePointGap')\n",
      "741 17:41:52 : ('HomeLosses', 'AwayPointGap')\n",
      "742 17:41:52 : ('HomeLosses', 'HomeGoalGap')\n",
      "743 17:41:52 : ('HomeLosses', 'AwayGoalGap')\n",
      "744 17:41:52 : ('HomeLosses', 'feat1')\n",
      "745 17:41:52 : ('HomeLosses', 'feat2')\n",
      "746 17:41:52 : ('HomeLosses', 'FormDiff')\n",
      "747 17:41:52 : ('HomeLosses', 'RecentFormDiff')\n",
      "748 17:41:52 : ('HomeLosses', 'GoalCumulativeSum')\n",
      "749 17:41:52 : ('HomeLosses', 'ATW_LogRegPred')\n",
      "750 17:41:52 : ('AwayWins', 'AwayDraws')\n",
      "751 17:41:52 : ('AwayWins', 'AwayLosses')\n",
      "752 17:41:52 : ('AwayWins', 'UltimoScontroDiretto')\n",
      "753 17:41:52 : ('AwayWins', 'Last3PointsDifference')\n",
      "754 17:41:52 : ('AwayWins', 'GoalRatioDifference')\n",
      "755 17:41:52 : ('AwayWins', 'EwmaGoalsSum')\n",
      "756 17:41:52 : ('AwayWins', 'GoalsSum')\n",
      "757 17:41:52 : ('AwayWins', 'HomePointGap')\n",
      "758 17:41:52 : ('AwayWins', 'AwayPointGap')\n",
      "759 17:41:52 : ('AwayWins', 'HomeGoalGap')\n",
      "760 17:41:52 : ('AwayWins', 'AwayGoalGap')\n",
      "761 17:41:52 : ('AwayWins', 'feat1')\n",
      "762 17:41:52 : ('AwayWins', 'feat2')\n",
      "763 17:41:52 : ('AwayWins', 'FormDiff')\n",
      "764 17:41:52 : ('AwayWins', 'RecentFormDiff')\n",
      "765 17:41:52 : ('AwayWins', 'GoalCumulativeSum')\n",
      "766 17:41:52 : ('AwayWins', 'ATW_LogRegPred')\n",
      "767 17:41:52 : ('AwayDraws', 'AwayLosses')\n",
      "768 17:41:52 : ('AwayDraws', 'UltimoScontroDiretto')\n",
      "769 17:41:52 : ('AwayDraws', 'Last3PointsDifference')\n",
      "770 17:41:52 : ('AwayDraws', 'GoalRatioDifference')\n",
      "771 17:41:52 : ('AwayDraws', 'EwmaGoalsSum')\n",
      "772 17:41:52 : ('AwayDraws', 'GoalsSum')\n",
      "773 17:41:52 : ('AwayDraws', 'HomePointGap')\n",
      "774 17:41:52 : ('AwayDraws', 'AwayPointGap')\n",
      "775 17:41:52 : ('AwayDraws', 'HomeGoalGap')\n",
      "776 17:41:52 : ('AwayDraws', 'AwayGoalGap')\n",
      "777 17:41:52 : ('AwayDraws', 'feat1')\n",
      "778 17:41:52 : ('AwayDraws', 'feat2')\n",
      "779 17:41:52 : ('AwayDraws', 'FormDiff')\n",
      "780 17:41:52 : ('AwayDraws', 'RecentFormDiff')\n",
      "781 17:41:52 : ('AwayDraws', 'GoalCumulativeSum')\n",
      "782 17:41:52 : ('AwayDraws', 'ATW_LogRegPred')\n",
      "783 17:41:52 : ('AwayLosses', 'UltimoScontroDiretto')\n",
      "784 17:41:52 : ('AwayLosses', 'Last3PointsDifference')\n",
      "785 17:41:52 : ('AwayLosses', 'GoalRatioDifference')\n",
      "786 17:41:52 : ('AwayLosses', 'EwmaGoalsSum')\n",
      "787 17:41:52 : ('AwayLosses', 'GoalsSum')\n",
      "788 17:41:52 : ('AwayLosses', 'HomePointGap')\n",
      "789 17:41:52 : ('AwayLosses', 'AwayPointGap')\n",
      "790 17:41:52 : ('AwayLosses', 'HomeGoalGap')\n",
      "791 17:41:52 : ('AwayLosses', 'AwayGoalGap')\n",
      "792 17:41:52 : ('AwayLosses', 'feat1')\n",
      "793 17:41:52 : ('AwayLosses', 'feat2')\n",
      "794 17:41:52 : ('AwayLosses', 'FormDiff')\n",
      "795 17:41:52 : ('AwayLosses', 'RecentFormDiff')\n",
      "796 17:41:52 : ('AwayLosses', 'GoalCumulativeSum')\n",
      "797 17:41:52 : ('AwayLosses', 'ATW_LogRegPred')\n",
      "798 17:41:52 : ('UltimoScontroDiretto', 'Last3PointsDifference')\n",
      "799 17:41:52 : ('UltimoScontroDiretto', 'GoalRatioDifference')\n",
      "800 17:41:52 : ('UltimoScontroDiretto', 'EwmaGoalsSum')\n",
      "801 17:41:52 : ('UltimoScontroDiretto', 'GoalsSum')\n",
      "802 17:41:52 : ('UltimoScontroDiretto', 'HomePointGap')\n",
      "803 17:41:52 : ('UltimoScontroDiretto', 'AwayPointGap')\n",
      "804 17:41:52 : ('UltimoScontroDiretto', 'HomeGoalGap')\n",
      "805 17:41:52 : ('UltimoScontroDiretto', 'AwayGoalGap')\n",
      "806 17:41:52 : ('UltimoScontroDiretto', 'feat1')\n",
      "807 17:41:52 : ('UltimoScontroDiretto', 'feat2')\n",
      "808 17:41:52 : ('UltimoScontroDiretto', 'FormDiff')\n",
      "809 17:41:52 : ('UltimoScontroDiretto', 'RecentFormDiff')\n",
      "810 17:41:52 : ('UltimoScontroDiretto', 'GoalCumulativeSum')\n",
      "811 17:41:52 : ('UltimoScontroDiretto', 'ATW_LogRegPred')\n",
      "812 17:41:52 : ('Last3PointsDifference', 'GoalRatioDifference')\n",
      "813 17:41:52 : ('Last3PointsDifference', 'EwmaGoalsSum')\n",
      "814 17:41:52 : ('Last3PointsDifference', 'GoalsSum')\n",
      "815 17:41:52 : ('Last3PointsDifference', 'HomePointGap')\n",
      "816 17:41:52 : ('Last3PointsDifference', 'AwayPointGap')\n",
      "817 17:41:52 : ('Last3PointsDifference', 'HomeGoalGap')\n",
      "818 17:41:52 : ('Last3PointsDifference', 'AwayGoalGap')\n",
      "819 17:41:52 : ('Last3PointsDifference', 'feat1')\n",
      "820 17:41:52 : ('Last3PointsDifference', 'feat2')\n",
      "821 17:41:52 : ('Last3PointsDifference', 'FormDiff')\n",
      "822 17:41:52 : ('Last3PointsDifference', 'RecentFormDiff')\n",
      "823 17:41:52 : ('Last3PointsDifference', 'GoalCumulativeSum')\n",
      "824 17:41:52 : ('Last3PointsDifference', 'ATW_LogRegPred')\n",
      "825 17:41:52 : ('GoalRatioDifference', 'EwmaGoalsSum')\n",
      "826 17:41:52 : ('GoalRatioDifference', 'GoalsSum')\n",
      "827 17:41:52 : ('GoalRatioDifference', 'HomePointGap')\n",
      "828 17:41:52 : ('GoalRatioDifference', 'AwayPointGap')\n",
      "829 17:41:52 : ('GoalRatioDifference', 'HomeGoalGap')\n",
      "830 17:41:52 : ('GoalRatioDifference', 'AwayGoalGap')\n",
      "831 17:41:52 : ('GoalRatioDifference', 'feat1')\n",
      "832 17:41:52 : ('GoalRatioDifference', 'feat2')\n",
      "833 17:41:52 : ('GoalRatioDifference', 'FormDiff')\n",
      "834 17:41:52 : ('GoalRatioDifference', 'RecentFormDiff')\n",
      "835 17:41:52 : ('GoalRatioDifference', 'GoalCumulativeSum')\n",
      "836 17:41:52 : ('GoalRatioDifference', 'ATW_LogRegPred')\n",
      "837 17:41:52 : ('EwmaGoalsSum', 'GoalsSum')\n",
      "838 17:41:52 : ('EwmaGoalsSum', 'HomePointGap')\n",
      "839 17:41:52 : ('EwmaGoalsSum', 'AwayPointGap')\n",
      "840 17:41:52 : ('EwmaGoalsSum', 'HomeGoalGap')\n",
      "841 17:41:52 : ('EwmaGoalsSum', 'AwayGoalGap')\n",
      "842 17:41:52 : ('EwmaGoalsSum', 'feat1')\n",
      "843 17:41:52 : ('EwmaGoalsSum', 'feat2')\n",
      "844 17:41:52 : ('EwmaGoalsSum', 'FormDiff')\n",
      "845 17:41:52 : ('EwmaGoalsSum', 'RecentFormDiff')\n",
      "846 17:41:52 : ('EwmaGoalsSum', 'GoalCumulativeSum')\n",
      "847 17:41:52 : ('EwmaGoalsSum', 'ATW_LogRegPred')\n",
      "848 17:41:52 : ('GoalsSum', 'HomePointGap')\n",
      "849 17:41:52 : ('GoalsSum', 'AwayPointGap')\n",
      "850 17:41:52 : ('GoalsSum', 'HomeGoalGap')\n",
      "851 17:41:52 : ('GoalsSum', 'AwayGoalGap')\n",
      "852 17:41:52 : ('GoalsSum', 'feat1')\n",
      "853 17:41:52 : ('GoalsSum', 'feat2')\n",
      "854 17:41:52 : ('GoalsSum', 'FormDiff')\n",
      "855 17:41:52 : ('GoalsSum', 'RecentFormDiff')\n",
      "856 17:41:52 : ('GoalsSum', 'GoalCumulativeSum')\n",
      "857 17:41:52 : ('GoalsSum', 'ATW_LogRegPred')\n",
      "858 17:41:52 : ('HomePointGap', 'AwayPointGap')\n",
      "859 17:41:52 : ('HomePointGap', 'HomeGoalGap')\n",
      "860 17:41:52 : ('HomePointGap', 'AwayGoalGap')\n",
      "861 17:41:52 : ('HomePointGap', 'feat1')\n",
      "862 17:41:52 : ('HomePointGap', 'feat2')\n",
      "863 17:41:52 : ('HomePointGap', 'FormDiff')\n",
      "864 17:41:52 : ('HomePointGap', 'RecentFormDiff')\n",
      "865 17:41:52 : ('HomePointGap', 'GoalCumulativeSum')\n",
      "866 17:41:52 : ('HomePointGap', 'ATW_LogRegPred')\n",
      "867 17:41:52 : ('AwayPointGap', 'HomeGoalGap')\n",
      "868 17:41:52 : ('AwayPointGap', 'AwayGoalGap')\n",
      "869 17:41:52 : ('AwayPointGap', 'feat1')\n",
      "870 17:41:52 : ('AwayPointGap', 'feat2')\n",
      "871 17:41:52 : ('AwayPointGap', 'FormDiff')\n",
      "872 17:41:52 : ('AwayPointGap', 'RecentFormDiff')\n",
      "873 17:41:52 : ('AwayPointGap', 'GoalCumulativeSum')\n",
      "874 17:41:52 : ('AwayPointGap', 'ATW_LogRegPred')\n",
      "875 17:41:52 : ('HomeGoalGap', 'AwayGoalGap')\n",
      "876 17:41:52 : ('HomeGoalGap', 'feat1')\n",
      "877 17:41:52 : ('HomeGoalGap', 'feat2')\n",
      "878 17:41:52 : ('HomeGoalGap', 'FormDiff')\n",
      "879 17:41:52 : ('HomeGoalGap', 'RecentFormDiff')\n",
      "880 17:41:52 : ('HomeGoalGap', 'GoalCumulativeSum')\n",
      "881 17:41:52 : ('HomeGoalGap', 'ATW_LogRegPred')\n",
      "882 17:41:52 : ('AwayGoalGap', 'feat1')\n",
      "883 17:41:52 : ('AwayGoalGap', 'feat2')\n",
      "884 17:41:52 : ('AwayGoalGap', 'FormDiff')\n",
      "885 17:41:52 : ('AwayGoalGap', 'RecentFormDiff')\n",
      "886 17:41:52 : ('AwayGoalGap', 'GoalCumulativeSum')\n",
      "887 17:41:52 : ('AwayGoalGap', 'ATW_LogRegPred')\n",
      "888 17:41:52 : ('feat1', 'feat2')\n",
      "889 17:41:52 : ('feat1', 'FormDiff')\n",
      "890 17:41:52 : ('feat1', 'RecentFormDiff')\n",
      "891 17:41:52 : ('feat1', 'GoalCumulativeSum')\n",
      "892 17:41:52 : ('feat1', 'ATW_LogRegPred')\n",
      "893 17:41:52 : ('feat2', 'FormDiff')\n",
      "894 17:41:52 : ('feat2', 'RecentFormDiff')\n",
      "895 17:41:52 : ('feat2', 'GoalCumulativeSum')\n",
      "896 17:41:52 : ('feat2', 'ATW_LogRegPred')\n",
      "897 17:41:52 : ('FormDiff', 'RecentFormDiff')\n",
      "898 17:41:52 : ('FormDiff', 'GoalCumulativeSum')\n",
      "899 17:41:52 : ('FormDiff', 'ATW_LogRegPred')\n",
      "900 17:41:52 : ('RecentFormDiff', 'GoalCumulativeSum')\n",
      "901 17:41:52 : ('RecentFormDiff', 'ATW_LogRegPred')\n",
      "902 17:41:52 : ('GoalCumulativeSum', 'ATW_LogRegPred')\n",
      "Length of combos 903\n"
     ]
    }
   ],
   "source": [
    "for idx, combinazione in enumerate(combinazioni):\n",
    "    current_GMT = time.gmtime()\n",
    "    time_stamp = calendar.timegm(current_GMT)\n",
    "\n",
    "    print(idx, time.strftime(\"%H:%M:%S\", time.localtime()), ':', combinazione)\n",
    "    combos.append(combinazione)\n",
    "\n",
    "print('Length of combos',combos.__len__())"
   ]
  },
  {
   "cell_type": "code",
   "execution_count": 6,
   "metadata": {},
   "outputs": [
    {
     "name": "stdout",
     "output_type": "stream",
     "text": [
      "0 17:42:33 32.62 Trying with following combo ('EloDiff',)\n",
      "0 17:42:33 32.62 Trying with following combo ('EloDiff',)\n"
     ]
    },
    {
     "name": "stderr",
     "output_type": "stream",
     "text": [
      "c:\\Users\\vitto\\OneDrive\\Desktop\\Personale\\ML - Soccer\\BothToScore\\..\\lib\\Utility.py:288: RuntimeWarning: invalid value encountered in scalar divide\n",
      "  accuracy_class_1 = cm[1, 1] / (cm[0, 1] + cm[1, 1])\n",
      "c:\\Users\\vitto\\OneDrive\\Desktop\\Personale\\ML - Soccer\\BothToScore\\..\\lib\\Utility.py:288: RuntimeWarning: invalid value encountered in scalar divide\n",
      "  accuracy_class_1 = cm[1, 1] / (cm[0, 1] + cm[1, 1])\n",
      "c:\\Users\\vitto\\OneDrive\\Desktop\\Personale\\ML - Soccer\\BothToScore\\..\\lib\\Utility.py:288: RuntimeWarning: invalid value encountered in scalar divide\n",
      "  accuracy_class_1 = cm[1, 1] / (cm[0, 1] + cm[1, 1])\n",
      "c:\\Users\\vitto\\OneDrive\\Desktop\\Personale\\ML - Soccer\\BothToScore\\..\\lib\\Utility.py:288: RuntimeWarning: invalid value encountered in scalar divide\n",
      "  accuracy_class_1 = cm[1, 1] / (cm[0, 1] + cm[1, 1])\n"
     ]
    },
    {
     "name": "stdout",
     "output_type": "stream",
     "text": [
      "1 17:42:34 32.62 Trying with following combo ('PointsDifference',)\n",
      "1 17:42:34 32.65 Trying with following combo ('PointsDifference',)\n"
     ]
    },
    {
     "name": "stderr",
     "output_type": "stream",
     "text": [
      "c:\\Users\\vitto\\OneDrive\\Desktop\\Personale\\ML - Soccer\\BothToScore\\..\\lib\\Utility.py:288: RuntimeWarning: invalid value encountered in scalar divide\n",
      "  accuracy_class_1 = cm[1, 1] / (cm[0, 1] + cm[1, 1])\n",
      "c:\\Users\\vitto\\OneDrive\\Desktop\\Personale\\ML - Soccer\\BothToScore\\..\\lib\\Utility.py:288: RuntimeWarning: invalid value encountered in scalar divide\n",
      "  accuracy_class_1 = cm[1, 1] / (cm[0, 1] + cm[1, 1])\n"
     ]
    },
    {
     "name": "stdout",
     "output_type": "stream",
     "text": [
      "2 17:42:35 38.42 Trying with following combo ('HomeGoalsRatio',)\n",
      "2 17:42:36 41.96 Trying with following combo ('HomeGoalsRatio',)\n",
      "3 17:42:37 41.18 Trying with following combo ('AwayGoalsRatio',)\n",
      "3 17:42:37 44.73 Trying with following combo ('AwayGoalsRatio',)\n",
      "4 17:42:38 45.01 Trying with following combo ('GoalsDifference',)\n",
      "4 17:42:38 46.12 Trying with following combo ('GoalsDifference',)\n",
      "5 17:42:39 32.62 Trying with following combo ('ConcededGoalsDifference',)\n",
      "5 17:42:39 32.62 Trying with following combo ('ConcededGoalsDifference',)\n"
     ]
    },
    {
     "name": "stderr",
     "output_type": "stream",
     "text": [
      "c:\\Users\\vitto\\OneDrive\\Desktop\\Personale\\ML - Soccer\\BothToScore\\..\\lib\\Utility.py:288: RuntimeWarning: invalid value encountered in scalar divide\n",
      "  accuracy_class_1 = cm[1, 1] / (cm[0, 1] + cm[1, 1])\n",
      "c:\\Users\\vitto\\OneDrive\\Desktop\\Personale\\ML - Soccer\\BothToScore\\..\\lib\\Utility.py:288: RuntimeWarning: invalid value encountered in scalar divide\n",
      "  accuracy_class_1 = cm[1, 1] / (cm[0, 1] + cm[1, 1])\n",
      "c:\\Users\\vitto\\OneDrive\\Desktop\\Personale\\ML - Soccer\\BothToScore\\..\\lib\\Utility.py:288: RuntimeWarning: invalid value encountered in scalar divide\n",
      "  accuracy_class_1 = cm[1, 1] / (cm[0, 1] + cm[1, 1])\n",
      "c:\\Users\\vitto\\OneDrive\\Desktop\\Personale\\ML - Soccer\\BothToScore\\..\\lib\\Utility.py:288: RuntimeWarning: invalid value encountered in scalar divide\n",
      "  accuracy_class_1 = cm[1, 1] / (cm[0, 1] + cm[1, 1])\n"
     ]
    },
    {
     "name": "stdout",
     "output_type": "stream",
     "text": [
      "6 17:42:40 34.38 Trying with following combo ('GoalsAvgSum',)\n",
      "6 17:42:40 36.06 Trying with following combo ('GoalsAvgSum',)\n",
      "7 17:42:41 32.65 Trying with following combo ('RecentFormRatio',)\n",
      "7 17:42:41 32.88 Trying with following combo ('RecentFormRatio',)\n"
     ]
    },
    {
     "name": "stderr",
     "output_type": "stream",
     "text": [
      "c:\\Users\\vitto\\OneDrive\\Desktop\\Personale\\ML - Soccer\\BothToScore\\..\\lib\\Utility.py:288: RuntimeWarning: invalid value encountered in scalar divide\n",
      "  accuracy_class_1 = cm[1, 1] / (cm[0, 1] + cm[1, 1])\n",
      "c:\\Users\\vitto\\OneDrive\\Desktop\\Personale\\ML - Soccer\\BothToScore\\..\\lib\\Utility.py:288: RuntimeWarning: invalid value encountered in scalar divide\n",
      "  accuracy_class_1 = cm[1, 1] / (cm[0, 1] + cm[1, 1])\n"
     ]
    },
    {
     "name": "stdout",
     "output_type": "stream",
     "text": [
      "8 17:42:43 47.58 Trying with following combo ('EloRatio',)\n",
      "8 17:42:44 46.78 Trying with following combo ('EloRatio',)\n",
      "9 17:42:44 37.69 Trying with following combo ('HomeLast3Points',)\n",
      "9 17:42:45 37.69 Trying with following combo ('HomeLast3Points',)\n",
      "10 17:42:45 32.62 Trying with following combo ('HomeAvgGoalsScored',)\n",
      "10 17:42:45 33.32 Trying with following combo ('HomeAvgGoalsScored',)\n"
     ]
    },
    {
     "name": "stderr",
     "output_type": "stream",
     "text": [
      "c:\\Users\\vitto\\OneDrive\\Desktop\\Personale\\ML - Soccer\\BothToScore\\..\\lib\\Utility.py:288: RuntimeWarning: invalid value encountered in scalar divide\n",
      "  accuracy_class_1 = cm[1, 1] / (cm[0, 1] + cm[1, 1])\n",
      "c:\\Users\\vitto\\OneDrive\\Desktop\\Personale\\ML - Soccer\\BothToScore\\..\\lib\\Utility.py:288: RuntimeWarning: invalid value encountered in scalar divide\n",
      "  accuracy_class_1 = cm[1, 1] / (cm[0, 1] + cm[1, 1])\n"
     ]
    },
    {
     "name": "stdout",
     "output_type": "stream",
     "text": [
      "11 17:42:46 39.92 Trying with following combo ('HomeAvgGoalsConceded',)\n",
      "11 17:42:46 39.92 Trying with following combo ('HomeAvgGoalsConceded',)\n",
      "12 17:42:48 38.44 Trying with following combo ('HomeEwmaPoints',)\n",
      "12 17:42:48 39.26 Trying with following combo ('HomeEwmaPoints',)\n",
      "13 17:42:50 32.62 Trying with following combo ('HomeEwmaGoalsScored',)\n",
      "13 17:42:51 32.79 Trying with following combo ('HomeEwmaGoalsScored',)\n"
     ]
    },
    {
     "name": "stderr",
     "output_type": "stream",
     "text": [
      "c:\\Users\\vitto\\OneDrive\\Desktop\\Personale\\ML - Soccer\\BothToScore\\..\\lib\\Utility.py:288: RuntimeWarning: invalid value encountered in scalar divide\n",
      "  accuracy_class_1 = cm[1, 1] / (cm[0, 1] + cm[1, 1])\n",
      "c:\\Users\\vitto\\OneDrive\\Desktop\\Personale\\ML - Soccer\\BothToScore\\..\\lib\\Utility.py:288: RuntimeWarning: invalid value encountered in scalar divide\n",
      "  accuracy_class_1 = cm[1, 1] / (cm[0, 1] + cm[1, 1])\n"
     ]
    },
    {
     "name": "stdout",
     "output_type": "stream",
     "text": [
      "14 17:42:53 39.8 Trying with following combo ('HomeEwmaGoalsConceded',)\n",
      "14 17:42:53 36.59 Trying with following combo ('HomeEwmaGoalsConceded',)\n",
      "15 17:42:54 38.19 Trying with following combo ('AwayLast3Points',)\n",
      "15 17:42:54 34.81 Trying with following combo ('AwayLast3Points',)\n",
      "16 17:42:55 40.36 Trying with following combo ('AwayAvgGoalsScored',)\n",
      "16 17:42:55 40.36 Trying with following combo ('AwayAvgGoalsScored',)\n",
      "17 17:42:56 32.62 Trying with following combo ('AwayAvgGoalsConceded',)\n",
      "17 17:42:56 32.62 Trying with following combo ('AwayAvgGoalsConceded',)\n"
     ]
    },
    {
     "name": "stderr",
     "output_type": "stream",
     "text": [
      "c:\\Users\\vitto\\OneDrive\\Desktop\\Personale\\ML - Soccer\\BothToScore\\..\\lib\\Utility.py:288: RuntimeWarning: invalid value encountered in scalar divide\n",
      "  accuracy_class_1 = cm[1, 1] / (cm[0, 1] + cm[1, 1])\n",
      "c:\\Users\\vitto\\OneDrive\\Desktop\\Personale\\ML - Soccer\\BothToScore\\..\\lib\\Utility.py:288: RuntimeWarning: invalid value encountered in scalar divide\n",
      "  accuracy_class_1 = cm[1, 1] / (cm[0, 1] + cm[1, 1])\n",
      "c:\\Users\\vitto\\OneDrive\\Desktop\\Personale\\ML - Soccer\\BothToScore\\..\\lib\\Utility.py:288: RuntimeWarning: invalid value encountered in scalar divide\n",
      "  accuracy_class_1 = cm[1, 1] / (cm[0, 1] + cm[1, 1])\n",
      "c:\\Users\\vitto\\OneDrive\\Desktop\\Personale\\ML - Soccer\\BothToScore\\..\\lib\\Utility.py:288: RuntimeWarning: invalid value encountered in scalar divide\n",
      "  accuracy_class_1 = cm[1, 1] / (cm[0, 1] + cm[1, 1])\n"
     ]
    },
    {
     "name": "stdout",
     "output_type": "stream",
     "text": [
      "18 17:42:58 38.63 Trying with following combo ('AwayEwmaPoints',)\n",
      "18 17:42:58 36.13 Trying with following combo ('AwayEwmaPoints',)\n",
      "19 17:43:00 39.12 Trying with following combo ('AwayEwmaGoalsScored',)\n",
      "19 17:43:00 39.17 Trying with following combo ('AwayEwmaGoalsScored',)\n",
      "20 17:43:02 32.62 Trying with following combo ('AwayEwmaGoalsConceded',)\n",
      "20 17:43:02 32.67 Trying with following combo ('AwayEwmaGoalsConceded',)\n"
     ]
    },
    {
     "name": "stderr",
     "output_type": "stream",
     "text": [
      "c:\\Users\\vitto\\OneDrive\\Desktop\\Personale\\ML - Soccer\\BothToScore\\..\\lib\\Utility.py:288: RuntimeWarning: invalid value encountered in scalar divide\n",
      "  accuracy_class_1 = cm[1, 1] / (cm[0, 1] + cm[1, 1])\n",
      "c:\\Users\\vitto\\OneDrive\\Desktop\\Personale\\ML - Soccer\\BothToScore\\..\\lib\\Utility.py:288: RuntimeWarning: invalid value encountered in scalar divide\n",
      "  accuracy_class_1 = cm[1, 1] / (cm[0, 1] + cm[1, 1])\n"
     ]
    },
    {
     "name": "stdout",
     "output_type": "stream",
     "text": [
      "21 17:43:03 32.62 Trying with following combo ('HomeWins',)\n",
      "21 17:43:03 32.62 Trying with following combo ('HomeWins',)\n"
     ]
    },
    {
     "name": "stderr",
     "output_type": "stream",
     "text": [
      "c:\\Users\\vitto\\OneDrive\\Desktop\\Personale\\ML - Soccer\\BothToScore\\..\\lib\\Utility.py:288: RuntimeWarning: invalid value encountered in scalar divide\n",
      "  accuracy_class_1 = cm[1, 1] / (cm[0, 1] + cm[1, 1])\n",
      "c:\\Users\\vitto\\OneDrive\\Desktop\\Personale\\ML - Soccer\\BothToScore\\..\\lib\\Utility.py:288: RuntimeWarning: invalid value encountered in scalar divide\n",
      "  accuracy_class_1 = cm[1, 1] / (cm[0, 1] + cm[1, 1])\n",
      "c:\\Users\\vitto\\OneDrive\\Desktop\\Personale\\ML - Soccer\\BothToScore\\..\\lib\\Utility.py:288: RuntimeWarning: invalid value encountered in scalar divide\n",
      "  accuracy_class_1 = cm[1, 1] / (cm[0, 1] + cm[1, 1])\n",
      "c:\\Users\\vitto\\OneDrive\\Desktop\\Personale\\ML - Soccer\\BothToScore\\..\\lib\\Utility.py:288: RuntimeWarning: invalid value encountered in scalar divide\n",
      "  accuracy_class_1 = cm[1, 1] / (cm[0, 1] + cm[1, 1])\n"
     ]
    },
    {
     "name": "stdout",
     "output_type": "stream",
     "text": [
      "22 17:43:04 32.62 Trying with following combo ('HomeDraws',)\n",
      "22 17:43:04 32.62 Trying with following combo ('HomeDraws',)\n"
     ]
    },
    {
     "name": "stderr",
     "output_type": "stream",
     "text": [
      "c:\\Users\\vitto\\OneDrive\\Desktop\\Personale\\ML - Soccer\\BothToScore\\..\\lib\\Utility.py:288: RuntimeWarning: invalid value encountered in scalar divide\n",
      "  accuracy_class_1 = cm[1, 1] / (cm[0, 1] + cm[1, 1])\n",
      "c:\\Users\\vitto\\OneDrive\\Desktop\\Personale\\ML - Soccer\\BothToScore\\..\\lib\\Utility.py:288: RuntimeWarning: invalid value encountered in scalar divide\n",
      "  accuracy_class_1 = cm[1, 1] / (cm[0, 1] + cm[1, 1])\n",
      "c:\\Users\\vitto\\OneDrive\\Desktop\\Personale\\ML - Soccer\\BothToScore\\..\\lib\\Utility.py:288: RuntimeWarning: invalid value encountered in scalar divide\n",
      "  accuracy_class_1 = cm[1, 1] / (cm[0, 1] + cm[1, 1])\n",
      "c:\\Users\\vitto\\OneDrive\\Desktop\\Personale\\ML - Soccer\\BothToScore\\..\\lib\\Utility.py:288: RuntimeWarning: invalid value encountered in scalar divide\n",
      "  accuracy_class_1 = cm[1, 1] / (cm[0, 1] + cm[1, 1])\n"
     ]
    },
    {
     "name": "stdout",
     "output_type": "stream",
     "text": [
      "23 17:43:05 32.62 Trying with following combo ('HomeLosses',)\n",
      "23 17:43:05 32.62 Trying with following combo ('HomeLosses',)\n"
     ]
    },
    {
     "name": "stderr",
     "output_type": "stream",
     "text": [
      "c:\\Users\\vitto\\OneDrive\\Desktop\\Personale\\ML - Soccer\\BothToScore\\..\\lib\\Utility.py:288: RuntimeWarning: invalid value encountered in scalar divide\n",
      "  accuracy_class_1 = cm[1, 1] / (cm[0, 1] + cm[1, 1])\n",
      "c:\\Users\\vitto\\OneDrive\\Desktop\\Personale\\ML - Soccer\\BothToScore\\..\\lib\\Utility.py:288: RuntimeWarning: invalid value encountered in scalar divide\n",
      "  accuracy_class_1 = cm[1, 1] / (cm[0, 1] + cm[1, 1])\n",
      "c:\\Users\\vitto\\OneDrive\\Desktop\\Personale\\ML - Soccer\\BothToScore\\..\\lib\\Utility.py:288: RuntimeWarning: invalid value encountered in scalar divide\n",
      "  accuracy_class_1 = cm[1, 1] / (cm[0, 1] + cm[1, 1])\n",
      "c:\\Users\\vitto\\OneDrive\\Desktop\\Personale\\ML - Soccer\\BothToScore\\..\\lib\\Utility.py:288: RuntimeWarning: invalid value encountered in scalar divide\n",
      "  accuracy_class_1 = cm[1, 1] / (cm[0, 1] + cm[1, 1])\n"
     ]
    },
    {
     "name": "stdout",
     "output_type": "stream",
     "text": [
      "24 17:43:06 32.62 Trying with following combo ('AwayWins',)\n",
      "24 17:43:06 32.62 Trying with following combo ('AwayWins',)\n"
     ]
    },
    {
     "name": "stderr",
     "output_type": "stream",
     "text": [
      "c:\\Users\\vitto\\OneDrive\\Desktop\\Personale\\ML - Soccer\\BothToScore\\..\\lib\\Utility.py:288: RuntimeWarning: invalid value encountered in scalar divide\n",
      "  accuracy_class_1 = cm[1, 1] / (cm[0, 1] + cm[1, 1])\n",
      "c:\\Users\\vitto\\OneDrive\\Desktop\\Personale\\ML - Soccer\\BothToScore\\..\\lib\\Utility.py:288: RuntimeWarning: invalid value encountered in scalar divide\n",
      "  accuracy_class_1 = cm[1, 1] / (cm[0, 1] + cm[1, 1])\n",
      "c:\\Users\\vitto\\OneDrive\\Desktop\\Personale\\ML - Soccer\\BothToScore\\..\\lib\\Utility.py:288: RuntimeWarning: invalid value encountered in scalar divide\n",
      "  accuracy_class_1 = cm[1, 1] / (cm[0, 1] + cm[1, 1])\n",
      "c:\\Users\\vitto\\OneDrive\\Desktop\\Personale\\ML - Soccer\\BothToScore\\..\\lib\\Utility.py:288: RuntimeWarning: invalid value encountered in scalar divide\n",
      "  accuracy_class_1 = cm[1, 1] / (cm[0, 1] + cm[1, 1])\n"
     ]
    },
    {
     "name": "stdout",
     "output_type": "stream",
     "text": [
      "25 17:43:07 32.62 Trying with following combo ('AwayDraws',)\n",
      "25 17:43:07 32.62 Trying with following combo ('AwayDraws',)\n"
     ]
    },
    {
     "name": "stderr",
     "output_type": "stream",
     "text": [
      "c:\\Users\\vitto\\OneDrive\\Desktop\\Personale\\ML - Soccer\\BothToScore\\..\\lib\\Utility.py:288: RuntimeWarning: invalid value encountered in scalar divide\n",
      "  accuracy_class_1 = cm[1, 1] / (cm[0, 1] + cm[1, 1])\n",
      "c:\\Users\\vitto\\OneDrive\\Desktop\\Personale\\ML - Soccer\\BothToScore\\..\\lib\\Utility.py:288: RuntimeWarning: invalid value encountered in scalar divide\n",
      "  accuracy_class_1 = cm[1, 1] / (cm[0, 1] + cm[1, 1])\n",
      "c:\\Users\\vitto\\OneDrive\\Desktop\\Personale\\ML - Soccer\\BothToScore\\..\\lib\\Utility.py:288: RuntimeWarning: invalid value encountered in scalar divide\n",
      "  accuracy_class_1 = cm[1, 1] / (cm[0, 1] + cm[1, 1])\n",
      "c:\\Users\\vitto\\OneDrive\\Desktop\\Personale\\ML - Soccer\\BothToScore\\..\\lib\\Utility.py:288: RuntimeWarning: invalid value encountered in scalar divide\n",
      "  accuracy_class_1 = cm[1, 1] / (cm[0, 1] + cm[1, 1])\n"
     ]
    },
    {
     "name": "stdout",
     "output_type": "stream",
     "text": [
      "26 17:43:08 32.62 Trying with following combo ('AwayLosses',)\n",
      "26 17:43:08 32.62 Trying with following combo ('AwayLosses',)\n"
     ]
    },
    {
     "name": "stderr",
     "output_type": "stream",
     "text": [
      "c:\\Users\\vitto\\OneDrive\\Desktop\\Personale\\ML - Soccer\\BothToScore\\..\\lib\\Utility.py:288: RuntimeWarning: invalid value encountered in scalar divide\n",
      "  accuracy_class_1 = cm[1, 1] / (cm[0, 1] + cm[1, 1])\n",
      "c:\\Users\\vitto\\OneDrive\\Desktop\\Personale\\ML - Soccer\\BothToScore\\..\\lib\\Utility.py:288: RuntimeWarning: invalid value encountered in scalar divide\n",
      "  accuracy_class_1 = cm[1, 1] / (cm[0, 1] + cm[1, 1])\n",
      "c:\\Users\\vitto\\OneDrive\\Desktop\\Personale\\ML - Soccer\\BothToScore\\..\\lib\\Utility.py:288: RuntimeWarning: invalid value encountered in scalar divide\n",
      "  accuracy_class_1 = cm[1, 1] / (cm[0, 1] + cm[1, 1])\n",
      "c:\\Users\\vitto\\OneDrive\\Desktop\\Personale\\ML - Soccer\\BothToScore\\..\\lib\\Utility.py:288: RuntimeWarning: invalid value encountered in scalar divide\n",
      "  accuracy_class_1 = cm[1, 1] / (cm[0, 1] + cm[1, 1])\n"
     ]
    },
    {
     "name": "stdout",
     "output_type": "stream",
     "text": [
      "27 17:43:09 32.17 Trying with following combo ('UltimoScontroDiretto',)\n",
      "27 17:43:09 32.17 Trying with following combo ('UltimoScontroDiretto',)\n"
     ]
    },
    {
     "name": "stderr",
     "output_type": "stream",
     "text": [
      "c:\\Users\\vitto\\OneDrive\\Desktop\\Personale\\ML - Soccer\\BothToScore\\..\\lib\\Utility.py:288: RuntimeWarning: invalid value encountered in scalar divide\n",
      "  accuracy_class_1 = cm[1, 1] / (cm[0, 1] + cm[1, 1])\n",
      "c:\\Users\\vitto\\OneDrive\\Desktop\\Personale\\ML - Soccer\\BothToScore\\..\\lib\\Utility.py:288: RuntimeWarning: invalid value encountered in scalar divide\n",
      "  accuracy_class_1 = cm[1, 1] / (cm[0, 1] + cm[1, 1])\n",
      "c:\\Users\\vitto\\OneDrive\\Desktop\\Personale\\ML - Soccer\\BothToScore\\..\\lib\\Utility.py:288: RuntimeWarning: invalid value encountered in scalar divide\n",
      "  accuracy_class_1 = cm[1, 1] / (cm[0, 1] + cm[1, 1])\n",
      "c:\\Users\\vitto\\OneDrive\\Desktop\\Personale\\ML - Soccer\\BothToScore\\..\\lib\\Utility.py:288: RuntimeWarning: invalid value encountered in scalar divide\n",
      "  accuracy_class_1 = cm[1, 1] / (cm[0, 1] + cm[1, 1])\n"
     ]
    },
    {
     "name": "stdout",
     "output_type": "stream",
     "text": [
      "28 17:43:10 42.61 Trying with following combo ('Last3PointsDifference',)\n",
      "28 17:43:10 42.61 Trying with following combo ('Last3PointsDifference',)\n",
      "29 17:43:12 45.58 Trying with following combo ('GoalRatioDifference',)\n",
      "29 17:43:12 47.31 Trying with following combo ('GoalRatioDifference',)\n",
      "30 17:43:14 33.98 Trying with following combo ('EwmaGoalsSum',)\n",
      "30 17:43:14 35.5 Trying with following combo ('EwmaGoalsSum',)\n",
      "31 17:43:15 32.68 Trying with following combo ('GoalsSum',)\n",
      "31 17:43:15 33.99 Trying with following combo ('GoalsSum',)\n",
      "32 17:43:16 46.6 Trying with following combo ('HomePointGap',)\n",
      "32 17:43:16 47.41 Trying with following combo ('HomePointGap',)\n",
      "33 17:43:17 46.6 Trying with following combo ('AwayPointGap',)\n",
      "33 17:43:17 47.41 Trying with following combo ('AwayPointGap',)\n",
      "34 17:43:18 45.01 Trying with following combo ('HomeGoalGap',)\n",
      "34 17:43:18 46.12 Trying with following combo ('HomeGoalGap',)\n",
      "35 17:43:19 45.01 Trying with following combo ('AwayGoalGap',)\n",
      "35 17:43:20 46.12 Trying with following combo ('AwayGoalGap',)\n",
      "36 17:43:22 33.04 Trying with following combo ('feat1',)\n",
      "36 17:43:22 33.14 Trying with following combo ('feat1',)\n"
     ]
    },
    {
     "name": "stderr",
     "output_type": "stream",
     "text": [
      "c:\\Users\\vitto\\OneDrive\\Desktop\\Personale\\ML - Soccer\\BothToScore\\..\\lib\\Utility.py:288: RuntimeWarning: invalid value encountered in scalar divide\n",
      "  accuracy_class_1 = cm[1, 1] / (cm[0, 1] + cm[1, 1])\n",
      "c:\\Users\\vitto\\OneDrive\\Desktop\\Personale\\ML - Soccer\\BothToScore\\..\\lib\\Utility.py:288: RuntimeWarning: invalid value encountered in scalar divide\n",
      "  accuracy_class_1 = cm[1, 1] / (cm[0, 1] + cm[1, 1])\n"
     ]
    },
    {
     "name": "stdout",
     "output_type": "stream",
     "text": [
      "37 17:43:23 33.04 Trying with following combo ('feat2',)\n",
      "37 17:43:23 33.1 Trying with following combo ('feat2',)\n"
     ]
    },
    {
     "name": "stderr",
     "output_type": "stream",
     "text": [
      "c:\\Users\\vitto\\OneDrive\\Desktop\\Personale\\ML - Soccer\\BothToScore\\..\\lib\\Utility.py:288: RuntimeWarning: invalid value encountered in scalar divide\n",
      "  accuracy_class_1 = cm[1, 1] / (cm[0, 1] + cm[1, 1])\n",
      "c:\\Users\\vitto\\OneDrive\\Desktop\\Personale\\ML - Soccer\\BothToScore\\..\\lib\\Utility.py:288: RuntimeWarning: invalid value encountered in scalar divide\n",
      "  accuracy_class_1 = cm[1, 1] / (cm[0, 1] + cm[1, 1])\n"
     ]
    },
    {
     "name": "stdout",
     "output_type": "stream",
     "text": [
      "38 17:43:24 32.62 Trying with following combo ('FormDiff',)\n",
      "38 17:43:24 33.12 Trying with following combo ('FormDiff',)\n"
     ]
    },
    {
     "name": "stderr",
     "output_type": "stream",
     "text": [
      "c:\\Users\\vitto\\OneDrive\\Desktop\\Personale\\ML - Soccer\\BothToScore\\..\\lib\\Utility.py:288: RuntimeWarning: invalid value encountered in scalar divide\n",
      "  accuracy_class_1 = cm[1, 1] / (cm[0, 1] + cm[1, 1])\n",
      "c:\\Users\\vitto\\OneDrive\\Desktop\\Personale\\ML - Soccer\\BothToScore\\..\\lib\\Utility.py:288: RuntimeWarning: invalid value encountered in scalar divide\n",
      "  accuracy_class_1 = cm[1, 1] / (cm[0, 1] + cm[1, 1])\n"
     ]
    },
    {
     "name": "stdout",
     "output_type": "stream",
     "text": [
      "39 17:43:25 32.62 Trying with following combo ('RecentFormDiff',)\n",
      "39 17:43:25 33.1 Trying with following combo ('RecentFormDiff',)\n"
     ]
    },
    {
     "name": "stderr",
     "output_type": "stream",
     "text": [
      "c:\\Users\\vitto\\OneDrive\\Desktop\\Personale\\ML - Soccer\\BothToScore\\..\\lib\\Utility.py:288: RuntimeWarning: invalid value encountered in scalar divide\n",
      "  accuracy_class_1 = cm[1, 1] / (cm[0, 1] + cm[1, 1])\n",
      "c:\\Users\\vitto\\OneDrive\\Desktop\\Personale\\ML - Soccer\\BothToScore\\..\\lib\\Utility.py:288: RuntimeWarning: invalid value encountered in scalar divide\n",
      "  accuracy_class_1 = cm[1, 1] / (cm[0, 1] + cm[1, 1])\n"
     ]
    },
    {
     "name": "stdout",
     "output_type": "stream",
     "text": [
      "40 17:43:26 32.71 Trying with following combo ('GoalCumulativeSum',)\n",
      "40 17:43:26 33.34 Trying with following combo ('GoalCumulativeSum',)\n",
      "41 17:43:27 60.05 Trying with following combo ('ATW_LogRegPred',)\n",
      "41 17:43:27 60.05 Trying with following combo ('ATW_LogRegPred',)\n",
      "42 17:43:29 32.62 Trying with following combo ('EloDiff', 'PointsDifference')\n",
      "42 17:43:29 32.63 Trying with following combo ('EloDiff', 'PointsDifference')\n"
     ]
    },
    {
     "name": "stderr",
     "output_type": "stream",
     "text": [
      "c:\\Users\\vitto\\OneDrive\\Desktop\\Personale\\ML - Soccer\\BothToScore\\..\\lib\\Utility.py:288: RuntimeWarning: invalid value encountered in scalar divide\n",
      "  accuracy_class_1 = cm[1, 1] / (cm[0, 1] + cm[1, 1])\n",
      "c:\\Users\\vitto\\OneDrive\\Desktop\\Personale\\ML - Soccer\\BothToScore\\..\\lib\\Utility.py:288: RuntimeWarning: invalid value encountered in scalar divide\n",
      "  accuracy_class_1 = cm[1, 1] / (cm[0, 1] + cm[1, 1])\n"
     ]
    },
    {
     "name": "stdout",
     "output_type": "stream",
     "text": [
      "43 17:43:30 41.36 Trying with following combo ('EloDiff', 'HomeGoalsRatio')\n",
      "43 17:43:31 39.98 Trying with following combo ('EloDiff', 'HomeGoalsRatio')\n",
      "44 17:43:32 41.13 Trying with following combo ('EloDiff', 'AwayGoalsRatio')\n",
      "44 17:43:32 42.46 Trying with following combo ('EloDiff', 'AwayGoalsRatio')\n",
      "45 17:43:34 44.75 Trying with following combo ('EloDiff', 'GoalsDifference')\n",
      "45 17:43:34 44.11 Trying with following combo ('EloDiff', 'GoalsDifference')\n",
      "46 17:43:36 32.62 Trying with following combo ('EloDiff', 'ConcededGoalsDifference')\n",
      "46 17:43:36 32.62 Trying with following combo ('EloDiff', 'ConcededGoalsDifference')\n"
     ]
    },
    {
     "name": "stderr",
     "output_type": "stream",
     "text": [
      "c:\\Users\\vitto\\OneDrive\\Desktop\\Personale\\ML - Soccer\\BothToScore\\..\\lib\\Utility.py:288: RuntimeWarning: invalid value encountered in scalar divide\n",
      "  accuracy_class_1 = cm[1, 1] / (cm[0, 1] + cm[1, 1])\n",
      "c:\\Users\\vitto\\OneDrive\\Desktop\\Personale\\ML - Soccer\\BothToScore\\..\\lib\\Utility.py:288: RuntimeWarning: invalid value encountered in scalar divide\n",
      "  accuracy_class_1 = cm[1, 1] / (cm[0, 1] + cm[1, 1])\n",
      "c:\\Users\\vitto\\OneDrive\\Desktop\\Personale\\ML - Soccer\\BothToScore\\..\\lib\\Utility.py:288: RuntimeWarning: invalid value encountered in scalar divide\n",
      "  accuracy_class_1 = cm[1, 1] / (cm[0, 1] + cm[1, 1])\n",
      "c:\\Users\\vitto\\OneDrive\\Desktop\\Personale\\ML - Soccer\\BothToScore\\..\\lib\\Utility.py:288: RuntimeWarning: invalid value encountered in scalar divide\n",
      "  accuracy_class_1 = cm[1, 1] / (cm[0, 1] + cm[1, 1])\n"
     ]
    },
    {
     "name": "stdout",
     "output_type": "stream",
     "text": [
      "47 17:43:37 34.71 Trying with following combo ('EloDiff', 'GoalsAvgSum')\n",
      "47 17:43:37 33.53 Trying with following combo ('EloDiff', 'GoalsAvgSum')\n",
      "48 17:43:39 32.65 Trying with following combo ('EloDiff', 'RecentFormRatio')\n",
      "48 17:43:39 32.86 Trying with following combo ('EloDiff', 'RecentFormRatio')\n"
     ]
    },
    {
     "name": "stderr",
     "output_type": "stream",
     "text": [
      "c:\\Users\\vitto\\OneDrive\\Desktop\\Personale\\ML - Soccer\\BothToScore\\..\\lib\\Utility.py:288: RuntimeWarning: invalid value encountered in scalar divide\n",
      "  accuracy_class_1 = cm[1, 1] / (cm[0, 1] + cm[1, 1])\n",
      "c:\\Users\\vitto\\OneDrive\\Desktop\\Personale\\ML - Soccer\\BothToScore\\..\\lib\\Utility.py:288: RuntimeWarning: invalid value encountered in scalar divide\n",
      "  accuracy_class_1 = cm[1, 1] / (cm[0, 1] + cm[1, 1])\n"
     ]
    },
    {
     "name": "stdout",
     "output_type": "stream",
     "text": [
      "49 17:43:41 46.74 Trying with following combo ('EloDiff', 'EloRatio')\n",
      "49 17:43:42 46.69 Trying with following combo ('EloDiff', 'EloRatio')\n",
      "50 17:43:43 38.48 Trying with following combo ('EloDiff', 'HomeLast3Points')\n",
      "50 17:43:43 36.74 Trying with following combo ('EloDiff', 'HomeLast3Points')\n",
      "51 17:43:45 32.68 Trying with following combo ('EloDiff', 'HomeAvgGoalsScored')\n",
      "51 17:43:45 33.97 Trying with following combo ('EloDiff', 'HomeAvgGoalsScored')\n",
      "52 17:43:46 40.17 Trying with following combo ('EloDiff', 'HomeAvgGoalsConceded')\n",
      "52 17:43:47 37.86 Trying with following combo ('EloDiff', 'HomeAvgGoalsConceded')\n",
      "53 17:43:49 39.33 Trying with following combo ('EloDiff', 'HomeEwmaPoints')\n",
      "53 17:43:49 37.05 Trying with following combo ('EloDiff', 'HomeEwmaPoints')\n",
      "54 17:43:51 32.72 Trying with following combo ('EloDiff', 'HomeEwmaGoalsScored')\n",
      "54 17:43:51 34.37 Trying with following combo ('EloDiff', 'HomeEwmaGoalsScored')\n",
      "55 17:43:53 40.24 Trying with following combo ('EloDiff', 'HomeEwmaGoalsConceded')\n",
      "55 17:43:53 39.13 Trying with following combo ('EloDiff', 'HomeEwmaGoalsConceded')\n",
      "56 17:43:55 37.44 Trying with following combo ('EloDiff', 'AwayLast3Points')\n",
      "56 17:43:55 36.45 Trying with following combo ('EloDiff', 'AwayLast3Points')\n",
      "57 17:43:56 39.34 Trying with following combo ('EloDiff', 'AwayAvgGoalsScored')\n",
      "57 17:43:56 37.91 Trying with following combo ('EloDiff', 'AwayAvgGoalsScored')\n",
      "58 17:43:58 32.66 Trying with following combo ('EloDiff', 'AwayAvgGoalsConceded')\n",
      "58 17:43:58 34.88 Trying with following combo ('EloDiff', 'AwayAvgGoalsConceded')\n",
      "59 17:44:00 38.92 Trying with following combo ('EloDiff', 'AwayEwmaPoints')\n",
      "59 17:44:00 37.1 Trying with following combo ('EloDiff', 'AwayEwmaPoints')\n",
      "60 17:44:02 39.33 Trying with following combo ('EloDiff', 'AwayEwmaGoalsScored')\n",
      "60 17:44:02 38.14 Trying with following combo ('EloDiff', 'AwayEwmaGoalsScored')\n",
      "61 17:44:05 32.69 Trying with following combo ('EloDiff', 'AwayEwmaGoalsConceded')\n",
      "61 17:44:05 34.85 Trying with following combo ('EloDiff', 'AwayEwmaGoalsConceded')\n",
      "62 17:44:07 32.62 Trying with following combo ('EloDiff', 'HomeWins')\n",
      "62 17:44:07 32.62 Trying with following combo ('EloDiff', 'HomeWins')\n"
     ]
    },
    {
     "name": "stderr",
     "output_type": "stream",
     "text": [
      "c:\\Users\\vitto\\OneDrive\\Desktop\\Personale\\ML - Soccer\\BothToScore\\..\\lib\\Utility.py:288: RuntimeWarning: invalid value encountered in scalar divide\n",
      "  accuracy_class_1 = cm[1, 1] / (cm[0, 1] + cm[1, 1])\n",
      "c:\\Users\\vitto\\OneDrive\\Desktop\\Personale\\ML - Soccer\\BothToScore\\..\\lib\\Utility.py:288: RuntimeWarning: invalid value encountered in scalar divide\n",
      "  accuracy_class_1 = cm[1, 1] / (cm[0, 1] + cm[1, 1])\n",
      "c:\\Users\\vitto\\OneDrive\\Desktop\\Personale\\ML - Soccer\\BothToScore\\..\\lib\\Utility.py:288: RuntimeWarning: invalid value encountered in scalar divide\n",
      "  accuracy_class_1 = cm[1, 1] / (cm[0, 1] + cm[1, 1])\n",
      "c:\\Users\\vitto\\OneDrive\\Desktop\\Personale\\ML - Soccer\\BothToScore\\..\\lib\\Utility.py:288: RuntimeWarning: invalid value encountered in scalar divide\n",
      "  accuracy_class_1 = cm[1, 1] / (cm[0, 1] + cm[1, 1])\n"
     ]
    },
    {
     "name": "stdout",
     "output_type": "stream",
     "text": [
      "63 17:44:10 32.62 Trying with following combo ('EloDiff', 'HomeDraws')\n",
      "63 17:44:10 32.62 Trying with following combo ('EloDiff', 'HomeDraws')\n"
     ]
    },
    {
     "name": "stderr",
     "output_type": "stream",
     "text": [
      "c:\\Users\\vitto\\OneDrive\\Desktop\\Personale\\ML - Soccer\\BothToScore\\..\\lib\\Utility.py:288: RuntimeWarning: invalid value encountered in scalar divide\n",
      "  accuracy_class_1 = cm[1, 1] / (cm[0, 1] + cm[1, 1])\n",
      "c:\\Users\\vitto\\OneDrive\\Desktop\\Personale\\ML - Soccer\\BothToScore\\..\\lib\\Utility.py:288: RuntimeWarning: invalid value encountered in scalar divide\n",
      "  accuracy_class_1 = cm[1, 1] / (cm[0, 1] + cm[1, 1])\n",
      "c:\\Users\\vitto\\OneDrive\\Desktop\\Personale\\ML - Soccer\\BothToScore\\..\\lib\\Utility.py:288: RuntimeWarning: invalid value encountered in scalar divide\n",
      "  accuracy_class_1 = cm[1, 1] / (cm[0, 1] + cm[1, 1])\n",
      "c:\\Users\\vitto\\OneDrive\\Desktop\\Personale\\ML - Soccer\\BothToScore\\..\\lib\\Utility.py:288: RuntimeWarning: invalid value encountered in scalar divide\n",
      "  accuracy_class_1 = cm[1, 1] / (cm[0, 1] + cm[1, 1])\n"
     ]
    },
    {
     "name": "stdout",
     "output_type": "stream",
     "text": [
      "64 17:44:12 32.62 Trying with following combo ('EloDiff', 'HomeLosses')\n",
      "64 17:44:12 32.66 Trying with following combo ('EloDiff', 'HomeLosses')\n"
     ]
    },
    {
     "name": "stderr",
     "output_type": "stream",
     "text": [
      "c:\\Users\\vitto\\OneDrive\\Desktop\\Personale\\ML - Soccer\\BothToScore\\..\\lib\\Utility.py:288: RuntimeWarning: invalid value encountered in scalar divide\n",
      "  accuracy_class_1 = cm[1, 1] / (cm[0, 1] + cm[1, 1])\n",
      "c:\\Users\\vitto\\OneDrive\\Desktop\\Personale\\ML - Soccer\\BothToScore\\..\\lib\\Utility.py:288: RuntimeWarning: invalid value encountered in scalar divide\n",
      "  accuracy_class_1 = cm[1, 1] / (cm[0, 1] + cm[1, 1])\n"
     ]
    },
    {
     "name": "stdout",
     "output_type": "stream",
     "text": [
      "65 17:44:14 32.62 Trying with following combo ('EloDiff', 'AwayWins')\n",
      "65 17:44:14 32.66 Trying with following combo ('EloDiff', 'AwayWins')\n"
     ]
    },
    {
     "name": "stderr",
     "output_type": "stream",
     "text": [
      "c:\\Users\\vitto\\OneDrive\\Desktop\\Personale\\ML - Soccer\\BothToScore\\..\\lib\\Utility.py:288: RuntimeWarning: invalid value encountered in scalar divide\n",
      "  accuracy_class_1 = cm[1, 1] / (cm[0, 1] + cm[1, 1])\n",
      "c:\\Users\\vitto\\OneDrive\\Desktop\\Personale\\ML - Soccer\\BothToScore\\..\\lib\\Utility.py:288: RuntimeWarning: invalid value encountered in scalar divide\n",
      "  accuracy_class_1 = cm[1, 1] / (cm[0, 1] + cm[1, 1])\n"
     ]
    },
    {
     "name": "stdout",
     "output_type": "stream",
     "text": [
      "66 17:44:16 32.62 Trying with following combo ('EloDiff', 'AwayDraws')\n",
      "66 17:44:16 32.62 Trying with following combo ('EloDiff', 'AwayDraws')\n"
     ]
    },
    {
     "name": "stderr",
     "output_type": "stream",
     "text": [
      "c:\\Users\\vitto\\OneDrive\\Desktop\\Personale\\ML - Soccer\\BothToScore\\..\\lib\\Utility.py:288: RuntimeWarning: invalid value encountered in scalar divide\n",
      "  accuracy_class_1 = cm[1, 1] / (cm[0, 1] + cm[1, 1])\n",
      "c:\\Users\\vitto\\OneDrive\\Desktop\\Personale\\ML - Soccer\\BothToScore\\..\\lib\\Utility.py:288: RuntimeWarning: invalid value encountered in scalar divide\n",
      "  accuracy_class_1 = cm[1, 1] / (cm[0, 1] + cm[1, 1])\n",
      "c:\\Users\\vitto\\OneDrive\\Desktop\\Personale\\ML - Soccer\\BothToScore\\..\\lib\\Utility.py:288: RuntimeWarning: invalid value encountered in scalar divide\n",
      "  accuracy_class_1 = cm[1, 1] / (cm[0, 1] + cm[1, 1])\n",
      "c:\\Users\\vitto\\OneDrive\\Desktop\\Personale\\ML - Soccer\\BothToScore\\..\\lib\\Utility.py:288: RuntimeWarning: invalid value encountered in scalar divide\n",
      "  accuracy_class_1 = cm[1, 1] / (cm[0, 1] + cm[1, 1])\n"
     ]
    },
    {
     "name": "stdout",
     "output_type": "stream",
     "text": [
      "67 17:44:18 32.62 Trying with following combo ('EloDiff', 'AwayLosses')\n",
      "67 17:44:18 32.63 Trying with following combo ('EloDiff', 'AwayLosses')\n"
     ]
    },
    {
     "name": "stderr",
     "output_type": "stream",
     "text": [
      "c:\\Users\\vitto\\OneDrive\\Desktop\\Personale\\ML - Soccer\\BothToScore\\..\\lib\\Utility.py:288: RuntimeWarning: invalid value encountered in scalar divide\n",
      "  accuracy_class_1 = cm[1, 1] / (cm[0, 1] + cm[1, 1])\n",
      "c:\\Users\\vitto\\OneDrive\\Desktop\\Personale\\ML - Soccer\\BothToScore\\..\\lib\\Utility.py:288: RuntimeWarning: invalid value encountered in scalar divide\n",
      "  accuracy_class_1 = cm[1, 1] / (cm[0, 1] + cm[1, 1])\n"
     ]
    },
    {
     "name": "stdout",
     "output_type": "stream",
     "text": [
      "68 17:44:19 32.18 Trying with following combo ('EloDiff', 'UltimoScontroDiretto')\n",
      "68 17:44:19 37.81 Trying with following combo ('EloDiff', 'UltimoScontroDiretto')\n",
      "69 17:44:21 42.01 Trying with following combo ('EloDiff', 'Last3PointsDifference')\n",
      "69 17:44:21 39.63 Trying with following combo ('EloDiff', 'Last3PointsDifference')\n",
      "70 17:44:23 45.49 Trying with following combo ('EloDiff', 'GoalRatioDifference')\n",
      "70 17:44:23 45.88 Trying with following combo ('EloDiff', 'GoalRatioDifference')\n",
      "71 17:44:26 34.15 Trying with following combo ('EloDiff', 'EwmaGoalsSum')\n",
      "71 17:44:26 32.88 Trying with following combo ('EloDiff', 'EwmaGoalsSum')\n",
      "72 17:44:28 32.7 Trying with following combo ('EloDiff', 'GoalsSum')\n",
      "72 17:44:28 33.07 Trying with following combo ('EloDiff', 'GoalsSum')\n",
      "73 17:44:29 45.97 Trying with following combo ('EloDiff', 'HomePointGap')\n",
      "73 17:44:29 46.19 Trying with following combo ('EloDiff', 'HomePointGap')\n",
      "74 17:44:31 45.97 Trying with following combo ('EloDiff', 'AwayPointGap')\n",
      "74 17:44:31 46.19 Trying with following combo ('EloDiff', 'AwayPointGap')\n",
      "75 17:44:33 44.75 Trying with following combo ('EloDiff', 'HomeGoalGap')\n",
      "75 17:44:33 44.11 Trying with following combo ('EloDiff', 'HomeGoalGap')\n",
      "76 17:44:35 44.75 Trying with following combo ('EloDiff', 'AwayGoalGap')\n",
      "76 17:44:35 44.0 Trying with following combo ('EloDiff', 'AwayGoalGap')\n",
      "77 17:44:37 33.04 Trying with following combo ('EloDiff', 'feat1')\n",
      "77 17:44:37 33.14 Trying with following combo ('EloDiff', 'feat1')\n"
     ]
    },
    {
     "name": "stderr",
     "output_type": "stream",
     "text": [
      "c:\\Users\\vitto\\OneDrive\\Desktop\\Personale\\ML - Soccer\\BothToScore\\..\\lib\\Utility.py:288: RuntimeWarning: invalid value encountered in scalar divide\n",
      "  accuracy_class_1 = cm[1, 1] / (cm[0, 1] + cm[1, 1])\n",
      "c:\\Users\\vitto\\OneDrive\\Desktop\\Personale\\ML - Soccer\\BothToScore\\..\\lib\\Utility.py:288: RuntimeWarning: invalid value encountered in scalar divide\n",
      "  accuracy_class_1 = cm[1, 1] / (cm[0, 1] + cm[1, 1])\n"
     ]
    },
    {
     "name": "stdout",
     "output_type": "stream",
     "text": [
      "78 17:44:38 33.04 Trying with following combo ('EloDiff', 'feat2')\n",
      "78 17:44:38 33.1 Trying with following combo ('EloDiff', 'feat2')\n"
     ]
    },
    {
     "name": "stderr",
     "output_type": "stream",
     "text": [
      "c:\\Users\\vitto\\OneDrive\\Desktop\\Personale\\ML - Soccer\\BothToScore\\..\\lib\\Utility.py:288: RuntimeWarning: invalid value encountered in scalar divide\n",
      "  accuracy_class_1 = cm[1, 1] / (cm[0, 1] + cm[1, 1])\n",
      "c:\\Users\\vitto\\OneDrive\\Desktop\\Personale\\ML - Soccer\\BothToScore\\..\\lib\\Utility.py:288: RuntimeWarning: invalid value encountered in scalar divide\n",
      "  accuracy_class_1 = cm[1, 1] / (cm[0, 1] + cm[1, 1])\n"
     ]
    },
    {
     "name": "stdout",
     "output_type": "stream",
     "text": [
      "79 17:44:40 32.62 Trying with following combo ('EloDiff', 'FormDiff')\n",
      "79 17:44:40 33.09 Trying with following combo ('EloDiff', 'FormDiff')\n"
     ]
    },
    {
     "name": "stderr",
     "output_type": "stream",
     "text": [
      "c:\\Users\\vitto\\OneDrive\\Desktop\\Personale\\ML - Soccer\\BothToScore\\..\\lib\\Utility.py:288: RuntimeWarning: invalid value encountered in scalar divide\n",
      "  accuracy_class_1 = cm[1, 1] / (cm[0, 1] + cm[1, 1])\n",
      "c:\\Users\\vitto\\OneDrive\\Desktop\\Personale\\ML - Soccer\\BothToScore\\..\\lib\\Utility.py:288: RuntimeWarning: invalid value encountered in scalar divide\n",
      "  accuracy_class_1 = cm[1, 1] / (cm[0, 1] + cm[1, 1])\n"
     ]
    },
    {
     "name": "stdout",
     "output_type": "stream",
     "text": [
      "80 17:44:42 32.62 Trying with following combo ('EloDiff', 'RecentFormDiff')\n",
      "80 17:44:42 32.98 Trying with following combo ('EloDiff', 'RecentFormDiff')\n"
     ]
    },
    {
     "name": "stderr",
     "output_type": "stream",
     "text": [
      "c:\\Users\\vitto\\OneDrive\\Desktop\\Personale\\ML - Soccer\\BothToScore\\..\\lib\\Utility.py:288: RuntimeWarning: invalid value encountered in scalar divide\n",
      "  accuracy_class_1 = cm[1, 1] / (cm[0, 1] + cm[1, 1])\n",
      "c:\\Users\\vitto\\OneDrive\\Desktop\\Personale\\ML - Soccer\\BothToScore\\..\\lib\\Utility.py:288: RuntimeWarning: invalid value encountered in scalar divide\n",
      "  accuracy_class_1 = cm[1, 1] / (cm[0, 1] + cm[1, 1])\n"
     ]
    },
    {
     "name": "stdout",
     "output_type": "stream",
     "text": [
      "81 17:44:43 32.75 Trying with following combo ('EloDiff', 'GoalCumulativeSum')\n",
      "81 17:44:44 32.95 Trying with following combo ('EloDiff', 'GoalCumulativeSum')\n",
      "82 17:44:45 46.98 Trying with following combo ('EloDiff', 'ATW_LogRegPred')\n",
      "82 17:44:45 46.56 Trying with following combo ('EloDiff', 'ATW_LogRegPred')\n",
      "83 17:44:47 40.89 Trying with following combo ('PointsDifference', 'HomeGoalsRatio')\n",
      "83 17:44:47 40.16 Trying with following combo ('PointsDifference', 'HomeGoalsRatio')\n",
      "84 17:44:48 40.97 Trying with following combo ('PointsDifference', 'AwayGoalsRatio')\n",
      "84 17:44:48 42.75 Trying with following combo ('PointsDifference', 'AwayGoalsRatio')\n",
      "85 17:44:49 44.79 Trying with following combo ('PointsDifference', 'GoalsDifference')\n",
      "85 17:44:49 44.6 Trying with following combo ('PointsDifference', 'GoalsDifference')\n",
      "86 17:44:50 32.62 Trying with following combo ('PointsDifference', 'ConcededGoalsDifference')\n",
      "86 17:44:50 32.61 Trying with following combo ('PointsDifference', 'ConcededGoalsDifference')\n"
     ]
    },
    {
     "name": "stderr",
     "output_type": "stream",
     "text": [
      "c:\\Users\\vitto\\OneDrive\\Desktop\\Personale\\ML - Soccer\\BothToScore\\..\\lib\\Utility.py:288: RuntimeWarning: invalid value encountered in scalar divide\n",
      "  accuracy_class_1 = cm[1, 1] / (cm[0, 1] + cm[1, 1])\n",
      "c:\\Users\\vitto\\OneDrive\\Desktop\\Personale\\ML - Soccer\\BothToScore\\..\\lib\\Utility.py:288: RuntimeWarning: invalid value encountered in scalar divide\n",
      "  accuracy_class_1 = cm[1, 1] / (cm[0, 1] + cm[1, 1])\n"
     ]
    },
    {
     "name": "stdout",
     "output_type": "stream",
     "text": [
      "87 17:44:51 34.68 Trying with following combo ('PointsDifference', 'GoalsAvgSum')\n",
      "87 17:44:51 33.63 Trying with following combo ('PointsDifference', 'GoalsAvgSum')\n",
      "88 17:44:52 32.65 Trying with following combo ('PointsDifference', 'RecentFormRatio')\n",
      "88 17:44:52 32.84 Trying with following combo ('PointsDifference', 'RecentFormRatio')\n"
     ]
    },
    {
     "name": "stderr",
     "output_type": "stream",
     "text": [
      "c:\\Users\\vitto\\OneDrive\\Desktop\\Personale\\ML - Soccer\\BothToScore\\..\\lib\\Utility.py:288: RuntimeWarning: invalid value encountered in scalar divide\n",
      "  accuracy_class_1 = cm[1, 1] / (cm[0, 1] + cm[1, 1])\n",
      "c:\\Users\\vitto\\OneDrive\\Desktop\\Personale\\ML - Soccer\\BothToScore\\..\\lib\\Utility.py:288: RuntimeWarning: invalid value encountered in scalar divide\n",
      "  accuracy_class_1 = cm[1, 1] / (cm[0, 1] + cm[1, 1])\n"
     ]
    },
    {
     "name": "stdout",
     "output_type": "stream",
     "text": [
      "89 17:44:54 46.65 Trying with following combo ('PointsDifference', 'EloRatio')\n",
      "89 17:44:54 46.61 Trying with following combo ('PointsDifference', 'EloRatio')\n",
      "90 17:44:55 38.29 Trying with following combo ('PointsDifference', 'HomeLast3Points')\n",
      "90 17:44:55 36.25 Trying with following combo ('PointsDifference', 'HomeLast3Points')\n",
      "91 17:44:56 32.62 Trying with following combo ('PointsDifference', 'HomeAvgGoalsScored')\n",
      "91 17:44:56 33.59 Trying with following combo ('PointsDifference', 'HomeAvgGoalsScored')\n"
     ]
    },
    {
     "name": "stderr",
     "output_type": "stream",
     "text": [
      "c:\\Users\\vitto\\OneDrive\\Desktop\\Personale\\ML - Soccer\\BothToScore\\..\\lib\\Utility.py:288: RuntimeWarning: invalid value encountered in scalar divide\n",
      "  accuracy_class_1 = cm[1, 1] / (cm[0, 1] + cm[1, 1])\n",
      "c:\\Users\\vitto\\OneDrive\\Desktop\\Personale\\ML - Soccer\\BothToScore\\..\\lib\\Utility.py:288: RuntimeWarning: invalid value encountered in scalar divide\n",
      "  accuracy_class_1 = cm[1, 1] / (cm[0, 1] + cm[1, 1])\n"
     ]
    },
    {
     "name": "stdout",
     "output_type": "stream",
     "text": [
      "92 17:44:57 40.09 Trying with following combo ('PointsDifference', 'HomeAvgGoalsConceded')\n",
      "92 17:44:57 37.29 Trying with following combo ('PointsDifference', 'HomeAvgGoalsConceded')\n",
      "93 17:44:58 39.06 Trying with following combo ('PointsDifference', 'HomeEwmaPoints')\n",
      "93 17:44:58 38.04 Trying with following combo ('PointsDifference', 'HomeEwmaPoints')\n",
      "94 17:45:00 32.64 Trying with following combo ('PointsDifference', 'HomeEwmaGoalsScored')\n",
      "94 17:45:00 34.17 Trying with following combo ('PointsDifference', 'HomeEwmaGoalsScored')\n",
      "95 17:45:01 40.14 Trying with following combo ('PointsDifference', 'HomeEwmaGoalsConceded')\n",
      "95 17:45:01 38.93 Trying with following combo ('PointsDifference', 'HomeEwmaGoalsConceded')\n",
      "96 17:45:02 37.48 Trying with following combo ('PointsDifference', 'AwayLast3Points')\n",
      "96 17:45:02 35.64 Trying with following combo ('PointsDifference', 'AwayLast3Points')\n",
      "97 17:45:03 39.68 Trying with following combo ('PointsDifference', 'AwayAvgGoalsScored')\n",
      "97 17:45:03 38.26 Trying with following combo ('PointsDifference', 'AwayAvgGoalsScored')\n",
      "98 17:45:04 32.62 Trying with following combo ('PointsDifference', 'AwayAvgGoalsConceded')\n",
      "98 17:45:04 33.54 Trying with following combo ('PointsDifference', 'AwayAvgGoalsConceded')\n"
     ]
    },
    {
     "name": "stderr",
     "output_type": "stream",
     "text": [
      "c:\\Users\\vitto\\OneDrive\\Desktop\\Personale\\ML - Soccer\\BothToScore\\..\\lib\\Utility.py:288: RuntimeWarning: invalid value encountered in scalar divide\n",
      "  accuracy_class_1 = cm[1, 1] / (cm[0, 1] + cm[1, 1])\n",
      "c:\\Users\\vitto\\OneDrive\\Desktop\\Personale\\ML - Soccer\\BothToScore\\..\\lib\\Utility.py:288: RuntimeWarning: invalid value encountered in scalar divide\n",
      "  accuracy_class_1 = cm[1, 1] / (cm[0, 1] + cm[1, 1])\n"
     ]
    },
    {
     "name": "stdout",
     "output_type": "stream",
     "text": [
      "99 17:45:06 38.8 Trying with following combo ('PointsDifference', 'AwayEwmaPoints')\n",
      "99 17:45:06 36.14 Trying with following combo ('PointsDifference', 'AwayEwmaPoints')\n",
      "100 17:45:07 39.33 Trying with following combo ('PointsDifference', 'AwayEwmaGoalsScored')\n",
      "100 17:45:07 38.35 Trying with following combo ('PointsDifference', 'AwayEwmaGoalsScored')\n",
      "101 17:45:09 32.62 Trying with following combo ('PointsDifference', 'AwayEwmaGoalsConceded')\n",
      "101 17:45:09 34.05 Trying with following combo ('PointsDifference', 'AwayEwmaGoalsConceded')\n"
     ]
    },
    {
     "name": "stderr",
     "output_type": "stream",
     "text": [
      "c:\\Users\\vitto\\OneDrive\\Desktop\\Personale\\ML - Soccer\\BothToScore\\..\\lib\\Utility.py:288: RuntimeWarning: invalid value encountered in scalar divide\n",
      "  accuracy_class_1 = cm[1, 1] / (cm[0, 1] + cm[1, 1])\n",
      "c:\\Users\\vitto\\OneDrive\\Desktop\\Personale\\ML - Soccer\\BothToScore\\..\\lib\\Utility.py:288: RuntimeWarning: invalid value encountered in scalar divide\n",
      "  accuracy_class_1 = cm[1, 1] / (cm[0, 1] + cm[1, 1])\n"
     ]
    },
    {
     "name": "stdout",
     "output_type": "stream",
     "text": [
      "102 17:45:10 32.62 Trying with following combo ('PointsDifference', 'HomeWins')\n",
      "102 17:45:10 32.64 Trying with following combo ('PointsDifference', 'HomeWins')\n"
     ]
    },
    {
     "name": "stderr",
     "output_type": "stream",
     "text": [
      "c:\\Users\\vitto\\OneDrive\\Desktop\\Personale\\ML - Soccer\\BothToScore\\..\\lib\\Utility.py:288: RuntimeWarning: invalid value encountered in scalar divide\n",
      "  accuracy_class_1 = cm[1, 1] / (cm[0, 1] + cm[1, 1])\n",
      "c:\\Users\\vitto\\OneDrive\\Desktop\\Personale\\ML - Soccer\\BothToScore\\..\\lib\\Utility.py:288: RuntimeWarning: invalid value encountered in scalar divide\n",
      "  accuracy_class_1 = cm[1, 1] / (cm[0, 1] + cm[1, 1])\n"
     ]
    },
    {
     "name": "stdout",
     "output_type": "stream",
     "text": [
      "103 17:45:11 32.62 Trying with following combo ('PointsDifference', 'HomeDraws')\n",
      "103 17:45:11 32.61 Trying with following combo ('PointsDifference', 'HomeDraws')\n"
     ]
    },
    {
     "name": "stderr",
     "output_type": "stream",
     "text": [
      "c:\\Users\\vitto\\OneDrive\\Desktop\\Personale\\ML - Soccer\\BothToScore\\..\\lib\\Utility.py:288: RuntimeWarning: invalid value encountered in scalar divide\n",
      "  accuracy_class_1 = cm[1, 1] / (cm[0, 1] + cm[1, 1])\n",
      "c:\\Users\\vitto\\OneDrive\\Desktop\\Personale\\ML - Soccer\\BothToScore\\..\\lib\\Utility.py:288: RuntimeWarning: invalid value encountered in scalar divide\n",
      "  accuracy_class_1 = cm[1, 1] / (cm[0, 1] + cm[1, 1])\n"
     ]
    },
    {
     "name": "stdout",
     "output_type": "stream",
     "text": [
      "104 17:45:12 32.62 Trying with following combo ('PointsDifference', 'HomeLosses')\n",
      "104 17:45:12 32.62 Trying with following combo ('PointsDifference', 'HomeLosses')\n"
     ]
    },
    {
     "name": "stderr",
     "output_type": "stream",
     "text": [
      "c:\\Users\\vitto\\OneDrive\\Desktop\\Personale\\ML - Soccer\\BothToScore\\..\\lib\\Utility.py:288: RuntimeWarning: invalid value encountered in scalar divide\n",
      "  accuracy_class_1 = cm[1, 1] / (cm[0, 1] + cm[1, 1])\n",
      "c:\\Users\\vitto\\OneDrive\\Desktop\\Personale\\ML - Soccer\\BothToScore\\..\\lib\\Utility.py:288: RuntimeWarning: invalid value encountered in scalar divide\n",
      "  accuracy_class_1 = cm[1, 1] / (cm[0, 1] + cm[1, 1])\n",
      "c:\\Users\\vitto\\OneDrive\\Desktop\\Personale\\ML - Soccer\\BothToScore\\..\\lib\\Utility.py:288: RuntimeWarning: invalid value encountered in scalar divide\n",
      "  accuracy_class_1 = cm[1, 1] / (cm[0, 1] + cm[1, 1])\n",
      "c:\\Users\\vitto\\OneDrive\\Desktop\\Personale\\ML - Soccer\\BothToScore\\..\\lib\\Utility.py:288: RuntimeWarning: invalid value encountered in scalar divide\n",
      "  accuracy_class_1 = cm[1, 1] / (cm[0, 1] + cm[1, 1])\n"
     ]
    },
    {
     "name": "stdout",
     "output_type": "stream",
     "text": [
      "105 17:45:13 32.62 Trying with following combo ('PointsDifference', 'AwayWins')\n",
      "105 17:45:13 32.62 Trying with following combo ('PointsDifference', 'AwayWins')\n"
     ]
    },
    {
     "name": "stderr",
     "output_type": "stream",
     "text": [
      "c:\\Users\\vitto\\OneDrive\\Desktop\\Personale\\ML - Soccer\\BothToScore\\..\\lib\\Utility.py:288: RuntimeWarning: invalid value encountered in scalar divide\n",
      "  accuracy_class_1 = cm[1, 1] / (cm[0, 1] + cm[1, 1])\n",
      "c:\\Users\\vitto\\OneDrive\\Desktop\\Personale\\ML - Soccer\\BothToScore\\..\\lib\\Utility.py:288: RuntimeWarning: invalid value encountered in scalar divide\n",
      "  accuracy_class_1 = cm[1, 1] / (cm[0, 1] + cm[1, 1])\n",
      "c:\\Users\\vitto\\OneDrive\\Desktop\\Personale\\ML - Soccer\\BothToScore\\..\\lib\\Utility.py:288: RuntimeWarning: invalid value encountered in scalar divide\n",
      "  accuracy_class_1 = cm[1, 1] / (cm[0, 1] + cm[1, 1])\n",
      "c:\\Users\\vitto\\OneDrive\\Desktop\\Personale\\ML - Soccer\\BothToScore\\..\\lib\\Utility.py:288: RuntimeWarning: invalid value encountered in scalar divide\n",
      "  accuracy_class_1 = cm[1, 1] / (cm[0, 1] + cm[1, 1])\n"
     ]
    },
    {
     "name": "stdout",
     "output_type": "stream",
     "text": [
      "106 17:45:14 32.62 Trying with following combo ('PointsDifference', 'AwayDraws')\n"
     ]
    },
    {
     "name": "stderr",
     "output_type": "stream",
     "text": [
      "c:\\Users\\vitto\\OneDrive\\Desktop\\Personale\\ML - Soccer\\BothToScore\\..\\lib\\Utility.py:288: RuntimeWarning: invalid value encountered in scalar divide\n",
      "  accuracy_class_1 = cm[1, 1] / (cm[0, 1] + cm[1, 1])\n",
      "c:\\Users\\vitto\\OneDrive\\Desktop\\Personale\\ML - Soccer\\BothToScore\\..\\lib\\Utility.py:288: RuntimeWarning: invalid value encountered in scalar divide\n",
      "  accuracy_class_1 = cm[1, 1] / (cm[0, 1] + cm[1, 1])\n"
     ]
    },
    {
     "name": "stdout",
     "output_type": "stream",
     "text": [
      "106 17:45:14 32.61 Trying with following combo ('PointsDifference', 'AwayDraws')\n",
      "107 17:45:15 32.62 Trying with following combo ('PointsDifference', 'AwayLosses')\n",
      "107 17:45:15 32.62 Trying with following combo ('PointsDifference', 'AwayLosses')\n"
     ]
    },
    {
     "name": "stderr",
     "output_type": "stream",
     "text": [
      "c:\\Users\\vitto\\OneDrive\\Desktop\\Personale\\ML - Soccer\\BothToScore\\..\\lib\\Utility.py:288: RuntimeWarning: invalid value encountered in scalar divide\n",
      "  accuracy_class_1 = cm[1, 1] / (cm[0, 1] + cm[1, 1])\n",
      "c:\\Users\\vitto\\OneDrive\\Desktop\\Personale\\ML - Soccer\\BothToScore\\..\\lib\\Utility.py:288: RuntimeWarning: invalid value encountered in scalar divide\n",
      "  accuracy_class_1 = cm[1, 1] / (cm[0, 1] + cm[1, 1])\n"
     ]
    },
    {
     "name": "stdout",
     "output_type": "stream",
     "text": [
      "108 17:45:16 32.17 Trying with following combo ('PointsDifference', 'UltimoScontroDiretto')\n",
      "108 17:45:16 36.2 Trying with following combo ('PointsDifference', 'UltimoScontroDiretto')\n"
     ]
    },
    {
     "name": "stderr",
     "output_type": "stream",
     "text": [
      "c:\\Users\\vitto\\OneDrive\\Desktop\\Personale\\ML - Soccer\\BothToScore\\..\\lib\\Utility.py:288: RuntimeWarning: invalid value encountered in scalar divide\n",
      "  accuracy_class_1 = cm[1, 1] / (cm[0, 1] + cm[1, 1])\n",
      "c:\\Users\\vitto\\OneDrive\\Desktop\\Personale\\ML - Soccer\\BothToScore\\..\\lib\\Utility.py:288: RuntimeWarning: invalid value encountered in scalar divide\n",
      "  accuracy_class_1 = cm[1, 1] / (cm[0, 1] + cm[1, 1])\n"
     ]
    },
    {
     "name": "stdout",
     "output_type": "stream",
     "text": [
      "109 17:45:17 42.21 Trying with following combo ('PointsDifference', 'Last3PointsDifference')\n",
      "109 17:45:17 39.39 Trying with following combo ('PointsDifference', 'Last3PointsDifference')\n",
      "110 17:45:19 45.51 Trying with following combo ('PointsDifference', 'GoalRatioDifference')\n",
      "110 17:45:19 46.04 Trying with following combo ('PointsDifference', 'GoalRatioDifference')\n",
      "111 17:45:20 34.08 Trying with following combo ('PointsDifference', 'EwmaGoalsSum')\n",
      "111 17:45:20 33.44 Trying with following combo ('PointsDifference', 'EwmaGoalsSum')\n",
      "112 17:45:21 32.68 Trying with following combo ('PointsDifference', 'GoalsSum')\n",
      "112 17:45:22 32.92 Trying with following combo ('PointsDifference', 'GoalsSum')\n",
      "113 17:45:22 45.41 Trying with following combo ('PointsDifference', 'HomePointGap')\n",
      "113 17:45:23 47.41 Trying with following combo ('PointsDifference', 'HomePointGap')\n",
      "114 17:45:24 45.41 Trying with following combo ('PointsDifference', 'AwayPointGap')\n",
      "114 17:45:24 47.41 Trying with following combo ('PointsDifference', 'AwayPointGap')\n",
      "115 17:45:25 44.79 Trying with following combo ('PointsDifference', 'HomeGoalGap')\n",
      "115 17:45:25 44.6 Trying with following combo ('PointsDifference', 'HomeGoalGap')\n",
      "116 17:45:26 44.79 Trying with following combo ('PointsDifference', 'AwayGoalGap')\n",
      "116 17:45:26 44.69 Trying with following combo ('PointsDifference', 'AwayGoalGap')\n",
      "117 17:45:27 33.04 Trying with following combo ('PointsDifference', 'feat1')\n",
      "117 17:45:27 33.16 Trying with following combo ('PointsDifference', 'feat1')\n"
     ]
    },
    {
     "name": "stderr",
     "output_type": "stream",
     "text": [
      "c:\\Users\\vitto\\OneDrive\\Desktop\\Personale\\ML - Soccer\\BothToScore\\..\\lib\\Utility.py:288: RuntimeWarning: invalid value encountered in scalar divide\n",
      "  accuracy_class_1 = cm[1, 1] / (cm[0, 1] + cm[1, 1])\n",
      "c:\\Users\\vitto\\OneDrive\\Desktop\\Personale\\ML - Soccer\\BothToScore\\..\\lib\\Utility.py:288: RuntimeWarning: invalid value encountered in scalar divide\n",
      "  accuracy_class_1 = cm[1, 1] / (cm[0, 1] + cm[1, 1])\n"
     ]
    },
    {
     "name": "stdout",
     "output_type": "stream",
     "text": [
      "118 17:45:28 33.04 Trying with following combo ('PointsDifference', 'feat2')\n",
      "118 17:45:28 33.09 Trying with following combo ('PointsDifference', 'feat2')\n"
     ]
    },
    {
     "name": "stderr",
     "output_type": "stream",
     "text": [
      "c:\\Users\\vitto\\OneDrive\\Desktop\\Personale\\ML - Soccer\\BothToScore\\..\\lib\\Utility.py:288: RuntimeWarning: invalid value encountered in scalar divide\n",
      "  accuracy_class_1 = cm[1, 1] / (cm[0, 1] + cm[1, 1])\n",
      "c:\\Users\\vitto\\OneDrive\\Desktop\\Personale\\ML - Soccer\\BothToScore\\..\\lib\\Utility.py:288: RuntimeWarning: invalid value encountered in scalar divide\n",
      "  accuracy_class_1 = cm[1, 1] / (cm[0, 1] + cm[1, 1])\n"
     ]
    },
    {
     "name": "stdout",
     "output_type": "stream",
     "text": [
      "119 17:45:29 32.62 Trying with following combo ('PointsDifference', 'FormDiff')\n",
      "119 17:45:29 33.17 Trying with following combo ('PointsDifference', 'FormDiff')\n"
     ]
    },
    {
     "name": "stderr",
     "output_type": "stream",
     "text": [
      "c:\\Users\\vitto\\OneDrive\\Desktop\\Personale\\ML - Soccer\\BothToScore\\..\\lib\\Utility.py:288: RuntimeWarning: invalid value encountered in scalar divide\n",
      "  accuracy_class_1 = cm[1, 1] / (cm[0, 1] + cm[1, 1])\n",
      "c:\\Users\\vitto\\OneDrive\\Desktop\\Personale\\ML - Soccer\\BothToScore\\..\\lib\\Utility.py:288: RuntimeWarning: invalid value encountered in scalar divide\n",
      "  accuracy_class_1 = cm[1, 1] / (cm[0, 1] + cm[1, 1])\n"
     ]
    },
    {
     "name": "stdout",
     "output_type": "stream",
     "text": [
      "120 17:45:30 32.62 Trying with following combo ('PointsDifference', 'RecentFormDiff')\n",
      "120 17:45:30 33.09 Trying with following combo ('PointsDifference', 'RecentFormDiff')\n"
     ]
    },
    {
     "name": "stderr",
     "output_type": "stream",
     "text": [
      "c:\\Users\\vitto\\OneDrive\\Desktop\\Personale\\ML - Soccer\\BothToScore\\..\\lib\\Utility.py:288: RuntimeWarning: invalid value encountered in scalar divide\n",
      "  accuracy_class_1 = cm[1, 1] / (cm[0, 1] + cm[1, 1])\n",
      "c:\\Users\\vitto\\OneDrive\\Desktop\\Personale\\ML - Soccer\\BothToScore\\..\\lib\\Utility.py:288: RuntimeWarning: invalid value encountered in scalar divide\n",
      "  accuracy_class_1 = cm[1, 1] / (cm[0, 1] + cm[1, 1])\n"
     ]
    },
    {
     "name": "stdout",
     "output_type": "stream",
     "text": [
      "121 17:45:31 32.68 Trying with following combo ('PointsDifference', 'GoalCumulativeSum')\n",
      "121 17:45:31 32.66 Trying with following combo ('PointsDifference', 'GoalCumulativeSum')\n",
      "122 17:45:32 47.29 Trying with following combo ('PointsDifference', 'ATW_LogRegPred')\n",
      "122 17:45:32 47.29 Trying with following combo ('PointsDifference', 'ATW_LogRegPred')\n",
      "123 17:45:34 45.39 Trying with following combo ('HomeGoalsRatio', 'AwayGoalsRatio')\n",
      "123 17:45:34 44.54 Trying with following combo ('HomeGoalsRatio', 'AwayGoalsRatio')\n",
      "124 17:45:35 45.71 Trying with following combo ('HomeGoalsRatio', 'GoalsDifference')\n",
      "124 17:45:35 44.26 Trying with following combo ('HomeGoalsRatio', 'GoalsDifference')\n",
      "125 17:45:36 39.57 Trying with following combo ('HomeGoalsRatio', 'ConcededGoalsDifference')\n",
      "125 17:45:37 40.98 Trying with following combo ('HomeGoalsRatio', 'ConcededGoalsDifference')\n",
      "126 17:45:38 41.96 Trying with following combo ('HomeGoalsRatio', 'GoalsAvgSum')\n",
      "126 17:45:38 41.44 Trying with following combo ('HomeGoalsRatio', 'GoalsAvgSum')\n",
      "127 17:45:39 38.19 Trying with following combo ('HomeGoalsRatio', 'RecentFormRatio')\n",
      "127 17:45:39 39.22 Trying with following combo ('HomeGoalsRatio', 'RecentFormRatio')\n",
      "128 17:45:41 47.88 Trying with following combo ('HomeGoalsRatio', 'EloRatio')\n",
      "128 17:45:41 46.67 Trying with following combo ('HomeGoalsRatio', 'EloRatio')\n",
      "129 17:45:42 40.42 Trying with following combo ('HomeGoalsRatio', 'HomeLast3Points')\n",
      "129 17:45:42 40.1 Trying with following combo ('HomeGoalsRatio', 'HomeLast3Points')\n",
      "130 17:45:43 38.49 Trying with following combo ('HomeGoalsRatio', 'HomeAvgGoalsScored')\n",
      "130 17:45:43 39.82 Trying with following combo ('HomeGoalsRatio', 'HomeAvgGoalsScored')\n",
      "131 17:45:44 42.26 Trying with following combo ('HomeGoalsRatio', 'HomeAvgGoalsConceded')\n",
      "131 17:45:44 42.6 Trying with following combo ('HomeGoalsRatio', 'HomeAvgGoalsConceded')\n",
      "132 17:45:46 40.77 Trying with following combo ('HomeGoalsRatio', 'HomeEwmaPoints')\n",
      "132 17:45:46 39.8 Trying with following combo ('HomeGoalsRatio', 'HomeEwmaPoints')\n",
      "133 17:45:48 38.25 Trying with following combo ('HomeGoalsRatio', 'HomeEwmaGoalsScored')\n",
      "133 17:45:48 39.79 Trying with following combo ('HomeGoalsRatio', 'HomeEwmaGoalsScored')\n",
      "134 17:45:50 42.19 Trying with following combo ('HomeGoalsRatio', 'HomeEwmaGoalsConceded')\n",
      "134 17:45:50 44.34 Trying with following combo ('HomeGoalsRatio', 'HomeEwmaGoalsConceded')\n",
      "135 17:45:51 43.57 Trying with following combo ('HomeGoalsRatio', 'AwayLast3Points')\n",
      "135 17:45:51 43.13 Trying with following combo ('HomeGoalsRatio', 'AwayLast3Points')\n",
      "136 17:45:52 44.09 Trying with following combo ('HomeGoalsRatio', 'AwayAvgGoalsScored')\n",
      "136 17:45:52 43.71 Trying with following combo ('HomeGoalsRatio', 'AwayAvgGoalsScored')\n",
      "137 17:45:54 40.03 Trying with following combo ('HomeGoalsRatio', 'AwayAvgGoalsConceded')\n",
      "137 17:45:54 38.81 Trying with following combo ('HomeGoalsRatio', 'AwayAvgGoalsConceded')\n",
      "138 17:45:55 44.34 Trying with following combo ('HomeGoalsRatio', 'AwayEwmaPoints')\n",
      "138 17:45:55 46.81 Trying with following combo ('HomeGoalsRatio', 'AwayEwmaPoints')\n",
      "139 17:45:57 44.69 Trying with following combo ('HomeGoalsRatio', 'AwayEwmaGoalsScored')\n",
      "139 17:45:57 43.11 Trying with following combo ('HomeGoalsRatio', 'AwayEwmaGoalsScored')\n",
      "140 17:45:59 40.61 Trying with following combo ('HomeGoalsRatio', 'AwayEwmaGoalsConceded')\n",
      "140 17:45:59 39.89 Trying with following combo ('HomeGoalsRatio', 'AwayEwmaGoalsConceded')\n",
      "141 17:46:00 38.24 Trying with following combo ('HomeGoalsRatio', 'HomeWins')\n",
      "141 17:46:01 40.47 Trying with following combo ('HomeGoalsRatio', 'HomeWins')\n",
      "142 17:46:02 38.35 Trying with following combo ('HomeGoalsRatio', 'HomeDraws')\n",
      "142 17:46:02 40.31 Trying with following combo ('HomeGoalsRatio', 'HomeDraws')\n",
      "143 17:46:03 38.37 Trying with following combo ('HomeGoalsRatio', 'HomeLosses')\n",
      "143 17:46:03 40.22 Trying with following combo ('HomeGoalsRatio', 'HomeLosses')\n",
      "144 17:46:04 38.37 Trying with following combo ('HomeGoalsRatio', 'AwayWins')\n",
      "144 17:46:04 40.22 Trying with following combo ('HomeGoalsRatio', 'AwayWins')\n",
      "145 17:46:05 38.35 Trying with following combo ('HomeGoalsRatio', 'AwayDraws')\n",
      "145 17:46:06 40.31 Trying with following combo ('HomeGoalsRatio', 'AwayDraws')\n",
      "146 17:46:07 38.23 Trying with following combo ('HomeGoalsRatio', 'AwayLosses')\n",
      "146 17:46:07 40.51 Trying with following combo ('HomeGoalsRatio', 'AwayLosses')\n",
      "147 17:46:08 43.48 Trying with following combo ('HomeGoalsRatio', 'UltimoScontroDiretto')\n",
      "147 17:46:08 40.92 Trying with following combo ('HomeGoalsRatio', 'UltimoScontroDiretto')\n",
      "148 17:46:09 43.94 Trying with following combo ('HomeGoalsRatio', 'Last3PointsDifference')\n",
      "148 17:46:09 43.38 Trying with following combo ('HomeGoalsRatio', 'Last3PointsDifference')\n",
      "149 17:46:11 45.39 Trying with following combo ('HomeGoalsRatio', 'GoalRatioDifference')\n",
      "149 17:46:11 47.14 Trying with following combo ('HomeGoalsRatio', 'GoalRatioDifference')\n",
      "150 17:46:13 41.81 Trying with following combo ('HomeGoalsRatio', 'EwmaGoalsSum')\n",
      "150 17:46:13 43.1 Trying with following combo ('HomeGoalsRatio', 'EwmaGoalsSum')\n",
      "151 17:46:14 39.3 Trying with following combo ('HomeGoalsRatio', 'GoalsSum')\n",
      "151 17:46:14 40.2 Trying with following combo ('HomeGoalsRatio', 'GoalsSum')\n",
      "152 17:46:15 46.3 Trying with following combo ('HomeGoalsRatio', 'HomePointGap')\n",
      "152 17:46:16 46.4 Trying with following combo ('HomeGoalsRatio', 'HomePointGap')\n",
      "153 17:46:17 46.3 Trying with following combo ('HomeGoalsRatio', 'AwayPointGap')\n",
      "153 17:46:17 46.34 Trying with following combo ('HomeGoalsRatio', 'AwayPointGap')\n",
      "154 17:46:18 45.71 Trying with following combo ('HomeGoalsRatio', 'HomeGoalGap')\n",
      "154 17:46:18 44.26 Trying with following combo ('HomeGoalsRatio', 'HomeGoalGap')\n",
      "155 17:46:19 45.71 Trying with following combo ('HomeGoalsRatio', 'AwayGoalGap')\n",
      "155 17:46:20 44.35 Trying with following combo ('HomeGoalsRatio', 'AwayGoalGap')\n",
      "156 17:46:21 36.53 Trying with following combo ('HomeGoalsRatio', 'feat1')\n",
      "156 17:46:21 39.64 Trying with following combo ('HomeGoalsRatio', 'feat1')\n",
      "157 17:46:23 43.52 Trying with following combo ('HomeGoalsRatio', 'feat2')\n",
      "157 17:46:23 38.94 Trying with following combo ('HomeGoalsRatio', 'feat2')\n",
      "158 17:46:24 38.27 Trying with following combo ('HomeGoalsRatio', 'FormDiff')\n",
      "158 17:46:24 39.18 Trying with following combo ('HomeGoalsRatio', 'FormDiff')\n",
      "159 17:46:25 38.27 Trying with following combo ('HomeGoalsRatio', 'RecentFormDiff')\n",
      "159 17:46:25 40.05 Trying with following combo ('HomeGoalsRatio', 'RecentFormDiff')\n",
      "160 17:46:26 41.19 Trying with following combo ('HomeGoalsRatio', 'GoalCumulativeSum')\n",
      "160 17:46:27 41.8 Trying with following combo ('HomeGoalsRatio', 'GoalCumulativeSum')\n",
      "161 17:46:28 50.79 Trying with following combo ('HomeGoalsRatio', 'ATW_LogRegPred')\n",
      "161 17:46:28 41.71 Trying with following combo ('HomeGoalsRatio', 'ATW_LogRegPred')\n",
      "162 17:46:30 45.77 Trying with following combo ('AwayGoalsRatio', 'GoalsDifference')\n",
      "162 17:46:30 44.0 Trying with following combo ('AwayGoalsRatio', 'GoalsDifference')\n",
      "163 17:46:31 41.43 Trying with following combo ('AwayGoalsRatio', 'ConcededGoalsDifference')\n",
      "163 17:46:31 41.76 Trying with following combo ('AwayGoalsRatio', 'ConcededGoalsDifference')\n",
      "164 17:46:33 42.94 Trying with following combo ('AwayGoalsRatio', 'GoalsAvgSum')\n",
      "164 17:46:33 43.28 Trying with following combo ('AwayGoalsRatio', 'GoalsAvgSum')\n",
      "165 17:46:34 41.46 Trying with following combo ('AwayGoalsRatio', 'RecentFormRatio')\n",
      "165 17:46:34 44.59 Trying with following combo ('AwayGoalsRatio', 'RecentFormRatio')\n",
      "166 17:46:36 47.41 Trying with following combo ('AwayGoalsRatio', 'EloRatio')\n",
      "166 17:46:36 45.44 Trying with following combo ('AwayGoalsRatio', 'EloRatio')\n",
      "167 17:46:37 43.87 Trying with following combo ('AwayGoalsRatio', 'HomeLast3Points')\n",
      "167 17:46:38 43.48 Trying with following combo ('AwayGoalsRatio', 'HomeLast3Points')\n",
      "168 17:46:39 41.71 Trying with following combo ('AwayGoalsRatio', 'HomeAvgGoalsScored')\n",
      "168 17:46:39 42.28 Trying with following combo ('AwayGoalsRatio', 'HomeAvgGoalsScored')\n",
      "169 17:46:40 44.75 Trying with following combo ('AwayGoalsRatio', 'HomeAvgGoalsConceded')\n",
      "169 17:46:40 42.84 Trying with following combo ('AwayGoalsRatio', 'HomeAvgGoalsConceded')\n",
      "170 17:46:42 44.03 Trying with following combo ('AwayGoalsRatio', 'HomeEwmaPoints')\n",
      "170 17:46:42 44.32 Trying with following combo ('AwayGoalsRatio', 'HomeEwmaPoints')\n",
      "171 17:46:44 41.75 Trying with following combo ('AwayGoalsRatio', 'HomeEwmaGoalsScored')\n",
      "171 17:46:44 41.92 Trying with following combo ('AwayGoalsRatio', 'HomeEwmaGoalsScored')\n",
      "172 17:46:46 44.63 Trying with following combo ('AwayGoalsRatio', 'HomeEwmaGoalsConceded')\n",
      "172 17:46:46 42.47 Trying with following combo ('AwayGoalsRatio', 'HomeEwmaGoalsConceded')\n",
      "173 17:46:47 41.21 Trying with following combo ('AwayGoalsRatio', 'AwayLast3Points')\n",
      "173 17:46:47 42.77 Trying with following combo ('AwayGoalsRatio', 'AwayLast3Points')\n",
      "174 17:46:49 42.28 Trying with following combo ('AwayGoalsRatio', 'AwayAvgGoalsScored')\n",
      "174 17:46:49 43.31 Trying with following combo ('AwayGoalsRatio', 'AwayAvgGoalsScored')\n",
      "175 17:46:50 41.22 Trying with following combo ('AwayGoalsRatio', 'AwayAvgGoalsConceded')\n",
      "175 17:46:50 43.45 Trying with following combo ('AwayGoalsRatio', 'AwayAvgGoalsConceded')\n",
      "176 17:46:52 41.26 Trying with following combo ('AwayGoalsRatio', 'AwayEwmaPoints')\n",
      "176 17:46:52 43.38 Trying with following combo ('AwayGoalsRatio', 'AwayEwmaPoints')\n",
      "177 17:46:54 42.51 Trying with following combo ('AwayGoalsRatio', 'AwayEwmaGoalsScored')\n",
      "177 17:46:54 42.77 Trying with following combo ('AwayGoalsRatio', 'AwayEwmaGoalsScored')\n",
      "178 17:46:55 41.16 Trying with following combo ('AwayGoalsRatio', 'AwayEwmaGoalsConceded')\n",
      "178 17:46:56 43.59 Trying with following combo ('AwayGoalsRatio', 'AwayEwmaGoalsConceded')\n",
      "179 17:46:57 41.06 Trying with following combo ('AwayGoalsRatio', 'HomeWins')\n",
      "179 17:46:57 44.7 Trying with following combo ('AwayGoalsRatio', 'HomeWins')\n",
      "180 17:46:58 41.21 Trying with following combo ('AwayGoalsRatio', 'HomeDraws')\n",
      "180 17:46:58 44.03 Trying with following combo ('AwayGoalsRatio', 'HomeDraws')\n",
      "181 17:46:59 41.13 Trying with following combo ('AwayGoalsRatio', 'HomeLosses')\n",
      "181 17:46:59 44.15 Trying with following combo ('AwayGoalsRatio', 'HomeLosses')\n",
      "182 17:47:00 41.14 Trying with following combo ('AwayGoalsRatio', 'AwayWins')\n",
      "182 17:47:00 44.15 Trying with following combo ('AwayGoalsRatio', 'AwayWins')\n",
      "183 17:47:01 41.21 Trying with following combo ('AwayGoalsRatio', 'AwayDraws')\n",
      "183 17:47:02 44.03 Trying with following combo ('AwayGoalsRatio', 'AwayDraws')\n",
      "184 17:47:03 41.06 Trying with following combo ('AwayGoalsRatio', 'AwayLosses')\n",
      "184 17:47:03 44.74 Trying with following combo ('AwayGoalsRatio', 'AwayLosses')\n",
      "185 17:47:04 42.75 Trying with following combo ('AwayGoalsRatio', 'UltimoScontroDiretto')\n",
      "185 17:47:04 42.74 Trying with following combo ('AwayGoalsRatio', 'UltimoScontroDiretto')\n",
      "186 17:47:05 43.79 Trying with following combo ('AwayGoalsRatio', 'Last3PointsDifference')\n",
      "186 17:47:05 41.95 Trying with following combo ('AwayGoalsRatio', 'Last3PointsDifference')\n",
      "187 17:47:06 45.39 Trying with following combo ('AwayGoalsRatio', 'GoalRatioDifference')\n",
      "187 17:47:07 45.32 Trying with following combo ('AwayGoalsRatio', 'GoalRatioDifference')\n",
      "188 17:47:08 42.65 Trying with following combo ('AwayGoalsRatio', 'EwmaGoalsSum')\n",
      "188 17:47:08 43.61 Trying with following combo ('AwayGoalsRatio', 'EwmaGoalsSum')\n",
      "189 17:47:10 42.07 Trying with following combo ('AwayGoalsRatio', 'GoalsSum')\n",
      "189 17:47:10 44.41 Trying with following combo ('AwayGoalsRatio', 'GoalsSum')\n",
      "190 17:47:11 46.59 Trying with following combo ('AwayGoalsRatio', 'HomePointGap')\n",
      "190 17:47:11 44.31 Trying with following combo ('AwayGoalsRatio', 'HomePointGap')\n",
      "191 17:47:12 46.59 Trying with following combo ('AwayGoalsRatio', 'AwayPointGap')\n",
      "191 17:47:12 44.47 Trying with following combo ('AwayGoalsRatio', 'AwayPointGap')\n",
      "192 17:47:13 45.77 Trying with following combo ('AwayGoalsRatio', 'HomeGoalGap')\n",
      "192 17:47:13 44.0 Trying with following combo ('AwayGoalsRatio', 'HomeGoalGap')\n",
      "193 17:47:14 45.77 Trying with following combo ('AwayGoalsRatio', 'AwayGoalGap')\n",
      "193 17:47:15 44.14 Trying with following combo ('AwayGoalsRatio', 'AwayGoalGap')\n",
      "194 17:47:16 40.72 Trying with following combo ('AwayGoalsRatio', 'feat1')\n",
      "194 17:47:16 43.08 Trying with following combo ('AwayGoalsRatio', 'feat1')\n",
      "195 17:47:17 43.87 Trying with following combo ('AwayGoalsRatio', 'feat2')\n",
      "195 17:47:17 43.14 Trying with following combo ('AwayGoalsRatio', 'feat2')\n",
      "196 17:47:18 41.31 Trying with following combo ('AwayGoalsRatio', 'FormDiff')\n",
      "196 17:47:19 44.14 Trying with following combo ('AwayGoalsRatio', 'FormDiff')\n",
      "197 17:47:20 41.14 Trying with following combo ('AwayGoalsRatio', 'RecentFormDiff')\n",
      "197 17:47:20 44.79 Trying with following combo ('AwayGoalsRatio', 'RecentFormDiff')\n",
      "198 17:47:21 41.22 Trying with following combo ('AwayGoalsRatio', 'GoalCumulativeSum')\n",
      "198 17:47:21 44.43 Trying with following combo ('AwayGoalsRatio', 'GoalCumulativeSum')\n",
      "199 17:47:22 46.54 Trying with following combo ('AwayGoalsRatio', 'ATW_LogRegPred')\n",
      "199 17:47:22 44.48 Trying with following combo ('AwayGoalsRatio', 'ATW_LogRegPred')\n",
      "200 17:47:23 44.96 Trying with following combo ('GoalsDifference', 'ConcededGoalsDifference')\n",
      "200 17:47:23 42.77 Trying with following combo ('GoalsDifference', 'ConcededGoalsDifference')\n",
      "201 17:47:24 46.51 Trying with following combo ('GoalsDifference', 'GoalsAvgSum')\n",
      "201 17:47:24 44.98 Trying with following combo ('GoalsDifference', 'GoalsAvgSum')\n",
      "202 17:47:25 44.92 Trying with following combo ('GoalsDifference', 'RecentFormRatio')\n",
      "202 17:47:25 45.14 Trying with following combo ('GoalsDifference', 'RecentFormRatio')\n",
      "203 17:47:27 47.3 Trying with following combo ('GoalsDifference', 'EloRatio')\n",
      "203 17:47:27 45.85 Trying with following combo ('GoalsDifference', 'EloRatio')\n",
      "204 17:47:28 45.68 Trying with following combo ('GoalsDifference', 'HomeLast3Points')\n",
      "204 17:47:28 45.16 Trying with following combo ('GoalsDifference', 'HomeLast3Points')\n",
      "205 17:47:29 44.62 Trying with following combo ('GoalsDifference', 'HomeAvgGoalsScored')\n",
      "205 17:47:29 45.77 Trying with following combo ('GoalsDifference', 'HomeAvgGoalsScored')\n",
      "206 17:47:30 46.63 Trying with following combo ('GoalsDifference', 'HomeAvgGoalsConceded')\n",
      "206 17:47:30 45.78 Trying with following combo ('GoalsDifference', 'HomeAvgGoalsConceded')\n",
      "207 17:47:32 45.53 Trying with following combo ('GoalsDifference', 'HomeEwmaPoints')\n",
      "207 17:47:32 43.71 Trying with following combo ('GoalsDifference', 'HomeEwmaPoints')\n",
      "208 17:47:33 44.77 Trying with following combo ('GoalsDifference', 'HomeEwmaGoalsScored')\n",
      "208 17:47:33 45.77 Trying with following combo ('GoalsDifference', 'HomeEwmaGoalsScored')\n",
      "209 17:47:35 46.55 Trying with following combo ('GoalsDifference', 'HomeEwmaGoalsConceded')\n",
      "209 17:47:35 44.07 Trying with following combo ('GoalsDifference', 'HomeEwmaGoalsConceded')\n",
      "210 17:47:36 45.67 Trying with following combo ('GoalsDifference', 'AwayLast3Points')\n",
      "210 17:47:36 45.51 Trying with following combo ('GoalsDifference', 'AwayLast3Points')\n",
      "211 17:47:37 45.95 Trying with following combo ('GoalsDifference', 'AwayAvgGoalsScored')\n",
      "211 17:47:37 43.86 Trying with following combo ('GoalsDifference', 'AwayAvgGoalsScored')\n",
      "212 17:47:38 44.92 Trying with following combo ('GoalsDifference', 'AwayAvgGoalsConceded')\n",
      "212 17:47:38 47.19 Trying with following combo ('GoalsDifference', 'AwayAvgGoalsConceded')\n",
      "213 17:47:39 45.94 Trying with following combo ('GoalsDifference', 'AwayEwmaPoints')\n",
      "213 17:47:40 45.86 Trying with following combo ('GoalsDifference', 'AwayEwmaPoints')\n",
      "214 17:47:41 45.95 Trying with following combo ('GoalsDifference', 'AwayEwmaGoalsScored')\n",
      "214 17:47:41 43.88 Trying with following combo ('GoalsDifference', 'AwayEwmaGoalsScored')\n",
      "215 17:47:43 45.1 Trying with following combo ('GoalsDifference', 'AwayEwmaGoalsConceded')\n",
      "215 17:47:43 46.06 Trying with following combo ('GoalsDifference', 'AwayEwmaGoalsConceded')\n",
      "216 17:47:44 44.96 Trying with following combo ('GoalsDifference', 'HomeWins')\n",
      "216 17:47:44 47.74 Trying with following combo ('GoalsDifference', 'HomeWins')\n",
      "217 17:47:45 44.82 Trying with following combo ('GoalsDifference', 'HomeDraws')\n",
      "217 17:47:45 45.92 Trying with following combo ('GoalsDifference', 'HomeDraws')\n",
      "218 17:47:46 45.01 Trying with following combo ('GoalsDifference', 'HomeLosses')\n",
      "218 17:47:46 47.5 Trying with following combo ('GoalsDifference', 'HomeLosses')\n",
      "219 17:47:47 45.01 Trying with following combo ('GoalsDifference', 'AwayWins')\n",
      "219 17:47:47 47.49 Trying with following combo ('GoalsDifference', 'AwayWins')\n",
      "220 17:47:48 44.82 Trying with following combo ('GoalsDifference', 'AwayDraws')\n",
      "220 17:47:48 45.92 Trying with following combo ('GoalsDifference', 'AwayDraws')\n",
      "221 17:47:49 44.96 Trying with following combo ('GoalsDifference', 'AwayLosses')\n",
      "221 17:47:49 47.75 Trying with following combo ('GoalsDifference', 'AwayLosses')\n",
      "222 17:47:50 46.36 Trying with following combo ('GoalsDifference', 'UltimoScontroDiretto')\n",
      "222 17:47:50 45.17 Trying with following combo ('GoalsDifference', 'UltimoScontroDiretto')\n",
      "223 17:47:51 46.1 Trying with following combo ('GoalsDifference', 'Last3PointsDifference')\n",
      "223 17:47:51 45.19 Trying with following combo ('GoalsDifference', 'Last3PointsDifference')\n",
      "224 17:47:52 46.48 Trying with following combo ('GoalsDifference', 'GoalRatioDifference')\n",
      "224 17:47:52 46.11 Trying with following combo ('GoalsDifference', 'GoalRatioDifference')\n",
      "225 17:47:54 46.07 Trying with following combo ('GoalsDifference', 'EwmaGoalsSum')\n",
      "225 17:47:54 44.07 Trying with following combo ('GoalsDifference', 'EwmaGoalsSum')\n",
      "226 17:47:55 45.03 Trying with following combo ('GoalsDifference', 'GoalsSum')\n",
      "226 17:47:55 45.05 Trying with following combo ('GoalsDifference', 'GoalsSum')\n",
      "227 17:47:56 46.45 Trying with following combo ('GoalsDifference', 'HomePointGap')\n",
      "227 17:47:56 46.01 Trying with following combo ('GoalsDifference', 'HomePointGap')\n",
      "228 17:47:57 46.45 Trying with following combo ('GoalsDifference', 'AwayPointGap')\n",
      "228 17:47:57 45.99 Trying with following combo ('GoalsDifference', 'AwayPointGap')\n",
      "229 17:47:58 45.01 Trying with following combo ('GoalsDifference', 'HomeGoalGap')\n",
      "229 17:47:58 46.12 Trying with following combo ('GoalsDifference', 'HomeGoalGap')\n",
      "230 17:47:59 45.01 Trying with following combo ('GoalsDifference', 'AwayGoalGap')\n",
      "230 17:47:59 46.12 Trying with following combo ('GoalsDifference', 'AwayGoalGap')\n",
      "231 17:48:01 43.82 Trying with following combo ('GoalsDifference', 'feat1')\n",
      "231 17:48:01 42.7 Trying with following combo ('GoalsDifference', 'feat1')\n",
      "232 17:48:02 43.84 Trying with following combo ('GoalsDifference', 'feat2')\n",
      "232 17:48:02 42.85 Trying with following combo ('GoalsDifference', 'feat2')\n",
      "233 17:48:03 44.88 Trying with following combo ('GoalsDifference', 'FormDiff')\n",
      "233 17:48:03 45.4 Trying with following combo ('GoalsDifference', 'FormDiff')\n",
      "234 17:48:04 45.01 Trying with following combo ('GoalsDifference', 'RecentFormDiff')\n",
      "234 17:48:04 47.3 Trying with following combo ('GoalsDifference', 'RecentFormDiff')\n",
      "235 17:48:05 45.03 Trying with following combo ('GoalsDifference', 'GoalCumulativeSum')\n",
      "235 17:48:05 46.49 Trying with following combo ('GoalsDifference', 'GoalCumulativeSum')\n",
      "236 17:48:06 48.49 Trying with following combo ('GoalsDifference', 'ATW_LogRegPred')\n",
      "236 17:48:06 49.53 Trying with following combo ('GoalsDifference', 'ATW_LogRegPred')\n",
      "237 17:48:07 34.62 Trying with following combo ('ConcededGoalsDifference', 'GoalsAvgSum')\n",
      "237 17:48:07 33.52 Trying with following combo ('ConcededGoalsDifference', 'GoalsAvgSum')\n",
      "238 17:48:08 32.65 Trying with following combo ('ConcededGoalsDifference', 'RecentFormRatio')\n",
      "238 17:48:08 32.83 Trying with following combo ('ConcededGoalsDifference', 'RecentFormRatio')\n"
     ]
    },
    {
     "name": "stderr",
     "output_type": "stream",
     "text": [
      "c:\\Users\\vitto\\OneDrive\\Desktop\\Personale\\ML - Soccer\\BothToScore\\..\\lib\\Utility.py:288: RuntimeWarning: invalid value encountered in scalar divide\n",
      "  accuracy_class_1 = cm[1, 1] / (cm[0, 1] + cm[1, 1])\n",
      "c:\\Users\\vitto\\OneDrive\\Desktop\\Personale\\ML - Soccer\\BothToScore\\..\\lib\\Utility.py:288: RuntimeWarning: invalid value encountered in scalar divide\n",
      "  accuracy_class_1 = cm[1, 1] / (cm[0, 1] + cm[1, 1])\n"
     ]
    },
    {
     "name": "stdout",
     "output_type": "stream",
     "text": [
      "239 17:48:10 47.15 Trying with following combo ('ConcededGoalsDifference', 'EloRatio')\n",
      "239 17:48:10 46.22 Trying with following combo ('ConcededGoalsDifference', 'EloRatio')\n",
      "240 17:48:11 38.08 Trying with following combo ('ConcededGoalsDifference', 'HomeLast3Points')\n",
      "240 17:48:11 37.17 Trying with following combo ('ConcededGoalsDifference', 'HomeLast3Points')\n",
      "241 17:48:12 32.68 Trying with following combo ('ConcededGoalsDifference', 'HomeAvgGoalsScored')\n",
      "241 17:48:12 32.94 Trying with following combo ('ConcededGoalsDifference', 'HomeAvgGoalsScored')\n",
      "242 17:48:13 39.92 Trying with following combo ('ConcededGoalsDifference', 'HomeAvgGoalsConceded')\n",
      "242 17:48:13 37.38 Trying with following combo ('ConcededGoalsDifference', 'HomeAvgGoalsConceded')\n",
      "243 17:48:14 38.66 Trying with following combo ('ConcededGoalsDifference', 'HomeEwmaPoints')\n",
      "243 17:48:15 36.92 Trying with following combo ('ConcededGoalsDifference', 'HomeEwmaPoints')\n",
      "244 17:48:16 32.68 Trying with following combo ('ConcededGoalsDifference', 'HomeEwmaGoalsScored')\n",
      "244 17:48:16 32.84 Trying with following combo ('ConcededGoalsDifference', 'HomeEwmaGoalsScored')\n",
      "245 17:48:17 39.97 Trying with following combo ('ConcededGoalsDifference', 'HomeEwmaGoalsConceded')\n",
      "245 17:48:18 39.25 Trying with following combo ('ConcededGoalsDifference', 'HomeEwmaGoalsConceded')\n",
      "246 17:48:18 37.61 Trying with following combo ('ConcededGoalsDifference', 'AwayLast3Points')\n",
      "246 17:48:19 37.14 Trying with following combo ('ConcededGoalsDifference', 'AwayLast3Points')\n",
      "247 17:48:19 39.13 Trying with following combo ('ConcededGoalsDifference', 'AwayAvgGoalsScored')\n",
      "247 17:48:20 38.99 Trying with following combo ('ConcededGoalsDifference', 'AwayAvgGoalsScored')\n",
      "248 17:48:20 32.74 Trying with following combo ('ConcededGoalsDifference', 'AwayAvgGoalsConceded')\n",
      "248 17:48:20 34.38 Trying with following combo ('ConcededGoalsDifference', 'AwayAvgGoalsConceded')\n",
      "249 17:48:22 38.81 Trying with following combo ('ConcededGoalsDifference', 'AwayEwmaPoints')\n",
      "249 17:48:22 38.92 Trying with following combo ('ConcededGoalsDifference', 'AwayEwmaPoints')\n",
      "250 17:48:23 39.44 Trying with following combo ('ConcededGoalsDifference', 'AwayEwmaGoalsScored')\n",
      "250 17:48:23 38.17 Trying with following combo ('ConcededGoalsDifference', 'AwayEwmaGoalsScored')\n",
      "251 17:48:25 32.74 Trying with following combo ('ConcededGoalsDifference', 'AwayEwmaGoalsConceded')\n",
      "251 17:48:25 36.28 Trying with following combo ('ConcededGoalsDifference', 'AwayEwmaGoalsConceded')\n",
      "252 17:48:26 32.62 Trying with following combo ('ConcededGoalsDifference', 'HomeWins')\n",
      "252 17:48:26 32.62 Trying with following combo ('ConcededGoalsDifference', 'HomeWins')\n"
     ]
    },
    {
     "name": "stderr",
     "output_type": "stream",
     "text": [
      "c:\\Users\\vitto\\OneDrive\\Desktop\\Personale\\ML - Soccer\\BothToScore\\..\\lib\\Utility.py:288: RuntimeWarning: invalid value encountered in scalar divide\n",
      "  accuracy_class_1 = cm[1, 1] / (cm[0, 1] + cm[1, 1])\n",
      "c:\\Users\\vitto\\OneDrive\\Desktop\\Personale\\ML - Soccer\\BothToScore\\..\\lib\\Utility.py:288: RuntimeWarning: invalid value encountered in scalar divide\n",
      "  accuracy_class_1 = cm[1, 1] / (cm[0, 1] + cm[1, 1])\n",
      "c:\\Users\\vitto\\OneDrive\\Desktop\\Personale\\ML - Soccer\\BothToScore\\..\\lib\\Utility.py:288: RuntimeWarning: invalid value encountered in scalar divide\n",
      "  accuracy_class_1 = cm[1, 1] / (cm[0, 1] + cm[1, 1])\n",
      "c:\\Users\\vitto\\OneDrive\\Desktop\\Personale\\ML - Soccer\\BothToScore\\..\\lib\\Utility.py:288: RuntimeWarning: invalid value encountered in scalar divide\n",
      "  accuracy_class_1 = cm[1, 1] / (cm[0, 1] + cm[1, 1])\n"
     ]
    },
    {
     "name": "stdout",
     "output_type": "stream",
     "text": [
      "253 17:48:27 32.62 Trying with following combo ('ConcededGoalsDifference', 'HomeDraws')\n",
      "253 17:48:27 32.62 Trying with following combo ('ConcededGoalsDifference', 'HomeDraws')\n"
     ]
    },
    {
     "name": "stderr",
     "output_type": "stream",
     "text": [
      "c:\\Users\\vitto\\OneDrive\\Desktop\\Personale\\ML - Soccer\\BothToScore\\..\\lib\\Utility.py:288: RuntimeWarning: invalid value encountered in scalar divide\n",
      "  accuracy_class_1 = cm[1, 1] / (cm[0, 1] + cm[1, 1])\n",
      "c:\\Users\\vitto\\OneDrive\\Desktop\\Personale\\ML - Soccer\\BothToScore\\..\\lib\\Utility.py:288: RuntimeWarning: invalid value encountered in scalar divide\n",
      "  accuracy_class_1 = cm[1, 1] / (cm[0, 1] + cm[1, 1])\n",
      "c:\\Users\\vitto\\OneDrive\\Desktop\\Personale\\ML - Soccer\\BothToScore\\..\\lib\\Utility.py:288: RuntimeWarning: invalid value encountered in scalar divide\n",
      "  accuracy_class_1 = cm[1, 1] / (cm[0, 1] + cm[1, 1])\n",
      "c:\\Users\\vitto\\OneDrive\\Desktop\\Personale\\ML - Soccer\\BothToScore\\..\\lib\\Utility.py:288: RuntimeWarning: invalid value encountered in scalar divide\n",
      "  accuracy_class_1 = cm[1, 1] / (cm[0, 1] + cm[1, 1])\n"
     ]
    },
    {
     "name": "stdout",
     "output_type": "stream",
     "text": [
      "254 17:48:28 32.62 Trying with following combo ('ConcededGoalsDifference', 'HomeLosses')\n",
      "254 17:48:28 32.62 Trying with following combo ('ConcededGoalsDifference', 'HomeLosses')\n"
     ]
    },
    {
     "name": "stderr",
     "output_type": "stream",
     "text": [
      "c:\\Users\\vitto\\OneDrive\\Desktop\\Personale\\ML - Soccer\\BothToScore\\..\\lib\\Utility.py:288: RuntimeWarning: invalid value encountered in scalar divide\n",
      "  accuracy_class_1 = cm[1, 1] / (cm[0, 1] + cm[1, 1])\n",
      "c:\\Users\\vitto\\OneDrive\\Desktop\\Personale\\ML - Soccer\\BothToScore\\..\\lib\\Utility.py:288: RuntimeWarning: invalid value encountered in scalar divide\n",
      "  accuracy_class_1 = cm[1, 1] / (cm[0, 1] + cm[1, 1])\n",
      "c:\\Users\\vitto\\OneDrive\\Desktop\\Personale\\ML - Soccer\\BothToScore\\..\\lib\\Utility.py:288: RuntimeWarning: invalid value encountered in scalar divide\n",
      "  accuracy_class_1 = cm[1, 1] / (cm[0, 1] + cm[1, 1])\n",
      "c:\\Users\\vitto\\OneDrive\\Desktop\\Personale\\ML - Soccer\\BothToScore\\..\\lib\\Utility.py:288: RuntimeWarning: invalid value encountered in scalar divide\n",
      "  accuracy_class_1 = cm[1, 1] / (cm[0, 1] + cm[1, 1])\n"
     ]
    },
    {
     "name": "stdout",
     "output_type": "stream",
     "text": [
      "255 17:48:29 32.62 Trying with following combo ('ConcededGoalsDifference', 'AwayWins')\n",
      "255 17:48:29 32.62 Trying with following combo ('ConcededGoalsDifference', 'AwayWins')\n"
     ]
    },
    {
     "name": "stderr",
     "output_type": "stream",
     "text": [
      "c:\\Users\\vitto\\OneDrive\\Desktop\\Personale\\ML - Soccer\\BothToScore\\..\\lib\\Utility.py:288: RuntimeWarning: invalid value encountered in scalar divide\n",
      "  accuracy_class_1 = cm[1, 1] / (cm[0, 1] + cm[1, 1])\n",
      "c:\\Users\\vitto\\OneDrive\\Desktop\\Personale\\ML - Soccer\\BothToScore\\..\\lib\\Utility.py:288: RuntimeWarning: invalid value encountered in scalar divide\n",
      "  accuracy_class_1 = cm[1, 1] / (cm[0, 1] + cm[1, 1])\n",
      "c:\\Users\\vitto\\OneDrive\\Desktop\\Personale\\ML - Soccer\\BothToScore\\..\\lib\\Utility.py:288: RuntimeWarning: invalid value encountered in scalar divide\n",
      "  accuracy_class_1 = cm[1, 1] / (cm[0, 1] + cm[1, 1])\n",
      "c:\\Users\\vitto\\OneDrive\\Desktop\\Personale\\ML - Soccer\\BothToScore\\..\\lib\\Utility.py:288: RuntimeWarning: invalid value encountered in scalar divide\n",
      "  accuracy_class_1 = cm[1, 1] / (cm[0, 1] + cm[1, 1])\n"
     ]
    },
    {
     "name": "stdout",
     "output_type": "stream",
     "text": [
      "256 17:48:30 32.62 Trying with following combo ('ConcededGoalsDifference', 'AwayDraws')\n",
      "256 17:48:30 32.62 Trying with following combo ('ConcededGoalsDifference', 'AwayDraws')\n"
     ]
    },
    {
     "name": "stderr",
     "output_type": "stream",
     "text": [
      "c:\\Users\\vitto\\OneDrive\\Desktop\\Personale\\ML - Soccer\\BothToScore\\..\\lib\\Utility.py:288: RuntimeWarning: invalid value encountered in scalar divide\n",
      "  accuracy_class_1 = cm[1, 1] / (cm[0, 1] + cm[1, 1])\n",
      "c:\\Users\\vitto\\OneDrive\\Desktop\\Personale\\ML - Soccer\\BothToScore\\..\\lib\\Utility.py:288: RuntimeWarning: invalid value encountered in scalar divide\n",
      "  accuracy_class_1 = cm[1, 1] / (cm[0, 1] + cm[1, 1])\n",
      "c:\\Users\\vitto\\OneDrive\\Desktop\\Personale\\ML - Soccer\\BothToScore\\..\\lib\\Utility.py:288: RuntimeWarning: invalid value encountered in scalar divide\n",
      "  accuracy_class_1 = cm[1, 1] / (cm[0, 1] + cm[1, 1])\n",
      "c:\\Users\\vitto\\OneDrive\\Desktop\\Personale\\ML - Soccer\\BothToScore\\..\\lib\\Utility.py:288: RuntimeWarning: invalid value encountered in scalar divide\n",
      "  accuracy_class_1 = cm[1, 1] / (cm[0, 1] + cm[1, 1])\n"
     ]
    },
    {
     "name": "stdout",
     "output_type": "stream",
     "text": [
      "257 17:48:31 32.62 Trying with following combo ('ConcededGoalsDifference', 'AwayLosses')\n",
      "257 17:48:31 32.62 Trying with following combo ('ConcededGoalsDifference', 'AwayLosses')\n"
     ]
    },
    {
     "name": "stderr",
     "output_type": "stream",
     "text": [
      "c:\\Users\\vitto\\OneDrive\\Desktop\\Personale\\ML - Soccer\\BothToScore\\..\\lib\\Utility.py:288: RuntimeWarning: invalid value encountered in scalar divide\n",
      "  accuracy_class_1 = cm[1, 1] / (cm[0, 1] + cm[1, 1])\n",
      "c:\\Users\\vitto\\OneDrive\\Desktop\\Personale\\ML - Soccer\\BothToScore\\..\\lib\\Utility.py:288: RuntimeWarning: invalid value encountered in scalar divide\n",
      "  accuracy_class_1 = cm[1, 1] / (cm[0, 1] + cm[1, 1])\n",
      "c:\\Users\\vitto\\OneDrive\\Desktop\\Personale\\ML - Soccer\\BothToScore\\..\\lib\\Utility.py:288: RuntimeWarning: invalid value encountered in scalar divide\n",
      "  accuracy_class_1 = cm[1, 1] / (cm[0, 1] + cm[1, 1])\n",
      "c:\\Users\\vitto\\OneDrive\\Desktop\\Personale\\ML - Soccer\\BothToScore\\..\\lib\\Utility.py:288: RuntimeWarning: invalid value encountered in scalar divide\n",
      "  accuracy_class_1 = cm[1, 1] / (cm[0, 1] + cm[1, 1])\n"
     ]
    },
    {
     "name": "stdout",
     "output_type": "stream",
     "text": [
      "258 17:48:32 32.8 Trying with following combo ('ConcededGoalsDifference', 'UltimoScontroDiretto')\n",
      "258 17:48:32 38.27 Trying with following combo ('ConcededGoalsDifference', 'UltimoScontroDiretto')\n",
      "259 17:48:32 42.38 Trying with following combo ('ConcededGoalsDifference', 'Last3PointsDifference')\n",
      "259 17:48:33 39.54 Trying with following combo ('ConcededGoalsDifference', 'Last3PointsDifference')\n",
      "260 17:48:34 45.45 Trying with following combo ('ConcededGoalsDifference', 'GoalRatioDifference')\n",
      "260 17:48:34 45.28 Trying with following combo ('ConcededGoalsDifference', 'GoalRatioDifference')\n",
      "261 17:48:36 33.96 Trying with following combo ('ConcededGoalsDifference', 'EwmaGoalsSum')\n",
      "261 17:48:36 33.15 Trying with following combo ('ConcededGoalsDifference', 'EwmaGoalsSum')\n",
      "262 17:48:37 32.68 Trying with following combo ('ConcededGoalsDifference', 'GoalsSum')\n",
      "262 17:48:37 33.04 Trying with following combo ('ConcededGoalsDifference', 'GoalsSum')\n",
      "263 17:48:38 46.27 Trying with following combo ('ConcededGoalsDifference', 'HomePointGap')\n",
      "263 17:48:38 44.87 Trying with following combo ('ConcededGoalsDifference', 'HomePointGap')\n",
      "264 17:48:39 46.27 Trying with following combo ('ConcededGoalsDifference', 'AwayPointGap')\n",
      "264 17:48:39 45.12 Trying with following combo ('ConcededGoalsDifference', 'AwayPointGap')\n",
      "265 17:48:40 44.96 Trying with following combo ('ConcededGoalsDifference', 'HomeGoalGap')\n",
      "265 17:48:40 42.29 Trying with following combo ('ConcededGoalsDifference', 'HomeGoalGap')\n",
      "266 17:48:41 44.96 Trying with following combo ('ConcededGoalsDifference', 'AwayGoalGap')\n",
      "266 17:48:41 42.63 Trying with following combo ('ConcededGoalsDifference', 'AwayGoalGap')\n",
      "267 17:48:42 33.04 Trying with following combo ('ConcededGoalsDifference', 'feat1')\n",
      "267 17:48:43 33.14 Trying with following combo ('ConcededGoalsDifference', 'feat1')\n"
     ]
    },
    {
     "name": "stderr",
     "output_type": "stream",
     "text": [
      "c:\\Users\\vitto\\OneDrive\\Desktop\\Personale\\ML - Soccer\\BothToScore\\..\\lib\\Utility.py:288: RuntimeWarning: invalid value encountered in scalar divide\n",
      "  accuracy_class_1 = cm[1, 1] / (cm[0, 1] + cm[1, 1])\n",
      "c:\\Users\\vitto\\OneDrive\\Desktop\\Personale\\ML - Soccer\\BothToScore\\..\\lib\\Utility.py:288: RuntimeWarning: invalid value encountered in scalar divide\n",
      "  accuracy_class_1 = cm[1, 1] / (cm[0, 1] + cm[1, 1])\n"
     ]
    },
    {
     "name": "stdout",
     "output_type": "stream",
     "text": [
      "268 17:48:44 33.04 Trying with following combo ('ConcededGoalsDifference', 'feat2')\n",
      "268 17:48:44 33.1 Trying with following combo ('ConcededGoalsDifference', 'feat2')\n"
     ]
    },
    {
     "name": "stderr",
     "output_type": "stream",
     "text": [
      "c:\\Users\\vitto\\OneDrive\\Desktop\\Personale\\ML - Soccer\\BothToScore\\..\\lib\\Utility.py:288: RuntimeWarning: invalid value encountered in scalar divide\n",
      "  accuracy_class_1 = cm[1, 1] / (cm[0, 1] + cm[1, 1])\n",
      "c:\\Users\\vitto\\OneDrive\\Desktop\\Personale\\ML - Soccer\\BothToScore\\..\\lib\\Utility.py:288: RuntimeWarning: invalid value encountered in scalar divide\n",
      "  accuracy_class_1 = cm[1, 1] / (cm[0, 1] + cm[1, 1])\n"
     ]
    },
    {
     "name": "stdout",
     "output_type": "stream",
     "text": [
      "269 17:48:45 32.62 Trying with following combo ('ConcededGoalsDifference', 'FormDiff')\n",
      "269 17:48:45 33.15 Trying with following combo ('ConcededGoalsDifference', 'FormDiff')\n"
     ]
    },
    {
     "name": "stderr",
     "output_type": "stream",
     "text": [
      "c:\\Users\\vitto\\OneDrive\\Desktop\\Personale\\ML - Soccer\\BothToScore\\..\\lib\\Utility.py:288: RuntimeWarning: invalid value encountered in scalar divide\n",
      "  accuracy_class_1 = cm[1, 1] / (cm[0, 1] + cm[1, 1])\n",
      "c:\\Users\\vitto\\OneDrive\\Desktop\\Personale\\ML - Soccer\\BothToScore\\..\\lib\\Utility.py:288: RuntimeWarning: invalid value encountered in scalar divide\n",
      "  accuracy_class_1 = cm[1, 1] / (cm[0, 1] + cm[1, 1])\n"
     ]
    },
    {
     "name": "stdout",
     "output_type": "stream",
     "text": [
      "270 17:48:46 32.62 Trying with following combo ('ConcededGoalsDifference', 'RecentFormDiff')\n",
      "270 17:48:46 33.08 Trying with following combo ('ConcededGoalsDifference', 'RecentFormDiff')\n"
     ]
    },
    {
     "name": "stderr",
     "output_type": "stream",
     "text": [
      "c:\\Users\\vitto\\OneDrive\\Desktop\\Personale\\ML - Soccer\\BothToScore\\..\\lib\\Utility.py:288: RuntimeWarning: invalid value encountered in scalar divide\n",
      "  accuracy_class_1 = cm[1, 1] / (cm[0, 1] + cm[1, 1])\n",
      "c:\\Users\\vitto\\OneDrive\\Desktop\\Personale\\ML - Soccer\\BothToScore\\..\\lib\\Utility.py:288: RuntimeWarning: invalid value encountered in scalar divide\n",
      "  accuracy_class_1 = cm[1, 1] / (cm[0, 1] + cm[1, 1])\n"
     ]
    },
    {
     "name": "stdout",
     "output_type": "stream",
     "text": [
      "271 17:48:47 32.7 Trying with following combo ('ConcededGoalsDifference', 'GoalCumulativeSum')\n",
      "271 17:48:47 33.02 Trying with following combo ('ConcededGoalsDifference', 'GoalCumulativeSum')\n",
      "272 17:48:48 47.15 Trying with following combo ('ConcededGoalsDifference', 'ATW_LogRegPred')\n",
      "272 17:48:48 41.77 Trying with following combo ('ConcededGoalsDifference', 'ATW_LogRegPred')\n",
      "273 17:48:49 33.73 Trying with following combo ('GoalsAvgSum', 'RecentFormRatio')\n",
      "273 17:48:49 33.23 Trying with following combo ('GoalsAvgSum', 'RecentFormRatio')\n",
      "274 17:48:50 48.04 Trying with following combo ('GoalsAvgSum', 'EloRatio')\n",
      "274 17:48:51 45.99 Trying with following combo ('GoalsAvgSum', 'EloRatio')\n",
      "275 17:48:51 39.95 Trying with following combo ('GoalsAvgSum', 'HomeLast3Points')\n",
      "275 17:48:52 37.29 Trying with following combo ('GoalsAvgSum', 'HomeLast3Points')\n",
      "276 17:48:52 38.47 Trying with following combo ('GoalsAvgSum', 'HomeAvgGoalsScored')\n",
      "276 17:48:53 35.34 Trying with following combo ('GoalsAvgSum', 'HomeAvgGoalsScored')\n",
      "277 17:48:53 39.98 Trying with following combo ('GoalsAvgSum', 'HomeAvgGoalsConceded')\n",
      "277 17:48:54 37.61 Trying with following combo ('GoalsAvgSum', 'HomeAvgGoalsConceded')\n",
      "278 17:48:55 41.09 Trying with following combo ('GoalsAvgSum', 'HomeEwmaPoints')\n",
      "278 17:48:55 37.2 Trying with following combo ('GoalsAvgSum', 'HomeEwmaPoints')\n",
      "279 17:48:56 38.41 Trying with following combo ('GoalsAvgSum', 'HomeEwmaGoalsScored')\n",
      "279 17:48:57 34.55 Trying with following combo ('GoalsAvgSum', 'HomeEwmaGoalsScored')\n",
      "280 17:48:58 40.17 Trying with following combo ('GoalsAvgSum', 'HomeEwmaGoalsConceded')\n",
      "280 17:48:58 38.15 Trying with following combo ('GoalsAvgSum', 'HomeEwmaGoalsConceded')\n",
      "281 17:48:59 39.84 Trying with following combo ('GoalsAvgSum', 'AwayLast3Points')\n",
      "281 17:48:59 36.45 Trying with following combo ('GoalsAvgSum', 'AwayLast3Points')\n",
      "282 17:49:00 38.98 Trying with following combo ('GoalsAvgSum', 'AwayAvgGoalsScored')\n",
      "282 17:49:00 39.96 Trying with following combo ('GoalsAvgSum', 'AwayAvgGoalsScored')\n",
      "283 17:49:01 38.92 Trying with following combo ('GoalsAvgSum', 'AwayAvgGoalsConceded')\n",
      "283 17:49:01 34.95 Trying with following combo ('GoalsAvgSum', 'AwayAvgGoalsConceded')\n",
      "284 17:49:03 40.23 Trying with following combo ('GoalsAvgSum', 'AwayEwmaPoints')\n",
      "284 17:49:03 36.8 Trying with following combo ('GoalsAvgSum', 'AwayEwmaPoints')\n",
      "285 17:49:04 39.5 Trying with following combo ('GoalsAvgSum', 'AwayEwmaGoalsScored')\n",
      "285 17:49:04 39.53 Trying with following combo ('GoalsAvgSum', 'AwayEwmaGoalsScored')\n",
      "286 17:49:06 38.59 Trying with following combo ('GoalsAvgSum', 'AwayEwmaGoalsConceded')\n",
      "286 17:49:06 34.68 Trying with following combo ('GoalsAvgSum', 'AwayEwmaGoalsConceded')\n",
      "287 17:49:07 34.44 Trying with following combo ('GoalsAvgSum', 'HomeWins')\n",
      "287 17:49:07 34.04 Trying with following combo ('GoalsAvgSum', 'HomeWins')\n",
      "288 17:49:08 34.64 Trying with following combo ('GoalsAvgSum', 'HomeDraws')\n",
      "288 17:49:08 34.57 Trying with following combo ('GoalsAvgSum', 'HomeDraws')\n",
      "289 17:49:09 34.5 Trying with following combo ('GoalsAvgSum', 'HomeLosses')\n",
      "289 17:49:09 34.2 Trying with following combo ('GoalsAvgSum', 'HomeLosses')\n",
      "290 17:49:10 34.5 Trying with following combo ('GoalsAvgSum', 'AwayWins')\n",
      "290 17:49:10 33.94 Trying with following combo ('GoalsAvgSum', 'AwayWins')\n",
      "291 17:49:11 34.64 Trying with following combo ('GoalsAvgSum', 'AwayDraws')\n",
      "291 17:49:11 34.57 Trying with following combo ('GoalsAvgSum', 'AwayDraws')\n",
      "292 17:49:11 34.44 Trying with following combo ('GoalsAvgSum', 'AwayLosses')\n",
      "292 17:49:12 34.4 Trying with following combo ('GoalsAvgSum', 'AwayLosses')\n",
      "293 17:49:12 38.08 Trying with following combo ('GoalsAvgSum', 'UltimoScontroDiretto')\n",
      "293 17:49:12 39.18 Trying with following combo ('GoalsAvgSum', 'UltimoScontroDiretto')\n",
      "294 17:49:13 43.09 Trying with following combo ('GoalsAvgSum', 'Last3PointsDifference')\n",
      "294 17:49:13 41.57 Trying with following combo ('GoalsAvgSum', 'Last3PointsDifference')\n",
      "295 17:49:15 47.31 Trying with following combo ('GoalsAvgSum', 'GoalRatioDifference')\n",
      "295 17:49:15 48.48 Trying with following combo ('GoalsAvgSum', 'GoalRatioDifference')\n",
      "296 17:49:17 34.41 Trying with following combo ('GoalsAvgSum', 'EwmaGoalsSum')\n",
      "296 17:49:17 35.23 Trying with following combo ('GoalsAvgSum', 'EwmaGoalsSum')\n",
      "297 17:49:18 35.08 Trying with following combo ('GoalsAvgSum', 'GoalsSum')\n",
      "297 17:49:18 34.42 Trying with following combo ('GoalsAvgSum', 'GoalsSum')\n",
      "298 17:49:19 47.5 Trying with following combo ('GoalsAvgSum', 'HomePointGap')\n",
      "298 17:49:19 46.23 Trying with following combo ('GoalsAvgSum', 'HomePointGap')\n",
      "299 17:49:20 47.5 Trying with following combo ('GoalsAvgSum', 'AwayPointGap')\n",
      "299 17:49:20 46.24 Trying with following combo ('GoalsAvgSum', 'AwayPointGap')\n",
      "300 17:49:21 46.51 Trying with following combo ('GoalsAvgSum', 'HomeGoalGap')\n",
      "300 17:49:21 45.7 Trying with following combo ('GoalsAvgSum', 'HomeGoalGap')\n",
      "301 17:49:22 46.51 Trying with following combo ('GoalsAvgSum', 'AwayGoalGap')\n",
      "301 17:49:22 45.21 Trying with following combo ('GoalsAvgSum', 'AwayGoalGap')\n",
      "302 17:49:24 34.66 Trying with following combo ('GoalsAvgSum', 'feat1')\n",
      "302 17:49:24 34.25 Trying with following combo ('GoalsAvgSum', 'feat1')\n",
      "303 17:49:25 34.42 Trying with following combo ('GoalsAvgSum', 'feat2')\n",
      "303 17:49:25 34.81 Trying with following combo ('GoalsAvgSum', 'feat2')\n",
      "304 17:49:26 34.75 Trying with following combo ('GoalsAvgSum', 'FormDiff')\n",
      "304 17:49:26 33.87 Trying with following combo ('GoalsAvgSum', 'FormDiff')\n",
      "305 17:49:27 34.64 Trying with following combo ('GoalsAvgSum', 'RecentFormDiff')\n",
      "305 17:49:27 33.89 Trying with following combo ('GoalsAvgSum', 'RecentFormDiff')\n",
      "306 17:49:28 34.95 Trying with following combo ('GoalsAvgSum', 'GoalCumulativeSum')\n",
      "306 17:49:28 33.89 Trying with following combo ('GoalsAvgSum', 'GoalCumulativeSum')\n",
      "307 17:49:29 47.91 Trying with following combo ('GoalsAvgSum', 'ATW_LogRegPred')\n",
      "307 17:49:29 42.9 Trying with following combo ('GoalsAvgSum', 'ATW_LogRegPred')\n",
      "308 17:49:31 47.58 Trying with following combo ('RecentFormRatio', 'EloRatio')\n",
      "308 17:49:31 48.16 Trying with following combo ('RecentFormRatio', 'EloRatio')\n",
      "309 17:49:32 38.4 Trying with following combo ('RecentFormRatio', 'HomeLast3Points')\n",
      "309 17:49:32 34.54 Trying with following combo ('RecentFormRatio', 'HomeLast3Points')\n",
      "310 17:49:33 32.65 Trying with following combo ('RecentFormRatio', 'HomeAvgGoalsScored')\n",
      "310 17:49:33 32.92 Trying with following combo ('RecentFormRatio', 'HomeAvgGoalsScored')\n"
     ]
    },
    {
     "name": "stderr",
     "output_type": "stream",
     "text": [
      "c:\\Users\\vitto\\OneDrive\\Desktop\\Personale\\ML - Soccer\\BothToScore\\..\\lib\\Utility.py:288: RuntimeWarning: invalid value encountered in scalar divide\n",
      "  accuracy_class_1 = cm[1, 1] / (cm[0, 1] + cm[1, 1])\n",
      "c:\\Users\\vitto\\OneDrive\\Desktop\\Personale\\ML - Soccer\\BothToScore\\..\\lib\\Utility.py:288: RuntimeWarning: invalid value encountered in scalar divide\n",
      "  accuracy_class_1 = cm[1, 1] / (cm[0, 1] + cm[1, 1])\n"
     ]
    },
    {
     "name": "stdout",
     "output_type": "stream",
     "text": [
      "311 17:49:34 39.97 Trying with following combo ('RecentFormRatio', 'HomeAvgGoalsConceded')\n",
      "311 17:49:34 34.99 Trying with following combo ('RecentFormRatio', 'HomeAvgGoalsConceded')\n",
      "312 17:49:36 38.89 Trying with following combo ('RecentFormRatio', 'HomeEwmaPoints')\n",
      "312 17:49:36 35.03 Trying with following combo ('RecentFormRatio', 'HomeEwmaPoints')\n",
      "313 17:49:38 32.65 Trying with following combo ('RecentFormRatio', 'HomeEwmaGoalsScored')\n",
      "313 17:49:38 32.9 Trying with following combo ('RecentFormRatio', 'HomeEwmaGoalsScored')\n"
     ]
    },
    {
     "name": "stderr",
     "output_type": "stream",
     "text": [
      "c:\\Users\\vitto\\OneDrive\\Desktop\\Personale\\ML - Soccer\\BothToScore\\..\\lib\\Utility.py:288: RuntimeWarning: invalid value encountered in scalar divide\n",
      "  accuracy_class_1 = cm[1, 1] / (cm[0, 1] + cm[1, 1])\n",
      "c:\\Users\\vitto\\OneDrive\\Desktop\\Personale\\ML - Soccer\\BothToScore\\..\\lib\\Utility.py:288: RuntimeWarning: invalid value encountered in scalar divide\n",
      "  accuracy_class_1 = cm[1, 1] / (cm[0, 1] + cm[1, 1])\n"
     ]
    },
    {
     "name": "stdout",
     "output_type": "stream",
     "text": [
      "314 17:49:39 39.5 Trying with following combo ('RecentFormRatio', 'HomeEwmaGoalsConceded')\n",
      "314 17:49:39 35.54 Trying with following combo ('RecentFormRatio', 'HomeEwmaGoalsConceded')\n",
      "315 17:49:40 37.51 Trying with following combo ('RecentFormRatio', 'AwayLast3Points')\n",
      "315 17:49:41 37.28 Trying with following combo ('RecentFormRatio', 'AwayLast3Points')\n",
      "316 17:49:42 39.54 Trying with following combo ('RecentFormRatio', 'AwayAvgGoalsScored')\n",
      "316 17:49:42 40.1 Trying with following combo ('RecentFormRatio', 'AwayAvgGoalsScored')\n",
      "317 17:49:43 32.65 Trying with following combo ('RecentFormRatio', 'AwayAvgGoalsConceded')\n",
      "317 17:49:43 32.87 Trying with following combo ('RecentFormRatio', 'AwayAvgGoalsConceded')\n"
     ]
    },
    {
     "name": "stderr",
     "output_type": "stream",
     "text": [
      "c:\\Users\\vitto\\OneDrive\\Desktop\\Personale\\ML - Soccer\\BothToScore\\..\\lib\\Utility.py:288: RuntimeWarning: invalid value encountered in scalar divide\n",
      "  accuracy_class_1 = cm[1, 1] / (cm[0, 1] + cm[1, 1])\n",
      "c:\\Users\\vitto\\OneDrive\\Desktop\\Personale\\ML - Soccer\\BothToScore\\..\\lib\\Utility.py:288: RuntimeWarning: invalid value encountered in scalar divide\n",
      "  accuracy_class_1 = cm[1, 1] / (cm[0, 1] + cm[1, 1])\n"
     ]
    },
    {
     "name": "stdout",
     "output_type": "stream",
     "text": [
      "318 17:49:45 38.39 Trying with following combo ('RecentFormRatio', 'AwayEwmaPoints')\n",
      "318 17:49:45 36.79 Trying with following combo ('RecentFormRatio', 'AwayEwmaPoints')\n",
      "319 17:49:46 39.01 Trying with following combo ('RecentFormRatio', 'AwayEwmaGoalsScored')\n",
      "319 17:49:47 37.56 Trying with following combo ('RecentFormRatio', 'AwayEwmaGoalsScored')\n",
      "320 17:49:48 32.65 Trying with following combo ('RecentFormRatio', 'AwayEwmaGoalsConceded')\n",
      "320 17:49:48 33.25 Trying with following combo ('RecentFormRatio', 'AwayEwmaGoalsConceded')\n"
     ]
    },
    {
     "name": "stderr",
     "output_type": "stream",
     "text": [
      "c:\\Users\\vitto\\OneDrive\\Desktop\\Personale\\ML - Soccer\\BothToScore\\..\\lib\\Utility.py:288: RuntimeWarning: invalid value encountered in scalar divide\n",
      "  accuracy_class_1 = cm[1, 1] / (cm[0, 1] + cm[1, 1])\n",
      "c:\\Users\\vitto\\OneDrive\\Desktop\\Personale\\ML - Soccer\\BothToScore\\..\\lib\\Utility.py:288: RuntimeWarning: invalid value encountered in scalar divide\n",
      "  accuracy_class_1 = cm[1, 1] / (cm[0, 1] + cm[1, 1])\n"
     ]
    },
    {
     "name": "stdout",
     "output_type": "stream",
     "text": [
      "321 17:49:49 32.65 Trying with following combo ('RecentFormRatio', 'HomeWins')\n",
      "321 17:49:49 32.84 Trying with following combo ('RecentFormRatio', 'HomeWins')\n"
     ]
    },
    {
     "name": "stderr",
     "output_type": "stream",
     "text": [
      "c:\\Users\\vitto\\OneDrive\\Desktop\\Personale\\ML - Soccer\\BothToScore\\..\\lib\\Utility.py:288: RuntimeWarning: invalid value encountered in scalar divide\n",
      "  accuracy_class_1 = cm[1, 1] / (cm[0, 1] + cm[1, 1])\n",
      "c:\\Users\\vitto\\OneDrive\\Desktop\\Personale\\ML - Soccer\\BothToScore\\..\\lib\\Utility.py:288: RuntimeWarning: invalid value encountered in scalar divide\n",
      "  accuracy_class_1 = cm[1, 1] / (cm[0, 1] + cm[1, 1])\n"
     ]
    },
    {
     "name": "stdout",
     "output_type": "stream",
     "text": [
      "322 17:49:50 32.65 Trying with following combo ('RecentFormRatio', 'HomeDraws')\n",
      "322 17:49:50 32.95 Trying with following combo ('RecentFormRatio', 'HomeDraws')\n"
     ]
    },
    {
     "name": "stderr",
     "output_type": "stream",
     "text": [
      "c:\\Users\\vitto\\OneDrive\\Desktop\\Personale\\ML - Soccer\\BothToScore\\..\\lib\\Utility.py:288: RuntimeWarning: invalid value encountered in scalar divide\n",
      "  accuracy_class_1 = cm[1, 1] / (cm[0, 1] + cm[1, 1])\n",
      "c:\\Users\\vitto\\OneDrive\\Desktop\\Personale\\ML - Soccer\\BothToScore\\..\\lib\\Utility.py:288: RuntimeWarning: invalid value encountered in scalar divide\n",
      "  accuracy_class_1 = cm[1, 1] / (cm[0, 1] + cm[1, 1])\n"
     ]
    },
    {
     "name": "stdout",
     "output_type": "stream",
     "text": [
      "323 17:49:51 32.65 Trying with following combo ('RecentFormRatio', 'HomeLosses')\n",
      "323 17:49:51 32.85 Trying with following combo ('RecentFormRatio', 'HomeLosses')\n"
     ]
    },
    {
     "name": "stderr",
     "output_type": "stream",
     "text": [
      "c:\\Users\\vitto\\OneDrive\\Desktop\\Personale\\ML - Soccer\\BothToScore\\..\\lib\\Utility.py:288: RuntimeWarning: invalid value encountered in scalar divide\n",
      "  accuracy_class_1 = cm[1, 1] / (cm[0, 1] + cm[1, 1])\n",
      "c:\\Users\\vitto\\OneDrive\\Desktop\\Personale\\ML - Soccer\\BothToScore\\..\\lib\\Utility.py:288: RuntimeWarning: invalid value encountered in scalar divide\n",
      "  accuracy_class_1 = cm[1, 1] / (cm[0, 1] + cm[1, 1])\n"
     ]
    },
    {
     "name": "stdout",
     "output_type": "stream",
     "text": [
      "324 17:49:52 32.65 Trying with following combo ('RecentFormRatio', 'AwayWins')\n",
      "324 17:49:53 32.85 Trying with following combo ('RecentFormRatio', 'AwayWins')\n"
     ]
    },
    {
     "name": "stderr",
     "output_type": "stream",
     "text": [
      "c:\\Users\\vitto\\OneDrive\\Desktop\\Personale\\ML - Soccer\\BothToScore\\..\\lib\\Utility.py:288: RuntimeWarning: invalid value encountered in scalar divide\n",
      "  accuracy_class_1 = cm[1, 1] / (cm[0, 1] + cm[1, 1])\n",
      "c:\\Users\\vitto\\OneDrive\\Desktop\\Personale\\ML - Soccer\\BothToScore\\..\\lib\\Utility.py:288: RuntimeWarning: invalid value encountered in scalar divide\n",
      "  accuracy_class_1 = cm[1, 1] / (cm[0, 1] + cm[1, 1])\n"
     ]
    },
    {
     "name": "stdout",
     "output_type": "stream",
     "text": [
      "325 17:49:53 32.65 Trying with following combo ('RecentFormRatio', 'AwayDraws')\n",
      "325 17:49:54 32.95 Trying with following combo ('RecentFormRatio', 'AwayDraws')\n"
     ]
    },
    {
     "name": "stderr",
     "output_type": "stream",
     "text": [
      "c:\\Users\\vitto\\OneDrive\\Desktop\\Personale\\ML - Soccer\\BothToScore\\..\\lib\\Utility.py:288: RuntimeWarning: invalid value encountered in scalar divide\n",
      "  accuracy_class_1 = cm[1, 1] / (cm[0, 1] + cm[1, 1])\n",
      "c:\\Users\\vitto\\OneDrive\\Desktop\\Personale\\ML - Soccer\\BothToScore\\..\\lib\\Utility.py:288: RuntimeWarning: invalid value encountered in scalar divide\n",
      "  accuracy_class_1 = cm[1, 1] / (cm[0, 1] + cm[1, 1])\n"
     ]
    },
    {
     "name": "stdout",
     "output_type": "stream",
     "text": [
      "326 17:49:55 32.65 Trying with following combo ('RecentFormRatio', 'AwayLosses')\n",
      "326 17:49:55 32.84 Trying with following combo ('RecentFormRatio', 'AwayLosses')\n"
     ]
    },
    {
     "name": "stderr",
     "output_type": "stream",
     "text": [
      "c:\\Users\\vitto\\OneDrive\\Desktop\\Personale\\ML - Soccer\\BothToScore\\..\\lib\\Utility.py:288: RuntimeWarning: invalid value encountered in scalar divide\n",
      "  accuracy_class_1 = cm[1, 1] / (cm[0, 1] + cm[1, 1])\n",
      "c:\\Users\\vitto\\OneDrive\\Desktop\\Personale\\ML - Soccer\\BothToScore\\..\\lib\\Utility.py:288: RuntimeWarning: invalid value encountered in scalar divide\n",
      "  accuracy_class_1 = cm[1, 1] / (cm[0, 1] + cm[1, 1])\n"
     ]
    },
    {
     "name": "stdout",
     "output_type": "stream",
     "text": [
      "327 17:49:56 32.22 Trying with following combo ('RecentFormRatio', 'UltimoScontroDiretto')\n",
      "327 17:49:56 35.59 Trying with following combo ('RecentFormRatio', 'UltimoScontroDiretto')\n"
     ]
    },
    {
     "name": "stderr",
     "output_type": "stream",
     "text": [
      "c:\\Users\\vitto\\OneDrive\\Desktop\\Personale\\ML - Soccer\\BothToScore\\..\\lib\\Utility.py:288: RuntimeWarning: invalid value encountered in scalar divide\n",
      "  accuracy_class_1 = cm[1, 1] / (cm[0, 1] + cm[1, 1])\n",
      "c:\\Users\\vitto\\OneDrive\\Desktop\\Personale\\ML - Soccer\\BothToScore\\..\\lib\\Utility.py:288: RuntimeWarning: invalid value encountered in scalar divide\n",
      "  accuracy_class_1 = cm[1, 1] / (cm[0, 1] + cm[1, 1])\n"
     ]
    },
    {
     "name": "stdout",
     "output_type": "stream",
     "text": [
      "328 17:49:57 41.8 Trying with following combo ('RecentFormRatio', 'Last3PointsDifference')\n",
      "328 17:49:57 41.61 Trying with following combo ('RecentFormRatio', 'Last3PointsDifference')\n",
      "329 17:49:59 45.11 Trying with following combo ('RecentFormRatio', 'GoalRatioDifference')\n",
      "329 17:49:59 45.25 Trying with following combo ('RecentFormRatio', 'GoalRatioDifference')\n",
      "330 17:50:01 33.6 Trying with following combo ('RecentFormRatio', 'EwmaGoalsSum')\n",
      "330 17:50:01 32.9 Trying with following combo ('RecentFormRatio', 'EwmaGoalsSum')\n",
      "331 17:50:02 32.73 Trying with following combo ('RecentFormRatio', 'GoalsSum')\n",
      "331 17:50:02 33.78 Trying with following combo ('RecentFormRatio', 'GoalsSum')\n",
      "332 17:50:03 46.36 Trying with following combo ('RecentFormRatio', 'HomePointGap')\n",
      "332 17:50:04 46.35 Trying with following combo ('RecentFormRatio', 'HomePointGap')\n",
      "333 17:50:05 46.36 Trying with following combo ('RecentFormRatio', 'AwayPointGap')\n",
      "333 17:50:05 46.37 Trying with following combo ('RecentFormRatio', 'AwayPointGap')\n",
      "334 17:50:06 44.92 Trying with following combo ('RecentFormRatio', 'HomeGoalGap')\n",
      "334 17:50:06 44.81 Trying with following combo ('RecentFormRatio', 'HomeGoalGap')\n",
      "335 17:50:07 44.92 Trying with following combo ('RecentFormRatio', 'AwayGoalGap')\n",
      "335 17:50:07 44.97 Trying with following combo ('RecentFormRatio', 'AwayGoalGap')\n",
      "336 17:50:09 33.03 Trying with following combo ('RecentFormRatio', 'feat1')\n",
      "336 17:50:09 33.2 Trying with following combo ('RecentFormRatio', 'feat1')\n"
     ]
    },
    {
     "name": "stderr",
     "output_type": "stream",
     "text": [
      "c:\\Users\\vitto\\OneDrive\\Desktop\\Personale\\ML - Soccer\\BothToScore\\..\\lib\\Utility.py:288: RuntimeWarning: invalid value encountered in scalar divide\n",
      "  accuracy_class_1 = cm[1, 1] / (cm[0, 1] + cm[1, 1])\n",
      "c:\\Users\\vitto\\OneDrive\\Desktop\\Personale\\ML - Soccer\\BothToScore\\..\\lib\\Utility.py:288: RuntimeWarning: invalid value encountered in scalar divide\n",
      "  accuracy_class_1 = cm[1, 1] / (cm[0, 1] + cm[1, 1])\n"
     ]
    },
    {
     "name": "stdout",
     "output_type": "stream",
     "text": [
      "337 17:50:10 33.04 Trying with following combo ('RecentFormRatio', 'feat2')\n",
      "337 17:50:10 33.26 Trying with following combo ('RecentFormRatio', 'feat2')\n",
      "338 17:50:11 32.65 Trying with following combo ('RecentFormRatio', 'FormDiff')\n",
      "338 17:50:11 32.89 Trying with following combo ('RecentFormRatio', 'FormDiff')\n"
     ]
    },
    {
     "name": "stderr",
     "output_type": "stream",
     "text": [
      "c:\\Users\\vitto\\OneDrive\\Desktop\\Personale\\ML - Soccer\\BothToScore\\..\\lib\\Utility.py:288: RuntimeWarning: invalid value encountered in scalar divide\n",
      "  accuracy_class_1 = cm[1, 1] / (cm[0, 1] + cm[1, 1])\n",
      "c:\\Users\\vitto\\OneDrive\\Desktop\\Personale\\ML - Soccer\\BothToScore\\..\\lib\\Utility.py:288: RuntimeWarning: invalid value encountered in scalar divide\n",
      "  accuracy_class_1 = cm[1, 1] / (cm[0, 1] + cm[1, 1])\n"
     ]
    },
    {
     "name": "stdout",
     "output_type": "stream",
     "text": [
      "339 17:50:12 32.65 Trying with following combo ('RecentFormRatio', 'RecentFormDiff')\n",
      "339 17:50:13 32.98 Trying with following combo ('RecentFormRatio', 'RecentFormDiff')\n"
     ]
    },
    {
     "name": "stderr",
     "output_type": "stream",
     "text": [
      "c:\\Users\\vitto\\OneDrive\\Desktop\\Personale\\ML - Soccer\\BothToScore\\..\\lib\\Utility.py:288: RuntimeWarning: invalid value encountered in scalar divide\n",
      "  accuracy_class_1 = cm[1, 1] / (cm[0, 1] + cm[1, 1])\n",
      "c:\\Users\\vitto\\OneDrive\\Desktop\\Personale\\ML - Soccer\\BothToScore\\..\\lib\\Utility.py:288: RuntimeWarning: invalid value encountered in scalar divide\n",
      "  accuracy_class_1 = cm[1, 1] / (cm[0, 1] + cm[1, 1])\n"
     ]
    },
    {
     "name": "stdout",
     "output_type": "stream",
     "text": [
      "340 17:50:14 32.81 Trying with following combo ('RecentFormRatio', 'GoalCumulativeSum')\n",
      "340 17:50:14 32.94 Trying with following combo ('RecentFormRatio', 'GoalCumulativeSum')\n",
      "341 17:50:15 57.02 Trying with following combo ('RecentFormRatio', 'ATW_LogRegPred')\n",
      "341 17:50:15 36.61 Trying with following combo ('RecentFormRatio', 'ATW_LogRegPred')\n",
      "342 17:50:17 47.63 Trying with following combo ('EloRatio', 'HomeLast3Points')\n",
      "342 17:50:17 46.47 Trying with following combo ('EloRatio', 'HomeLast3Points')\n",
      "343 17:50:19 47.75 Trying with following combo ('EloRatio', 'HomeAvgGoalsScored')\n",
      "343 17:50:19 46.62 Trying with following combo ('EloRatio', 'HomeAvgGoalsScored')\n",
      "344 17:50:21 48.09 Trying with following combo ('EloRatio', 'HomeAvgGoalsConceded')\n",
      "344 17:50:21 45.95 Trying with following combo ('EloRatio', 'HomeAvgGoalsConceded')\n",
      "345 17:50:23 47.67 Trying with following combo ('EloRatio', 'HomeEwmaPoints')\n",
      "345 17:50:23 46.34 Trying with following combo ('EloRatio', 'HomeEwmaPoints')\n",
      "346 17:50:25 47.65 Trying with following combo ('EloRatio', 'HomeEwmaGoalsScored')\n",
      "346 17:50:25 46.54 Trying with following combo ('EloRatio', 'HomeEwmaGoalsScored')\n",
      "347 17:50:28 47.98 Trying with following combo ('EloRatio', 'HomeEwmaGoalsConceded')\n",
      "347 17:50:28 45.94 Trying with following combo ('EloRatio', 'HomeEwmaGoalsConceded')\n",
      "348 17:50:30 47.58 Trying with following combo ('EloRatio', 'AwayLast3Points')\n",
      "348 17:50:30 45.09 Trying with following combo ('EloRatio', 'AwayLast3Points')\n",
      "349 17:50:32 48.11 Trying with following combo ('EloRatio', 'AwayAvgGoalsScored')\n",
      "349 17:50:32 43.39 Trying with following combo ('EloRatio', 'AwayAvgGoalsScored')\n",
      "350 17:50:34 47.81 Trying with following combo ('EloRatio', 'AwayAvgGoalsConceded')\n",
      "350 17:50:34 46.55 Trying with following combo ('EloRatio', 'AwayAvgGoalsConceded')\n",
      "351 17:50:37 47.73 Trying with following combo ('EloRatio', 'AwayEwmaPoints')\n",
      "351 17:50:37 46.3 Trying with following combo ('EloRatio', 'AwayEwmaPoints')\n",
      "352 17:50:39 48.2 Trying with following combo ('EloRatio', 'AwayEwmaGoalsScored')\n",
      "352 17:50:39 43.59 Trying with following combo ('EloRatio', 'AwayEwmaGoalsScored')\n",
      "353 17:50:41 47.83 Trying with following combo ('EloRatio', 'AwayEwmaGoalsConceded')\n",
      "353 17:50:41 46.54 Trying with following combo ('EloRatio', 'AwayEwmaGoalsConceded')\n",
      "354 17:50:43 47.7 Trying with following combo ('EloRatio', 'HomeWins')\n",
      "354 17:50:44 46.74 Trying with following combo ('EloRatio', 'HomeWins')\n",
      "355 17:50:45 47.57 Trying with following combo ('EloRatio', 'HomeDraws')\n",
      "355 17:50:45 46.5 Trying with following combo ('EloRatio', 'HomeDraws')\n",
      "356 17:50:47 47.57 Trying with following combo ('EloRatio', 'HomeLosses')\n",
      "356 17:50:47 46.72 Trying with following combo ('EloRatio', 'HomeLosses')\n",
      "357 17:50:49 47.57 Trying with following combo ('EloRatio', 'AwayWins')\n",
      "357 17:50:49 46.69 Trying with following combo ('EloRatio', 'AwayWins')\n",
      "358 17:50:51 47.57 Trying with following combo ('EloRatio', 'AwayDraws')\n",
      "358 17:50:51 46.5 Trying with following combo ('EloRatio', 'AwayDraws')\n",
      "359 17:50:53 47.67 Trying with following combo ('EloRatio', 'AwayLosses')\n",
      "359 17:50:53 46.67 Trying with following combo ('EloRatio', 'AwayLosses')\n",
      "360 17:50:54 49.25 Trying with following combo ('EloRatio', 'UltimoScontroDiretto')\n",
      "360 17:50:54 47.84 Trying with following combo ('EloRatio', 'UltimoScontroDiretto')\n",
      "361 17:50:56 47.56 Trying with following combo ('EloRatio', 'Last3PointsDifference')\n",
      "361 17:50:56 45.88 Trying with following combo ('EloRatio', 'Last3PointsDifference')\n",
      "362 17:50:58 47.53 Trying with following combo ('EloRatio', 'GoalRatioDifference')\n",
      "362 17:50:58 46.85 Trying with following combo ('EloRatio', 'GoalRatioDifference')\n",
      "363 17:51:01 48.24 Trying with following combo ('EloRatio', 'EwmaGoalsSum')\n",
      "363 17:51:01 45.79 Trying with following combo ('EloRatio', 'EwmaGoalsSum')\n",
      "364 17:51:03 47.49 Trying with following combo ('EloRatio', 'GoalsSum')\n",
      "364 17:51:03 46.67 Trying with following combo ('EloRatio', 'GoalsSum')\n",
      "365 17:51:04 47.15 Trying with following combo ('EloRatio', 'HomePointGap')\n",
      "365 17:51:05 46.09 Trying with following combo ('EloRatio', 'HomePointGap')\n",
      "366 17:51:06 47.15 Trying with following combo ('EloRatio', 'AwayPointGap')\n",
      "366 17:51:06 46.07 Trying with following combo ('EloRatio', 'AwayPointGap')\n",
      "367 17:51:08 47.3 Trying with following combo ('EloRatio', 'HomeGoalGap')\n",
      "367 17:51:08 45.6 Trying with following combo ('EloRatio', 'HomeGoalGap')\n",
      "368 17:51:10 47.3 Trying with following combo ('EloRatio', 'AwayGoalGap')\n",
      "368 17:51:10 45.64 Trying with following combo ('EloRatio', 'AwayGoalGap')\n",
      "369 17:51:12 47.07 Trying with following combo ('EloRatio', 'feat1')\n",
      "369 17:51:12 46.86 Trying with following combo ('EloRatio', 'feat1')\n",
      "370 17:51:14 47.16 Trying with following combo ('EloRatio', 'feat2')\n",
      "370 17:51:14 45.91 Trying with following combo ('EloRatio', 'feat2')\n",
      "371 17:51:15 47.73 Trying with following combo ('EloRatio', 'FormDiff')\n",
      "371 17:51:16 46.83 Trying with following combo ('EloRatio', 'FormDiff')\n",
      "372 17:51:17 47.63 Trying with following combo ('EloRatio', 'RecentFormDiff')\n",
      "372 17:51:17 46.74 Trying with following combo ('EloRatio', 'RecentFormDiff')\n",
      "373 17:51:19 47.94 Trying with following combo ('EloRatio', 'GoalCumulativeSum')\n",
      "373 17:51:19 46.66 Trying with following combo ('EloRatio', 'GoalCumulativeSum')\n",
      "374 17:51:21 48.87 Trying with following combo ('EloRatio', 'ATW_LogRegPred')\n",
      "374 17:51:21 46.63 Trying with following combo ('EloRatio', 'ATW_LogRegPred')\n",
      "375 17:51:22 38.76 Trying with following combo ('HomeLast3Points', 'HomeAvgGoalsScored')\n",
      "375 17:51:22 35.14 Trying with following combo ('HomeLast3Points', 'HomeAvgGoalsScored')\n",
      "376 17:51:23 40.11 Trying with following combo ('HomeLast3Points', 'HomeAvgGoalsConceded')\n",
      "376 17:51:23 38.76 Trying with following combo ('HomeLast3Points', 'HomeAvgGoalsConceded')\n",
      "377 17:51:24 38.48 Trying with following combo ('HomeLast3Points', 'HomeEwmaPoints')\n",
      "377 17:51:25 38.31 Trying with following combo ('HomeLast3Points', 'HomeEwmaPoints')\n",
      "378 17:51:26 38.34 Trying with following combo ('HomeLast3Points', 'HomeEwmaGoalsScored')\n",
      "378 17:51:26 35.43 Trying with following combo ('HomeLast3Points', 'HomeEwmaGoalsScored')\n",
      "379 17:51:27 40.4 Trying with following combo ('HomeLast3Points', 'HomeEwmaGoalsConceded')\n",
      "379 17:51:28 40.22 Trying with following combo ('HomeLast3Points', 'HomeEwmaGoalsConceded')\n",
      "380 17:51:29 42.21 Trying with following combo ('HomeLast3Points', 'AwayLast3Points')\n",
      "380 17:51:29 38.15 Trying with following combo ('HomeLast3Points', 'AwayLast3Points')\n",
      "381 17:51:30 42.28 Trying with following combo ('HomeLast3Points', 'AwayAvgGoalsScored')\n",
      "381 17:51:30 39.06 Trying with following combo ('HomeLast3Points', 'AwayAvgGoalsScored')\n",
      "382 17:51:31 38.38 Trying with following combo ('HomeLast3Points', 'AwayAvgGoalsConceded')\n",
      "382 17:51:31 36.09 Trying with following combo ('HomeLast3Points', 'AwayAvgGoalsConceded')\n",
      "383 17:51:32 42.09 Trying with following combo ('HomeLast3Points', 'AwayEwmaPoints')\n",
      "383 17:51:32 38.65 Trying with following combo ('HomeLast3Points', 'AwayEwmaPoints')\n",
      "384 17:51:35 42.52 Trying with following combo ('HomeLast3Points', 'AwayEwmaGoalsScored')\n",
      "384 17:51:35 40.47 Trying with following combo ('HomeLast3Points', 'AwayEwmaGoalsScored')\n",
      "385 17:51:36 38.44 Trying with following combo ('HomeLast3Points', 'AwayEwmaGoalsConceded')\n",
      "385 17:51:37 35.01 Trying with following combo ('HomeLast3Points', 'AwayEwmaGoalsConceded')\n",
      "386 17:51:37 37.89 Trying with following combo ('HomeLast3Points', 'HomeWins')\n",
      "386 17:51:37 37.69 Trying with following combo ('HomeLast3Points', 'HomeWins')\n",
      "387 17:51:38 37.69 Trying with following combo ('HomeLast3Points', 'HomeDraws')\n",
      "387 17:51:38 34.93 Trying with following combo ('HomeLast3Points', 'HomeDraws')\n",
      "388 17:51:39 37.69 Trying with following combo ('HomeLast3Points', 'HomeLosses')\n",
      "388 17:51:39 35.82 Trying with following combo ('HomeLast3Points', 'HomeLosses')\n",
      "389 17:51:40 37.69 Trying with following combo ('HomeLast3Points', 'AwayWins')\n",
      "389 17:51:40 35.82 Trying with following combo ('HomeLast3Points', 'AwayWins')\n",
      "390 17:51:41 37.69 Trying with following combo ('HomeLast3Points', 'AwayDraws')\n",
      "390 17:51:41 34.93 Trying with following combo ('HomeLast3Points', 'AwayDraws')\n",
      "391 17:51:42 37.89 Trying with following combo ('HomeLast3Points', 'AwayLosses')\n",
      "391 17:51:42 37.69 Trying with following combo ('HomeLast3Points', 'AwayLosses')\n",
      "392 17:51:43 40.63 Trying with following combo ('HomeLast3Points', 'UltimoScontroDiretto')\n",
      "392 17:51:43 37.88 Trying with following combo ('HomeLast3Points', 'UltimoScontroDiretto')\n",
      "393 17:51:44 42.21 Trying with following combo ('HomeLast3Points', 'Last3PointsDifference')\n",
      "393 17:51:44 40.57 Trying with following combo ('HomeLast3Points', 'Last3PointsDifference')\n",
      "394 17:51:46 46.08 Trying with following combo ('HomeLast3Points', 'GoalRatioDifference')\n",
      "394 17:51:46 46.6 Trying with following combo ('HomeLast3Points', 'GoalRatioDifference')\n",
      "395 17:51:47 39.88 Trying with following combo ('HomeLast3Points', 'EwmaGoalsSum')\n",
      "395 17:51:47 36.77 Trying with following combo ('HomeLast3Points', 'EwmaGoalsSum')\n",
      "396 17:51:48 38.41 Trying with following combo ('HomeLast3Points', 'GoalsSum')\n",
      "396 17:51:49 35.86 Trying with following combo ('HomeLast3Points', 'GoalsSum')\n",
      "397 17:51:49 46.36 Trying with following combo ('HomeLast3Points', 'HomePointGap')\n",
      "397 17:51:50 46.06 Trying with following combo ('HomeLast3Points', 'HomePointGap')\n",
      "398 17:51:51 46.36 Trying with following combo ('HomeLast3Points', 'AwayPointGap')\n",
      "398 17:51:51 45.73 Trying with following combo ('HomeLast3Points', 'AwayPointGap')\n",
      "399 17:51:52 45.68 Trying with following combo ('HomeLast3Points', 'HomeGoalGap')\n",
      "399 17:51:52 45.43 Trying with following combo ('HomeLast3Points', 'HomeGoalGap')\n",
      "400 17:51:53 45.68 Trying with following combo ('HomeLast3Points', 'AwayGoalGap')\n",
      "400 17:51:53 45.16 Trying with following combo ('HomeLast3Points', 'AwayGoalGap')\n",
      "401 17:51:54 36.85 Trying with following combo ('HomeLast3Points', 'feat1')\n",
      "401 17:51:54 33.73 Trying with following combo ('HomeLast3Points', 'feat1')\n",
      "402 17:51:55 37.42 Trying with following combo ('HomeLast3Points', 'feat2')\n",
      "402 17:51:55 34.62 Trying with following combo ('HomeLast3Points', 'feat2')\n",
      "403 17:51:56 38.03 Trying with following combo ('HomeLast3Points', 'FormDiff')\n",
      "403 17:51:56 34.84 Trying with following combo ('HomeLast3Points', 'FormDiff')\n",
      "404 17:51:57 37.7 Trying with following combo ('HomeLast3Points', 'RecentFormDiff')\n",
      "404 17:51:57 35.43 Trying with following combo ('HomeLast3Points', 'RecentFormDiff')\n",
      "405 17:51:58 38.86 Trying with following combo ('HomeLast3Points', 'GoalCumulativeSum')\n",
      "405 17:51:58 35.46 Trying with following combo ('HomeLast3Points', 'GoalCumulativeSum')\n",
      "406 17:51:59 49.07 Trying with following combo ('HomeLast3Points', 'ATW_LogRegPred')\n",
      "406 17:51:59 43.45 Trying with following combo ('HomeLast3Points', 'ATW_LogRegPred')\n",
      "407 17:52:00 39.89 Trying with following combo ('HomeAvgGoalsScored', 'HomeAvgGoalsConceded')\n",
      "407 17:52:01 34.77 Trying with following combo ('HomeAvgGoalsScored', 'HomeAvgGoalsConceded')\n",
      "408 17:52:02 39.09 Trying with following combo ('HomeAvgGoalsScored', 'HomeEwmaPoints')\n",
      "408 17:52:02 36.51 Trying with following combo ('HomeAvgGoalsScored', 'HomeEwmaPoints')\n",
      "409 17:52:04 32.62 Trying with following combo ('HomeAvgGoalsScored', 'HomeEwmaGoalsScored')\n"
     ]
    },
    {
     "name": "stderr",
     "output_type": "stream",
     "text": [
      "c:\\Users\\vitto\\OneDrive\\Desktop\\Personale\\ML - Soccer\\BothToScore\\..\\lib\\Utility.py:288: RuntimeWarning: invalid value encountered in scalar divide\n",
      "  accuracy_class_1 = cm[1, 1] / (cm[0, 1] + cm[1, 1])\n",
      "c:\\Users\\vitto\\OneDrive\\Desktop\\Personale\\ML - Soccer\\BothToScore\\..\\lib\\Utility.py:288: RuntimeWarning: invalid value encountered in scalar divide\n",
      "  accuracy_class_1 = cm[1, 1] / (cm[0, 1] + cm[1, 1])\n"
     ]
    },
    {
     "name": "stdout",
     "output_type": "stream",
     "text": [
      "409 17:52:04 32.92 Trying with following combo ('HomeAvgGoalsScored', 'HomeEwmaGoalsScored')\n",
      "410 17:52:06 40.15 Trying with following combo ('HomeAvgGoalsScored', 'HomeEwmaGoalsConceded')\n",
      "410 17:52:06 35.4 Trying with following combo ('HomeAvgGoalsScored', 'HomeEwmaGoalsConceded')\n",
      "411 17:52:07 37.82 Trying with following combo ('HomeAvgGoalsScored', 'AwayLast3Points')\n",
      "411 17:52:07 34.09 Trying with following combo ('HomeAvgGoalsScored', 'AwayLast3Points')\n",
      "412 17:52:08 39.8 Trying with following combo ('HomeAvgGoalsScored', 'AwayAvgGoalsScored')\n",
      "412 17:52:08 39.45 Trying with following combo ('HomeAvgGoalsScored', 'AwayAvgGoalsScored')\n",
      "413 17:52:09 32.66 Trying with following combo ('HomeAvgGoalsScored', 'AwayAvgGoalsConceded')\n",
      "413 17:52:09 32.66 Trying with following combo ('HomeAvgGoalsScored', 'AwayAvgGoalsConceded')\n",
      "414 17:52:10 39.02 Trying with following combo ('HomeAvgGoalsScored', 'AwayEwmaPoints')\n",
      "414 17:52:10 33.78 Trying with following combo ('HomeAvgGoalsScored', 'AwayEwmaPoints')\n",
      "415 17:52:12 39.87 Trying with following combo ('HomeAvgGoalsScored', 'AwayEwmaGoalsScored')\n",
      "415 17:52:12 37.96 Trying with following combo ('HomeAvgGoalsScored', 'AwayEwmaGoalsScored')\n",
      "416 17:52:13 32.68 Trying with following combo ('HomeAvgGoalsScored', 'AwayEwmaGoalsConceded')\n",
      "416 17:52:13 32.67 Trying with following combo ('HomeAvgGoalsScored', 'AwayEwmaGoalsConceded')\n",
      "417 17:52:14 32.62 Trying with following combo ('HomeAvgGoalsScored', 'HomeWins')\n",
      "417 17:52:14 32.85 Trying with following combo ('HomeAvgGoalsScored', 'HomeWins')\n"
     ]
    },
    {
     "name": "stderr",
     "output_type": "stream",
     "text": [
      "c:\\Users\\vitto\\OneDrive\\Desktop\\Personale\\ML - Soccer\\BothToScore\\..\\lib\\Utility.py:288: RuntimeWarning: invalid value encountered in scalar divide\n",
      "  accuracy_class_1 = cm[1, 1] / (cm[0, 1] + cm[1, 1])\n",
      "c:\\Users\\vitto\\OneDrive\\Desktop\\Personale\\ML - Soccer\\BothToScore\\..\\lib\\Utility.py:288: RuntimeWarning: invalid value encountered in scalar divide\n",
      "  accuracy_class_1 = cm[1, 1] / (cm[0, 1] + cm[1, 1])\n"
     ]
    },
    {
     "name": "stdout",
     "output_type": "stream",
     "text": [
      "418 17:52:15 32.62 Trying with following combo ('HomeAvgGoalsScored', 'HomeDraws')\n",
      "418 17:52:15 33.08 Trying with following combo ('HomeAvgGoalsScored', 'HomeDraws')\n"
     ]
    },
    {
     "name": "stderr",
     "output_type": "stream",
     "text": [
      "c:\\Users\\vitto\\OneDrive\\Desktop\\Personale\\ML - Soccer\\BothToScore\\..\\lib\\Utility.py:288: RuntimeWarning: invalid value encountered in scalar divide\n",
      "  accuracy_class_1 = cm[1, 1] / (cm[0, 1] + cm[1, 1])\n",
      "c:\\Users\\vitto\\OneDrive\\Desktop\\Personale\\ML - Soccer\\BothToScore\\..\\lib\\Utility.py:288: RuntimeWarning: invalid value encountered in scalar divide\n",
      "  accuracy_class_1 = cm[1, 1] / (cm[0, 1] + cm[1, 1])\n"
     ]
    },
    {
     "name": "stdout",
     "output_type": "stream",
     "text": [
      "419 17:52:16 32.62 Trying with following combo ('HomeAvgGoalsScored', 'HomeLosses')\n",
      "419 17:52:16 32.67 Trying with following combo ('HomeAvgGoalsScored', 'HomeLosses')\n"
     ]
    },
    {
     "name": "stderr",
     "output_type": "stream",
     "text": [
      "c:\\Users\\vitto\\OneDrive\\Desktop\\Personale\\ML - Soccer\\BothToScore\\..\\lib\\Utility.py:288: RuntimeWarning: invalid value encountered in scalar divide\n",
      "  accuracy_class_1 = cm[1, 1] / (cm[0, 1] + cm[1, 1])\n",
      "c:\\Users\\vitto\\OneDrive\\Desktop\\Personale\\ML - Soccer\\BothToScore\\..\\lib\\Utility.py:288: RuntimeWarning: invalid value encountered in scalar divide\n",
      "  accuracy_class_1 = cm[1, 1] / (cm[0, 1] + cm[1, 1])\n"
     ]
    },
    {
     "name": "stdout",
     "output_type": "stream",
     "text": [
      "420 17:52:17 32.62 Trying with following combo ('HomeAvgGoalsScored', 'AwayWins')\n",
      "420 17:52:17 32.67 Trying with following combo ('HomeAvgGoalsScored', 'AwayWins')\n"
     ]
    },
    {
     "name": "stderr",
     "output_type": "stream",
     "text": [
      "c:\\Users\\vitto\\OneDrive\\Desktop\\Personale\\ML - Soccer\\BothToScore\\..\\lib\\Utility.py:288: RuntimeWarning: invalid value encountered in scalar divide\n",
      "  accuracy_class_1 = cm[1, 1] / (cm[0, 1] + cm[1, 1])\n",
      "c:\\Users\\vitto\\OneDrive\\Desktop\\Personale\\ML - Soccer\\BothToScore\\..\\lib\\Utility.py:288: RuntimeWarning: invalid value encountered in scalar divide\n",
      "  accuracy_class_1 = cm[1, 1] / (cm[0, 1] + cm[1, 1])\n"
     ]
    },
    {
     "name": "stdout",
     "output_type": "stream",
     "text": [
      "421 17:52:18 32.62 Trying with following combo ('HomeAvgGoalsScored', 'AwayDraws')\n",
      "421 17:52:18 33.08 Trying with following combo ('HomeAvgGoalsScored', 'AwayDraws')\n"
     ]
    },
    {
     "name": "stderr",
     "output_type": "stream",
     "text": [
      "c:\\Users\\vitto\\OneDrive\\Desktop\\Personale\\ML - Soccer\\BothToScore\\..\\lib\\Utility.py:288: RuntimeWarning: invalid value encountered in scalar divide\n",
      "  accuracy_class_1 = cm[1, 1] / (cm[0, 1] + cm[1, 1])\n",
      "c:\\Users\\vitto\\OneDrive\\Desktop\\Personale\\ML - Soccer\\BothToScore\\..\\lib\\Utility.py:288: RuntimeWarning: invalid value encountered in scalar divide\n",
      "  accuracy_class_1 = cm[1, 1] / (cm[0, 1] + cm[1, 1])\n"
     ]
    },
    {
     "name": "stdout",
     "output_type": "stream",
     "text": [
      "422 17:52:19 32.62 Trying with following combo ('HomeAvgGoalsScored', 'AwayLosses')\n",
      "422 17:52:19 32.85 Trying with following combo ('HomeAvgGoalsScored', 'AwayLosses')\n"
     ]
    },
    {
     "name": "stderr",
     "output_type": "stream",
     "text": [
      "c:\\Users\\vitto\\OneDrive\\Desktop\\Personale\\ML - Soccer\\BothToScore\\..\\lib\\Utility.py:288: RuntimeWarning: invalid value encountered in scalar divide\n",
      "  accuracy_class_1 = cm[1, 1] / (cm[0, 1] + cm[1, 1])\n",
      "c:\\Users\\vitto\\OneDrive\\Desktop\\Personale\\ML - Soccer\\BothToScore\\..\\lib\\Utility.py:288: RuntimeWarning: invalid value encountered in scalar divide\n",
      "  accuracy_class_1 = cm[1, 1] / (cm[0, 1] + cm[1, 1])\n"
     ]
    },
    {
     "name": "stdout",
     "output_type": "stream",
     "text": [
      "423 17:52:20 32.17 Trying with following combo ('HomeAvgGoalsScored', 'UltimoScontroDiretto')\n",
      "423 17:52:20 32.8 Trying with following combo ('HomeAvgGoalsScored', 'UltimoScontroDiretto')\n"
     ]
    },
    {
     "name": "stderr",
     "output_type": "stream",
     "text": [
      "c:\\Users\\vitto\\OneDrive\\Desktop\\Personale\\ML - Soccer\\BothToScore\\..\\lib\\Utility.py:288: RuntimeWarning: invalid value encountered in scalar divide\n",
      "  accuracy_class_1 = cm[1, 1] / (cm[0, 1] + cm[1, 1])\n",
      "c:\\Users\\vitto\\OneDrive\\Desktop\\Personale\\ML - Soccer\\BothToScore\\..\\lib\\Utility.py:288: RuntimeWarning: invalid value encountered in scalar divide\n",
      "  accuracy_class_1 = cm[1, 1] / (cm[0, 1] + cm[1, 1])\n"
     ]
    },
    {
     "name": "stdout",
     "output_type": "stream",
     "text": [
      "424 17:52:21 42.3 Trying with following combo ('HomeAvgGoalsScored', 'Last3PointsDifference')\n",
      "424 17:52:21 41.12 Trying with following combo ('HomeAvgGoalsScored', 'Last3PointsDifference')\n",
      "425 17:52:23 45.51 Trying with following combo ('HomeAvgGoalsScored', 'GoalRatioDifference')\n",
      "425 17:52:23 47.79 Trying with following combo ('HomeAvgGoalsScored', 'GoalRatioDifference')\n",
      "426 17:52:24 36.99 Trying with following combo ('HomeAvgGoalsScored', 'EwmaGoalsSum')\n",
      "426 17:52:24 34.23 Trying with following combo ('HomeAvgGoalsScored', 'EwmaGoalsSum')\n",
      "427 17:52:25 33.08 Trying with following combo ('HomeAvgGoalsScored', 'GoalsSum')\n",
      "427 17:52:25 33.28 Trying with following combo ('HomeAvgGoalsScored', 'GoalsSum')\n",
      "428 17:52:26 46.06 Trying with following combo ('HomeAvgGoalsScored', 'HomePointGap')\n",
      "428 17:52:26 47.36 Trying with following combo ('HomeAvgGoalsScored', 'HomePointGap')\n",
      "429 17:52:27 46.06 Trying with following combo ('HomeAvgGoalsScored', 'AwayPointGap')\n",
      "429 17:52:27 47.36 Trying with following combo ('HomeAvgGoalsScored', 'AwayPointGap')\n",
      "430 17:52:28 44.62 Trying with following combo ('HomeAvgGoalsScored', 'HomeGoalGap')\n",
      "430 17:52:29 46.19 Trying with following combo ('HomeAvgGoalsScored', 'HomeGoalGap')\n",
      "431 17:52:29 44.62 Trying with following combo ('HomeAvgGoalsScored', 'AwayGoalGap')\n",
      "431 17:52:30 45.74 Trying with following combo ('HomeAvgGoalsScored', 'AwayGoalGap')\n",
      "432 17:52:31 33.05 Trying with following combo ('HomeAvgGoalsScored', 'feat1')\n",
      "432 17:52:31 33.29 Trying with following combo ('HomeAvgGoalsScored', 'feat1')\n",
      "433 17:52:32 33.07 Trying with following combo ('HomeAvgGoalsScored', 'feat2')\n",
      "433 17:52:32 33.15 Trying with following combo ('HomeAvgGoalsScored', 'feat2')\n",
      "434 17:52:33 32.62 Trying with following combo ('HomeAvgGoalsScored', 'FormDiff')\n",
      "434 17:52:33 33.12 Trying with following combo ('HomeAvgGoalsScored', 'FormDiff')\n"
     ]
    },
    {
     "name": "stderr",
     "output_type": "stream",
     "text": [
      "c:\\Users\\vitto\\OneDrive\\Desktop\\Personale\\ML - Soccer\\BothToScore\\..\\lib\\Utility.py:288: RuntimeWarning: invalid value encountered in scalar divide\n",
      "  accuracy_class_1 = cm[1, 1] / (cm[0, 1] + cm[1, 1])\n",
      "c:\\Users\\vitto\\OneDrive\\Desktop\\Personale\\ML - Soccer\\BothToScore\\..\\lib\\Utility.py:288: RuntimeWarning: invalid value encountered in scalar divide\n",
      "  accuracy_class_1 = cm[1, 1] / (cm[0, 1] + cm[1, 1])\n"
     ]
    },
    {
     "name": "stdout",
     "output_type": "stream",
     "text": [
      "435 17:52:34 32.62 Trying with following combo ('HomeAvgGoalsScored', 'RecentFormDiff')\n",
      "435 17:52:34 33.1 Trying with following combo ('HomeAvgGoalsScored', 'RecentFormDiff')\n"
     ]
    },
    {
     "name": "stderr",
     "output_type": "stream",
     "text": [
      "c:\\Users\\vitto\\OneDrive\\Desktop\\Personale\\ML - Soccer\\BothToScore\\..\\lib\\Utility.py:288: RuntimeWarning: invalid value encountered in scalar divide\n",
      "  accuracy_class_1 = cm[1, 1] / (cm[0, 1] + cm[1, 1])\n",
      "c:\\Users\\vitto\\OneDrive\\Desktop\\Personale\\ML - Soccer\\BothToScore\\..\\lib\\Utility.py:288: RuntimeWarning: invalid value encountered in scalar divide\n",
      "  accuracy_class_1 = cm[1, 1] / (cm[0, 1] + cm[1, 1])\n"
     ]
    },
    {
     "name": "stdout",
     "output_type": "stream",
     "text": [
      "436 17:52:35 33.21 Trying with following combo ('HomeAvgGoalsScored', 'GoalCumulativeSum')\n",
      "436 17:52:35 32.82 Trying with following combo ('HomeAvgGoalsScored', 'GoalCumulativeSum')\n",
      "437 17:52:36 48.36 Trying with following combo ('HomeAvgGoalsScored', 'ATW_LogRegPred')\n",
      "437 17:52:36 34.17 Trying with following combo ('HomeAvgGoalsScored', 'ATW_LogRegPred')\n",
      "438 17:52:38 40.36 Trying with following combo ('HomeAvgGoalsConceded', 'HomeEwmaPoints')\n",
      "438 17:52:38 37.71 Trying with following combo ('HomeAvgGoalsConceded', 'HomeEwmaPoints')\n",
      "439 17:52:39 39.97 Trying with following combo ('HomeAvgGoalsConceded', 'HomeEwmaGoalsScored')\n",
      "439 17:52:39 34.67 Trying with following combo ('HomeAvgGoalsConceded', 'HomeEwmaGoalsScored')\n",
      "440 17:52:41 40.38 Trying with following combo ('HomeAvgGoalsConceded', 'HomeEwmaGoalsConceded')\n",
      "440 17:52:41 37.54 Trying with following combo ('HomeAvgGoalsConceded', 'HomeEwmaGoalsConceded')\n",
      "441 17:52:42 42.35 Trying with following combo ('HomeAvgGoalsConceded', 'AwayLast3Points')\n",
      "441 17:52:42 39.33 Trying with following combo ('HomeAvgGoalsConceded', 'AwayLast3Points')\n",
      "442 17:52:43 42.71 Trying with following combo ('HomeAvgGoalsConceded', 'AwayAvgGoalsScored')\n",
      "442 17:52:43 39.97 Trying with following combo ('HomeAvgGoalsConceded', 'AwayAvgGoalsScored')\n",
      "443 17:52:44 41.04 Trying with following combo ('HomeAvgGoalsConceded', 'AwayAvgGoalsConceded')\n",
      "443 17:52:44 35.04 Trying with following combo ('HomeAvgGoalsConceded', 'AwayAvgGoalsConceded')\n",
      "444 17:52:45 42.66 Trying with following combo ('HomeAvgGoalsConceded', 'AwayEwmaPoints')\n",
      "444 17:52:45 41.21 Trying with following combo ('HomeAvgGoalsConceded', 'AwayEwmaPoints')\n",
      "445 17:52:47 43.31 Trying with following combo ('HomeAvgGoalsConceded', 'AwayEwmaGoalsScored')\n",
      "445 17:52:47 39.38 Trying with following combo ('HomeAvgGoalsConceded', 'AwayEwmaGoalsScored')\n",
      "446 17:52:48 40.79 Trying with following combo ('HomeAvgGoalsConceded', 'AwayEwmaGoalsConceded')\n",
      "446 17:52:48 37.14 Trying with following combo ('HomeAvgGoalsConceded', 'AwayEwmaGoalsConceded')\n",
      "447 17:52:49 39.92 Trying with following combo ('HomeAvgGoalsConceded', 'HomeWins')\n",
      "447 17:52:49 36.71 Trying with following combo ('HomeAvgGoalsConceded', 'HomeWins')\n",
      "448 17:52:50 39.92 Trying with following combo ('HomeAvgGoalsConceded', 'HomeDraws')\n",
      "448 17:52:50 36.25 Trying with following combo ('HomeAvgGoalsConceded', 'HomeDraws')\n",
      "449 17:52:51 39.92 Trying with following combo ('HomeAvgGoalsConceded', 'HomeLosses')\n",
      "449 17:52:51 35.35 Trying with following combo ('HomeAvgGoalsConceded', 'HomeLosses')\n",
      "450 17:52:52 39.92 Trying with following combo ('HomeAvgGoalsConceded', 'AwayWins')\n",
      "450 17:52:52 34.53 Trying with following combo ('HomeAvgGoalsConceded', 'AwayWins')\n",
      "451 17:52:53 39.92 Trying with following combo ('HomeAvgGoalsConceded', 'AwayDraws')\n",
      "451 17:52:53 36.25 Trying with following combo ('HomeAvgGoalsConceded', 'AwayDraws')\n",
      "452 17:52:54 39.92 Trying with following combo ('HomeAvgGoalsConceded', 'AwayLosses')\n",
      "452 17:52:54 36.71 Trying with following combo ('HomeAvgGoalsConceded', 'AwayLosses')\n",
      "453 17:52:55 41.55 Trying with following combo ('HomeAvgGoalsConceded', 'UltimoScontroDiretto')\n",
      "453 17:52:55 43.23 Trying with following combo ('HomeAvgGoalsConceded', 'UltimoScontroDiretto')\n",
      "454 17:52:56 42.6 Trying with following combo ('HomeAvgGoalsConceded', 'Last3PointsDifference')\n",
      "454 17:52:56 40.37 Trying with following combo ('HomeAvgGoalsConceded', 'Last3PointsDifference')\n",
      "455 17:52:58 46.81 Trying with following combo ('HomeAvgGoalsConceded', 'GoalRatioDifference')\n",
      "455 17:52:58 47.42 Trying with following combo ('HomeAvgGoalsConceded', 'GoalRatioDifference')\n",
      "456 17:53:00 39.95 Trying with following combo ('HomeAvgGoalsConceded', 'EwmaGoalsSum')\n",
      "456 17:53:00 37.28 Trying with following combo ('HomeAvgGoalsConceded', 'EwmaGoalsSum')\n",
      "457 17:53:01 40.64 Trying with following combo ('HomeAvgGoalsConceded', 'GoalsSum')\n",
      "457 17:53:01 36.67 Trying with following combo ('HomeAvgGoalsConceded', 'GoalsSum')\n",
      "458 17:53:02 47.32 Trying with following combo ('HomeAvgGoalsConceded', 'HomePointGap')\n",
      "458 17:53:02 46.17 Trying with following combo ('HomeAvgGoalsConceded', 'HomePointGap')\n",
      "459 17:53:04 47.32 Trying with following combo ('HomeAvgGoalsConceded', 'AwayPointGap')\n",
      "459 17:53:04 46.2 Trying with following combo ('HomeAvgGoalsConceded', 'AwayPointGap')\n",
      "460 17:53:05 46.63 Trying with following combo ('HomeAvgGoalsConceded', 'HomeGoalGap')\n",
      "460 17:53:05 45.29 Trying with following combo ('HomeAvgGoalsConceded', 'HomeGoalGap')\n",
      "461 17:53:06 46.63 Trying with following combo ('HomeAvgGoalsConceded', 'AwayGoalGap')\n",
      "461 17:53:06 45.04 Trying with following combo ('HomeAvgGoalsConceded', 'AwayGoalGap')\n",
      "462 17:53:08 39.66 Trying with following combo ('HomeAvgGoalsConceded', 'feat1')\n",
      "462 17:53:08 34.26 Trying with following combo ('HomeAvgGoalsConceded', 'feat1')\n",
      "463 17:53:09 39.93 Trying with following combo ('HomeAvgGoalsConceded', 'feat2')\n",
      "463 17:53:09 34.75 Trying with following combo ('HomeAvgGoalsConceded', 'feat2')\n",
      "464 17:53:10 39.96 Trying with following combo ('HomeAvgGoalsConceded', 'FormDiff')\n",
      "464 17:53:11 35.05 Trying with following combo ('HomeAvgGoalsConceded', 'FormDiff')\n",
      "465 17:53:13 39.92 Trying with following combo ('HomeAvgGoalsConceded', 'RecentFormDiff')\n",
      "465 17:53:13 35.56 Trying with following combo ('HomeAvgGoalsConceded', 'RecentFormDiff')\n",
      "466 17:53:14 40.63 Trying with following combo ('HomeAvgGoalsConceded', 'GoalCumulativeSum')\n",
      "466 17:53:14 36.65 Trying with following combo ('HomeAvgGoalsConceded', 'GoalCumulativeSum')\n",
      "467 17:53:15 47.98 Trying with following combo ('HomeAvgGoalsConceded', 'ATW_LogRegPred')\n",
      "467 17:53:15 47.98 Trying with following combo ('HomeAvgGoalsConceded', 'ATW_LogRegPred')\n",
      "468 17:53:18 38.95 Trying with following combo ('HomeEwmaPoints', 'HomeEwmaGoalsScored')\n",
      "468 17:53:18 36.29 Trying with following combo ('HomeEwmaPoints', 'HomeEwmaGoalsScored')\n",
      "469 17:53:20 40.45 Trying with following combo ('HomeEwmaPoints', 'HomeEwmaGoalsConceded')\n",
      "469 17:53:20 37.79 Trying with following combo ('HomeEwmaPoints', 'HomeEwmaGoalsConceded')\n",
      "470 17:53:22 41.68 Trying with following combo ('HomeEwmaPoints', 'AwayLast3Points')\n",
      "470 17:53:22 39.1 Trying with following combo ('HomeEwmaPoints', 'AwayLast3Points')\n",
      "471 17:53:23 42.83 Trying with following combo ('HomeEwmaPoints', 'AwayAvgGoalsScored')\n",
      "471 17:53:24 40.26 Trying with following combo ('HomeEwmaPoints', 'AwayAvgGoalsScored')\n",
      "472 17:53:25 39.18 Trying with following combo ('HomeEwmaPoints', 'AwayAvgGoalsConceded')\n",
      "472 17:53:25 35.84 Trying with following combo ('HomeEwmaPoints', 'AwayAvgGoalsConceded')\n",
      "473 17:53:27 42.34 Trying with following combo ('HomeEwmaPoints', 'AwayEwmaPoints')\n",
      "473 17:53:28 40.25 Trying with following combo ('HomeEwmaPoints', 'AwayEwmaPoints')\n",
      "474 17:53:30 42.72 Trying with following combo ('HomeEwmaPoints', 'AwayEwmaGoalsScored')\n",
      "474 17:53:30 40.73 Trying with following combo ('HomeEwmaPoints', 'AwayEwmaGoalsScored')\n",
      "475 17:53:32 39.25 Trying with following combo ('HomeEwmaPoints', 'AwayEwmaGoalsConceded')\n",
      "475 17:53:32 35.95 Trying with following combo ('HomeEwmaPoints', 'AwayEwmaGoalsConceded')\n",
      "476 17:53:34 38.65 Trying with following combo ('HomeEwmaPoints', 'HomeWins')\n",
      "476 17:53:34 37.32 Trying with following combo ('HomeEwmaPoints', 'HomeWins')\n",
      "477 17:53:36 38.41 Trying with following combo ('HomeEwmaPoints', 'HomeDraws')\n",
      "477 17:53:36 35.49 Trying with following combo ('HomeEwmaPoints', 'HomeDraws')\n",
      "478 17:53:37 38.44 Trying with following combo ('HomeEwmaPoints', 'HomeLosses')\n",
      "478 17:53:38 37.34 Trying with following combo ('HomeEwmaPoints', 'HomeLosses')\n",
      "479 17:53:39 38.43 Trying with following combo ('HomeEwmaPoints', 'AwayWins')\n",
      "479 17:53:39 37.23 Trying with following combo ('HomeEwmaPoints', 'AwayWins')\n",
      "480 17:53:41 38.41 Trying with following combo ('HomeEwmaPoints', 'AwayDraws')\n",
      "480 17:53:41 35.49 Trying with following combo ('HomeEwmaPoints', 'AwayDraws')\n",
      "481 17:53:43 38.63 Trying with following combo ('HomeEwmaPoints', 'AwayLosses')\n",
      "481 17:53:43 37.33 Trying with following combo ('HomeEwmaPoints', 'AwayLosses')\n",
      "482 17:53:44 40.62 Trying with following combo ('HomeEwmaPoints', 'UltimoScontroDiretto')\n",
      "482 17:53:44 38.66 Trying with following combo ('HomeEwmaPoints', 'UltimoScontroDiretto')\n",
      "483 17:53:46 41.66 Trying with following combo ('HomeEwmaPoints', 'Last3PointsDifference')\n",
      "483 17:53:46 40.71 Trying with following combo ('HomeEwmaPoints', 'Last3PointsDifference')\n",
      "484 17:53:48 45.82 Trying with following combo ('HomeEwmaPoints', 'GoalRatioDifference')\n",
      "484 17:53:49 46.56 Trying with following combo ('HomeEwmaPoints', 'GoalRatioDifference')\n",
      "485 17:53:51 40.73 Trying with following combo ('HomeEwmaPoints', 'EwmaGoalsSum')\n",
      "485 17:53:51 37.6 Trying with following combo ('HomeEwmaPoints', 'EwmaGoalsSum')\n",
      "486 17:53:52 39.03 Trying with following combo ('HomeEwmaPoints', 'GoalsSum')\n",
      "486 17:53:52 36.11 Trying with following combo ('HomeEwmaPoints', 'GoalsSum')\n",
      "487 17:53:54 46.39 Trying with following combo ('HomeEwmaPoints', 'HomePointGap')\n",
      "487 17:53:54 46.44 Trying with following combo ('HomeEwmaPoints', 'HomePointGap')\n",
      "488 17:53:55 46.39 Trying with following combo ('HomeEwmaPoints', 'AwayPointGap')\n",
      "488 17:53:56 46.65 Trying with following combo ('HomeEwmaPoints', 'AwayPointGap')\n",
      "489 17:53:57 45.53 Trying with following combo ('HomeEwmaPoints', 'HomeGoalGap')\n",
      "489 17:53:58 44.28 Trying with following combo ('HomeEwmaPoints', 'HomeGoalGap')\n",
      "490 17:53:59 45.53 Trying with following combo ('HomeEwmaPoints', 'AwayGoalGap')\n",
      "490 17:53:59 44.56 Trying with following combo ('HomeEwmaPoints', 'AwayGoalGap')\n",
      "491 17:54:02 36.64 Trying with following combo ('HomeEwmaPoints', 'feat1')\n",
      "491 17:54:02 34.83 Trying with following combo ('HomeEwmaPoints', 'feat1')\n",
      "492 17:54:03 37.29 Trying with following combo ('HomeEwmaPoints', 'feat2')\n",
      "492 17:54:03 35.78 Trying with following combo ('HomeEwmaPoints', 'feat2')\n",
      "493 17:54:05 38.7 Trying with following combo ('HomeEwmaPoints', 'FormDiff')\n",
      "493 17:54:05 35.22 Trying with following combo ('HomeEwmaPoints', 'FormDiff')\n",
      "494 17:54:06 38.59 Trying with following combo ('HomeEwmaPoints', 'RecentFormDiff')\n",
      "494 17:54:06 36.25 Trying with following combo ('HomeEwmaPoints', 'RecentFormDiff')\n",
      "495 17:54:08 39.7 Trying with following combo ('HomeEwmaPoints', 'GoalCumulativeSum')\n",
      "495 17:54:08 36.72 Trying with following combo ('HomeEwmaPoints', 'GoalCumulativeSum')\n",
      "496 17:54:09 47.81 Trying with following combo ('HomeEwmaPoints', 'ATW_LogRegPred')\n",
      "496 17:54:10 43.73 Trying with following combo ('HomeEwmaPoints', 'ATW_LogRegPred')\n",
      "497 17:54:12 40.12 Trying with following combo ('HomeEwmaGoalsScored', 'HomeEwmaGoalsConceded')\n",
      "497 17:54:12 35.01 Trying with following combo ('HomeEwmaGoalsScored', 'HomeEwmaGoalsConceded')\n",
      "498 17:54:13 38.55 Trying with following combo ('HomeEwmaGoalsScored', 'AwayLast3Points')\n",
      "498 17:54:13 33.79 Trying with following combo ('HomeEwmaGoalsScored', 'AwayLast3Points')\n",
      "499 17:54:15 39.97 Trying with following combo ('HomeEwmaGoalsScored', 'AwayAvgGoalsScored')\n",
      "499 17:54:15 40.1 Trying with following combo ('HomeEwmaGoalsScored', 'AwayAvgGoalsScored')\n",
      "500 17:54:16 32.75 Trying with following combo ('HomeEwmaGoalsScored', 'AwayAvgGoalsConceded')\n",
      "500 17:54:16 32.76 Trying with following combo ('HomeEwmaGoalsScored', 'AwayAvgGoalsConceded')\n",
      "501 17:54:18 39.29 Trying with following combo ('HomeEwmaGoalsScored', 'AwayEwmaPoints')\n",
      "501 17:54:18 34.2 Trying with following combo ('HomeEwmaGoalsScored', 'AwayEwmaPoints')\n",
      "502 17:54:20 39.95 Trying with following combo ('HomeEwmaGoalsScored', 'AwayEwmaGoalsScored')\n",
      "502 17:54:20 38.6 Trying with following combo ('HomeEwmaGoalsScored', 'AwayEwmaGoalsScored')\n",
      "503 17:54:22 32.8 Trying with following combo ('HomeEwmaGoalsScored', 'AwayEwmaGoalsConceded')\n",
      "503 17:54:22 32.74 Trying with following combo ('HomeEwmaGoalsScored', 'AwayEwmaGoalsConceded')\n",
      "504 17:54:24 32.62 Trying with following combo ('HomeEwmaGoalsScored', 'HomeWins')\n",
      "504 17:54:24 32.77 Trying with following combo ('HomeEwmaGoalsScored', 'HomeWins')\n"
     ]
    },
    {
     "name": "stderr",
     "output_type": "stream",
     "text": [
      "c:\\Users\\vitto\\OneDrive\\Desktop\\Personale\\ML - Soccer\\BothToScore\\..\\lib\\Utility.py:288: RuntimeWarning: invalid value encountered in scalar divide\n",
      "  accuracy_class_1 = cm[1, 1] / (cm[0, 1] + cm[1, 1])\n",
      "c:\\Users\\vitto\\OneDrive\\Desktop\\Personale\\ML - Soccer\\BothToScore\\..\\lib\\Utility.py:288: RuntimeWarning: invalid value encountered in scalar divide\n",
      "  accuracy_class_1 = cm[1, 1] / (cm[0, 1] + cm[1, 1])\n"
     ]
    },
    {
     "name": "stdout",
     "output_type": "stream",
     "text": [
      "505 17:54:25 32.62 Trying with following combo ('HomeEwmaGoalsScored', 'HomeDraws')\n",
      "505 17:54:26 32.85 Trying with following combo ('HomeEwmaGoalsScored', 'HomeDraws')\n"
     ]
    },
    {
     "name": "stderr",
     "output_type": "stream",
     "text": [
      "c:\\Users\\vitto\\OneDrive\\Desktop\\Personale\\ML - Soccer\\BothToScore\\..\\lib\\Utility.py:288: RuntimeWarning: invalid value encountered in scalar divide\n",
      "  accuracy_class_1 = cm[1, 1] / (cm[0, 1] + cm[1, 1])\n",
      "c:\\Users\\vitto\\OneDrive\\Desktop\\Personale\\ML - Soccer\\BothToScore\\..\\lib\\Utility.py:288: RuntimeWarning: invalid value encountered in scalar divide\n",
      "  accuracy_class_1 = cm[1, 1] / (cm[0, 1] + cm[1, 1])\n"
     ]
    },
    {
     "name": "stdout",
     "output_type": "stream",
     "text": [
      "506 17:54:27 32.62 Trying with following combo ('HomeEwmaGoalsScored', 'HomeLosses')\n",
      "506 17:54:27 32.82 Trying with following combo ('HomeEwmaGoalsScored', 'HomeLosses')\n"
     ]
    },
    {
     "name": "stderr",
     "output_type": "stream",
     "text": [
      "c:\\Users\\vitto\\OneDrive\\Desktop\\Personale\\ML - Soccer\\BothToScore\\..\\lib\\Utility.py:288: RuntimeWarning: invalid value encountered in scalar divide\n",
      "  accuracy_class_1 = cm[1, 1] / (cm[0, 1] + cm[1, 1])\n",
      "c:\\Users\\vitto\\OneDrive\\Desktop\\Personale\\ML - Soccer\\BothToScore\\..\\lib\\Utility.py:288: RuntimeWarning: invalid value encountered in scalar divide\n",
      "  accuracy_class_1 = cm[1, 1] / (cm[0, 1] + cm[1, 1])\n"
     ]
    },
    {
     "name": "stdout",
     "output_type": "stream",
     "text": [
      "507 17:54:29 32.62 Trying with following combo ('HomeEwmaGoalsScored', 'AwayWins')\n",
      "507 17:54:29 32.88 Trying with following combo ('HomeEwmaGoalsScored', 'AwayWins')\n"
     ]
    },
    {
     "name": "stderr",
     "output_type": "stream",
     "text": [
      "c:\\Users\\vitto\\OneDrive\\Desktop\\Personale\\ML - Soccer\\BothToScore\\..\\lib\\Utility.py:288: RuntimeWarning: invalid value encountered in scalar divide\n",
      "  accuracy_class_1 = cm[1, 1] / (cm[0, 1] + cm[1, 1])\n",
      "c:\\Users\\vitto\\OneDrive\\Desktop\\Personale\\ML - Soccer\\BothToScore\\..\\lib\\Utility.py:288: RuntimeWarning: invalid value encountered in scalar divide\n",
      "  accuracy_class_1 = cm[1, 1] / (cm[0, 1] + cm[1, 1])\n"
     ]
    },
    {
     "name": "stdout",
     "output_type": "stream",
     "text": [
      "508 17:54:30 32.62 Trying with following combo ('HomeEwmaGoalsScored', 'AwayDraws')\n",
      "508 17:54:30 32.85 Trying with following combo ('HomeEwmaGoalsScored', 'AwayDraws')\n"
     ]
    },
    {
     "name": "stderr",
     "output_type": "stream",
     "text": [
      "c:\\Users\\vitto\\OneDrive\\Desktop\\Personale\\ML - Soccer\\BothToScore\\..\\lib\\Utility.py:288: RuntimeWarning: invalid value encountered in scalar divide\n",
      "  accuracy_class_1 = cm[1, 1] / (cm[0, 1] + cm[1, 1])\n",
      "c:\\Users\\vitto\\OneDrive\\Desktop\\Personale\\ML - Soccer\\BothToScore\\..\\lib\\Utility.py:288: RuntimeWarning: invalid value encountered in scalar divide\n",
      "  accuracy_class_1 = cm[1, 1] / (cm[0, 1] + cm[1, 1])\n"
     ]
    },
    {
     "name": "stdout",
     "output_type": "stream",
     "text": [
      "509 17:54:32 32.62 Trying with following combo ('HomeEwmaGoalsScored', 'AwayLosses')\n",
      "509 17:54:32 32.77 Trying with following combo ('HomeEwmaGoalsScored', 'AwayLosses')\n"
     ]
    },
    {
     "name": "stderr",
     "output_type": "stream",
     "text": [
      "c:\\Users\\vitto\\OneDrive\\Desktop\\Personale\\ML - Soccer\\BothToScore\\..\\lib\\Utility.py:288: RuntimeWarning: invalid value encountered in scalar divide\n",
      "  accuracy_class_1 = cm[1, 1] / (cm[0, 1] + cm[1, 1])\n",
      "c:\\Users\\vitto\\OneDrive\\Desktop\\Personale\\ML - Soccer\\BothToScore\\..\\lib\\Utility.py:288: RuntimeWarning: invalid value encountered in scalar divide\n",
      "  accuracy_class_1 = cm[1, 1] / (cm[0, 1] + cm[1, 1])\n"
     ]
    },
    {
     "name": "stdout",
     "output_type": "stream",
     "text": [
      "510 17:54:33 32.3 Trying with following combo ('HomeEwmaGoalsScored', 'UltimoScontroDiretto')\n",
      "510 17:54:33 33.29 Trying with following combo ('HomeEwmaGoalsScored', 'UltimoScontroDiretto')\n",
      "511 17:54:35 42.08 Trying with following combo ('HomeEwmaGoalsScored', 'Last3PointsDifference')\n",
      "511 17:54:35 39.64 Trying with following combo ('HomeEwmaGoalsScored', 'Last3PointsDifference')\n",
      "512 17:54:37 45.45 Trying with following combo ('HomeEwmaGoalsScored', 'GoalRatioDifference')\n",
      "512 17:54:37 47.92 Trying with following combo ('HomeEwmaGoalsScored', 'GoalRatioDifference')\n",
      "513 17:54:39 38.64 Trying with following combo ('HomeEwmaGoalsScored', 'EwmaGoalsSum')\n",
      "513 17:54:39 34.8 Trying with following combo ('HomeEwmaGoalsScored', 'EwmaGoalsSum')\n",
      "514 17:54:40 33.3 Trying with following combo ('HomeEwmaGoalsScored', 'GoalsSum')\n",
      "514 17:54:41 33.37 Trying with following combo ('HomeEwmaGoalsScored', 'GoalsSum')\n",
      "515 17:54:42 46.25 Trying with following combo ('HomeEwmaGoalsScored', 'HomePointGap')\n",
      "515 17:54:42 47.16 Trying with following combo ('HomeEwmaGoalsScored', 'HomePointGap')\n",
      "516 17:54:44 46.25 Trying with following combo ('HomeEwmaGoalsScored', 'AwayPointGap')\n",
      "516 17:54:44 47.16 Trying with following combo ('HomeEwmaGoalsScored', 'AwayPointGap')\n",
      "517 17:54:45 44.77 Trying with following combo ('HomeEwmaGoalsScored', 'HomeGoalGap')\n",
      "517 17:54:45 45.71 Trying with following combo ('HomeEwmaGoalsScored', 'HomeGoalGap')\n",
      "518 17:54:47 44.77 Trying with following combo ('HomeEwmaGoalsScored', 'AwayGoalGap')\n",
      "518 17:54:47 46.03 Trying with following combo ('HomeEwmaGoalsScored', 'AwayGoalGap')\n",
      "519 17:54:49 33.06 Trying with following combo ('HomeEwmaGoalsScored', 'feat1')\n",
      "519 17:54:49 33.14 Trying with following combo ('HomeEwmaGoalsScored', 'feat1')\n",
      "520 17:54:50 33.08 Trying with following combo ('HomeEwmaGoalsScored', 'feat2')\n",
      "520 17:54:50 33.11 Trying with following combo ('HomeEwmaGoalsScored', 'feat2')\n",
      "521 17:54:52 32.62 Trying with following combo ('HomeEwmaGoalsScored', 'FormDiff')\n",
      "521 17:54:52 33.18 Trying with following combo ('HomeEwmaGoalsScored', 'FormDiff')\n"
     ]
    },
    {
     "name": "stderr",
     "output_type": "stream",
     "text": [
      "c:\\Users\\vitto\\OneDrive\\Desktop\\Personale\\ML - Soccer\\BothToScore\\..\\lib\\Utility.py:288: RuntimeWarning: invalid value encountered in scalar divide\n",
      "  accuracy_class_1 = cm[1, 1] / (cm[0, 1] + cm[1, 1])\n",
      "c:\\Users\\vitto\\OneDrive\\Desktop\\Personale\\ML - Soccer\\BothToScore\\..\\lib\\Utility.py:288: RuntimeWarning: invalid value encountered in scalar divide\n",
      "  accuracy_class_1 = cm[1, 1] / (cm[0, 1] + cm[1, 1])\n"
     ]
    },
    {
     "name": "stdout",
     "output_type": "stream",
     "text": [
      "522 17:54:53 32.62 Trying with following combo ('HomeEwmaGoalsScored', 'RecentFormDiff')\n",
      "522 17:54:54 33.09 Trying with following combo ('HomeEwmaGoalsScored', 'RecentFormDiff')\n"
     ]
    },
    {
     "name": "stderr",
     "output_type": "stream",
     "text": [
      "c:\\Users\\vitto\\OneDrive\\Desktop\\Personale\\ML - Soccer\\BothToScore\\..\\lib\\Utility.py:288: RuntimeWarning: invalid value encountered in scalar divide\n",
      "  accuracy_class_1 = cm[1, 1] / (cm[0, 1] + cm[1, 1])\n",
      "c:\\Users\\vitto\\OneDrive\\Desktop\\Personale\\ML - Soccer\\BothToScore\\..\\lib\\Utility.py:288: RuntimeWarning: invalid value encountered in scalar divide\n",
      "  accuracy_class_1 = cm[1, 1] / (cm[0, 1] + cm[1, 1])\n"
     ]
    },
    {
     "name": "stdout",
     "output_type": "stream",
     "text": [
      "523 17:54:55 33.5 Trying with following combo ('HomeEwmaGoalsScored', 'GoalCumulativeSum')\n",
      "523 17:54:55 32.95 Trying with following combo ('HomeEwmaGoalsScored', 'GoalCumulativeSum')\n",
      "524 17:54:57 53.83 Trying with following combo ('HomeEwmaGoalsScored', 'ATW_LogRegPred')\n",
      "524 17:54:57 36.64 Trying with following combo ('HomeEwmaGoalsScored', 'ATW_LogRegPred')\n",
      "525 17:54:58 42.55 Trying with following combo ('HomeEwmaGoalsConceded', 'AwayLast3Points')\n",
      "525 17:54:59 39.99 Trying with following combo ('HomeEwmaGoalsConceded', 'AwayLast3Points')\n",
      "526 17:55:00 43.38 Trying with following combo ('HomeEwmaGoalsConceded', 'AwayAvgGoalsScored')\n",
      "526 17:55:00 40.5 Trying with following combo ('HomeEwmaGoalsConceded', 'AwayAvgGoalsScored')\n",
      "527 17:55:02 40.47 Trying with following combo ('HomeEwmaGoalsConceded', 'AwayAvgGoalsConceded')\n",
      "527 17:55:02 35.7 Trying with following combo ('HomeEwmaGoalsConceded', 'AwayAvgGoalsConceded')\n",
      "528 17:55:04 42.74 Trying with following combo ('HomeEwmaGoalsConceded', 'AwayEwmaPoints')\n",
      "528 17:55:04 44.49 Trying with following combo ('HomeEwmaGoalsConceded', 'AwayEwmaPoints')\n",
      "529 17:55:06 43.72 Trying with following combo ('HomeEwmaGoalsConceded', 'AwayEwmaGoalsScored')\n",
      "529 17:55:06 41.58 Trying with following combo ('HomeEwmaGoalsConceded', 'AwayEwmaGoalsScored')\n",
      "530 17:55:08 40.94 Trying with following combo ('HomeEwmaGoalsConceded', 'AwayEwmaGoalsConceded')\n",
      "530 17:55:08 38.99 Trying with following combo ('HomeEwmaGoalsConceded', 'AwayEwmaGoalsConceded')\n",
      "531 17:55:09 40.06 Trying with following combo ('HomeEwmaGoalsConceded', 'HomeWins')\n",
      "531 17:55:09 36.5 Trying with following combo ('HomeEwmaGoalsConceded', 'HomeWins')\n",
      "532 17:55:11 39.88 Trying with following combo ('HomeEwmaGoalsConceded', 'HomeDraws')\n",
      "532 17:55:11 35.68 Trying with following combo ('HomeEwmaGoalsConceded', 'HomeDraws')\n",
      "533 17:55:12 39.92 Trying with following combo ('HomeEwmaGoalsConceded', 'HomeLosses')\n",
      "533 17:55:13 36.97 Trying with following combo ('HomeEwmaGoalsConceded', 'HomeLosses')\n",
      "534 17:55:14 39.92 Trying with following combo ('HomeEwmaGoalsConceded', 'AwayWins')\n",
      "534 17:55:14 36.91 Trying with following combo ('HomeEwmaGoalsConceded', 'AwayWins')\n",
      "535 17:55:16 39.88 Trying with following combo ('HomeEwmaGoalsConceded', 'AwayDraws')\n",
      "535 17:55:16 35.68 Trying with following combo ('HomeEwmaGoalsConceded', 'AwayDraws')\n",
      "536 17:55:17 40.05 Trying with following combo ('HomeEwmaGoalsConceded', 'AwayLosses')\n",
      "536 17:55:18 36.51 Trying with following combo ('HomeEwmaGoalsConceded', 'AwayLosses')\n",
      "537 17:55:19 42.42 Trying with following combo ('HomeEwmaGoalsConceded', 'UltimoScontroDiretto')\n",
      "537 17:55:19 44.37 Trying with following combo ('HomeEwmaGoalsConceded', 'UltimoScontroDiretto')\n",
      "538 17:55:20 42.86 Trying with following combo ('HomeEwmaGoalsConceded', 'Last3PointsDifference')\n",
      "538 17:55:20 41.0 Trying with following combo ('HomeEwmaGoalsConceded', 'Last3PointsDifference')\n",
      "539 17:55:22 46.82 Trying with following combo ('HomeEwmaGoalsConceded', 'GoalRatioDifference')\n",
      "539 17:55:22 46.11 Trying with following combo ('HomeEwmaGoalsConceded', 'GoalRatioDifference')\n",
      "540 17:55:24 39.92 Trying with following combo ('HomeEwmaGoalsConceded', 'EwmaGoalsSum')\n",
      "540 17:55:25 37.34 Trying with following combo ('HomeEwmaGoalsConceded', 'EwmaGoalsSum')\n",
      "541 17:55:26 40.47 Trying with following combo ('HomeEwmaGoalsConceded', 'GoalsSum')\n",
      "541 17:55:26 38.05 Trying with following combo ('HomeEwmaGoalsConceded', 'GoalsSum')\n",
      "542 17:55:28 47.21 Trying with following combo ('HomeEwmaGoalsConceded', 'HomePointGap')\n",
      "542 17:55:28 45.01 Trying with following combo ('HomeEwmaGoalsConceded', 'HomePointGap')\n",
      "543 17:55:29 47.21 Trying with following combo ('HomeEwmaGoalsConceded', 'AwayPointGap')\n",
      "543 17:55:29 44.75 Trying with following combo ('HomeEwmaGoalsConceded', 'AwayPointGap')\n",
      "544 17:55:31 46.55 Trying with following combo ('HomeEwmaGoalsConceded', 'HomeGoalGap')\n",
      "544 17:55:31 44.14 Trying with following combo ('HomeEwmaGoalsConceded', 'HomeGoalGap')\n",
      "545 17:55:32 46.55 Trying with following combo ('HomeEwmaGoalsConceded', 'AwayGoalGap')\n",
      "545 17:55:33 44.12 Trying with following combo ('HomeEwmaGoalsConceded', 'AwayGoalGap')\n",
      "546 17:55:34 39.86 Trying with following combo ('HomeEwmaGoalsConceded', 'feat1')\n",
      "546 17:55:34 36.07 Trying with following combo ('HomeEwmaGoalsConceded', 'feat1')\n",
      "547 17:55:36 40.01 Trying with following combo ('HomeEwmaGoalsConceded', 'feat2')\n",
      "547 17:55:36 36.43 Trying with following combo ('HomeEwmaGoalsConceded', 'feat2')\n",
      "548 17:55:37 40.09 Trying with following combo ('HomeEwmaGoalsConceded', 'FormDiff')\n",
      "548 17:55:37 35.0 Trying with following combo ('HomeEwmaGoalsConceded', 'FormDiff')\n",
      "549 17:55:39 39.95 Trying with following combo ('HomeEwmaGoalsConceded', 'RecentFormDiff')\n",
      "549 17:55:39 36.73 Trying with following combo ('HomeEwmaGoalsConceded', 'RecentFormDiff')\n",
      "550 17:55:40 40.5 Trying with following combo ('HomeEwmaGoalsConceded', 'GoalCumulativeSum')\n",
      "550 17:55:41 37.1 Trying with following combo ('HomeEwmaGoalsConceded', 'GoalCumulativeSum')\n",
      "551 17:55:42 46.82 Trying with following combo ('HomeEwmaGoalsConceded', 'ATW_LogRegPred')\n",
      "551 17:55:42 48.75 Trying with following combo ('HomeEwmaGoalsConceded', 'ATW_LogRegPred')\n",
      "552 17:55:43 39.62 Trying with following combo ('AwayLast3Points', 'AwayAvgGoalsScored')\n",
      "552 17:55:43 40.49 Trying with following combo ('AwayLast3Points', 'AwayAvgGoalsScored')\n",
      "553 17:55:44 37.46 Trying with following combo ('AwayLast3Points', 'AwayAvgGoalsConceded')\n",
      "553 17:55:44 34.75 Trying with following combo ('AwayLast3Points', 'AwayAvgGoalsConceded')\n",
      "554 17:55:46 38.76 Trying with following combo ('AwayLast3Points', 'AwayEwmaPoints')\n",
      "554 17:55:46 35.31 Trying with following combo ('AwayLast3Points', 'AwayEwmaPoints')\n",
      "555 17:55:47 39.88 Trying with following combo ('AwayLast3Points', 'AwayEwmaGoalsScored')\n",
      "555 17:55:47 39.27 Trying with following combo ('AwayLast3Points', 'AwayEwmaGoalsScored')\n",
      "556 17:55:49 38.01 Trying with following combo ('AwayLast3Points', 'AwayEwmaGoalsConceded')\n",
      "556 17:55:49 34.78 Trying with following combo ('AwayLast3Points', 'AwayEwmaGoalsConceded')\n",
      "557 17:55:50 37.49 Trying with following combo ('AwayLast3Points', 'HomeWins')\n",
      "557 17:55:50 34.81 Trying with following combo ('AwayLast3Points', 'HomeWins')\n",
      "558 17:55:51 37.64 Trying with following combo ('AwayLast3Points', 'HomeDraws')\n",
      "558 17:55:51 34.81 Trying with following combo ('AwayLast3Points', 'HomeDraws')\n",
      "559 17:55:52 37.28 Trying with following combo ('AwayLast3Points', 'HomeLosses')\n",
      "559 17:55:52 34.78 Trying with following combo ('AwayLast3Points', 'HomeLosses')\n",
      "560 17:55:53 37.28 Trying with following combo ('AwayLast3Points', 'AwayWins')\n",
      "560 17:55:53 34.78 Trying with following combo ('AwayLast3Points', 'AwayWins')\n",
      "561 17:55:54 37.64 Trying with following combo ('AwayLast3Points', 'AwayDraws')\n",
      "561 17:55:54 34.81 Trying with following combo ('AwayLast3Points', 'AwayDraws')\n",
      "562 17:55:55 37.49 Trying with following combo ('AwayLast3Points', 'AwayLosses')\n",
      "562 17:55:55 34.81 Trying with following combo ('AwayLast3Points', 'AwayLosses')\n",
      "563 17:55:56 40.67 Trying with following combo ('AwayLast3Points', 'UltimoScontroDiretto')\n",
      "563 17:55:56 37.45 Trying with following combo ('AwayLast3Points', 'UltimoScontroDiretto')\n",
      "564 17:55:56 42.21 Trying with following combo ('AwayLast3Points', 'Last3PointsDifference')\n",
      "564 17:55:57 39.5 Trying with following combo ('AwayLast3Points', 'Last3PointsDifference')\n",
      "565 17:55:58 45.47 Trying with following combo ('AwayLast3Points', 'GoalRatioDifference')\n",
      "565 17:55:58 46.16 Trying with following combo ('AwayLast3Points', 'GoalRatioDifference')\n",
      "566 17:56:00 39.46 Trying with following combo ('AwayLast3Points', 'EwmaGoalsSum')\n",
      "566 17:56:00 36.97 Trying with following combo ('AwayLast3Points', 'EwmaGoalsSum')\n",
      "567 17:56:01 38.44 Trying with following combo ('AwayLast3Points', 'GoalsSum')\n",
      "567 17:56:01 34.61 Trying with following combo ('AwayLast3Points', 'GoalsSum')\n",
      "568 17:56:02 46.54 Trying with following combo ('AwayLast3Points', 'HomePointGap')\n",
      "568 17:56:02 45.94 Trying with following combo ('AwayLast3Points', 'HomePointGap')\n",
      "569 17:56:03 46.54 Trying with following combo ('AwayLast3Points', 'AwayPointGap')\n",
      "569 17:56:03 45.77 Trying with following combo ('AwayLast3Points', 'AwayPointGap')\n",
      "570 17:56:04 45.67 Trying with following combo ('AwayLast3Points', 'HomeGoalGap')\n",
      "570 17:56:04 46.9 Trying with following combo ('AwayLast3Points', 'HomeGoalGap')\n",
      "571 17:56:05 45.67 Trying with following combo ('AwayLast3Points', 'AwayGoalGap')\n",
      "571 17:56:05 46.59 Trying with following combo ('AwayLast3Points', 'AwayGoalGap')\n",
      "572 17:56:07 38.15 Trying with following combo ('AwayLast3Points', 'feat1')\n",
      "572 17:56:07 34.81 Trying with following combo ('AwayLast3Points', 'feat1')\n",
      "573 17:56:08 38.72 Trying with following combo ('AwayLast3Points', 'feat2')\n",
      "573 17:56:08 34.86 Trying with following combo ('AwayLast3Points', 'feat2')\n",
      "574 17:56:09 37.35 Trying with following combo ('AwayLast3Points', 'FormDiff')\n",
      "574 17:56:09 34.62 Trying with following combo ('AwayLast3Points', 'FormDiff')\n",
      "575 17:56:10 37.44 Trying with following combo ('AwayLast3Points', 'RecentFormDiff')\n",
      "575 17:56:10 34.53 Trying with following combo ('AwayLast3Points', 'RecentFormDiff')\n",
      "576 17:56:11 37.52 Trying with following combo ('AwayLast3Points', 'GoalCumulativeSum')\n",
      "576 17:56:11 34.47 Trying with following combo ('AwayLast3Points', 'GoalCumulativeSum')\n",
      "577 17:56:12 49.19 Trying with following combo ('AwayLast3Points', 'ATW_LogRegPred')\n",
      "577 17:56:12 49.19 Trying with following combo ('AwayLast3Points', 'ATW_LogRegPred')\n",
      "578 17:56:13 39.09 Trying with following combo ('AwayAvgGoalsScored', 'AwayAvgGoalsConceded')\n",
      "578 17:56:13 37.93 Trying with following combo ('AwayAvgGoalsScored', 'AwayAvgGoalsConceded')\n",
      "579 17:56:14 40.03 Trying with following combo ('AwayAvgGoalsScored', 'AwayEwmaPoints')\n",
      "579 17:56:14 40.68 Trying with following combo ('AwayAvgGoalsScored', 'AwayEwmaPoints')\n",
      "580 17:56:16 39.3 Trying with following combo ('AwayAvgGoalsScored', 'AwayEwmaGoalsScored')\n",
      "580 17:56:16 41.07 Trying with following combo ('AwayAvgGoalsScored', 'AwayEwmaGoalsScored')\n",
      "581 17:56:17 39.37 Trying with following combo ('AwayAvgGoalsScored', 'AwayEwmaGoalsConceded')\n",
      "581 17:56:18 38.75 Trying with following combo ('AwayAvgGoalsScored', 'AwayEwmaGoalsConceded')\n",
      "582 17:56:18 39.65 Trying with following combo ('AwayAvgGoalsScored', 'HomeWins')\n",
      "582 17:56:19 40.62 Trying with following combo ('AwayAvgGoalsScored', 'HomeWins')\n",
      "583 17:56:19 39.83 Trying with following combo ('AwayAvgGoalsScored', 'HomeDraws')\n",
      "583 17:56:20 40.18 Trying with following combo ('AwayAvgGoalsScored', 'HomeDraws')\n",
      "584 17:56:20 39.61 Trying with following combo ('AwayAvgGoalsScored', 'HomeLosses')\n",
      "584 17:56:20 40.21 Trying with following combo ('AwayAvgGoalsScored', 'HomeLosses')\n",
      "585 17:56:21 39.61 Trying with following combo ('AwayAvgGoalsScored', 'AwayWins')\n",
      "585 17:56:21 40.21 Trying with following combo ('AwayAvgGoalsScored', 'AwayWins')\n",
      "586 17:56:22 39.83 Trying with following combo ('AwayAvgGoalsScored', 'AwayDraws')\n",
      "586 17:56:22 40.18 Trying with following combo ('AwayAvgGoalsScored', 'AwayDraws')\n",
      "587 17:56:23 39.65 Trying with following combo ('AwayAvgGoalsScored', 'AwayLosses')\n",
      "587 17:56:23 40.62 Trying with following combo ('AwayAvgGoalsScored', 'AwayLosses')\n",
      "588 17:56:24 41.65 Trying with following combo ('AwayAvgGoalsScored', 'UltimoScontroDiretto')\n",
      "588 17:56:24 39.3 Trying with following combo ('AwayAvgGoalsScored', 'UltimoScontroDiretto')\n",
      "589 17:56:25 42.56 Trying with following combo ('AwayAvgGoalsScored', 'Last3PointsDifference')\n",
      "589 17:56:25 39.32 Trying with following combo ('AwayAvgGoalsScored', 'Last3PointsDifference')\n",
      "590 17:56:27 46.23 Trying with following combo ('AwayAvgGoalsScored', 'GoalRatioDifference')\n",
      "590 17:56:27 46.67 Trying with following combo ('AwayAvgGoalsScored', 'GoalRatioDifference')\n",
      "591 17:56:28 39.21 Trying with following combo ('AwayAvgGoalsScored', 'EwmaGoalsSum')\n",
      "591 17:56:28 40.52 Trying with following combo ('AwayAvgGoalsScored', 'EwmaGoalsSum')\n",
      "592 17:56:29 39.09 Trying with following combo ('AwayAvgGoalsScored', 'GoalsSum')\n",
      "592 17:56:29 40.68 Trying with following combo ('AwayAvgGoalsScored', 'GoalsSum')\n",
      "593 17:56:30 47.09 Trying with following combo ('AwayAvgGoalsScored', 'HomePointGap')\n",
      "593 17:56:30 44.22 Trying with following combo ('AwayAvgGoalsScored', 'HomePointGap')\n",
      "594 17:56:31 47.09 Trying with following combo ('AwayAvgGoalsScored', 'AwayPointGap')\n",
      "594 17:56:32 44.37 Trying with following combo ('AwayAvgGoalsScored', 'AwayPointGap')\n",
      "595 17:56:33 45.95 Trying with following combo ('AwayAvgGoalsScored', 'HomeGoalGap')\n",
      "595 17:56:33 44.15 Trying with following combo ('AwayAvgGoalsScored', 'HomeGoalGap')\n",
      "596 17:56:34 45.95 Trying with following combo ('AwayAvgGoalsScored', 'AwayGoalGap')\n",
      "596 17:56:34 44.02 Trying with following combo ('AwayAvgGoalsScored', 'AwayGoalGap')\n",
      "597 17:56:35 39.84 Trying with following combo ('AwayAvgGoalsScored', 'feat1')\n",
      "597 17:56:35 38.62 Trying with following combo ('AwayAvgGoalsScored', 'feat1')\n",
      "598 17:56:36 39.53 Trying with following combo ('AwayAvgGoalsScored', 'feat2')\n",
      "598 17:56:36 39.58 Trying with following combo ('AwayAvgGoalsScored', 'feat2')\n",
      "599 17:56:37 38.91 Trying with following combo ('AwayAvgGoalsScored', 'FormDiff')\n",
      "599 17:56:37 40.59 Trying with following combo ('AwayAvgGoalsScored', 'FormDiff')\n",
      "600 17:56:38 39.7 Trying with following combo ('AwayAvgGoalsScored', 'RecentFormDiff')\n",
      "600 17:56:38 40.16 Trying with following combo ('AwayAvgGoalsScored', 'RecentFormDiff')\n",
      "601 17:56:39 38.97 Trying with following combo ('AwayAvgGoalsScored', 'GoalCumulativeSum')\n",
      "601 17:56:39 40.33 Trying with following combo ('AwayAvgGoalsScored', 'GoalCumulativeSum')\n",
      "602 17:56:40 48.35 Trying with following combo ('AwayAvgGoalsScored', 'ATW_LogRegPred')\n",
      "602 17:56:40 43.28 Trying with following combo ('AwayAvgGoalsScored', 'ATW_LogRegPred')\n",
      "603 17:56:42 38.74 Trying with following combo ('AwayAvgGoalsConceded', 'AwayEwmaPoints')\n",
      "603 17:56:42 34.38 Trying with following combo ('AwayAvgGoalsConceded', 'AwayEwmaPoints')\n",
      "604 17:56:43 39.52 Trying with following combo ('AwayAvgGoalsConceded', 'AwayEwmaGoalsScored')\n",
      "604 17:56:43 37.19 Trying with following combo ('AwayAvgGoalsConceded', 'AwayEwmaGoalsScored')\n",
      "605 17:56:45 32.62 Trying with following combo ('AwayAvgGoalsConceded', 'AwayEwmaGoalsConceded')\n",
      "605 17:56:45 32.71 Trying with following combo ('AwayAvgGoalsConceded', 'AwayEwmaGoalsConceded')\n"
     ]
    },
    {
     "name": "stderr",
     "output_type": "stream",
     "text": [
      "c:\\Users\\vitto\\OneDrive\\Desktop\\Personale\\ML - Soccer\\BothToScore\\..\\lib\\Utility.py:288: RuntimeWarning: invalid value encountered in scalar divide\n",
      "  accuracy_class_1 = cm[1, 1] / (cm[0, 1] + cm[1, 1])\n",
      "c:\\Users\\vitto\\OneDrive\\Desktop\\Personale\\ML - Soccer\\BothToScore\\..\\lib\\Utility.py:288: RuntimeWarning: invalid value encountered in scalar divide\n",
      "  accuracy_class_1 = cm[1, 1] / (cm[0, 1] + cm[1, 1])\n"
     ]
    },
    {
     "name": "stdout",
     "output_type": "stream",
     "text": [
      "606 17:56:46 32.62 Trying with following combo ('AwayAvgGoalsConceded', 'HomeWins')\n",
      "606 17:56:46 32.74 Trying with following combo ('AwayAvgGoalsConceded', 'HomeWins')\n"
     ]
    },
    {
     "name": "stderr",
     "output_type": "stream",
     "text": [
      "c:\\Users\\vitto\\OneDrive\\Desktop\\Personale\\ML - Soccer\\BothToScore\\..\\lib\\Utility.py:288: RuntimeWarning: invalid value encountered in scalar divide\n",
      "  accuracy_class_1 = cm[1, 1] / (cm[0, 1] + cm[1, 1])\n",
      "c:\\Users\\vitto\\OneDrive\\Desktop\\Personale\\ML - Soccer\\BothToScore\\..\\lib\\Utility.py:288: RuntimeWarning: invalid value encountered in scalar divide\n",
      "  accuracy_class_1 = cm[1, 1] / (cm[0, 1] + cm[1, 1])\n"
     ]
    },
    {
     "name": "stdout",
     "output_type": "stream",
     "text": [
      "607 17:56:47 32.62 Trying with following combo ('AwayAvgGoalsConceded', 'HomeDraws')\n",
      "607 17:56:47 32.69 Trying with following combo ('AwayAvgGoalsConceded', 'HomeDraws')\n"
     ]
    },
    {
     "name": "stderr",
     "output_type": "stream",
     "text": [
      "c:\\Users\\vitto\\OneDrive\\Desktop\\Personale\\ML - Soccer\\BothToScore\\..\\lib\\Utility.py:288: RuntimeWarning: invalid value encountered in scalar divide\n",
      "  accuracy_class_1 = cm[1, 1] / (cm[0, 1] + cm[1, 1])\n",
      "c:\\Users\\vitto\\OneDrive\\Desktop\\Personale\\ML - Soccer\\BothToScore\\..\\lib\\Utility.py:288: RuntimeWarning: invalid value encountered in scalar divide\n",
      "  accuracy_class_1 = cm[1, 1] / (cm[0, 1] + cm[1, 1])\n"
     ]
    },
    {
     "name": "stdout",
     "output_type": "stream",
     "text": [
      "608 17:56:48 32.62 Trying with following combo ('AwayAvgGoalsConceded', 'HomeLosses')\n",
      "608 17:56:48 32.97 Trying with following combo ('AwayAvgGoalsConceded', 'HomeLosses')\n"
     ]
    },
    {
     "name": "stderr",
     "output_type": "stream",
     "text": [
      "c:\\Users\\vitto\\OneDrive\\Desktop\\Personale\\ML - Soccer\\BothToScore\\..\\lib\\Utility.py:288: RuntimeWarning: invalid value encountered in scalar divide\n",
      "  accuracy_class_1 = cm[1, 1] / (cm[0, 1] + cm[1, 1])\n",
      "c:\\Users\\vitto\\OneDrive\\Desktop\\Personale\\ML - Soccer\\BothToScore\\..\\lib\\Utility.py:288: RuntimeWarning: invalid value encountered in scalar divide\n",
      "  accuracy_class_1 = cm[1, 1] / (cm[0, 1] + cm[1, 1])\n"
     ]
    },
    {
     "name": "stdout",
     "output_type": "stream",
     "text": [
      "609 17:56:49 32.62 Trying with following combo ('AwayAvgGoalsConceded', 'AwayWins')\n",
      "609 17:56:49 32.97 Trying with following combo ('AwayAvgGoalsConceded', 'AwayWins')\n"
     ]
    },
    {
     "name": "stderr",
     "output_type": "stream",
     "text": [
      "c:\\Users\\vitto\\OneDrive\\Desktop\\Personale\\ML - Soccer\\BothToScore\\..\\lib\\Utility.py:288: RuntimeWarning: invalid value encountered in scalar divide\n",
      "  accuracy_class_1 = cm[1, 1] / (cm[0, 1] + cm[1, 1])\n",
      "c:\\Users\\vitto\\OneDrive\\Desktop\\Personale\\ML - Soccer\\BothToScore\\..\\lib\\Utility.py:288: RuntimeWarning: invalid value encountered in scalar divide\n",
      "  accuracy_class_1 = cm[1, 1] / (cm[0, 1] + cm[1, 1])\n"
     ]
    },
    {
     "name": "stdout",
     "output_type": "stream",
     "text": [
      "610 17:56:50 32.62 Trying with following combo ('AwayAvgGoalsConceded', 'AwayDraws')\n",
      "610 17:56:50 32.69 Trying with following combo ('AwayAvgGoalsConceded', 'AwayDraws')\n"
     ]
    },
    {
     "name": "stderr",
     "output_type": "stream",
     "text": [
      "c:\\Users\\vitto\\OneDrive\\Desktop\\Personale\\ML - Soccer\\BothToScore\\..\\lib\\Utility.py:288: RuntimeWarning: invalid value encountered in scalar divide\n",
      "  accuracy_class_1 = cm[1, 1] / (cm[0, 1] + cm[1, 1])\n",
      "c:\\Users\\vitto\\OneDrive\\Desktop\\Personale\\ML - Soccer\\BothToScore\\..\\lib\\Utility.py:288: RuntimeWarning: invalid value encountered in scalar divide\n",
      "  accuracy_class_1 = cm[1, 1] / (cm[0, 1] + cm[1, 1])\n"
     ]
    },
    {
     "name": "stdout",
     "output_type": "stream",
     "text": [
      "611 17:56:51 32.62 Trying with following combo ('AwayAvgGoalsConceded', 'AwayLosses')\n",
      "611 17:56:51 32.74 Trying with following combo ('AwayAvgGoalsConceded', 'AwayLosses')\n"
     ]
    },
    {
     "name": "stderr",
     "output_type": "stream",
     "text": [
      "c:\\Users\\vitto\\OneDrive\\Desktop\\Personale\\ML - Soccer\\BothToScore\\..\\lib\\Utility.py:288: RuntimeWarning: invalid value encountered in scalar divide\n",
      "  accuracy_class_1 = cm[1, 1] / (cm[0, 1] + cm[1, 1])\n",
      "c:\\Users\\vitto\\OneDrive\\Desktop\\Personale\\ML - Soccer\\BothToScore\\..\\lib\\Utility.py:288: RuntimeWarning: invalid value encountered in scalar divide\n",
      "  accuracy_class_1 = cm[1, 1] / (cm[0, 1] + cm[1, 1])\n"
     ]
    },
    {
     "name": "stdout",
     "output_type": "stream",
     "text": [
      "612 17:56:52 34.21 Trying with following combo ('AwayAvgGoalsConceded', 'UltimoScontroDiretto')\n",
      "612 17:56:52 36.65 Trying with following combo ('AwayAvgGoalsConceded', 'UltimoScontroDiretto')\n",
      "613 17:56:53 41.58 Trying with following combo ('AwayAvgGoalsConceded', 'Last3PointsDifference')\n",
      "613 17:56:53 39.61 Trying with following combo ('AwayAvgGoalsConceded', 'Last3PointsDifference')\n",
      "614 17:56:54 45.56 Trying with following combo ('AwayAvgGoalsConceded', 'GoalRatioDifference')\n",
      "614 17:56:55 47.51 Trying with following combo ('AwayAvgGoalsConceded', 'GoalRatioDifference')\n",
      "615 17:56:56 38.05 Trying with following combo ('AwayAvgGoalsConceded', 'EwmaGoalsSum')\n",
      "615 17:56:56 34.42 Trying with following combo ('AwayAvgGoalsConceded', 'EwmaGoalsSum')\n",
      "616 17:56:57 33.29 Trying with following combo ('AwayAvgGoalsConceded', 'GoalsSum')\n",
      "616 17:56:57 32.84 Trying with following combo ('AwayAvgGoalsConceded', 'GoalsSum')\n",
      "617 17:56:58 46.01 Trying with following combo ('AwayAvgGoalsConceded', 'HomePointGap')\n",
      "617 17:56:58 47.22 Trying with following combo ('AwayAvgGoalsConceded', 'HomePointGap')\n",
      "618 17:56:59 46.01 Trying with following combo ('AwayAvgGoalsConceded', 'AwayPointGap')\n",
      "618 17:57:00 47.22 Trying with following combo ('AwayAvgGoalsConceded', 'AwayPointGap')\n",
      "619 17:57:01 44.92 Trying with following combo ('AwayAvgGoalsConceded', 'HomeGoalGap')\n",
      "619 17:57:01 47.43 Trying with following combo ('AwayAvgGoalsConceded', 'HomeGoalGap')\n",
      "620 17:57:02 44.92 Trying with following combo ('AwayAvgGoalsConceded', 'AwayGoalGap')\n",
      "620 17:57:02 47.64 Trying with following combo ('AwayAvgGoalsConceded', 'AwayGoalGap')\n",
      "621 17:57:03 33.04 Trying with following combo ('AwayAvgGoalsConceded', 'feat1')\n",
      "621 17:57:04 33.08 Trying with following combo ('AwayAvgGoalsConceded', 'feat1')\n",
      "622 17:57:04 33.04 Trying with following combo ('AwayAvgGoalsConceded', 'feat2')\n",
      "622 17:57:05 33.13 Trying with following combo ('AwayAvgGoalsConceded', 'feat2')\n"
     ]
    },
    {
     "name": "stderr",
     "output_type": "stream",
     "text": [
      "c:\\Users\\vitto\\OneDrive\\Desktop\\Personale\\ML - Soccer\\BothToScore\\..\\lib\\Utility.py:288: RuntimeWarning: invalid value encountered in scalar divide\n",
      "  accuracy_class_1 = cm[1, 1] / (cm[0, 1] + cm[1, 1])\n",
      "c:\\Users\\vitto\\OneDrive\\Desktop\\Personale\\ML - Soccer\\BothToScore\\..\\lib\\Utility.py:288: RuntimeWarning: invalid value encountered in scalar divide\n",
      "  accuracy_class_1 = cm[1, 1] / (cm[0, 1] + cm[1, 1])\n"
     ]
    },
    {
     "name": "stdout",
     "output_type": "stream",
     "text": [
      "623 17:57:05 32.62 Trying with following combo ('AwayAvgGoalsConceded', 'FormDiff')\n",
      "623 17:57:06 33.19 Trying with following combo ('AwayAvgGoalsConceded', 'FormDiff')\n"
     ]
    },
    {
     "name": "stderr",
     "output_type": "stream",
     "text": [
      "c:\\Users\\vitto\\OneDrive\\Desktop\\Personale\\ML - Soccer\\BothToScore\\..\\lib\\Utility.py:288: RuntimeWarning: invalid value encountered in scalar divide\n",
      "  accuracy_class_1 = cm[1, 1] / (cm[0, 1] + cm[1, 1])\n",
      "c:\\Users\\vitto\\OneDrive\\Desktop\\Personale\\ML - Soccer\\BothToScore\\..\\lib\\Utility.py:288: RuntimeWarning: invalid value encountered in scalar divide\n",
      "  accuracy_class_1 = cm[1, 1] / (cm[0, 1] + cm[1, 1])\n"
     ]
    },
    {
     "name": "stdout",
     "output_type": "stream",
     "text": [
      "624 17:57:06 32.62 Trying with following combo ('AwayAvgGoalsConceded', 'RecentFormDiff')\n",
      "624 17:57:07 33.13 Trying with following combo ('AwayAvgGoalsConceded', 'RecentFormDiff')\n"
     ]
    },
    {
     "name": "stderr",
     "output_type": "stream",
     "text": [
      "c:\\Users\\vitto\\OneDrive\\Desktop\\Personale\\ML - Soccer\\BothToScore\\..\\lib\\Utility.py:288: RuntimeWarning: invalid value encountered in scalar divide\n",
      "  accuracy_class_1 = cm[1, 1] / (cm[0, 1] + cm[1, 1])\n",
      "c:\\Users\\vitto\\OneDrive\\Desktop\\Personale\\ML - Soccer\\BothToScore\\..\\lib\\Utility.py:288: RuntimeWarning: invalid value encountered in scalar divide\n",
      "  accuracy_class_1 = cm[1, 1] / (cm[0, 1] + cm[1, 1])\n"
     ]
    },
    {
     "name": "stdout",
     "output_type": "stream",
     "text": [
      "625 17:57:08 33.03 Trying with following combo ('AwayAvgGoalsConceded', 'GoalCumulativeSum')\n",
      "625 17:57:08 33.12 Trying with following combo ('AwayAvgGoalsConceded', 'GoalCumulativeSum')\n",
      "626 17:57:09 53.47 Trying with following combo ('AwayAvgGoalsConceded', 'ATW_LogRegPred')\n",
      "626 17:57:09 36.37 Trying with following combo ('AwayAvgGoalsConceded', 'ATW_LogRegPred')\n",
      "627 17:57:11 39.97 Trying with following combo ('AwayEwmaPoints', 'AwayEwmaGoalsScored')\n",
      "627 17:57:11 38.61 Trying with following combo ('AwayEwmaPoints', 'AwayEwmaGoalsScored')\n",
      "628 17:57:13 38.97 Trying with following combo ('AwayEwmaPoints', 'AwayEwmaGoalsConceded')\n",
      "628 17:57:13 34.44 Trying with following combo ('AwayEwmaPoints', 'AwayEwmaGoalsConceded')\n",
      "629 17:57:14 38.49 Trying with following combo ('AwayEwmaPoints', 'HomeWins')\n",
      "629 17:57:14 34.05 Trying with following combo ('AwayEwmaPoints', 'HomeWins')\n",
      "630 17:57:16 38.7 Trying with following combo ('AwayEwmaPoints', 'HomeDraws')\n",
      "630 17:57:16 33.76 Trying with following combo ('AwayEwmaPoints', 'HomeDraws')\n",
      "631 17:57:18 38.58 Trying with following combo ('AwayEwmaPoints', 'HomeLosses')\n",
      "631 17:57:18 34.56 Trying with following combo ('AwayEwmaPoints', 'HomeLosses')\n",
      "632 17:57:19 38.6 Trying with following combo ('AwayEwmaPoints', 'AwayWins')\n",
      "632 17:57:19 34.56 Trying with following combo ('AwayEwmaPoints', 'AwayWins')\n",
      "633 17:57:21 38.7 Trying with following combo ('AwayEwmaPoints', 'AwayDraws')\n",
      "633 17:57:21 33.76 Trying with following combo ('AwayEwmaPoints', 'AwayDraws')\n",
      "634 17:57:22 38.5 Trying with following combo ('AwayEwmaPoints', 'AwayLosses')\n",
      "634 17:57:22 34.05 Trying with following combo ('AwayEwmaPoints', 'AwayLosses')\n",
      "635 17:57:24 41.3 Trying with following combo ('AwayEwmaPoints', 'UltimoScontroDiretto')\n",
      "635 17:57:24 42.45 Trying with following combo ('AwayEwmaPoints', 'UltimoScontroDiretto')\n",
      "636 17:57:25 41.8 Trying with following combo ('AwayEwmaPoints', 'Last3PointsDifference')\n",
      "636 17:57:25 39.71 Trying with following combo ('AwayEwmaPoints', 'Last3PointsDifference')\n",
      "637 17:57:27 45.58 Trying with following combo ('AwayEwmaPoints', 'GoalRatioDifference')\n",
      "637 17:57:27 46.4 Trying with following combo ('AwayEwmaPoints', 'GoalRatioDifference')\n",
      "638 17:57:29 40.43 Trying with following combo ('AwayEwmaPoints', 'EwmaGoalsSum')\n",
      "638 17:57:29 35.94 Trying with following combo ('AwayEwmaPoints', 'EwmaGoalsSum')\n",
      "639 17:57:31 39.25 Trying with following combo ('AwayEwmaPoints', 'GoalsSum')\n",
      "639 17:57:31 34.52 Trying with following combo ('AwayEwmaPoints', 'GoalsSum')\n",
      "640 17:57:32 46.87 Trying with following combo ('AwayEwmaPoints', 'HomePointGap')\n",
      "640 17:57:33 45.3 Trying with following combo ('AwayEwmaPoints', 'HomePointGap')\n",
      "641 17:57:34 46.87 Trying with following combo ('AwayEwmaPoints', 'AwayPointGap')\n",
      "641 17:57:34 45.58 Trying with following combo ('AwayEwmaPoints', 'AwayPointGap')\n",
      "642 17:57:36 45.94 Trying with following combo ('AwayEwmaPoints', 'HomeGoalGap')\n",
      "642 17:57:36 45.99 Trying with following combo ('AwayEwmaPoints', 'HomeGoalGap')\n",
      "643 17:57:37 45.94 Trying with following combo ('AwayEwmaPoints', 'AwayGoalGap')\n",
      "643 17:57:37 45.92 Trying with following combo ('AwayEwmaPoints', 'AwayGoalGap')\n",
      "644 17:57:39 38.86 Trying with following combo ('AwayEwmaPoints', 'feat1')\n",
      "644 17:57:39 34.68 Trying with following combo ('AwayEwmaPoints', 'feat1')\n",
      "645 17:57:41 39.3 Trying with following combo ('AwayEwmaPoints', 'feat2')\n",
      "645 17:57:41 34.64 Trying with following combo ('AwayEwmaPoints', 'feat2')\n",
      "646 17:57:42 38.82 Trying with following combo ('AwayEwmaPoints', 'FormDiff')\n",
      "646 17:57:42 33.98 Trying with following combo ('AwayEwmaPoints', 'FormDiff')\n",
      "647 17:57:44 38.74 Trying with following combo ('AwayEwmaPoints', 'RecentFormDiff')\n",
      "647 17:57:44 34.01 Trying with following combo ('AwayEwmaPoints', 'RecentFormDiff')\n",
      "648 17:57:45 38.62 Trying with following combo ('AwayEwmaPoints', 'GoalCumulativeSum')\n",
      "648 17:57:45 33.97 Trying with following combo ('AwayEwmaPoints', 'GoalCumulativeSum')\n",
      "649 17:57:47 47.48 Trying with following combo ('AwayEwmaPoints', 'ATW_LogRegPred')\n",
      "649 17:57:47 50.65 Trying with following combo ('AwayEwmaPoints', 'ATW_LogRegPred')\n",
      "650 17:57:49 39.35 Trying with following combo ('AwayEwmaGoalsScored', 'AwayEwmaGoalsConceded')\n",
      "650 17:57:49 38.11 Trying with following combo ('AwayEwmaGoalsScored', 'AwayEwmaGoalsConceded')\n",
      "651 17:57:51 38.98 Trying with following combo ('AwayEwmaGoalsScored', 'HomeWins')\n",
      "651 17:57:51 38.97 Trying with following combo ('AwayEwmaGoalsScored', 'HomeWins')\n",
      "652 17:57:52 39.11 Trying with following combo ('AwayEwmaGoalsScored', 'HomeDraws')\n",
      "652 17:57:52 38.39 Trying with following combo ('AwayEwmaGoalsScored', 'HomeDraws')\n",
      "653 17:57:54 39.24 Trying with following combo ('AwayEwmaGoalsScored', 'HomeLosses')\n",
      "653 17:57:54 38.33 Trying with following combo ('AwayEwmaGoalsScored', 'HomeLosses')\n",
      "654 17:57:55 39.24 Trying with following combo ('AwayEwmaGoalsScored', 'AwayWins')\n",
      "654 17:57:56 38.34 Trying with following combo ('AwayEwmaGoalsScored', 'AwayWins')\n",
      "655 17:57:57 39.11 Trying with following combo ('AwayEwmaGoalsScored', 'AwayDraws')\n",
      "655 17:57:57 38.39 Trying with following combo ('AwayEwmaGoalsScored', 'AwayDraws')\n",
      "656 17:57:59 38.97 Trying with following combo ('AwayEwmaGoalsScored', 'AwayLosses')\n",
      "656 17:57:59 39.05 Trying with following combo ('AwayEwmaGoalsScored', 'AwayLosses')\n",
      "657 17:58:00 42.13 Trying with following combo ('AwayEwmaGoalsScored', 'UltimoScontroDiretto')\n",
      "657 17:58:00 39.58 Trying with following combo ('AwayEwmaGoalsScored', 'UltimoScontroDiretto')\n",
      "658 17:58:01 42.93 Trying with following combo ('AwayEwmaGoalsScored', 'Last3PointsDifference')\n",
      "658 17:58:02 40.06 Trying with following combo ('AwayEwmaGoalsScored', 'Last3PointsDifference')\n",
      "659 17:58:04 46.42 Trying with following combo ('AwayEwmaGoalsScored', 'GoalRatioDifference')\n",
      "659 17:58:04 45.83 Trying with following combo ('AwayEwmaGoalsScored', 'GoalRatioDifference')\n",
      "660 17:58:06 39.24 Trying with following combo ('AwayEwmaGoalsScored', 'EwmaGoalsSum')\n",
      "660 17:58:06 38.31 Trying with following combo ('AwayEwmaGoalsScored', 'EwmaGoalsSum')\n",
      "661 17:58:07 39.54 Trying with following combo ('AwayEwmaGoalsScored', 'GoalsSum')\n",
      "661 17:58:08 39.08 Trying with following combo ('AwayEwmaGoalsScored', 'GoalsSum')\n",
      "662 17:58:09 47.43 Trying with following combo ('AwayEwmaGoalsScored', 'HomePointGap')\n",
      "662 17:58:09 44.56 Trying with following combo ('AwayEwmaGoalsScored', 'HomePointGap')\n",
      "663 17:58:11 47.43 Trying with following combo ('AwayEwmaGoalsScored', 'AwayPointGap')\n",
      "663 17:58:11 44.64 Trying with following combo ('AwayEwmaGoalsScored', 'AwayPointGap')\n",
      "664 17:58:12 45.95 Trying with following combo ('AwayEwmaGoalsScored', 'HomeGoalGap')\n",
      "664 17:58:12 44.27 Trying with following combo ('AwayEwmaGoalsScored', 'HomeGoalGap')\n",
      "665 17:58:14 45.95 Trying with following combo ('AwayEwmaGoalsScored', 'AwayGoalGap')\n",
      "665 17:58:14 44.12 Trying with following combo ('AwayEwmaGoalsScored', 'AwayGoalGap')\n",
      "666 17:58:16 39.72 Trying with following combo ('AwayEwmaGoalsScored', 'feat1')\n",
      "666 17:58:16 38.06 Trying with following combo ('AwayEwmaGoalsScored', 'feat1')\n",
      "667 17:58:17 39.67 Trying with following combo ('AwayEwmaGoalsScored', 'feat2')\n",
      "667 17:58:17 38.6 Trying with following combo ('AwayEwmaGoalsScored', 'feat2')\n",
      "668 17:58:19 39.25 Trying with following combo ('AwayEwmaGoalsScored', 'FormDiff')\n",
      "668 17:58:19 37.75 Trying with following combo ('AwayEwmaGoalsScored', 'FormDiff')\n",
      "669 17:58:20 39.15 Trying with following combo ('AwayEwmaGoalsScored', 'RecentFormDiff')\n",
      "669 17:58:20 38.11 Trying with following combo ('AwayEwmaGoalsScored', 'RecentFormDiff')\n",
      "670 17:58:22 39.3 Trying with following combo ('AwayEwmaGoalsScored', 'GoalCumulativeSum')\n",
      "670 17:58:22 39.42 Trying with following combo ('AwayEwmaGoalsScored', 'GoalCumulativeSum')\n",
      "671 17:58:24 47.96 Trying with following combo ('AwayEwmaGoalsScored', 'ATW_LogRegPred')\n",
      "671 17:58:24 46.23 Trying with following combo ('AwayEwmaGoalsScored', 'ATW_LogRegPred')\n",
      "672 17:58:25 32.62 Trying with following combo ('AwayEwmaGoalsConceded', 'HomeWins')\n",
      "672 17:58:25 32.74 Trying with following combo ('AwayEwmaGoalsConceded', 'HomeWins')\n"
     ]
    },
    {
     "name": "stderr",
     "output_type": "stream",
     "text": [
      "c:\\Users\\vitto\\OneDrive\\Desktop\\Personale\\ML - Soccer\\BothToScore\\..\\lib\\Utility.py:288: RuntimeWarning: invalid value encountered in scalar divide\n",
      "  accuracy_class_1 = cm[1, 1] / (cm[0, 1] + cm[1, 1])\n",
      "c:\\Users\\vitto\\OneDrive\\Desktop\\Personale\\ML - Soccer\\BothToScore\\..\\lib\\Utility.py:288: RuntimeWarning: invalid value encountered in scalar divide\n",
      "  accuracy_class_1 = cm[1, 1] / (cm[0, 1] + cm[1, 1])\n"
     ]
    },
    {
     "name": "stdout",
     "output_type": "stream",
     "text": [
      "673 17:58:27 32.62 Trying with following combo ('AwayEwmaGoalsConceded', 'HomeDraws')\n",
      "673 17:58:27 32.68 Trying with following combo ('AwayEwmaGoalsConceded', 'HomeDraws')\n"
     ]
    },
    {
     "name": "stderr",
     "output_type": "stream",
     "text": [
      "c:\\Users\\vitto\\OneDrive\\Desktop\\Personale\\ML - Soccer\\BothToScore\\..\\lib\\Utility.py:288: RuntimeWarning: invalid value encountered in scalar divide\n",
      "  accuracy_class_1 = cm[1, 1] / (cm[0, 1] + cm[1, 1])\n",
      "c:\\Users\\vitto\\OneDrive\\Desktop\\Personale\\ML - Soccer\\BothToScore\\..\\lib\\Utility.py:288: RuntimeWarning: invalid value encountered in scalar divide\n",
      "  accuracy_class_1 = cm[1, 1] / (cm[0, 1] + cm[1, 1])\n"
     ]
    },
    {
     "name": "stdout",
     "output_type": "stream",
     "text": [
      "674 17:58:28 32.62 Trying with following combo ('AwayEwmaGoalsConceded', 'HomeLosses')\n",
      "674 17:58:29 32.77 Trying with following combo ('AwayEwmaGoalsConceded', 'HomeLosses')\n"
     ]
    },
    {
     "name": "stderr",
     "output_type": "stream",
     "text": [
      "c:\\Users\\vitto\\OneDrive\\Desktop\\Personale\\ML - Soccer\\BothToScore\\..\\lib\\Utility.py:288: RuntimeWarning: invalid value encountered in scalar divide\n",
      "  accuracy_class_1 = cm[1, 1] / (cm[0, 1] + cm[1, 1])\n",
      "c:\\Users\\vitto\\OneDrive\\Desktop\\Personale\\ML - Soccer\\BothToScore\\..\\lib\\Utility.py:288: RuntimeWarning: invalid value encountered in scalar divide\n",
      "  accuracy_class_1 = cm[1, 1] / (cm[0, 1] + cm[1, 1])\n"
     ]
    },
    {
     "name": "stdout",
     "output_type": "stream",
     "text": [
      "675 17:58:30 32.62 Trying with following combo ('AwayEwmaGoalsConceded', 'AwayWins')\n",
      "675 17:58:30 32.76 Trying with following combo ('AwayEwmaGoalsConceded', 'AwayWins')\n"
     ]
    },
    {
     "name": "stderr",
     "output_type": "stream",
     "text": [
      "c:\\Users\\vitto\\OneDrive\\Desktop\\Personale\\ML - Soccer\\BothToScore\\..\\lib\\Utility.py:288: RuntimeWarning: invalid value encountered in scalar divide\n",
      "  accuracy_class_1 = cm[1, 1] / (cm[0, 1] + cm[1, 1])\n",
      "c:\\Users\\vitto\\OneDrive\\Desktop\\Personale\\ML - Soccer\\BothToScore\\..\\lib\\Utility.py:288: RuntimeWarning: invalid value encountered in scalar divide\n",
      "  accuracy_class_1 = cm[1, 1] / (cm[0, 1] + cm[1, 1])\n"
     ]
    },
    {
     "name": "stdout",
     "output_type": "stream",
     "text": [
      "676 17:58:32 32.62 Trying with following combo ('AwayEwmaGoalsConceded', 'AwayDraws')\n",
      "676 17:58:32 32.68 Trying with following combo ('AwayEwmaGoalsConceded', 'AwayDraws')\n"
     ]
    },
    {
     "name": "stderr",
     "output_type": "stream",
     "text": [
      "c:\\Users\\vitto\\OneDrive\\Desktop\\Personale\\ML - Soccer\\BothToScore\\..\\lib\\Utility.py:288: RuntimeWarning: invalid value encountered in scalar divide\n",
      "  accuracy_class_1 = cm[1, 1] / (cm[0, 1] + cm[1, 1])\n",
      "c:\\Users\\vitto\\OneDrive\\Desktop\\Personale\\ML - Soccer\\BothToScore\\..\\lib\\Utility.py:288: RuntimeWarning: invalid value encountered in scalar divide\n",
      "  accuracy_class_1 = cm[1, 1] / (cm[0, 1] + cm[1, 1])\n"
     ]
    },
    {
     "name": "stdout",
     "output_type": "stream",
     "text": [
      "677 17:58:33 32.62 Trying with following combo ('AwayEwmaGoalsConceded', 'AwayLosses')\n",
      "677 17:58:33 32.74 Trying with following combo ('AwayEwmaGoalsConceded', 'AwayLosses')\n"
     ]
    },
    {
     "name": "stderr",
     "output_type": "stream",
     "text": [
      "c:\\Users\\vitto\\OneDrive\\Desktop\\Personale\\ML - Soccer\\BothToScore\\..\\lib\\Utility.py:288: RuntimeWarning: invalid value encountered in scalar divide\n",
      "  accuracy_class_1 = cm[1, 1] / (cm[0, 1] + cm[1, 1])\n",
      "c:\\Users\\vitto\\OneDrive\\Desktop\\Personale\\ML - Soccer\\BothToScore\\..\\lib\\Utility.py:288: RuntimeWarning: invalid value encountered in scalar divide\n",
      "  accuracy_class_1 = cm[1, 1] / (cm[0, 1] + cm[1, 1])\n"
     ]
    },
    {
     "name": "stdout",
     "output_type": "stream",
     "text": [
      "678 17:58:35 35.07 Trying with following combo ('AwayEwmaGoalsConceded', 'UltimoScontroDiretto')\n",
      "678 17:58:35 34.04 Trying with following combo ('AwayEwmaGoalsConceded', 'UltimoScontroDiretto')\n",
      "679 17:58:36 42.58 Trying with following combo ('AwayEwmaGoalsConceded', 'Last3PointsDifference')\n",
      "679 17:58:36 39.1 Trying with following combo ('AwayEwmaGoalsConceded', 'Last3PointsDifference')\n",
      "680 17:58:38 45.56 Trying with following combo ('AwayEwmaGoalsConceded', 'GoalRatioDifference')\n",
      "680 17:58:38 47.52 Trying with following combo ('AwayEwmaGoalsConceded', 'GoalRatioDifference')\n",
      "681 17:58:40 38.93 Trying with following combo ('AwayEwmaGoalsConceded', 'EwmaGoalsSum')\n",
      "681 17:58:40 34.79 Trying with following combo ('AwayEwmaGoalsConceded', 'EwmaGoalsSum')\n",
      "682 17:58:42 33.39 Trying with following combo ('AwayEwmaGoalsConceded', 'GoalsSum')\n",
      "682 17:58:42 32.85 Trying with following combo ('AwayEwmaGoalsConceded', 'GoalsSum')\n",
      "683 17:58:43 46.24 Trying with following combo ('AwayEwmaGoalsConceded', 'HomePointGap')\n",
      "683 17:58:44 47.2 Trying with following combo ('AwayEwmaGoalsConceded', 'HomePointGap')\n",
      "684 17:58:45 46.24 Trying with following combo ('AwayEwmaGoalsConceded', 'AwayPointGap')\n",
      "684 17:58:45 47.19 Trying with following combo ('AwayEwmaGoalsConceded', 'AwayPointGap')\n",
      "685 17:58:47 45.1 Trying with following combo ('AwayEwmaGoalsConceded', 'HomeGoalGap')\n",
      "685 17:58:47 47.1 Trying with following combo ('AwayEwmaGoalsConceded', 'HomeGoalGap')\n",
      "686 17:58:48 45.1 Trying with following combo ('AwayEwmaGoalsConceded', 'AwayGoalGap')\n",
      "686 17:58:48 47.04 Trying with following combo ('AwayEwmaGoalsConceded', 'AwayGoalGap')\n",
      "687 17:58:50 33.05 Trying with following combo ('AwayEwmaGoalsConceded', 'feat1')\n",
      "687 17:58:50 33.23 Trying with following combo ('AwayEwmaGoalsConceded', 'feat1')\n",
      "688 17:58:52 33.04 Trying with following combo ('AwayEwmaGoalsConceded', 'feat2')\n",
      "688 17:58:52 33.22 Trying with following combo ('AwayEwmaGoalsConceded', 'feat2')\n"
     ]
    },
    {
     "name": "stderr",
     "output_type": "stream",
     "text": [
      "c:\\Users\\vitto\\OneDrive\\Desktop\\Personale\\ML - Soccer\\BothToScore\\..\\lib\\Utility.py:288: RuntimeWarning: invalid value encountered in scalar divide\n",
      "  accuracy_class_1 = cm[1, 1] / (cm[0, 1] + cm[1, 1])\n",
      "c:\\Users\\vitto\\OneDrive\\Desktop\\Personale\\ML - Soccer\\BothToScore\\..\\lib\\Utility.py:288: RuntimeWarning: invalid value encountered in scalar divide\n",
      "  accuracy_class_1 = cm[1, 1] / (cm[0, 1] + cm[1, 1])\n"
     ]
    },
    {
     "name": "stdout",
     "output_type": "stream",
     "text": [
      "689 17:58:53 32.62 Trying with following combo ('AwayEwmaGoalsConceded', 'FormDiff')\n"
     ]
    },
    {
     "name": "stderr",
     "output_type": "stream",
     "text": [
      "c:\\Users\\vitto\\OneDrive\\Desktop\\Personale\\ML - Soccer\\BothToScore\\..\\lib\\Utility.py:288: RuntimeWarning: invalid value encountered in scalar divide\n",
      "  accuracy_class_1 = cm[1, 1] / (cm[0, 1] + cm[1, 1])\n",
      "c:\\Users\\vitto\\OneDrive\\Desktop\\Personale\\ML - Soccer\\BothToScore\\..\\lib\\Utility.py:288: RuntimeWarning: invalid value encountered in scalar divide\n",
      "  accuracy_class_1 = cm[1, 1] / (cm[0, 1] + cm[1, 1])\n"
     ]
    },
    {
     "name": "stdout",
     "output_type": "stream",
     "text": [
      "689 17:58:53 33.18 Trying with following combo ('AwayEwmaGoalsConceded', 'FormDiff')\n",
      "690 17:58:55 32.62 Trying with following combo ('AwayEwmaGoalsConceded', 'RecentFormDiff')\n",
      "690 17:58:56 33.09 Trying with following combo ('AwayEwmaGoalsConceded', 'RecentFormDiff')\n"
     ]
    },
    {
     "name": "stderr",
     "output_type": "stream",
     "text": [
      "c:\\Users\\vitto\\OneDrive\\Desktop\\Personale\\ML - Soccer\\BothToScore\\..\\lib\\Utility.py:288: RuntimeWarning: invalid value encountered in scalar divide\n",
      "  accuracy_class_1 = cm[1, 1] / (cm[0, 1] + cm[1, 1])\n",
      "c:\\Users\\vitto\\OneDrive\\Desktop\\Personale\\ML - Soccer\\BothToScore\\..\\lib\\Utility.py:288: RuntimeWarning: invalid value encountered in scalar divide\n",
      "  accuracy_class_1 = cm[1, 1] / (cm[0, 1] + cm[1, 1])\n"
     ]
    },
    {
     "name": "stdout",
     "output_type": "stream",
     "text": [
      "691 17:58:57 33.04 Trying with following combo ('AwayEwmaGoalsConceded', 'GoalCumulativeSum')\n",
      "691 17:58:57 32.81 Trying with following combo ('AwayEwmaGoalsConceded', 'GoalCumulativeSum')\n",
      "692 17:58:59 52.31 Trying with following combo ('AwayEwmaGoalsConceded', 'ATW_LogRegPred')\n",
      "692 17:59:00 41.54 Trying with following combo ('AwayEwmaGoalsConceded', 'ATW_LogRegPred')\n",
      "693 17:59:01 32.62 Trying with following combo ('HomeWins', 'HomeDraws')\n",
      "693 17:59:01 32.62 Trying with following combo ('HomeWins', 'HomeDraws')\n"
     ]
    },
    {
     "name": "stderr",
     "output_type": "stream",
     "text": [
      "c:\\Users\\vitto\\OneDrive\\Desktop\\Personale\\ML - Soccer\\BothToScore\\..\\lib\\Utility.py:288: RuntimeWarning: invalid value encountered in scalar divide\n",
      "  accuracy_class_1 = cm[1, 1] / (cm[0, 1] + cm[1, 1])\n",
      "c:\\Users\\vitto\\OneDrive\\Desktop\\Personale\\ML - Soccer\\BothToScore\\..\\lib\\Utility.py:288: RuntimeWarning: invalid value encountered in scalar divide\n",
      "  accuracy_class_1 = cm[1, 1] / (cm[0, 1] + cm[1, 1])\n",
      "c:\\Users\\vitto\\OneDrive\\Desktop\\Personale\\ML - Soccer\\BothToScore\\..\\lib\\Utility.py:288: RuntimeWarning: invalid value encountered in scalar divide\n",
      "  accuracy_class_1 = cm[1, 1] / (cm[0, 1] + cm[1, 1])\n",
      "c:\\Users\\vitto\\OneDrive\\Desktop\\Personale\\ML - Soccer\\BothToScore\\..\\lib\\Utility.py:288: RuntimeWarning: invalid value encountered in scalar divide\n",
      "  accuracy_class_1 = cm[1, 1] / (cm[0, 1] + cm[1, 1])\n"
     ]
    },
    {
     "name": "stdout",
     "output_type": "stream",
     "text": [
      "694 17:59:01 32.62 Trying with following combo ('HomeWins', 'HomeLosses')\n",
      "694 17:59:02 32.62 Trying with following combo ('HomeWins', 'HomeLosses')\n"
     ]
    },
    {
     "name": "stderr",
     "output_type": "stream",
     "text": [
      "c:\\Users\\vitto\\OneDrive\\Desktop\\Personale\\ML - Soccer\\BothToScore\\..\\lib\\Utility.py:288: RuntimeWarning: invalid value encountered in scalar divide\n",
      "  accuracy_class_1 = cm[1, 1] / (cm[0, 1] + cm[1, 1])\n",
      "c:\\Users\\vitto\\OneDrive\\Desktop\\Personale\\ML - Soccer\\BothToScore\\..\\lib\\Utility.py:288: RuntimeWarning: invalid value encountered in scalar divide\n",
      "  accuracy_class_1 = cm[1, 1] / (cm[0, 1] + cm[1, 1])\n",
      "c:\\Users\\vitto\\OneDrive\\Desktop\\Personale\\ML - Soccer\\BothToScore\\..\\lib\\Utility.py:288: RuntimeWarning: invalid value encountered in scalar divide\n",
      "  accuracy_class_1 = cm[1, 1] / (cm[0, 1] + cm[1, 1])\n",
      "c:\\Users\\vitto\\OneDrive\\Desktop\\Personale\\ML - Soccer\\BothToScore\\..\\lib\\Utility.py:288: RuntimeWarning: invalid value encountered in scalar divide\n",
      "  accuracy_class_1 = cm[1, 1] / (cm[0, 1] + cm[1, 1])\n"
     ]
    },
    {
     "name": "stdout",
     "output_type": "stream",
     "text": [
      "695 17:59:02 32.62 Trying with following combo ('HomeWins', 'AwayWins')\n",
      "695 17:59:03 32.62 Trying with following combo ('HomeWins', 'AwayWins')\n"
     ]
    },
    {
     "name": "stderr",
     "output_type": "stream",
     "text": [
      "c:\\Users\\vitto\\OneDrive\\Desktop\\Personale\\ML - Soccer\\BothToScore\\..\\lib\\Utility.py:288: RuntimeWarning: invalid value encountered in scalar divide\n",
      "  accuracy_class_1 = cm[1, 1] / (cm[0, 1] + cm[1, 1])\n",
      "c:\\Users\\vitto\\OneDrive\\Desktop\\Personale\\ML - Soccer\\BothToScore\\..\\lib\\Utility.py:288: RuntimeWarning: invalid value encountered in scalar divide\n",
      "  accuracy_class_1 = cm[1, 1] / (cm[0, 1] + cm[1, 1])\n",
      "c:\\Users\\vitto\\OneDrive\\Desktop\\Personale\\ML - Soccer\\BothToScore\\..\\lib\\Utility.py:288: RuntimeWarning: invalid value encountered in scalar divide\n",
      "  accuracy_class_1 = cm[1, 1] / (cm[0, 1] + cm[1, 1])\n",
      "c:\\Users\\vitto\\OneDrive\\Desktop\\Personale\\ML - Soccer\\BothToScore\\..\\lib\\Utility.py:288: RuntimeWarning: invalid value encountered in scalar divide\n",
      "  accuracy_class_1 = cm[1, 1] / (cm[0, 1] + cm[1, 1])\n"
     ]
    },
    {
     "name": "stdout",
     "output_type": "stream",
     "text": [
      "696 17:59:03 32.62 Trying with following combo ('HomeWins', 'AwayDraws')\n",
      "696 17:59:04 32.62 Trying with following combo ('HomeWins', 'AwayDraws')\n"
     ]
    },
    {
     "name": "stderr",
     "output_type": "stream",
     "text": [
      "c:\\Users\\vitto\\OneDrive\\Desktop\\Personale\\ML - Soccer\\BothToScore\\..\\lib\\Utility.py:288: RuntimeWarning: invalid value encountered in scalar divide\n",
      "  accuracy_class_1 = cm[1, 1] / (cm[0, 1] + cm[1, 1])\n",
      "c:\\Users\\vitto\\OneDrive\\Desktop\\Personale\\ML - Soccer\\BothToScore\\..\\lib\\Utility.py:288: RuntimeWarning: invalid value encountered in scalar divide\n",
      "  accuracy_class_1 = cm[1, 1] / (cm[0, 1] + cm[1, 1])\n",
      "c:\\Users\\vitto\\OneDrive\\Desktop\\Personale\\ML - Soccer\\BothToScore\\..\\lib\\Utility.py:288: RuntimeWarning: invalid value encountered in scalar divide\n",
      "  accuracy_class_1 = cm[1, 1] / (cm[0, 1] + cm[1, 1])\n",
      "c:\\Users\\vitto\\OneDrive\\Desktop\\Personale\\ML - Soccer\\BothToScore\\..\\lib\\Utility.py:288: RuntimeWarning: invalid value encountered in scalar divide\n",
      "  accuracy_class_1 = cm[1, 1] / (cm[0, 1] + cm[1, 1])\n"
     ]
    },
    {
     "name": "stdout",
     "output_type": "stream",
     "text": [
      "697 17:59:04 32.62 Trying with following combo ('HomeWins', 'AwayLosses')\n",
      "697 17:59:05 32.61 Trying with following combo ('HomeWins', 'AwayLosses')\n"
     ]
    },
    {
     "name": "stderr",
     "output_type": "stream",
     "text": [
      "c:\\Users\\vitto\\OneDrive\\Desktop\\Personale\\ML - Soccer\\BothToScore\\..\\lib\\Utility.py:288: RuntimeWarning: invalid value encountered in scalar divide\n",
      "  accuracy_class_1 = cm[1, 1] / (cm[0, 1] + cm[1, 1])\n",
      "c:\\Users\\vitto\\OneDrive\\Desktop\\Personale\\ML - Soccer\\BothToScore\\..\\lib\\Utility.py:288: RuntimeWarning: invalid value encountered in scalar divide\n",
      "  accuracy_class_1 = cm[1, 1] / (cm[0, 1] + cm[1, 1])\n"
     ]
    },
    {
     "name": "stdout",
     "output_type": "stream",
     "text": [
      "698 17:59:05 32.17 Trying with following combo ('HomeWins', 'UltimoScontroDiretto')\n",
      "698 17:59:05 32.17 Trying with following combo ('HomeWins', 'UltimoScontroDiretto')\n"
     ]
    },
    {
     "name": "stderr",
     "output_type": "stream",
     "text": [
      "c:\\Users\\vitto\\OneDrive\\Desktop\\Personale\\ML - Soccer\\BothToScore\\..\\lib\\Utility.py:288: RuntimeWarning: invalid value encountered in scalar divide\n",
      "  accuracy_class_1 = cm[1, 1] / (cm[0, 1] + cm[1, 1])\n",
      "c:\\Users\\vitto\\OneDrive\\Desktop\\Personale\\ML - Soccer\\BothToScore\\..\\lib\\Utility.py:288: RuntimeWarning: invalid value encountered in scalar divide\n",
      "  accuracy_class_1 = cm[1, 1] / (cm[0, 1] + cm[1, 1])\n",
      "c:\\Users\\vitto\\OneDrive\\Desktop\\Personale\\ML - Soccer\\BothToScore\\..\\lib\\Utility.py:288: RuntimeWarning: invalid value encountered in scalar divide\n",
      "  accuracy_class_1 = cm[1, 1] / (cm[0, 1] + cm[1, 1])\n",
      "c:\\Users\\vitto\\OneDrive\\Desktop\\Personale\\ML - Soccer\\BothToScore\\..\\lib\\Utility.py:288: RuntimeWarning: invalid value encountered in scalar divide\n",
      "  accuracy_class_1 = cm[1, 1] / (cm[0, 1] + cm[1, 1])\n"
     ]
    },
    {
     "name": "stdout",
     "output_type": "stream",
     "text": [
      "699 17:59:06 41.94 Trying with following combo ('HomeWins', 'Last3PointsDifference')\n",
      "699 17:59:06 39.16 Trying with following combo ('HomeWins', 'Last3PointsDifference')\n",
      "700 17:59:08 45.43 Trying with following combo ('HomeWins', 'GoalRatioDifference')\n",
      "700 17:59:08 47.31 Trying with following combo ('HomeWins', 'GoalRatioDifference')\n",
      "701 17:59:09 34.03 Trying with following combo ('HomeWins', 'EwmaGoalsSum')\n",
      "701 17:59:10 33.17 Trying with following combo ('HomeWins', 'EwmaGoalsSum')\n",
      "702 17:59:10 32.66 Trying with following combo ('HomeWins', 'GoalsSum')\n",
      "702 17:59:11 32.81 Trying with following combo ('HomeWins', 'GoalsSum')\n",
      "703 17:59:12 46.47 Trying with following combo ('HomeWins', 'HomePointGap')\n",
      "703 17:59:12 47.33 Trying with following combo ('HomeWins', 'HomePointGap')\n",
      "704 17:59:13 46.47 Trying with following combo ('HomeWins', 'AwayPointGap')\n",
      "704 17:59:13 47.33 Trying with following combo ('HomeWins', 'AwayPointGap')\n",
      "705 17:59:14 44.96 Trying with following combo ('HomeWins', 'HomeGoalGap')\n",
      "705 17:59:14 46.71 Trying with following combo ('HomeWins', 'HomeGoalGap')\n",
      "706 17:59:15 44.96 Trying with following combo ('HomeWins', 'AwayGoalGap')\n",
      "706 17:59:15 45.09 Trying with following combo ('HomeWins', 'AwayGoalGap')\n",
      "707 17:59:16 33.04 Trying with following combo ('HomeWins', 'feat1')\n",
      "707 17:59:16 33.2 Trying with following combo ('HomeWins', 'feat1')\n"
     ]
    },
    {
     "name": "stderr",
     "output_type": "stream",
     "text": [
      "c:\\Users\\vitto\\OneDrive\\Desktop\\Personale\\ML - Soccer\\BothToScore\\..\\lib\\Utility.py:288: RuntimeWarning: invalid value encountered in scalar divide\n",
      "  accuracy_class_1 = cm[1, 1] / (cm[0, 1] + cm[1, 1])\n",
      "c:\\Users\\vitto\\OneDrive\\Desktop\\Personale\\ML - Soccer\\BothToScore\\..\\lib\\Utility.py:288: RuntimeWarning: invalid value encountered in scalar divide\n",
      "  accuracy_class_1 = cm[1, 1] / (cm[0, 1] + cm[1, 1])\n"
     ]
    },
    {
     "name": "stdout",
     "output_type": "stream",
     "text": [
      "708 17:59:17 33.04 Trying with following combo ('HomeWins', 'feat2')\n",
      "708 17:59:18 33.22 Trying with following combo ('HomeWins', 'feat2')\n"
     ]
    },
    {
     "name": "stderr",
     "output_type": "stream",
     "text": [
      "c:\\Users\\vitto\\OneDrive\\Desktop\\Personale\\ML - Soccer\\BothToScore\\..\\lib\\Utility.py:288: RuntimeWarning: invalid value encountered in scalar divide\n",
      "  accuracy_class_1 = cm[1, 1] / (cm[0, 1] + cm[1, 1])\n",
      "c:\\Users\\vitto\\OneDrive\\Desktop\\Personale\\ML - Soccer\\BothToScore\\..\\lib\\Utility.py:288: RuntimeWarning: invalid value encountered in scalar divide\n",
      "  accuracy_class_1 = cm[1, 1] / (cm[0, 1] + cm[1, 1])\n"
     ]
    },
    {
     "name": "stdout",
     "output_type": "stream",
     "text": [
      "709 17:59:18 32.62 Trying with following combo ('HomeWins', 'FormDiff')\n",
      "709 17:59:19 33.18 Trying with following combo ('HomeWins', 'FormDiff')\n"
     ]
    },
    {
     "name": "stderr",
     "output_type": "stream",
     "text": [
      "c:\\Users\\vitto\\OneDrive\\Desktop\\Personale\\ML - Soccer\\BothToScore\\..\\lib\\Utility.py:288: RuntimeWarning: invalid value encountered in scalar divide\n",
      "  accuracy_class_1 = cm[1, 1] / (cm[0, 1] + cm[1, 1])\n",
      "c:\\Users\\vitto\\OneDrive\\Desktop\\Personale\\ML - Soccer\\BothToScore\\..\\lib\\Utility.py:288: RuntimeWarning: invalid value encountered in scalar divide\n",
      "  accuracy_class_1 = cm[1, 1] / (cm[0, 1] + cm[1, 1])\n"
     ]
    },
    {
     "name": "stdout",
     "output_type": "stream",
     "text": [
      "710 17:59:19 32.62 Trying with following combo ('HomeWins', 'RecentFormDiff')\n",
      "710 17:59:20 33.04 Trying with following combo ('HomeWins', 'RecentFormDiff')\n"
     ]
    },
    {
     "name": "stderr",
     "output_type": "stream",
     "text": [
      "c:\\Users\\vitto\\OneDrive\\Desktop\\Personale\\ML - Soccer\\BothToScore\\..\\lib\\Utility.py:288: RuntimeWarning: invalid value encountered in scalar divide\n",
      "  accuracy_class_1 = cm[1, 1] / (cm[0, 1] + cm[1, 1])\n",
      "c:\\Users\\vitto\\OneDrive\\Desktop\\Personale\\ML - Soccer\\BothToScore\\..\\lib\\Utility.py:288: RuntimeWarning: invalid value encountered in scalar divide\n",
      "  accuracy_class_1 = cm[1, 1] / (cm[0, 1] + cm[1, 1])\n"
     ]
    },
    {
     "name": "stdout",
     "output_type": "stream",
     "text": [
      "711 17:59:20 32.66 Trying with following combo ('HomeWins', 'GoalCumulativeSum')\n",
      "711 17:59:21 32.77 Trying with following combo ('HomeWins', 'GoalCumulativeSum')\n",
      "712 17:59:21 44.11 Trying with following combo ('HomeWins', 'ATW_LogRegPred')\n",
      "712 17:59:22 41.74 Trying with following combo ('HomeWins', 'ATW_LogRegPred')\n",
      "713 17:59:22 32.62 Trying with following combo ('HomeDraws', 'HomeLosses')\n",
      "713 17:59:23 32.62 Trying with following combo ('HomeDraws', 'HomeLosses')\n"
     ]
    },
    {
     "name": "stderr",
     "output_type": "stream",
     "text": [
      "c:\\Users\\vitto\\OneDrive\\Desktop\\Personale\\ML - Soccer\\BothToScore\\..\\lib\\Utility.py:288: RuntimeWarning: invalid value encountered in scalar divide\n",
      "  accuracy_class_1 = cm[1, 1] / (cm[0, 1] + cm[1, 1])\n",
      "c:\\Users\\vitto\\OneDrive\\Desktop\\Personale\\ML - Soccer\\BothToScore\\..\\lib\\Utility.py:288: RuntimeWarning: invalid value encountered in scalar divide\n",
      "  accuracy_class_1 = cm[1, 1] / (cm[0, 1] + cm[1, 1])\n",
      "c:\\Users\\vitto\\OneDrive\\Desktop\\Personale\\ML - Soccer\\BothToScore\\..\\lib\\Utility.py:288: RuntimeWarning: invalid value encountered in scalar divide\n",
      "  accuracy_class_1 = cm[1, 1] / (cm[0, 1] + cm[1, 1])\n",
      "c:\\Users\\vitto\\OneDrive\\Desktop\\Personale\\ML - Soccer\\BothToScore\\..\\lib\\Utility.py:288: RuntimeWarning: invalid value encountered in scalar divide\n",
      "  accuracy_class_1 = cm[1, 1] / (cm[0, 1] + cm[1, 1])\n"
     ]
    },
    {
     "name": "stdout",
     "output_type": "stream",
     "text": [
      "714 17:59:23 32.62 Trying with following combo ('HomeDraws', 'AwayWins')\n",
      "714 17:59:23 32.62 Trying with following combo ('HomeDraws', 'AwayWins')\n"
     ]
    },
    {
     "name": "stderr",
     "output_type": "stream",
     "text": [
      "c:\\Users\\vitto\\OneDrive\\Desktop\\Personale\\ML - Soccer\\BothToScore\\..\\lib\\Utility.py:288: RuntimeWarning: invalid value encountered in scalar divide\n",
      "  accuracy_class_1 = cm[1, 1] / (cm[0, 1] + cm[1, 1])\n",
      "c:\\Users\\vitto\\OneDrive\\Desktop\\Personale\\ML - Soccer\\BothToScore\\..\\lib\\Utility.py:288: RuntimeWarning: invalid value encountered in scalar divide\n",
      "  accuracy_class_1 = cm[1, 1] / (cm[0, 1] + cm[1, 1])\n",
      "c:\\Users\\vitto\\OneDrive\\Desktop\\Personale\\ML - Soccer\\BothToScore\\..\\lib\\Utility.py:288: RuntimeWarning: invalid value encountered in scalar divide\n",
      "  accuracy_class_1 = cm[1, 1] / (cm[0, 1] + cm[1, 1])\n",
      "c:\\Users\\vitto\\OneDrive\\Desktop\\Personale\\ML - Soccer\\BothToScore\\..\\lib\\Utility.py:288: RuntimeWarning: invalid value encountered in scalar divide\n",
      "  accuracy_class_1 = cm[1, 1] / (cm[0, 1] + cm[1, 1])\n"
     ]
    },
    {
     "name": "stdout",
     "output_type": "stream",
     "text": [
      "715 17:59:24 32.62 Trying with following combo ('HomeDraws', 'AwayDraws')\n",
      "715 17:59:25 32.62 Trying with following combo ('HomeDraws', 'AwayDraws')\n"
     ]
    },
    {
     "name": "stderr",
     "output_type": "stream",
     "text": [
      "c:\\Users\\vitto\\OneDrive\\Desktop\\Personale\\ML - Soccer\\BothToScore\\..\\lib\\Utility.py:288: RuntimeWarning: invalid value encountered in scalar divide\n",
      "  accuracy_class_1 = cm[1, 1] / (cm[0, 1] + cm[1, 1])\n",
      "c:\\Users\\vitto\\OneDrive\\Desktop\\Personale\\ML - Soccer\\BothToScore\\..\\lib\\Utility.py:288: RuntimeWarning: invalid value encountered in scalar divide\n",
      "  accuracy_class_1 = cm[1, 1] / (cm[0, 1] + cm[1, 1])\n",
      "c:\\Users\\vitto\\OneDrive\\Desktop\\Personale\\ML - Soccer\\BothToScore\\..\\lib\\Utility.py:288: RuntimeWarning: invalid value encountered in scalar divide\n",
      "  accuracy_class_1 = cm[1, 1] / (cm[0, 1] + cm[1, 1])\n",
      "c:\\Users\\vitto\\OneDrive\\Desktop\\Personale\\ML - Soccer\\BothToScore\\..\\lib\\Utility.py:288: RuntimeWarning: invalid value encountered in scalar divide\n",
      "  accuracy_class_1 = cm[1, 1] / (cm[0, 1] + cm[1, 1])\n"
     ]
    },
    {
     "name": "stdout",
     "output_type": "stream",
     "text": [
      "716 17:59:26 32.62 Trying with following combo ('HomeDraws', 'AwayLosses')\n",
      "716 17:59:26 32.62 Trying with following combo ('HomeDraws', 'AwayLosses')\n"
     ]
    },
    {
     "name": "stderr",
     "output_type": "stream",
     "text": [
      "c:\\Users\\vitto\\OneDrive\\Desktop\\Personale\\ML - Soccer\\BothToScore\\..\\lib\\Utility.py:288: RuntimeWarning: invalid value encountered in scalar divide\n",
      "  accuracy_class_1 = cm[1, 1] / (cm[0, 1] + cm[1, 1])\n",
      "c:\\Users\\vitto\\OneDrive\\Desktop\\Personale\\ML - Soccer\\BothToScore\\..\\lib\\Utility.py:288: RuntimeWarning: invalid value encountered in scalar divide\n",
      "  accuracy_class_1 = cm[1, 1] / (cm[0, 1] + cm[1, 1])\n",
      "c:\\Users\\vitto\\OneDrive\\Desktop\\Personale\\ML - Soccer\\BothToScore\\..\\lib\\Utility.py:288: RuntimeWarning: invalid value encountered in scalar divide\n",
      "  accuracy_class_1 = cm[1, 1] / (cm[0, 1] + cm[1, 1])\n",
      "c:\\Users\\vitto\\OneDrive\\Desktop\\Personale\\ML - Soccer\\BothToScore\\..\\lib\\Utility.py:288: RuntimeWarning: invalid value encountered in scalar divide\n",
      "  accuracy_class_1 = cm[1, 1] / (cm[0, 1] + cm[1, 1])\n"
     ]
    },
    {
     "name": "stdout",
     "output_type": "stream",
     "text": [
      "717 17:59:26 32.17 Trying with following combo ('HomeDraws', 'UltimoScontroDiretto')\n",
      "717 17:59:27 32.17 Trying with following combo ('HomeDraws', 'UltimoScontroDiretto')\n"
     ]
    },
    {
     "name": "stderr",
     "output_type": "stream",
     "text": [
      "c:\\Users\\vitto\\OneDrive\\Desktop\\Personale\\ML - Soccer\\BothToScore\\..\\lib\\Utility.py:288: RuntimeWarning: invalid value encountered in scalar divide\n",
      "  accuracy_class_1 = cm[1, 1] / (cm[0, 1] + cm[1, 1])\n",
      "c:\\Users\\vitto\\OneDrive\\Desktop\\Personale\\ML - Soccer\\BothToScore\\..\\lib\\Utility.py:288: RuntimeWarning: invalid value encountered in scalar divide\n",
      "  accuracy_class_1 = cm[1, 1] / (cm[0, 1] + cm[1, 1])\n",
      "c:\\Users\\vitto\\OneDrive\\Desktop\\Personale\\ML - Soccer\\BothToScore\\..\\lib\\Utility.py:288: RuntimeWarning: invalid value encountered in scalar divide\n",
      "  accuracy_class_1 = cm[1, 1] / (cm[0, 1] + cm[1, 1])\n",
      "c:\\Users\\vitto\\OneDrive\\Desktop\\Personale\\ML - Soccer\\BothToScore\\..\\lib\\Utility.py:288: RuntimeWarning: invalid value encountered in scalar divide\n",
      "  accuracy_class_1 = cm[1, 1] / (cm[0, 1] + cm[1, 1])\n"
     ]
    },
    {
     "name": "stdout",
     "output_type": "stream",
     "text": [
      "718 17:59:27 42.54 Trying with following combo ('HomeDraws', 'Last3PointsDifference')\n",
      "718 17:59:28 40.6 Trying with following combo ('HomeDraws', 'Last3PointsDifference')\n",
      "719 17:59:29 45.51 Trying with following combo ('HomeDraws', 'GoalRatioDifference')\n",
      "719 17:59:29 47.87 Trying with following combo ('HomeDraws', 'GoalRatioDifference')\n",
      "720 17:59:31 34.03 Trying with following combo ('HomeDraws', 'EwmaGoalsSum')\n",
      "720 17:59:31 33.5 Trying with following combo ('HomeDraws', 'EwmaGoalsSum')\n",
      "721 17:59:32 32.69 Trying with following combo ('HomeDraws', 'GoalsSum')\n",
      "721 17:59:32 32.65 Trying with following combo ('HomeDraws', 'GoalsSum')\n",
      "722 17:59:33 46.4 Trying with following combo ('HomeDraws', 'HomePointGap')\n",
      "722 17:59:33 47.18 Trying with following combo ('HomeDraws', 'HomePointGap')\n",
      "723 17:59:34 46.4 Trying with following combo ('HomeDraws', 'AwayPointGap')\n",
      "723 17:59:34 47.18 Trying with following combo ('HomeDraws', 'AwayPointGap')\n",
      "724 17:59:35 44.82 Trying with following combo ('HomeDraws', 'HomeGoalGap')\n",
      "724 17:59:35 46.39 Trying with following combo ('HomeDraws', 'HomeGoalGap')\n",
      "725 17:59:36 44.82 Trying with following combo ('HomeDraws', 'AwayGoalGap')\n",
      "725 17:59:37 46.37 Trying with following combo ('HomeDraws', 'AwayGoalGap')\n",
      "726 17:59:38 33.04 Trying with following combo ('HomeDraws', 'feat1')\n",
      "726 17:59:38 33.12 Trying with following combo ('HomeDraws', 'feat1')\n"
     ]
    },
    {
     "name": "stderr",
     "output_type": "stream",
     "text": [
      "c:\\Users\\vitto\\OneDrive\\Desktop\\Personale\\ML - Soccer\\BothToScore\\..\\lib\\Utility.py:288: RuntimeWarning: invalid value encountered in scalar divide\n",
      "  accuracy_class_1 = cm[1, 1] / (cm[0, 1] + cm[1, 1])\n",
      "c:\\Users\\vitto\\OneDrive\\Desktop\\Personale\\ML - Soccer\\BothToScore\\..\\lib\\Utility.py:288: RuntimeWarning: invalid value encountered in scalar divide\n",
      "  accuracy_class_1 = cm[1, 1] / (cm[0, 1] + cm[1, 1])\n"
     ]
    },
    {
     "name": "stdout",
     "output_type": "stream",
     "text": [
      "727 17:59:39 33.04 Trying with following combo ('HomeDraws', 'feat2')\n",
      "727 17:59:39 33.11 Trying with following combo ('HomeDraws', 'feat2')\n"
     ]
    },
    {
     "name": "stderr",
     "output_type": "stream",
     "text": [
      "c:\\Users\\vitto\\OneDrive\\Desktop\\Personale\\ML - Soccer\\BothToScore\\..\\lib\\Utility.py:288: RuntimeWarning: invalid value encountered in scalar divide\n",
      "  accuracy_class_1 = cm[1, 1] / (cm[0, 1] + cm[1, 1])\n",
      "c:\\Users\\vitto\\OneDrive\\Desktop\\Personale\\ML - Soccer\\BothToScore\\..\\lib\\Utility.py:288: RuntimeWarning: invalid value encountered in scalar divide\n",
      "  accuracy_class_1 = cm[1, 1] / (cm[0, 1] + cm[1, 1])\n"
     ]
    },
    {
     "name": "stdout",
     "output_type": "stream",
     "text": [
      "728 17:59:40 32.62 Trying with following combo ('HomeDraws', 'FormDiff')\n",
      "728 17:59:41 33.1 Trying with following combo ('HomeDraws', 'FormDiff')\n"
     ]
    },
    {
     "name": "stderr",
     "output_type": "stream",
     "text": [
      "c:\\Users\\vitto\\OneDrive\\Desktop\\Personale\\ML - Soccer\\BothToScore\\..\\lib\\Utility.py:288: RuntimeWarning: invalid value encountered in scalar divide\n",
      "  accuracy_class_1 = cm[1, 1] / (cm[0, 1] + cm[1, 1])\n",
      "c:\\Users\\vitto\\OneDrive\\Desktop\\Personale\\ML - Soccer\\BothToScore\\..\\lib\\Utility.py:288: RuntimeWarning: invalid value encountered in scalar divide\n",
      "  accuracy_class_1 = cm[1, 1] / (cm[0, 1] + cm[1, 1])\n"
     ]
    },
    {
     "name": "stdout",
     "output_type": "stream",
     "text": [
      "729 17:59:42 32.62 Trying with following combo ('HomeDraws', 'RecentFormDiff')\n",
      "729 17:59:42 33.0 Trying with following combo ('HomeDraws', 'RecentFormDiff')\n"
     ]
    },
    {
     "name": "stderr",
     "output_type": "stream",
     "text": [
      "c:\\Users\\vitto\\OneDrive\\Desktop\\Personale\\ML - Soccer\\BothToScore\\..\\lib\\Utility.py:288: RuntimeWarning: invalid value encountered in scalar divide\n",
      "  accuracy_class_1 = cm[1, 1] / (cm[0, 1] + cm[1, 1])\n",
      "c:\\Users\\vitto\\OneDrive\\Desktop\\Personale\\ML - Soccer\\BothToScore\\..\\lib\\Utility.py:288: RuntimeWarning: invalid value encountered in scalar divide\n",
      "  accuracy_class_1 = cm[1, 1] / (cm[0, 1] + cm[1, 1])\n"
     ]
    },
    {
     "name": "stdout",
     "output_type": "stream",
     "text": [
      "730 17:59:43 32.68 Trying with following combo ('HomeDraws', 'GoalCumulativeSum')\n",
      "730 17:59:43 32.71 Trying with following combo ('HomeDraws', 'GoalCumulativeSum')\n",
      "731 17:59:44 55.8 Trying with following combo ('HomeDraws', 'ATW_LogRegPred')\n",
      "731 17:59:44 45.02 Trying with following combo ('HomeDraws', 'ATW_LogRegPred')\n",
      "732 17:59:45 32.62 Trying with following combo ('HomeLosses', 'AwayWins')\n"
     ]
    },
    {
     "name": "stderr",
     "output_type": "stream",
     "text": [
      "c:\\Users\\vitto\\OneDrive\\Desktop\\Personale\\ML - Soccer\\BothToScore\\..\\lib\\Utility.py:288: RuntimeWarning: invalid value encountered in scalar divide\n",
      "  accuracy_class_1 = cm[1, 1] / (cm[0, 1] + cm[1, 1])\n",
      "c:\\Users\\vitto\\OneDrive\\Desktop\\Personale\\ML - Soccer\\BothToScore\\..\\lib\\Utility.py:288: RuntimeWarning: invalid value encountered in scalar divide\n",
      "  accuracy_class_1 = cm[1, 1] / (cm[0, 1] + cm[1, 1])\n"
     ]
    },
    {
     "name": "stdout",
     "output_type": "stream",
     "text": [
      "732 17:59:45 32.61 Trying with following combo ('HomeLosses', 'AwayWins')\n",
      "733 17:59:46 32.62 Trying with following combo ('HomeLosses', 'AwayDraws')\n",
      "733 17:59:47 32.62 Trying with following combo ('HomeLosses', 'AwayDraws')\n"
     ]
    },
    {
     "name": "stderr",
     "output_type": "stream",
     "text": [
      "c:\\Users\\vitto\\OneDrive\\Desktop\\Personale\\ML - Soccer\\BothToScore\\..\\lib\\Utility.py:288: RuntimeWarning: invalid value encountered in scalar divide\n",
      "  accuracy_class_1 = cm[1, 1] / (cm[0, 1] + cm[1, 1])\n",
      "c:\\Users\\vitto\\OneDrive\\Desktop\\Personale\\ML - Soccer\\BothToScore\\..\\lib\\Utility.py:288: RuntimeWarning: invalid value encountered in scalar divide\n",
      "  accuracy_class_1 = cm[1, 1] / (cm[0, 1] + cm[1, 1])\n",
      "c:\\Users\\vitto\\OneDrive\\Desktop\\Personale\\ML - Soccer\\BothToScore\\..\\lib\\Utility.py:288: RuntimeWarning: invalid value encountered in scalar divide\n",
      "  accuracy_class_1 = cm[1, 1] / (cm[0, 1] + cm[1, 1])\n",
      "c:\\Users\\vitto\\OneDrive\\Desktop\\Personale\\ML - Soccer\\BothToScore\\..\\lib\\Utility.py:288: RuntimeWarning: invalid value encountered in scalar divide\n",
      "  accuracy_class_1 = cm[1, 1] / (cm[0, 1] + cm[1, 1])\n"
     ]
    },
    {
     "name": "stdout",
     "output_type": "stream",
     "text": [
      "734 17:59:48 32.62 Trying with following combo ('HomeLosses', 'AwayLosses')\n",
      "734 17:59:48 32.62 Trying with following combo ('HomeLosses', 'AwayLosses')\n"
     ]
    },
    {
     "name": "stderr",
     "output_type": "stream",
     "text": [
      "c:\\Users\\vitto\\OneDrive\\Desktop\\Personale\\ML - Soccer\\BothToScore\\..\\lib\\Utility.py:288: RuntimeWarning: invalid value encountered in scalar divide\n",
      "  accuracy_class_1 = cm[1, 1] / (cm[0, 1] + cm[1, 1])\n",
      "c:\\Users\\vitto\\OneDrive\\Desktop\\Personale\\ML - Soccer\\BothToScore\\..\\lib\\Utility.py:288: RuntimeWarning: invalid value encountered in scalar divide\n",
      "  accuracy_class_1 = cm[1, 1] / (cm[0, 1] + cm[1, 1])\n",
      "c:\\Users\\vitto\\OneDrive\\Desktop\\Personale\\ML - Soccer\\BothToScore\\..\\lib\\Utility.py:288: RuntimeWarning: invalid value encountered in scalar divide\n",
      "  accuracy_class_1 = cm[1, 1] / (cm[0, 1] + cm[1, 1])\n",
      "c:\\Users\\vitto\\OneDrive\\Desktop\\Personale\\ML - Soccer\\BothToScore\\..\\lib\\Utility.py:288: RuntimeWarning: invalid value encountered in scalar divide\n",
      "  accuracy_class_1 = cm[1, 1] / (cm[0, 1] + cm[1, 1])\n"
     ]
    },
    {
     "name": "stdout",
     "output_type": "stream",
     "text": [
      "735 17:59:49 32.17 Trying with following combo ('HomeLosses', 'UltimoScontroDiretto')\n",
      "735 17:59:49 39.4 Trying with following combo ('HomeLosses', 'UltimoScontroDiretto')\n"
     ]
    },
    {
     "name": "stderr",
     "output_type": "stream",
     "text": [
      "c:\\Users\\vitto\\OneDrive\\Desktop\\Personale\\ML - Soccer\\BothToScore\\..\\lib\\Utility.py:288: RuntimeWarning: invalid value encountered in scalar divide\n",
      "  accuracy_class_1 = cm[1, 1] / (cm[0, 1] + cm[1, 1])\n",
      "c:\\Users\\vitto\\OneDrive\\Desktop\\Personale\\ML - Soccer\\BothToScore\\..\\lib\\Utility.py:288: RuntimeWarning: invalid value encountered in scalar divide\n",
      "  accuracy_class_1 = cm[1, 1] / (cm[0, 1] + cm[1, 1])\n"
     ]
    },
    {
     "name": "stdout",
     "output_type": "stream",
     "text": [
      "736 17:59:50 41.97 Trying with following combo ('HomeLosses', 'Last3PointsDifference')\n",
      "736 17:59:50 40.17 Trying with following combo ('HomeLosses', 'Last3PointsDifference')\n",
      "737 17:59:51 45.58 Trying with following combo ('HomeLosses', 'GoalRatioDifference')\n",
      "737 17:59:52 48.1 Trying with following combo ('HomeLosses', 'GoalRatioDifference')\n",
      "738 17:59:53 33.98 Trying with following combo ('HomeLosses', 'EwmaGoalsSum')\n",
      "738 17:59:53 33.8 Trying with following combo ('HomeLosses', 'EwmaGoalsSum')\n",
      "739 17:59:54 32.66 Trying with following combo ('HomeLosses', 'GoalsSum')\n",
      "739 17:59:55 32.74 Trying with following combo ('HomeLosses', 'GoalsSum')\n",
      "740 17:59:56 46.6 Trying with following combo ('HomeLosses', 'HomePointGap')\n",
      "740 17:59:56 47.41 Trying with following combo ('HomeLosses', 'HomePointGap')\n",
      "741 17:59:57 46.6 Trying with following combo ('HomeLosses', 'AwayPointGap')\n",
      "741 17:59:57 47.41 Trying with following combo ('HomeLosses', 'AwayPointGap')\n",
      "742 17:59:59 45.01 Trying with following combo ('HomeLosses', 'HomeGoalGap')\n",
      "742 17:59:59 47.88 Trying with following combo ('HomeLosses', 'HomeGoalGap')\n",
      "743 18:00:00 45.01 Trying with following combo ('HomeLosses', 'AwayGoalGap')\n",
      "743 18:00:00 47.15 Trying with following combo ('HomeLosses', 'AwayGoalGap')\n",
      "744 18:00:03 33.04 Trying with following combo ('HomeLosses', 'feat1')\n",
      "744 18:00:03 33.12 Trying with following combo ('HomeLosses', 'feat1')\n"
     ]
    },
    {
     "name": "stderr",
     "output_type": "stream",
     "text": [
      "c:\\Users\\vitto\\OneDrive\\Desktop\\Personale\\ML - Soccer\\BothToScore\\..\\lib\\Utility.py:288: RuntimeWarning: invalid value encountered in scalar divide\n",
      "  accuracy_class_1 = cm[1, 1] / (cm[0, 1] + cm[1, 1])\n",
      "c:\\Users\\vitto\\OneDrive\\Desktop\\Personale\\ML - Soccer\\BothToScore\\..\\lib\\Utility.py:288: RuntimeWarning: invalid value encountered in scalar divide\n",
      "  accuracy_class_1 = cm[1, 1] / (cm[0, 1] + cm[1, 1])\n",
      "c:\\Users\\vitto\\OneDrive\\Desktop\\Personale\\ML - Soccer\\BothToScore\\..\\lib\\Utility.py:288: RuntimeWarning: invalid value encountered in scalar divide\n",
      "  accuracy_class_1 = cm[1, 1] / (cm[0, 1] + cm[1, 1])\n",
      "c:\\Users\\vitto\\OneDrive\\Desktop\\Personale\\ML - Soccer\\BothToScore\\..\\lib\\Utility.py:288: RuntimeWarning: invalid value encountered in scalar divide\n",
      "  accuracy_class_1 = cm[1, 1] / (cm[0, 1] + cm[1, 1])\n"
     ]
    },
    {
     "name": "stdout",
     "output_type": "stream",
     "text": [
      "745 18:00:05 33.04 Trying with following combo ('HomeLosses', 'feat2')\n",
      "745 18:00:05 33.13 Trying with following combo ('HomeLosses', 'feat2')\n",
      "746 18:00:07 32.62 Trying with following combo ('HomeLosses', 'FormDiff')\n",
      "746 18:00:07 33.18 Trying with following combo ('HomeLosses', 'FormDiff')\n"
     ]
    },
    {
     "name": "stderr",
     "output_type": "stream",
     "text": [
      "c:\\Users\\vitto\\OneDrive\\Desktop\\Personale\\ML - Soccer\\BothToScore\\..\\lib\\Utility.py:288: RuntimeWarning: invalid value encountered in scalar divide\n",
      "  accuracy_class_1 = cm[1, 1] / (cm[0, 1] + cm[1, 1])\n",
      "c:\\Users\\vitto\\OneDrive\\Desktop\\Personale\\ML - Soccer\\BothToScore\\..\\lib\\Utility.py:288: RuntimeWarning: invalid value encountered in scalar divide\n",
      "  accuracy_class_1 = cm[1, 1] / (cm[0, 1] + cm[1, 1])\n"
     ]
    },
    {
     "name": "stdout",
     "output_type": "stream",
     "text": [
      "747 18:00:08 32.62 Trying with following combo ('HomeLosses', 'RecentFormDiff')\n",
      "747 18:00:09 33.15 Trying with following combo ('HomeLosses', 'RecentFormDiff')\n"
     ]
    },
    {
     "name": "stderr",
     "output_type": "stream",
     "text": [
      "c:\\Users\\vitto\\OneDrive\\Desktop\\Personale\\ML - Soccer\\BothToScore\\..\\lib\\Utility.py:288: RuntimeWarning: invalid value encountered in scalar divide\n",
      "  accuracy_class_1 = cm[1, 1] / (cm[0, 1] + cm[1, 1])\n",
      "c:\\Users\\vitto\\OneDrive\\Desktop\\Personale\\ML - Soccer\\BothToScore\\..\\lib\\Utility.py:288: RuntimeWarning: invalid value encountered in scalar divide\n",
      "  accuracy_class_1 = cm[1, 1] / (cm[0, 1] + cm[1, 1])\n"
     ]
    },
    {
     "name": "stdout",
     "output_type": "stream",
     "text": [
      "748 18:00:10 32.68 Trying with following combo ('HomeLosses', 'GoalCumulativeSum')\n",
      "748 18:00:10 32.93 Trying with following combo ('HomeLosses', 'GoalCumulativeSum')\n",
      "749 18:00:11 54.31 Trying with following combo ('HomeLosses', 'ATW_LogRegPred')\n",
      "749 18:00:11 42.56 Trying with following combo ('HomeLosses', 'ATW_LogRegPred')\n",
      "750 18:00:12 32.62 Trying with following combo ('AwayWins', 'AwayDraws')\n",
      "750 18:00:12 32.62 Trying with following combo ('AwayWins', 'AwayDraws')\n"
     ]
    },
    {
     "name": "stderr",
     "output_type": "stream",
     "text": [
      "c:\\Users\\vitto\\OneDrive\\Desktop\\Personale\\ML - Soccer\\BothToScore\\..\\lib\\Utility.py:288: RuntimeWarning: invalid value encountered in scalar divide\n",
      "  accuracy_class_1 = cm[1, 1] / (cm[0, 1] + cm[1, 1])\n",
      "c:\\Users\\vitto\\OneDrive\\Desktop\\Personale\\ML - Soccer\\BothToScore\\..\\lib\\Utility.py:288: RuntimeWarning: invalid value encountered in scalar divide\n",
      "  accuracy_class_1 = cm[1, 1] / (cm[0, 1] + cm[1, 1])\n",
      "c:\\Users\\vitto\\OneDrive\\Desktop\\Personale\\ML - Soccer\\BothToScore\\..\\lib\\Utility.py:288: RuntimeWarning: invalid value encountered in scalar divide\n",
      "  accuracy_class_1 = cm[1, 1] / (cm[0, 1] + cm[1, 1])\n",
      "c:\\Users\\vitto\\OneDrive\\Desktop\\Personale\\ML - Soccer\\BothToScore\\..\\lib\\Utility.py:288: RuntimeWarning: invalid value encountered in scalar divide\n",
      "  accuracy_class_1 = cm[1, 1] / (cm[0, 1] + cm[1, 1])\n"
     ]
    },
    {
     "name": "stdout",
     "output_type": "stream",
     "text": [
      "751 18:00:13 32.62 Trying with following combo ('AwayWins', 'AwayLosses')\n"
     ]
    },
    {
     "name": "stderr",
     "output_type": "stream",
     "text": [
      "c:\\Users\\vitto\\OneDrive\\Desktop\\Personale\\ML - Soccer\\BothToScore\\..\\lib\\Utility.py:288: RuntimeWarning: invalid value encountered in scalar divide\n",
      "  accuracy_class_1 = cm[1, 1] / (cm[0, 1] + cm[1, 1])\n",
      "c:\\Users\\vitto\\OneDrive\\Desktop\\Personale\\ML - Soccer\\BothToScore\\..\\lib\\Utility.py:288: RuntimeWarning: invalid value encountered in scalar divide\n",
      "  accuracy_class_1 = cm[1, 1] / (cm[0, 1] + cm[1, 1])\n"
     ]
    },
    {
     "name": "stdout",
     "output_type": "stream",
     "text": [
      "751 18:00:14 32.62 Trying with following combo ('AwayWins', 'AwayLosses')\n"
     ]
    },
    {
     "name": "stderr",
     "output_type": "stream",
     "text": [
      "c:\\Users\\vitto\\OneDrive\\Desktop\\Personale\\ML - Soccer\\BothToScore\\..\\lib\\Utility.py:288: RuntimeWarning: invalid value encountered in scalar divide\n",
      "  accuracy_class_1 = cm[1, 1] / (cm[0, 1] + cm[1, 1])\n",
      "c:\\Users\\vitto\\OneDrive\\Desktop\\Personale\\ML - Soccer\\BothToScore\\..\\lib\\Utility.py:288: RuntimeWarning: invalid value encountered in scalar divide\n",
      "  accuracy_class_1 = cm[1, 1] / (cm[0, 1] + cm[1, 1])\n"
     ]
    },
    {
     "name": "stdout",
     "output_type": "stream",
     "text": [
      "752 18:00:15 32.17 Trying with following combo ('AwayWins', 'UltimoScontroDiretto')\n",
      "752 18:00:15 39.39 Trying with following combo ('AwayWins', 'UltimoScontroDiretto')\n"
     ]
    },
    {
     "name": "stderr",
     "output_type": "stream",
     "text": [
      "c:\\Users\\vitto\\OneDrive\\Desktop\\Personale\\ML - Soccer\\BothToScore\\..\\lib\\Utility.py:288: RuntimeWarning: invalid value encountered in scalar divide\n",
      "  accuracy_class_1 = cm[1, 1] / (cm[0, 1] + cm[1, 1])\n",
      "c:\\Users\\vitto\\OneDrive\\Desktop\\Personale\\ML - Soccer\\BothToScore\\..\\lib\\Utility.py:288: RuntimeWarning: invalid value encountered in scalar divide\n",
      "  accuracy_class_1 = cm[1, 1] / (cm[0, 1] + cm[1, 1])\n"
     ]
    },
    {
     "name": "stdout",
     "output_type": "stream",
     "text": [
      "753 18:00:16 41.97 Trying with following combo ('AwayWins', 'Last3PointsDifference')\n",
      "753 18:00:16 40.17 Trying with following combo ('AwayWins', 'Last3PointsDifference')\n",
      "754 18:00:19 45.57 Trying with following combo ('AwayWins', 'GoalRatioDifference')\n",
      "754 18:00:19 48.06 Trying with following combo ('AwayWins', 'GoalRatioDifference')\n",
      "755 18:00:21 33.99 Trying with following combo ('AwayWins', 'EwmaGoalsSum')\n",
      "755 18:00:21 33.78 Trying with following combo ('AwayWins', 'EwmaGoalsSum')\n",
      "756 18:00:22 32.66 Trying with following combo ('AwayWins', 'GoalsSum')\n",
      "756 18:00:22 32.74 Trying with following combo ('AwayWins', 'GoalsSum')\n",
      "757 18:00:23 46.6 Trying with following combo ('AwayWins', 'HomePointGap')\n",
      "757 18:00:23 47.41 Trying with following combo ('AwayWins', 'HomePointGap')\n",
      "758 18:00:24 46.6 Trying with following combo ('AwayWins', 'AwayPointGap')\n",
      "758 18:00:24 47.41 Trying with following combo ('AwayWins', 'AwayPointGap')\n",
      "759 18:00:25 45.01 Trying with following combo ('AwayWins', 'HomeGoalGap')\n",
      "759 18:00:25 47.63 Trying with following combo ('AwayWins', 'HomeGoalGap')\n",
      "760 18:00:26 45.01 Trying with following combo ('AwayWins', 'AwayGoalGap')\n",
      "760 18:00:26 47.15 Trying with following combo ('AwayWins', 'AwayGoalGap')\n",
      "761 18:00:28 33.04 Trying with following combo ('AwayWins', 'feat1')\n",
      "761 18:00:28 33.12 Trying with following combo ('AwayWins', 'feat1')\n"
     ]
    },
    {
     "name": "stderr",
     "output_type": "stream",
     "text": [
      "c:\\Users\\vitto\\OneDrive\\Desktop\\Personale\\ML - Soccer\\BothToScore\\..\\lib\\Utility.py:288: RuntimeWarning: invalid value encountered in scalar divide\n",
      "  accuracy_class_1 = cm[1, 1] / (cm[0, 1] + cm[1, 1])\n",
      "c:\\Users\\vitto\\OneDrive\\Desktop\\Personale\\ML - Soccer\\BothToScore\\..\\lib\\Utility.py:288: RuntimeWarning: invalid value encountered in scalar divide\n",
      "  accuracy_class_1 = cm[1, 1] / (cm[0, 1] + cm[1, 1])\n"
     ]
    },
    {
     "name": "stdout",
     "output_type": "stream",
     "text": [
      "762 18:00:29 33.04 Trying with following combo ('AwayWins', 'feat2')\n",
      "762 18:00:29 33.13 Trying with following combo ('AwayWins', 'feat2')\n"
     ]
    },
    {
     "name": "stderr",
     "output_type": "stream",
     "text": [
      "c:\\Users\\vitto\\OneDrive\\Desktop\\Personale\\ML - Soccer\\BothToScore\\..\\lib\\Utility.py:288: RuntimeWarning: invalid value encountered in scalar divide\n",
      "  accuracy_class_1 = cm[1, 1] / (cm[0, 1] + cm[1, 1])\n",
      "c:\\Users\\vitto\\OneDrive\\Desktop\\Personale\\ML - Soccer\\BothToScore\\..\\lib\\Utility.py:288: RuntimeWarning: invalid value encountered in scalar divide\n",
      "  accuracy_class_1 = cm[1, 1] / (cm[0, 1] + cm[1, 1])\n"
     ]
    },
    {
     "name": "stdout",
     "output_type": "stream",
     "text": [
      "763 18:00:30 32.62 Trying with following combo ('AwayWins', 'FormDiff')\n",
      "763 18:00:31 33.18 Trying with following combo ('AwayWins', 'FormDiff')\n"
     ]
    },
    {
     "name": "stderr",
     "output_type": "stream",
     "text": [
      "c:\\Users\\vitto\\OneDrive\\Desktop\\Personale\\ML - Soccer\\BothToScore\\..\\lib\\Utility.py:288: RuntimeWarning: invalid value encountered in scalar divide\n",
      "  accuracy_class_1 = cm[1, 1] / (cm[0, 1] + cm[1, 1])\n",
      "c:\\Users\\vitto\\OneDrive\\Desktop\\Personale\\ML - Soccer\\BothToScore\\..\\lib\\Utility.py:288: RuntimeWarning: invalid value encountered in scalar divide\n",
      "  accuracy_class_1 = cm[1, 1] / (cm[0, 1] + cm[1, 1])\n"
     ]
    },
    {
     "name": "stdout",
     "output_type": "stream",
     "text": [
      "764 18:00:32 32.62 Trying with following combo ('AwayWins', 'RecentFormDiff')\n",
      "764 18:00:32 33.15 Trying with following combo ('AwayWins', 'RecentFormDiff')\n"
     ]
    },
    {
     "name": "stderr",
     "output_type": "stream",
     "text": [
      "c:\\Users\\vitto\\OneDrive\\Desktop\\Personale\\ML - Soccer\\BothToScore\\..\\lib\\Utility.py:288: RuntimeWarning: invalid value encountered in scalar divide\n",
      "  accuracy_class_1 = cm[1, 1] / (cm[0, 1] + cm[1, 1])\n",
      "c:\\Users\\vitto\\OneDrive\\Desktop\\Personale\\ML - Soccer\\BothToScore\\..\\lib\\Utility.py:288: RuntimeWarning: invalid value encountered in scalar divide\n",
      "  accuracy_class_1 = cm[1, 1] / (cm[0, 1] + cm[1, 1])\n"
     ]
    },
    {
     "name": "stdout",
     "output_type": "stream",
     "text": [
      "765 18:00:33 32.68 Trying with following combo ('AwayWins', 'GoalCumulativeSum')\n",
      "765 18:00:33 32.86 Trying with following combo ('AwayWins', 'GoalCumulativeSum')\n",
      "766 18:00:34 54.3 Trying with following combo ('AwayWins', 'ATW_LogRegPred')\n",
      "766 18:00:34 42.56 Trying with following combo ('AwayWins', 'ATW_LogRegPred')\n",
      "767 18:00:36 32.62 Trying with following combo ('AwayDraws', 'AwayLosses')\n",
      "767 18:00:36 32.62 Trying with following combo ('AwayDraws', 'AwayLosses')\n"
     ]
    },
    {
     "name": "stderr",
     "output_type": "stream",
     "text": [
      "c:\\Users\\vitto\\OneDrive\\Desktop\\Personale\\ML - Soccer\\BothToScore\\..\\lib\\Utility.py:288: RuntimeWarning: invalid value encountered in scalar divide\n",
      "  accuracy_class_1 = cm[1, 1] / (cm[0, 1] + cm[1, 1])\n",
      "c:\\Users\\vitto\\OneDrive\\Desktop\\Personale\\ML - Soccer\\BothToScore\\..\\lib\\Utility.py:288: RuntimeWarning: invalid value encountered in scalar divide\n",
      "  accuracy_class_1 = cm[1, 1] / (cm[0, 1] + cm[1, 1])\n",
      "c:\\Users\\vitto\\OneDrive\\Desktop\\Personale\\ML - Soccer\\BothToScore\\..\\lib\\Utility.py:288: RuntimeWarning: invalid value encountered in scalar divide\n",
      "  accuracy_class_1 = cm[1, 1] / (cm[0, 1] + cm[1, 1])\n",
      "c:\\Users\\vitto\\OneDrive\\Desktop\\Personale\\ML - Soccer\\BothToScore\\..\\lib\\Utility.py:288: RuntimeWarning: invalid value encountered in scalar divide\n",
      "  accuracy_class_1 = cm[1, 1] / (cm[0, 1] + cm[1, 1])\n"
     ]
    },
    {
     "name": "stdout",
     "output_type": "stream",
     "text": [
      "768 18:00:37 32.17 Trying with following combo ('AwayDraws', 'UltimoScontroDiretto')\n",
      "768 18:00:37 32.17 Trying with following combo ('AwayDraws', 'UltimoScontroDiretto')\n"
     ]
    },
    {
     "name": "stderr",
     "output_type": "stream",
     "text": [
      "c:\\Users\\vitto\\OneDrive\\Desktop\\Personale\\ML - Soccer\\BothToScore\\..\\lib\\Utility.py:288: RuntimeWarning: invalid value encountered in scalar divide\n",
      "  accuracy_class_1 = cm[1, 1] / (cm[0, 1] + cm[1, 1])\n",
      "c:\\Users\\vitto\\OneDrive\\Desktop\\Personale\\ML - Soccer\\BothToScore\\..\\lib\\Utility.py:288: RuntimeWarning: invalid value encountered in scalar divide\n",
      "  accuracy_class_1 = cm[1, 1] / (cm[0, 1] + cm[1, 1])\n",
      "c:\\Users\\vitto\\OneDrive\\Desktop\\Personale\\ML - Soccer\\BothToScore\\..\\lib\\Utility.py:288: RuntimeWarning: invalid value encountered in scalar divide\n",
      "  accuracy_class_1 = cm[1, 1] / (cm[0, 1] + cm[1, 1])\n",
      "c:\\Users\\vitto\\OneDrive\\Desktop\\Personale\\ML - Soccer\\BothToScore\\..\\lib\\Utility.py:288: RuntimeWarning: invalid value encountered in scalar divide\n",
      "  accuracy_class_1 = cm[1, 1] / (cm[0, 1] + cm[1, 1])\n"
     ]
    },
    {
     "name": "stdout",
     "output_type": "stream",
     "text": [
      "769 18:00:38 42.54 Trying with following combo ('AwayDraws', 'Last3PointsDifference')\n",
      "769 18:00:38 40.6 Trying with following combo ('AwayDraws', 'Last3PointsDifference')\n",
      "770 18:00:40 45.51 Trying with following combo ('AwayDraws', 'GoalRatioDifference')\n",
      "770 18:00:40 47.87 Trying with following combo ('AwayDraws', 'GoalRatioDifference')\n",
      "771 18:00:42 34.03 Trying with following combo ('AwayDraws', 'EwmaGoalsSum')\n",
      "771 18:00:42 33.5 Trying with following combo ('AwayDraws', 'EwmaGoalsSum')\n",
      "772 18:00:43 32.69 Trying with following combo ('AwayDraws', 'GoalsSum')\n",
      "772 18:00:43 32.65 Trying with following combo ('AwayDraws', 'GoalsSum')\n",
      "773 18:00:44 46.4 Trying with following combo ('AwayDraws', 'HomePointGap')\n",
      "773 18:00:45 47.18 Trying with following combo ('AwayDraws', 'HomePointGap')\n",
      "774 18:00:46 46.4 Trying with following combo ('AwayDraws', 'AwayPointGap')\n",
      "774 18:00:46 47.18 Trying with following combo ('AwayDraws', 'AwayPointGap')\n",
      "775 18:00:47 44.82 Trying with following combo ('AwayDraws', 'HomeGoalGap')\n",
      "775 18:00:47 46.39 Trying with following combo ('AwayDraws', 'HomeGoalGap')\n",
      "776 18:00:48 44.82 Trying with following combo ('AwayDraws', 'AwayGoalGap')\n",
      "776 18:00:48 46.37 Trying with following combo ('AwayDraws', 'AwayGoalGap')\n",
      "777 18:00:50 33.04 Trying with following combo ('AwayDraws', 'feat1')\n",
      "777 18:00:50 33.12 Trying with following combo ('AwayDraws', 'feat1')\n"
     ]
    },
    {
     "name": "stderr",
     "output_type": "stream",
     "text": [
      "c:\\Users\\vitto\\OneDrive\\Desktop\\Personale\\ML - Soccer\\BothToScore\\..\\lib\\Utility.py:288: RuntimeWarning: invalid value encountered in scalar divide\n",
      "  accuracy_class_1 = cm[1, 1] / (cm[0, 1] + cm[1, 1])\n",
      "c:\\Users\\vitto\\OneDrive\\Desktop\\Personale\\ML - Soccer\\BothToScore\\..\\lib\\Utility.py:288: RuntimeWarning: invalid value encountered in scalar divide\n",
      "  accuracy_class_1 = cm[1, 1] / (cm[0, 1] + cm[1, 1])\n"
     ]
    },
    {
     "name": "stdout",
     "output_type": "stream",
     "text": [
      "778 18:00:51 33.04 Trying with following combo ('AwayDraws', 'feat2')\n",
      "778 18:00:51 33.11 Trying with following combo ('AwayDraws', 'feat2')\n"
     ]
    },
    {
     "name": "stderr",
     "output_type": "stream",
     "text": [
      "c:\\Users\\vitto\\OneDrive\\Desktop\\Personale\\ML - Soccer\\BothToScore\\..\\lib\\Utility.py:288: RuntimeWarning: invalid value encountered in scalar divide\n",
      "  accuracy_class_1 = cm[1, 1] / (cm[0, 1] + cm[1, 1])\n",
      "c:\\Users\\vitto\\OneDrive\\Desktop\\Personale\\ML - Soccer\\BothToScore\\..\\lib\\Utility.py:288: RuntimeWarning: invalid value encountered in scalar divide\n",
      "  accuracy_class_1 = cm[1, 1] / (cm[0, 1] + cm[1, 1])\n"
     ]
    },
    {
     "name": "stdout",
     "output_type": "stream",
     "text": [
      "779 18:00:52 32.62 Trying with following combo ('AwayDraws', 'FormDiff')\n",
      "779 18:00:52 33.1 Trying with following combo ('AwayDraws', 'FormDiff')\n"
     ]
    },
    {
     "name": "stderr",
     "output_type": "stream",
     "text": [
      "c:\\Users\\vitto\\OneDrive\\Desktop\\Personale\\ML - Soccer\\BothToScore\\..\\lib\\Utility.py:288: RuntimeWarning: invalid value encountered in scalar divide\n",
      "  accuracy_class_1 = cm[1, 1] / (cm[0, 1] + cm[1, 1])\n",
      "c:\\Users\\vitto\\OneDrive\\Desktop\\Personale\\ML - Soccer\\BothToScore\\..\\lib\\Utility.py:288: RuntimeWarning: invalid value encountered in scalar divide\n",
      "  accuracy_class_1 = cm[1, 1] / (cm[0, 1] + cm[1, 1])\n"
     ]
    },
    {
     "name": "stdout",
     "output_type": "stream",
     "text": [
      "780 18:00:53 32.62 Trying with following combo ('AwayDraws', 'RecentFormDiff')\n",
      "780 18:00:54 33.0 Trying with following combo ('AwayDraws', 'RecentFormDiff')\n"
     ]
    },
    {
     "name": "stderr",
     "output_type": "stream",
     "text": [
      "c:\\Users\\vitto\\OneDrive\\Desktop\\Personale\\ML - Soccer\\BothToScore\\..\\lib\\Utility.py:288: RuntimeWarning: invalid value encountered in scalar divide\n",
      "  accuracy_class_1 = cm[1, 1] / (cm[0, 1] + cm[1, 1])\n",
      "c:\\Users\\vitto\\OneDrive\\Desktop\\Personale\\ML - Soccer\\BothToScore\\..\\lib\\Utility.py:288: RuntimeWarning: invalid value encountered in scalar divide\n",
      "  accuracy_class_1 = cm[1, 1] / (cm[0, 1] + cm[1, 1])\n"
     ]
    },
    {
     "name": "stdout",
     "output_type": "stream",
     "text": [
      "781 18:00:55 32.68 Trying with following combo ('AwayDraws', 'GoalCumulativeSum')\n",
      "781 18:00:55 32.71 Trying with following combo ('AwayDraws', 'GoalCumulativeSum')\n",
      "782 18:00:56 55.8 Trying with following combo ('AwayDraws', 'ATW_LogRegPred')\n",
      "782 18:00:56 45.02 Trying with following combo ('AwayDraws', 'ATW_LogRegPred')\n",
      "783 18:00:57 32.17 Trying with following combo ('AwayLosses', 'UltimoScontroDiretto')\n",
      "783 18:00:57 32.17 Trying with following combo ('AwayLosses', 'UltimoScontroDiretto')\n"
     ]
    },
    {
     "name": "stderr",
     "output_type": "stream",
     "text": [
      "c:\\Users\\vitto\\OneDrive\\Desktop\\Personale\\ML - Soccer\\BothToScore\\..\\lib\\Utility.py:288: RuntimeWarning: invalid value encountered in scalar divide\n",
      "  accuracy_class_1 = cm[1, 1] / (cm[0, 1] + cm[1, 1])\n",
      "c:\\Users\\vitto\\OneDrive\\Desktop\\Personale\\ML - Soccer\\BothToScore\\..\\lib\\Utility.py:288: RuntimeWarning: invalid value encountered in scalar divide\n",
      "  accuracy_class_1 = cm[1, 1] / (cm[0, 1] + cm[1, 1])\n",
      "c:\\Users\\vitto\\OneDrive\\Desktop\\Personale\\ML - Soccer\\BothToScore\\..\\lib\\Utility.py:288: RuntimeWarning: invalid value encountered in scalar divide\n",
      "  accuracy_class_1 = cm[1, 1] / (cm[0, 1] + cm[1, 1])\n",
      "c:\\Users\\vitto\\OneDrive\\Desktop\\Personale\\ML - Soccer\\BothToScore\\..\\lib\\Utility.py:288: RuntimeWarning: invalid value encountered in scalar divide\n",
      "  accuracy_class_1 = cm[1, 1] / (cm[0, 1] + cm[1, 1])\n"
     ]
    },
    {
     "name": "stdout",
     "output_type": "stream",
     "text": [
      "784 18:00:58 41.94 Trying with following combo ('AwayLosses', 'Last3PointsDifference')\n",
      "784 18:00:58 39.16 Trying with following combo ('AwayLosses', 'Last3PointsDifference')\n",
      "785 18:01:00 45.45 Trying with following combo ('AwayLosses', 'GoalRatioDifference')\n",
      "785 18:01:00 47.32 Trying with following combo ('AwayLosses', 'GoalRatioDifference')\n",
      "786 18:01:02 34.02 Trying with following combo ('AwayLosses', 'EwmaGoalsSum')\n",
      "786 18:01:02 33.15 Trying with following combo ('AwayLosses', 'EwmaGoalsSum')\n",
      "787 18:01:03 32.66 Trying with following combo ('AwayLosses', 'GoalsSum')\n",
      "787 18:01:04 32.81 Trying with following combo ('AwayLosses', 'GoalsSum')\n",
      "788 18:01:05 46.47 Trying with following combo ('AwayLosses', 'HomePointGap')\n",
      "788 18:01:05 47.33 Trying with following combo ('AwayLosses', 'HomePointGap')\n",
      "789 18:01:06 46.47 Trying with following combo ('AwayLosses', 'AwayPointGap')\n",
      "789 18:01:06 47.33 Trying with following combo ('AwayLosses', 'AwayPointGap')\n",
      "790 18:01:07 44.96 Trying with following combo ('AwayLosses', 'HomeGoalGap')\n",
      "790 18:01:07 46.72 Trying with following combo ('AwayLosses', 'HomeGoalGap')\n",
      "791 18:01:08 44.96 Trying with following combo ('AwayLosses', 'AwayGoalGap')\n",
      "791 18:01:08 46.72 Trying with following combo ('AwayLosses', 'AwayGoalGap')\n",
      "792 18:01:10 33.04 Trying with following combo ('AwayLosses', 'feat1')\n",
      "792 18:01:10 33.2 Trying with following combo ('AwayLosses', 'feat1')\n"
     ]
    },
    {
     "name": "stderr",
     "output_type": "stream",
     "text": [
      "c:\\Users\\vitto\\OneDrive\\Desktop\\Personale\\ML - Soccer\\BothToScore\\..\\lib\\Utility.py:288: RuntimeWarning: invalid value encountered in scalar divide\n",
      "  accuracy_class_1 = cm[1, 1] / (cm[0, 1] + cm[1, 1])\n",
      "c:\\Users\\vitto\\OneDrive\\Desktop\\Personale\\ML - Soccer\\BothToScore\\..\\lib\\Utility.py:288: RuntimeWarning: invalid value encountered in scalar divide\n",
      "  accuracy_class_1 = cm[1, 1] / (cm[0, 1] + cm[1, 1])\n"
     ]
    },
    {
     "name": "stdout",
     "output_type": "stream",
     "text": [
      "793 18:01:11 33.04 Trying with following combo ('AwayLosses', 'feat2')\n",
      "793 18:01:11 33.19 Trying with following combo ('AwayLosses', 'feat2')\n"
     ]
    },
    {
     "name": "stderr",
     "output_type": "stream",
     "text": [
      "c:\\Users\\vitto\\OneDrive\\Desktop\\Personale\\ML - Soccer\\BothToScore\\..\\lib\\Utility.py:288: RuntimeWarning: invalid value encountered in scalar divide\n",
      "  accuracy_class_1 = cm[1, 1] / (cm[0, 1] + cm[1, 1])\n",
      "c:\\Users\\vitto\\OneDrive\\Desktop\\Personale\\ML - Soccer\\BothToScore\\..\\lib\\Utility.py:288: RuntimeWarning: invalid value encountered in scalar divide\n",
      "  accuracy_class_1 = cm[1, 1] / (cm[0, 1] + cm[1, 1])\n"
     ]
    },
    {
     "name": "stdout",
     "output_type": "stream",
     "text": [
      "794 18:01:12 32.62 Trying with following combo ('AwayLosses', 'FormDiff')\n",
      "794 18:01:12 33.18 Trying with following combo ('AwayLosses', 'FormDiff')\n"
     ]
    },
    {
     "name": "stderr",
     "output_type": "stream",
     "text": [
      "c:\\Users\\vitto\\OneDrive\\Desktop\\Personale\\ML - Soccer\\BothToScore\\..\\lib\\Utility.py:288: RuntimeWarning: invalid value encountered in scalar divide\n",
      "  accuracy_class_1 = cm[1, 1] / (cm[0, 1] + cm[1, 1])\n",
      "c:\\Users\\vitto\\OneDrive\\Desktop\\Personale\\ML - Soccer\\BothToScore\\..\\lib\\Utility.py:288: RuntimeWarning: invalid value encountered in scalar divide\n",
      "  accuracy_class_1 = cm[1, 1] / (cm[0, 1] + cm[1, 1])\n"
     ]
    },
    {
     "name": "stdout",
     "output_type": "stream",
     "text": [
      "795 18:01:13 32.62 Trying with following combo ('AwayLosses', 'RecentFormDiff')\n",
      "795 18:01:13 33.05 Trying with following combo ('AwayLosses', 'RecentFormDiff')\n"
     ]
    },
    {
     "name": "stderr",
     "output_type": "stream",
     "text": [
      "c:\\Users\\vitto\\OneDrive\\Desktop\\Personale\\ML - Soccer\\BothToScore\\..\\lib\\Utility.py:288: RuntimeWarning: invalid value encountered in scalar divide\n",
      "  accuracy_class_1 = cm[1, 1] / (cm[0, 1] + cm[1, 1])\n",
      "c:\\Users\\vitto\\OneDrive\\Desktop\\Personale\\ML - Soccer\\BothToScore\\..\\lib\\Utility.py:288: RuntimeWarning: invalid value encountered in scalar divide\n",
      "  accuracy_class_1 = cm[1, 1] / (cm[0, 1] + cm[1, 1])\n"
     ]
    },
    {
     "name": "stdout",
     "output_type": "stream",
     "text": [
      "796 18:01:14 32.66 Trying with following combo ('AwayLosses', 'GoalCumulativeSum')\n",
      "796 18:01:15 32.76 Trying with following combo ('AwayLosses', 'GoalCumulativeSum')\n",
      "797 18:01:15 44.11 Trying with following combo ('AwayLosses', 'ATW_LogRegPred')\n",
      "797 18:01:16 41.74 Trying with following combo ('AwayLosses', 'ATW_LogRegPred')\n",
      "798 18:01:16 43.41 Trying with following combo ('UltimoScontroDiretto', 'Last3PointsDifference')\n",
      "798 18:01:16 41.05 Trying with following combo ('UltimoScontroDiretto', 'Last3PointsDifference')\n",
      "799 18:01:18 47.22 Trying with following combo ('UltimoScontroDiretto', 'GoalRatioDifference')\n",
      "799 18:01:18 46.01 Trying with following combo ('UltimoScontroDiretto', 'GoalRatioDifference')\n",
      "800 18:01:19 38.01 Trying with following combo ('UltimoScontroDiretto', 'EwmaGoalsSum')\n",
      "800 18:01:19 41.5 Trying with following combo ('UltimoScontroDiretto', 'EwmaGoalsSum')\n",
      "801 18:01:20 34.72 Trying with following combo ('UltimoScontroDiretto', 'GoalsSum')\n",
      "801 18:01:20 36.82 Trying with following combo ('UltimoScontroDiretto', 'GoalsSum')\n",
      "802 18:01:21 48.46 Trying with following combo ('UltimoScontroDiretto', 'HomePointGap')\n",
      "802 18:01:21 46.76 Trying with following combo ('UltimoScontroDiretto', 'HomePointGap')\n",
      "803 18:01:22 48.46 Trying with following combo ('UltimoScontroDiretto', 'AwayPointGap')\n",
      "803 18:01:22 46.76 Trying with following combo ('UltimoScontroDiretto', 'AwayPointGap')\n",
      "804 18:01:22 46.36 Trying with following combo ('UltimoScontroDiretto', 'HomeGoalGap')\n",
      "804 18:01:22 45.03 Trying with following combo ('UltimoScontroDiretto', 'HomeGoalGap')\n",
      "805 18:01:23 46.36 Trying with following combo ('UltimoScontroDiretto', 'AwayGoalGap')\n",
      "805 18:01:23 45.03 Trying with following combo ('UltimoScontroDiretto', 'AwayGoalGap')\n",
      "806 18:01:25 32.57 Trying with following combo ('UltimoScontroDiretto', 'feat1')\n",
      "806 18:01:25 32.69 Trying with following combo ('UltimoScontroDiretto', 'feat1')\n",
      "807 18:01:26 32.44 Trying with following combo ('UltimoScontroDiretto', 'feat2')\n",
      "807 18:01:26 35.29 Trying with following combo ('UltimoScontroDiretto', 'feat2')\n"
     ]
    },
    {
     "name": "stderr",
     "output_type": "stream",
     "text": [
      "c:\\Users\\vitto\\OneDrive\\Desktop\\Personale\\ML - Soccer\\BothToScore\\..\\lib\\Utility.py:288: RuntimeWarning: invalid value encountered in scalar divide\n",
      "  accuracy_class_1 = cm[1, 1] / (cm[0, 1] + cm[1, 1])\n",
      "c:\\Users\\vitto\\OneDrive\\Desktop\\Personale\\ML - Soccer\\BothToScore\\..\\lib\\Utility.py:288: RuntimeWarning: invalid value encountered in scalar divide\n",
      "  accuracy_class_1 = cm[1, 1] / (cm[0, 1] + cm[1, 1])\n"
     ]
    },
    {
     "name": "stdout",
     "output_type": "stream",
     "text": [
      "808 18:01:27 32.17 Trying with following combo ('UltimoScontroDiretto', 'FormDiff')\n",
      "808 18:01:27 34.04 Trying with following combo ('UltimoScontroDiretto', 'FormDiff')\n"
     ]
    },
    {
     "name": "stderr",
     "output_type": "stream",
     "text": [
      "c:\\Users\\vitto\\OneDrive\\Desktop\\Personale\\ML - Soccer\\BothToScore\\..\\lib\\Utility.py:288: RuntimeWarning: invalid value encountered in scalar divide\n",
      "  accuracy_class_1 = cm[1, 1] / (cm[0, 1] + cm[1, 1])\n",
      "c:\\Users\\vitto\\OneDrive\\Desktop\\Personale\\ML - Soccer\\BothToScore\\..\\lib\\Utility.py:288: RuntimeWarning: invalid value encountered in scalar divide\n",
      "  accuracy_class_1 = cm[1, 1] / (cm[0, 1] + cm[1, 1])\n"
     ]
    },
    {
     "name": "stdout",
     "output_type": "stream",
     "text": [
      "809 18:01:27 32.17 Trying with following combo ('UltimoScontroDiretto', 'RecentFormDiff')\n",
      "809 18:01:28 32.38 Trying with following combo ('UltimoScontroDiretto', 'RecentFormDiff')\n"
     ]
    },
    {
     "name": "stderr",
     "output_type": "stream",
     "text": [
      "c:\\Users\\vitto\\OneDrive\\Desktop\\Personale\\ML - Soccer\\BothToScore\\..\\lib\\Utility.py:288: RuntimeWarning: invalid value encountered in scalar divide\n",
      "  accuracy_class_1 = cm[1, 1] / (cm[0, 1] + cm[1, 1])\n",
      "c:\\Users\\vitto\\OneDrive\\Desktop\\Personale\\ML - Soccer\\BothToScore\\..\\lib\\Utility.py:288: RuntimeWarning: invalid value encountered in scalar divide\n",
      "  accuracy_class_1 = cm[1, 1] / (cm[0, 1] + cm[1, 1])\n"
     ]
    },
    {
     "name": "stdout",
     "output_type": "stream",
     "text": [
      "810 18:01:28 34.32 Trying with following combo ('UltimoScontroDiretto', 'GoalCumulativeSum')\n",
      "810 18:01:28 34.45 Trying with following combo ('UltimoScontroDiretto', 'GoalCumulativeSum')\n",
      "811 18:01:29 53.71 Trying with following combo ('UltimoScontroDiretto', 'ATW_LogRegPred')\n",
      "811 18:01:29 48.48 Trying with following combo ('UltimoScontroDiretto', 'ATW_LogRegPred')\n",
      "812 18:01:31 46.08 Trying with following combo ('Last3PointsDifference', 'GoalRatioDifference')\n",
      "812 18:01:31 46.43 Trying with following combo ('Last3PointsDifference', 'GoalRatioDifference')\n",
      "813 18:01:33 43.22 Trying with following combo ('Last3PointsDifference', 'EwmaGoalsSum')\n",
      "813 18:01:33 41.36 Trying with following combo ('Last3PointsDifference', 'EwmaGoalsSum')\n",
      "814 18:01:34 41.99 Trying with following combo ('Last3PointsDifference', 'GoalsSum')\n",
      "814 18:01:34 39.96 Trying with following combo ('Last3PointsDifference', 'GoalsSum')\n",
      "815 18:01:35 46.7 Trying with following combo ('Last3PointsDifference', 'HomePointGap')\n",
      "815 18:01:35 45.42 Trying with following combo ('Last3PointsDifference', 'HomePointGap')\n",
      "816 18:01:36 46.7 Trying with following combo ('Last3PointsDifference', 'AwayPointGap')\n",
      "816 18:01:36 45.85 Trying with following combo ('Last3PointsDifference', 'AwayPointGap')\n",
      "817 18:01:37 46.1 Trying with following combo ('Last3PointsDifference', 'HomeGoalGap')\n",
      "817 18:01:37 44.75 Trying with following combo ('Last3PointsDifference', 'HomeGoalGap')\n",
      "818 18:01:38 46.1 Trying with following combo ('Last3PointsDifference', 'AwayGoalGap')\n",
      "818 18:01:39 45.03 Trying with following combo ('Last3PointsDifference', 'AwayGoalGap')\n",
      "819 18:01:40 42.56 Trying with following combo ('Last3PointsDifference', 'feat1')\n",
      "819 18:01:40 38.84 Trying with following combo ('Last3PointsDifference', 'feat1')\n",
      "820 18:01:41 41.44 Trying with following combo ('Last3PointsDifference', 'feat2')\n",
      "820 18:01:41 40.1 Trying with following combo ('Last3PointsDifference', 'feat2')\n",
      "821 18:01:42 41.92 Trying with following combo ('Last3PointsDifference', 'FormDiff')\n",
      "821 18:01:42 39.47 Trying with following combo ('Last3PointsDifference', 'FormDiff')\n",
      "822 18:01:43 42.01 Trying with following combo ('Last3PointsDifference', 'RecentFormDiff')\n",
      "822 18:01:43 39.65 Trying with following combo ('Last3PointsDifference', 'RecentFormDiff')\n",
      "823 18:01:44 42.25 Trying with following combo ('Last3PointsDifference', 'GoalCumulativeSum')\n",
      "823 18:01:44 40.31 Trying with following combo ('Last3PointsDifference', 'GoalCumulativeSum')\n",
      "824 18:01:45 48.35 Trying with following combo ('Last3PointsDifference', 'ATW_LogRegPred')\n",
      "824 18:01:46 41.8 Trying with following combo ('Last3PointsDifference', 'ATW_LogRegPred')\n",
      "825 18:01:48 47.22 Trying with following combo ('GoalRatioDifference', 'EwmaGoalsSum')\n",
      "825 18:01:48 48.18 Trying with following combo ('GoalRatioDifference', 'EwmaGoalsSum')\n",
      "826 18:01:50 45.99 Trying with following combo ('GoalRatioDifference', 'GoalsSum')\n",
      "826 18:01:50 48.01 Trying with following combo ('GoalRatioDifference', 'GoalsSum')\n",
      "827 18:01:52 47.02 Trying with following combo ('GoalRatioDifference', 'HomePointGap')\n",
      "827 18:01:52 46.23 Trying with following combo ('GoalRatioDifference', 'HomePointGap')\n",
      "828 18:01:53 47.02 Trying with following combo ('GoalRatioDifference', 'AwayPointGap')\n",
      "828 18:01:53 46.12 Trying with following combo ('GoalRatioDifference', 'AwayPointGap')\n",
      "829 18:01:55 46.48 Trying with following combo ('GoalRatioDifference', 'HomeGoalGap')\n",
      "829 18:01:55 46.33 Trying with following combo ('GoalRatioDifference', 'HomeGoalGap')\n",
      "830 18:01:57 46.48 Trying with following combo ('GoalRatioDifference', 'AwayGoalGap')\n",
      "830 18:01:57 46.59 Trying with following combo ('GoalRatioDifference', 'AwayGoalGap')\n",
      "831 18:01:59 44.72 Trying with following combo ('GoalRatioDifference', 'feat1')\n",
      "831 18:01:59 44.01 Trying with following combo ('GoalRatioDifference', 'feat1')\n",
      "832 18:02:00 44.7 Trying with following combo ('GoalRatioDifference', 'feat2')\n",
      "832 18:02:00 45.01 Trying with following combo ('GoalRatioDifference', 'feat2')\n",
      "833 18:02:02 45.51 Trying with following combo ('GoalRatioDifference', 'FormDiff')\n",
      "833 18:02:02 48.18 Trying with following combo ('GoalRatioDifference', 'FormDiff')\n",
      "834 18:02:04 45.58 Trying with following combo ('GoalRatioDifference', 'RecentFormDiff')\n",
      "834 18:02:04 48.45 Trying with following combo ('GoalRatioDifference', 'RecentFormDiff')\n",
      "835 18:02:06 45.88 Trying with following combo ('GoalRatioDifference', 'GoalCumulativeSum')\n",
      "835 18:02:06 47.87 Trying with following combo ('GoalRatioDifference', 'GoalCumulativeSum')\n",
      "836 18:02:08 46.72 Trying with following combo ('GoalRatioDifference', 'ATW_LogRegPred')\n",
      "836 18:02:08 47.02 Trying with following combo ('GoalRatioDifference', 'ATW_LogRegPred')\n",
      "837 18:02:09 34.89 Trying with following combo ('EwmaGoalsSum', 'GoalsSum')\n",
      "837 18:02:10 34.14 Trying with following combo ('EwmaGoalsSum', 'GoalsSum')\n",
      "838 18:02:11 47.31 Trying with following combo ('EwmaGoalsSum', 'HomePointGap')\n",
      "838 18:02:11 46.84 Trying with following combo ('EwmaGoalsSum', 'HomePointGap')\n",
      "839 18:02:13 47.31 Trying with following combo ('EwmaGoalsSum', 'AwayPointGap')\n",
      "839 18:02:13 46.78 Trying with following combo ('EwmaGoalsSum', 'AwayPointGap')\n",
      "840 18:02:14 46.07 Trying with following combo ('EwmaGoalsSum', 'HomeGoalGap')\n",
      "840 18:02:15 45.1 Trying with following combo ('EwmaGoalsSum', 'HomeGoalGap')\n",
      "841 18:02:16 46.07 Trying with following combo ('EwmaGoalsSum', 'AwayGoalGap')\n",
      "841 18:02:16 44.98 Trying with following combo ('EwmaGoalsSum', 'AwayGoalGap')\n",
      "842 18:02:18 34.45 Trying with following combo ('EwmaGoalsSum', 'feat1')\n",
      "842 18:02:18 33.95 Trying with following combo ('EwmaGoalsSum', 'feat1')\n",
      "843 18:02:20 34.5 Trying with following combo ('EwmaGoalsSum', 'feat2')\n",
      "843 18:02:20 33.88 Trying with following combo ('EwmaGoalsSum', 'feat2')\n",
      "844 18:02:21 33.96 Trying with following combo ('EwmaGoalsSum', 'FormDiff')\n",
      "844 18:02:22 33.22 Trying with following combo ('EwmaGoalsSum', 'FormDiff')\n",
      "845 18:02:23 34.0 Trying with following combo ('EwmaGoalsSum', 'RecentFormDiff')\n",
      "845 18:02:23 33.22 Trying with following combo ('EwmaGoalsSum', 'RecentFormDiff')\n",
      "846 18:02:25 34.73 Trying with following combo ('EwmaGoalsSum', 'GoalCumulativeSum')\n",
      "846 18:02:25 33.92 Trying with following combo ('EwmaGoalsSum', 'GoalCumulativeSum')\n",
      "847 18:02:27 48.8 Trying with following combo ('EwmaGoalsSum', 'ATW_LogRegPred')\n",
      "847 18:02:27 42.23 Trying with following combo ('EwmaGoalsSum', 'ATW_LogRegPred')\n",
      "848 18:02:28 46.35 Trying with following combo ('GoalsSum', 'HomePointGap')\n",
      "848 18:02:28 47.53 Trying with following combo ('GoalsSum', 'HomePointGap')\n",
      "849 18:02:29 46.35 Trying with following combo ('GoalsSum', 'AwayPointGap')\n",
      "849 18:02:29 47.46 Trying with following combo ('GoalsSum', 'AwayPointGap')\n",
      "850 18:02:30 45.03 Trying with following combo ('GoalsSum', 'HomeGoalGap')\n",
      "850 18:02:30 45.28 Trying with following combo ('GoalsSum', 'HomeGoalGap')\n",
      "851 18:02:31 45.03 Trying with following combo ('GoalsSum', 'AwayGoalGap')\n",
      "851 18:02:31 45.13 Trying with following combo ('GoalsSum', 'AwayGoalGap')\n",
      "852 18:02:33 33.3 Trying with following combo ('GoalsSum', 'feat1')\n",
      "852 18:02:33 33.2 Trying with following combo ('GoalsSum', 'feat1')\n",
      "853 18:02:34 33.24 Trying with following combo ('GoalsSum', 'feat2')\n",
      "853 18:02:34 33.16 Trying with following combo ('GoalsSum', 'feat2')\n",
      "854 18:02:35 32.67 Trying with following combo ('GoalsSum', 'FormDiff')\n",
      "854 18:02:35 33.2 Trying with following combo ('GoalsSum', 'FormDiff')\n",
      "855 18:02:36 32.68 Trying with following combo ('GoalsSum', 'RecentFormDiff')\n",
      "855 18:02:36 33.11 Trying with following combo ('GoalsSum', 'RecentFormDiff')\n",
      "856 18:02:37 32.68 Trying with following combo ('GoalsSum', 'GoalCumulativeSum')\n",
      "856 18:02:37 33.37 Trying with following combo ('GoalsSum', 'GoalCumulativeSum')\n",
      "857 18:02:38 47.66 Trying with following combo ('GoalsSum', 'ATW_LogRegPred')\n",
      "857 18:02:38 40.72 Trying with following combo ('GoalsSum', 'ATW_LogRegPred')\n",
      "858 18:02:39 46.6 Trying with following combo ('HomePointGap', 'AwayPointGap')\n",
      "858 18:02:39 47.41 Trying with following combo ('HomePointGap', 'AwayPointGap')\n",
      "859 18:02:40 46.45 Trying with following combo ('HomePointGap', 'HomeGoalGap')\n",
      "859 18:02:40 45.77 Trying with following combo ('HomePointGap', 'HomeGoalGap')\n",
      "860 18:02:41 46.45 Trying with following combo ('HomePointGap', 'AwayGoalGap')\n",
      "860 18:02:42 45.91 Trying with following combo ('HomePointGap', 'AwayGoalGap')\n",
      "861 18:02:43 45.4 Trying with following combo ('HomePointGap', 'feat1')\n",
      "861 18:02:43 43.12 Trying with following combo ('HomePointGap', 'feat1')\n",
      "862 18:02:44 45.82 Trying with following combo ('HomePointGap', 'feat2')\n",
      "862 18:02:44 42.86 Trying with following combo ('HomePointGap', 'feat2')\n",
      "863 18:02:45 46.36 Trying with following combo ('HomePointGap', 'FormDiff')\n",
      "863 18:02:45 47.73 Trying with following combo ('HomePointGap', 'FormDiff')\n",
      "864 18:02:46 46.57 Trying with following combo ('HomePointGap', 'RecentFormDiff')\n",
      "864 18:02:46 47.7 Trying with following combo ('HomePointGap', 'RecentFormDiff')\n",
      "865 18:02:47 46.4 Trying with following combo ('HomePointGap', 'GoalCumulativeSum')\n",
      "865 18:02:47 47.45 Trying with following combo ('HomePointGap', 'GoalCumulativeSum')\n",
      "866 18:02:48 47.33 Trying with following combo ('HomePointGap', 'ATW_LogRegPred')\n",
      "866 18:02:48 47.33 Trying with following combo ('HomePointGap', 'ATW_LogRegPred')\n",
      "867 18:02:50 46.45 Trying with following combo ('AwayPointGap', 'HomeGoalGap')\n",
      "867 18:02:50 45.84 Trying with following combo ('AwayPointGap', 'HomeGoalGap')\n",
      "868 18:02:51 46.45 Trying with following combo ('AwayPointGap', 'AwayGoalGap')\n",
      "868 18:02:51 45.94 Trying with following combo ('AwayPointGap', 'AwayGoalGap')\n",
      "869 18:02:53 45.4 Trying with following combo ('AwayPointGap', 'feat1')\n",
      "869 18:02:53 42.96 Trying with following combo ('AwayPointGap', 'feat1')\n",
      "870 18:02:54 45.82 Trying with following combo ('AwayPointGap', 'feat2')\n",
      "870 18:02:54 42.82 Trying with following combo ('AwayPointGap', 'feat2')\n",
      "871 18:02:55 46.36 Trying with following combo ('AwayPointGap', 'FormDiff')\n",
      "871 18:02:55 47.73 Trying with following combo ('AwayPointGap', 'FormDiff')\n",
      "872 18:02:56 46.57 Trying with following combo ('AwayPointGap', 'RecentFormDiff')\n",
      "872 18:02:56 47.7 Trying with following combo ('AwayPointGap', 'RecentFormDiff')\n",
      "873 18:02:57 46.4 Trying with following combo ('AwayPointGap', 'GoalCumulativeSum')\n",
      "873 18:02:57 47.48 Trying with following combo ('AwayPointGap', 'GoalCumulativeSum')\n",
      "874 18:02:58 47.33 Trying with following combo ('AwayPointGap', 'ATW_LogRegPred')\n",
      "874 18:02:59 47.33 Trying with following combo ('AwayPointGap', 'ATW_LogRegPred')\n",
      "875 18:02:59 45.01 Trying with following combo ('HomeGoalGap', 'AwayGoalGap')\n",
      "875 18:03:00 46.12 Trying with following combo ('HomeGoalGap', 'AwayGoalGap')\n",
      "876 18:03:01 43.82 Trying with following combo ('HomeGoalGap', 'feat1')\n",
      "876 18:03:01 42.7 Trying with following combo ('HomeGoalGap', 'feat1')\n",
      "877 18:03:02 43.84 Trying with following combo ('HomeGoalGap', 'feat2')\n",
      "877 18:03:02 42.85 Trying with following combo ('HomeGoalGap', 'feat2')\n",
      "878 18:03:03 44.88 Trying with following combo ('HomeGoalGap', 'FormDiff')\n",
      "878 18:03:04 45.4 Trying with following combo ('HomeGoalGap', 'FormDiff')\n",
      "879 18:03:04 45.01 Trying with following combo ('HomeGoalGap', 'RecentFormDiff')\n",
      "879 18:03:05 47.3 Trying with following combo ('HomeGoalGap', 'RecentFormDiff')\n",
      "880 18:03:06 45.03 Trying with following combo ('HomeGoalGap', 'GoalCumulativeSum')\n",
      "880 18:03:06 46.49 Trying with following combo ('HomeGoalGap', 'GoalCumulativeSum')\n",
      "881 18:03:07 48.49 Trying with following combo ('HomeGoalGap', 'ATW_LogRegPred')\n",
      "881 18:03:08 49.53 Trying with following combo ('HomeGoalGap', 'ATW_LogRegPred')\n",
      "882 18:03:10 43.82 Trying with following combo ('AwayGoalGap', 'feat1')\n",
      "882 18:03:10 42.69 Trying with following combo ('AwayGoalGap', 'feat1')\n",
      "883 18:03:11 43.84 Trying with following combo ('AwayGoalGap', 'feat2')\n",
      "883 18:03:12 42.81 Trying with following combo ('AwayGoalGap', 'feat2')\n",
      "884 18:03:13 44.88 Trying with following combo ('AwayGoalGap', 'FormDiff')\n",
      "884 18:03:13 45.4 Trying with following combo ('AwayGoalGap', 'FormDiff')\n",
      "885 18:03:14 45.01 Trying with following combo ('AwayGoalGap', 'RecentFormDiff')\n",
      "885 18:03:14 47.35 Trying with following combo ('AwayGoalGap', 'RecentFormDiff')\n",
      "886 18:03:15 45.03 Trying with following combo ('AwayGoalGap', 'GoalCumulativeSum')\n",
      "886 18:03:15 47.09 Trying with following combo ('AwayGoalGap', 'GoalCumulativeSum')\n",
      "887 18:03:16 48.49 Trying with following combo ('AwayGoalGap', 'ATW_LogRegPred')\n",
      "887 18:03:16 49.53 Trying with following combo ('AwayGoalGap', 'ATW_LogRegPred')\n",
      "888 18:03:18 33.04 Trying with following combo ('feat1', 'feat2')\n",
      "888 18:03:18 33.19 Trying with following combo ('feat1', 'feat2')\n"
     ]
    },
    {
     "name": "stderr",
     "output_type": "stream",
     "text": [
      "c:\\Users\\vitto\\OneDrive\\Desktop\\Personale\\ML - Soccer\\BothToScore\\..\\lib\\Utility.py:288: RuntimeWarning: invalid value encountered in scalar divide\n",
      "  accuracy_class_1 = cm[1, 1] / (cm[0, 1] + cm[1, 1])\n",
      "c:\\Users\\vitto\\OneDrive\\Desktop\\Personale\\ML - Soccer\\BothToScore\\..\\lib\\Utility.py:288: RuntimeWarning: invalid value encountered in scalar divide\n",
      "  accuracy_class_1 = cm[1, 1] / (cm[0, 1] + cm[1, 1])\n"
     ]
    },
    {
     "name": "stdout",
     "output_type": "stream",
     "text": [
      "889 18:03:20 33.04 Trying with following combo ('feat1', 'FormDiff')\n",
      "889 18:03:20 33.15 Trying with following combo ('feat1', 'FormDiff')\n"
     ]
    },
    {
     "name": "stderr",
     "output_type": "stream",
     "text": [
      "c:\\Users\\vitto\\OneDrive\\Desktop\\Personale\\ML - Soccer\\BothToScore\\..\\lib\\Utility.py:288: RuntimeWarning: invalid value encountered in scalar divide\n",
      "  accuracy_class_1 = cm[1, 1] / (cm[0, 1] + cm[1, 1])\n",
      "c:\\Users\\vitto\\OneDrive\\Desktop\\Personale\\ML - Soccer\\BothToScore\\..\\lib\\Utility.py:288: RuntimeWarning: invalid value encountered in scalar divide\n",
      "  accuracy_class_1 = cm[1, 1] / (cm[0, 1] + cm[1, 1])\n"
     ]
    },
    {
     "name": "stdout",
     "output_type": "stream",
     "text": [
      "890 18:03:22 33.04 Trying with following combo ('feat1', 'RecentFormDiff')\n",
      "890 18:03:22 33.16 Trying with following combo ('feat1', 'RecentFormDiff')\n"
     ]
    },
    {
     "name": "stderr",
     "output_type": "stream",
     "text": [
      "c:\\Users\\vitto\\OneDrive\\Desktop\\Personale\\ML - Soccer\\BothToScore\\..\\lib\\Utility.py:288: RuntimeWarning: invalid value encountered in scalar divide\n",
      "  accuracy_class_1 = cm[1, 1] / (cm[0, 1] + cm[1, 1])\n",
      "c:\\Users\\vitto\\OneDrive\\Desktop\\Personale\\ML - Soccer\\BothToScore\\..\\lib\\Utility.py:288: RuntimeWarning: invalid value encountered in scalar divide\n",
      "  accuracy_class_1 = cm[1, 1] / (cm[0, 1] + cm[1, 1])\n"
     ]
    },
    {
     "name": "stdout",
     "output_type": "stream",
     "text": [
      "891 18:03:24 33.24 Trying with following combo ('feat1', 'GoalCumulativeSum')\n",
      "891 18:03:24 33.12 Trying with following combo ('feat1', 'GoalCumulativeSum')\n",
      "892 18:03:25 33.04 Trying with following combo ('feat1', 'ATW_LogRegPred')\n",
      "892 18:03:26 33.16 Trying with following combo ('feat1', 'ATW_LogRegPred')\n"
     ]
    },
    {
     "name": "stderr",
     "output_type": "stream",
     "text": [
      "c:\\Users\\vitto\\OneDrive\\Desktop\\Personale\\ML - Soccer\\BothToScore\\..\\lib\\Utility.py:288: RuntimeWarning: invalid value encountered in scalar divide\n",
      "  accuracy_class_1 = cm[1, 1] / (cm[0, 1] + cm[1, 1])\n",
      "c:\\Users\\vitto\\OneDrive\\Desktop\\Personale\\ML - Soccer\\BothToScore\\..\\lib\\Utility.py:288: RuntimeWarning: invalid value encountered in scalar divide\n",
      "  accuracy_class_1 = cm[1, 1] / (cm[0, 1] + cm[1, 1])\n"
     ]
    },
    {
     "name": "stdout",
     "output_type": "stream",
     "text": [
      "893 18:03:27 33.04 Trying with following combo ('feat2', 'FormDiff')\n",
      "893 18:03:27 33.1 Trying with following combo ('feat2', 'FormDiff')\n"
     ]
    },
    {
     "name": "stderr",
     "output_type": "stream",
     "text": [
      "c:\\Users\\vitto\\OneDrive\\Desktop\\Personale\\ML - Soccer\\BothToScore\\..\\lib\\Utility.py:288: RuntimeWarning: invalid value encountered in scalar divide\n",
      "  accuracy_class_1 = cm[1, 1] / (cm[0, 1] + cm[1, 1])\n",
      "c:\\Users\\vitto\\OneDrive\\Desktop\\Personale\\ML - Soccer\\BothToScore\\..\\lib\\Utility.py:288: RuntimeWarning: invalid value encountered in scalar divide\n",
      "  accuracy_class_1 = cm[1, 1] / (cm[0, 1] + cm[1, 1])\n"
     ]
    },
    {
     "name": "stdout",
     "output_type": "stream",
     "text": [
      "894 18:03:28 33.04 Trying with following combo ('feat2', 'RecentFormDiff')\n",
      "894 18:03:28 33.11 Trying with following combo ('feat2', 'RecentFormDiff')\n"
     ]
    },
    {
     "name": "stderr",
     "output_type": "stream",
     "text": [
      "c:\\Users\\vitto\\OneDrive\\Desktop\\Personale\\ML - Soccer\\BothToScore\\..\\lib\\Utility.py:288: RuntimeWarning: invalid value encountered in scalar divide\n",
      "  accuracy_class_1 = cm[1, 1] / (cm[0, 1] + cm[1, 1])\n",
      "c:\\Users\\vitto\\OneDrive\\Desktop\\Personale\\ML - Soccer\\BothToScore\\..\\lib\\Utility.py:288: RuntimeWarning: invalid value encountered in scalar divide\n",
      "  accuracy_class_1 = cm[1, 1] / (cm[0, 1] + cm[1, 1])\n"
     ]
    },
    {
     "name": "stdout",
     "output_type": "stream",
     "text": [
      "895 18:03:30 33.24 Trying with following combo ('feat2', 'GoalCumulativeSum')\n",
      "895 18:03:30 33.14 Trying with following combo ('feat2', 'GoalCumulativeSum')\n",
      "896 18:03:31 39.17 Trying with following combo ('feat2', 'ATW_LogRegPred')\n",
      "896 18:03:31 40.64 Trying with following combo ('feat2', 'ATW_LogRegPred')\n",
      "897 18:03:32 32.62 Trying with following combo ('FormDiff', 'RecentFormDiff')\n",
      "897 18:03:32 33.1 Trying with following combo ('FormDiff', 'RecentFormDiff')\n"
     ]
    },
    {
     "name": "stderr",
     "output_type": "stream",
     "text": [
      "c:\\Users\\vitto\\OneDrive\\Desktop\\Personale\\ML - Soccer\\BothToScore\\..\\lib\\Utility.py:288: RuntimeWarning: invalid value encountered in scalar divide\n",
      "  accuracy_class_1 = cm[1, 1] / (cm[0, 1] + cm[1, 1])\n",
      "c:\\Users\\vitto\\OneDrive\\Desktop\\Personale\\ML - Soccer\\BothToScore\\..\\lib\\Utility.py:288: RuntimeWarning: invalid value encountered in scalar divide\n",
      "  accuracy_class_1 = cm[1, 1] / (cm[0, 1] + cm[1, 1])\n"
     ]
    },
    {
     "name": "stdout",
     "output_type": "stream",
     "text": [
      "898 18:03:33 32.68 Trying with following combo ('FormDiff', 'GoalCumulativeSum')\n",
      "898 18:03:33 33.08 Trying with following combo ('FormDiff', 'GoalCumulativeSum')\n",
      "899 18:03:34 46.62 Trying with following combo ('FormDiff', 'ATW_LogRegPred')\n",
      "899 18:03:35 35.64 Trying with following combo ('FormDiff', 'ATW_LogRegPred')\n",
      "900 18:03:36 32.68 Trying with following combo ('RecentFormDiff', 'GoalCumulativeSum')\n",
      "900 18:03:36 32.94 Trying with following combo ('RecentFormDiff', 'GoalCumulativeSum')\n",
      "901 18:03:37 50.16 Trying with following combo ('RecentFormDiff', 'ATW_LogRegPred')\n",
      "901 18:03:37 35.87 Trying with following combo ('RecentFormDiff', 'ATW_LogRegPred')\n",
      "902 18:03:38 47.53 Trying with following combo ('GoalCumulativeSum', 'ATW_LogRegPred')\n",
      "902 18:03:38 42.85 Trying with following combo ('GoalCumulativeSum', 'ATW_LogRegPred')\n"
     ]
    }
   ],
   "source": [
    "for idx, combo in enumerate(combos):\n",
    "    current_GMT = time.gmtime()\n",
    "    time_stamp = calendar.timegm(current_GMT)\n",
    "\n",
    "    feat_cols = [col for col in combo]\n",
    "\n",
    "    data = getCompleteATWData().copy()\n",
    "    data = data.dropna(subset=feat_cols)\n",
    "    data['isATS'] = np.where(((data['FTAG'] > 0)), 1, 0)\n",
    "\n",
    "    # dataTrain = getTrainOver1Data().copy()\n",
    "    # dataTest = getTestOver1Data().copy()\n",
    "    # dataTrain = dataTrain.dropna(subset=feat_cols)\n",
    "    # dataTest = dataTest.dropna(subset=feat_cols)\n",
    "    # print(len(dataTrain), len(dataTest))\n",
    "\n",
    "\n",
    "    # x_train = dataTrain[feat_cols]\n",
    "    # y_train = dataTrain['isOver']\n",
    "    # x_test = dataTest[feat_cols]\n",
    "    # y_test = dataTest['isOver']\n",
    "    x_train, x_test, y_train, y_test = train_test_split(\n",
    "        data[feat_cols], data['isATS'], test_size=0.3, random_state=42, shuffle=True)#, stratify=data['isATS'])\n",
    "\n",
    "    x_train = x_train.sort_index()\n",
    "    x_test = x_test.sort_index()\n",
    "    y_train = y_train.sort_index()\n",
    "    y_test = y_test.sort_index()\n",
    "\n",
    "    # Crea e addestra il modello di albero di decisione per la regressione\n",
    "    # decTreeModel = DecisionTreeClassifier(random_state=42, min_samples_split=80\n",
    "    #                              # , class_weight={1: 1.2, 0: 1}\n",
    "    #                              # , class_weight='balanced'\n",
    "    #                              , max_depth=3  # , ccp_alpha= 0.00001\n",
    "    #                              # , max_features= 3\n",
    "    #                              ).fit(x_train, y_train)\n",
    "    \n",
    "    # Crea e addestra il modello di LogRegression\n",
    "    logRegModel = trainLogRegModel(x_train, y_train, class_weight=classWeight)\n",
    "\n",
    "    # Crea e addestra il modello di Random Forest\n",
    "    rfModel = RandomForestClassifier(random_state=42, n_estimators=100, \n",
    "                                min_samples_split=80, max_depth=3, class_weight=classWeight).fit(x_train, y_train) \n",
    "\n",
    "    # df_test = dataTest[dataTest.index.isin(x_test.index)].copy()\n",
    "    # df_train = dataTrain[dataTrain.index.isin(x_train.index)].copy()\n",
    "    df_test = data[data.index.isin(x_test.index)].copy()\n",
    "    df_train = data[data.index.isin(x_train.index)].copy()\n",
    "    # print(len(df_test), len(df_train))\n",
    "    df_train['LogRegPred'] = logRegModel.predict(x_train)\n",
    "    # df_train['DecTreePred'] = decTreeModel.predict(x_train)\n",
    "    df_train['RFPred'] = rfModel.predict(x_train)\n",
    "\n",
    "    df_test['LogRegPred'] = logRegModel.predict(x_test)\n",
    "    # df_test['DecTreePred'] = decTreeModel.predict(x_test)\n",
    "    df_test['RFPred'] = rfModel.predict(x_test)\n",
    "\n",
    "    df_test['Quota'] = df_test['B365A'].fillna(df_test['AvgCA'].fillna(df_test['AvgA']))\n",
    "    df_test['PA'] =  1/df_test['Quota']\n",
    "    df_test['ATS'] = df_test['PA']**(1/4.8)#+0.003/df_test['PA']\n",
    "    df_test['ATS'] = 1/df_test['ATS']\n",
    "    \n",
    "    # Ciclo sui modelli\n",
    "    # models = ['LogReg', 'DecTree', 'RF']\n",
    "    models = ['LogReg', 'RF']\n",
    "    rows = []\n",
    "\n",
    "    for model in models:\n",
    "        df_test['Gain'+model] = df_test.apply(calculate_gain_ATS, axis=1, args=(model+'Pred',) )\n",
    "\n",
    "        # df_test['Gain'] = df_test['GainOver'].loc(-1)+ df_test_under['GainUnder'].loc(-1) \n",
    "        # df_test['Equity'] = df_test['Gain'].cumsum()\n",
    "        df_test['Equity'+model] = df_test['Gain'+model].cumsum()\n",
    "        \n",
    "        # Metrics\n",
    "        train_accuracy = round(\n",
    "            100*accuracy_score(y_train, df_train[model+'Pred']), 2)\n",
    "        test_accuracy = round(\n",
    "            100*accuracy_score(y_test, df_test[model+'Pred']), 2)\n",
    "        \n",
    "        # test_precision = precision_score(y_test, y_test_pred)\n",
    "        test_f1 = f1_score(y_test, df_test[model+'Pred'])\n",
    "        classAcc = class_accuracy(y_test, df_test[model+'Pred'])\n",
    "        print(idx, time.strftime(\"%H:%M:%S\", time.localtime()),classAcc['Over'], 'Trying with following combo', combo)\n",
    "        \n",
    "        # Save Results\n",
    "        new_row = pd.Series({\n",
    "            'Model': model,\n",
    "            'Combo': str(combo),\n",
    "            'TrainAccuracy': train_accuracy,\n",
    "            'TestAccuracy': test_accuracy,\n",
    "            'TestF1': test_f1,\n",
    "            \"UnderTestAccuracy\": classAcc['Under'],\n",
    "            \"OverTestAccuracy\": classAcc['Over'],\n",
    "            'Equity'+model: df_test['Equity'+model].iloc[-1],\n",
    "            # 'BestParams': model.get_params,\n",
    "\n",
    "        })\n",
    "        # print(new_row)\n",
    "        dataframe = pd.concat(\n",
    "            [dataframe, new_row.to_frame().T], ignore_index=True)\n",
    "\n",
    "dataframe.to_excel(\"../Dataframe/\"+str(time_stamp) + \"ATSall.xlsx\")\n",
    "\n",
    "# #  print(result)"
   ]
  },
  {
   "cell_type": "code",
   "execution_count": 7,
   "metadata": {},
   "outputs": [],
   "source": [
    "# dataframe.to_excel(\"../Dataframe/\"+str(time_stamp) + \"all.xlsx\")"
   ]
  }
 ],
 "metadata": {
  "kernelspec": {
   "display_name": "Python 3",
   "language": "python",
   "name": "python3"
  },
  "language_info": {
   "codemirror_mode": {
    "name": "ipython",
    "version": 3
   },
   "file_extension": ".py",
   "mimetype": "text/x-python",
   "name": "python",
   "nbconvert_exporter": "python",
   "pygments_lexer": "ipython3",
   "version": "3.11.2"
  }
 },
 "nbformat": 4,
 "nbformat_minor": 2
}
