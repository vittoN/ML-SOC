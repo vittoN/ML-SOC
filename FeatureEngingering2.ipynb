{
 "cells": [
  {
   "cell_type": "code",
   "execution_count": 9,
   "metadata": {},
   "outputs": [],
   "source": [
    "import pandas as pd\n",
    "\n",
    "# Funzione per aggiungere le colonne richieste\n",
    "def add_gap_columns(input_file, output_file):\n",
    "    # Leggi il file Excel\n",
    "    df = pd.read_excel(input_file)\n",
    "    \n",
    "    # Controlla che le colonne richieste esistano\n",
    "    required_columns = ['HomePointsCumulative', 'AwayPointsCumulative', 'HomeGoalsCumulative', 'AwayGoalsCumulative']\n",
    "    for col in required_columns:\n",
    "        if col not in df.columns:\n",
    "            raise ValueError(f\"La colonna richiesta '{col}' non è presente nel file Excel.\")\n",
    "    \n",
    "    # Calcola le nuove colonne\n",
    "    df['HomePointGap'] = df['HomePointsCumulative'] - df['AwayPointsCumulative']\n",
    "    df['AwayPointGap'] = df['AwayPointsCumulative'] - df['HomePointsCumulative']\n",
    "    df['HomeGoalGap'] = df['HomeGoalsCumulative'] - df['AwayGoalsCumulative']\n",
    "    df['AwayGoalGap'] = df['AwayGoalsCumulative'] - df['HomeGoalsCumulative']\n",
    "    return df    \n",
    "\n",
    "\n",
    "\n"
   ]
  },
  {
   "cell_type": "code",
   "execution_count": 10,
   "metadata": {},
   "outputs": [
    {
     "name": "stdout",
     "output_type": "stream",
     "text": [
      "File salvato con successo come data/mergedDataFull2.xlsx\n"
     ]
    }
   ],
   "source": [
    "# Esempio di utilizzo\n",
    "input_file = 'data/mergedDataFull.xlsx'  # Sostituisci con il nome del tuo file Excel di input\n",
    "output_file = 'data/mergedDataFull2.xlsx'  # Nome del file Excel di output\n",
    "df = add_gap_columns(input_file, output_file)\n",
    "\n",
    "# Salva il dataframe modificato in un nuovo file Excel\n",
    "df.to_excel(output_file, index=False)\n",
    "print(f\"File salvato con successo come {output_file}\")"
   ]
  }
 ],
 "metadata": {
  "kernelspec": {
   "display_name": "Python 3",
   "language": "python",
   "name": "python3"
  },
  "language_info": {
   "codemirror_mode": {
    "name": "ipython",
    "version": 3
   },
   "file_extension": ".py",
   "mimetype": "text/x-python",
   "name": "python",
   "nbconvert_exporter": "python",
   "pygments_lexer": "ipython3",
   "version": "3.11.2"
  }
 },
 "nbformat": 4,
 "nbformat_minor": 2
}
