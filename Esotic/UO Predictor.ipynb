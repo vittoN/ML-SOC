{
 "cells": [
  {
   "cell_type": "code",
   "execution_count": 1,
   "metadata": {},
   "outputs": [],
   "source": [
    "# Import libraries\n",
    "import pandas as pd\n",
    "import numpy as np\n",
    "import matplotlib.pyplot as plt\n",
    "import seaborn as sns\n",
    "from sklearn.model_selection import train_test_split\n",
    "import sys\n",
    "import os\n",
    "from sklearn.ensemble import RandomForestClassifier\n",
    "\n",
    "\n",
    "# Trova il percorso assoluto della cartella \"esotic\" (dove si trova il tuo ipynb)\n",
    "current_dir = os.path.dirname(os.path.abspath(\"__file__\"))\n",
    "\n",
    "# Trova il percorso assoluto della cartella \"lib\"\n",
    "lib_dir = os.path.join(current_dir, \"..\", \"lib\")\n",
    "\n",
    "# Aggiungi il percorso di \"lib\" al PYTHONPATH\n",
    "sys.path.append(lib_dir)\n",
    "\n",
    "from Utility import *\n",
    "\n",
    "features = [\n",
    "    'UltimoScontroDiretto', 'EwmaGoalsSum', 'feat2'\n",
    "]\n",
    "\n",
    "featuresUnder = ['UltimoScontroDiretto', 'EwmaGoalsSum', 'feat2']"
   ]
  },
  {
   "cell_type": "markdown",
   "metadata": {},
   "source": [
    "## DATA"
   ]
  },
  {
   "cell_type": "code",
   "execution_count": 2,
   "metadata": {},
   "outputs": [
    {
     "name": "stderr",
     "output_type": "stream",
     "text": [
      "c:\\Users\\vitto\\OneDrive\\Desktop\\Personale\\ML - Soccer\\Esotic\\..\\lib\\Utility.py:193: FutureWarning: Downcasting behavior in `replace` is deprecated and will be removed in a future version. To retain the old behavior, explicitly call `result.infer_objects(copy=False)`. To opt-in to the future behavior, set `pd.set_option('future.no_silent_downcasting', True)`\n",
      "  fullData['UltimoScontroDiretto'] = fullData['UltimoScontroDiretto'].replace({'H': 1, 'A': 2, 'D': 0}).infer_objects(copy=False)\n"
     ]
    },
    {
     "data": {
      "text/html": [
       "<div>\n",
       "<style scoped>\n",
       "    .dataframe tbody tr th:only-of-type {\n",
       "        vertical-align: middle;\n",
       "    }\n",
       "\n",
       "    .dataframe tbody tr th {\n",
       "        vertical-align: top;\n",
       "    }\n",
       "\n",
       "    .dataframe thead th {\n",
       "        text-align: right;\n",
       "    }\n",
       "</style>\n",
       "<table border=\"1\" class=\"dataframe\">\n",
       "  <thead>\n",
       "    <tr style=\"text-align: right;\">\n",
       "      <th></th>\n",
       "      <th>Date</th>\n",
       "      <th>Div</th>\n",
       "      <th>Time</th>\n",
       "      <th>HomeTeam</th>\n",
       "      <th>AwayTeam</th>\n",
       "      <th>FTHG</th>\n",
       "      <th>FTAG</th>\n",
       "      <th>FTR</th>\n",
       "      <th>HTHG</th>\n",
       "      <th>HTAG</th>\n",
       "      <th>...</th>\n",
       "      <th>Unnamed: 59</th>\n",
       "      <th>Unnamed: 60</th>\n",
       "      <th>HFKC</th>\n",
       "      <th>AFKC</th>\n",
       "      <th>Unnamed: 106</th>\n",
       "      <th>GoalCumulativeSum</th>\n",
       "      <th>GoalCumulativeSumPrev</th>\n",
       "      <th>FormRatio</th>\n",
       "      <th>RecentFormRatio</th>\n",
       "      <th>isOver</th>\n",
       "    </tr>\n",
       "  </thead>\n",
       "  <tbody>\n",
       "    <tr>\n",
       "      <th>51668</th>\n",
       "      <td>17/09/2024</td>\n",
       "      <td>SC3</td>\n",
       "      <td>19:45</td>\n",
       "      <td>Elgin</td>\n",
       "      <td>Spartans</td>\n",
       "      <td>1.0</td>\n",
       "      <td>1.0</td>\n",
       "      <td>D</td>\n",
       "      <td>0.0</td>\n",
       "      <td>0.0</td>\n",
       "      <td>...</td>\n",
       "      <td>NaN</td>\n",
       "      <td>NaN</td>\n",
       "      <td>NaN</td>\n",
       "      <td>NaN</td>\n",
       "      <td>NaN</td>\n",
       "      <td>14.0</td>\n",
       "      <td>18.0</td>\n",
       "      <td>NaN</td>\n",
       "      <td>NaN</td>\n",
       "      <td>0</td>\n",
       "    </tr>\n",
       "    <tr>\n",
       "      <th>51669</th>\n",
       "      <td>21/09/2024</td>\n",
       "      <td>SC3</td>\n",
       "      <td>15:00</td>\n",
       "      <td>Clyde</td>\n",
       "      <td>Elgin</td>\n",
       "      <td>0.0</td>\n",
       "      <td>0.0</td>\n",
       "      <td>D</td>\n",
       "      <td>0.0</td>\n",
       "      <td>0.0</td>\n",
       "      <td>...</td>\n",
       "      <td>NaN</td>\n",
       "      <td>NaN</td>\n",
       "      <td>NaN</td>\n",
       "      <td>NaN</td>\n",
       "      <td>NaN</td>\n",
       "      <td>14.0</td>\n",
       "      <td>14.0</td>\n",
       "      <td>NaN</td>\n",
       "      <td>NaN</td>\n",
       "      <td>0</td>\n",
       "    </tr>\n",
       "    <tr>\n",
       "      <th>51670</th>\n",
       "      <td>21/09/2024</td>\n",
       "      <td>SC3</td>\n",
       "      <td>15:00</td>\n",
       "      <td>East Fife</td>\n",
       "      <td>Peterhead</td>\n",
       "      <td>2.0</td>\n",
       "      <td>0.0</td>\n",
       "      <td>H</td>\n",
       "      <td>2.0</td>\n",
       "      <td>0.0</td>\n",
       "      <td>...</td>\n",
       "      <td>NaN</td>\n",
       "      <td>NaN</td>\n",
       "      <td>NaN</td>\n",
       "      <td>NaN</td>\n",
       "      <td>NaN</td>\n",
       "      <td>26.0</td>\n",
       "      <td>14.0</td>\n",
       "      <td>NaN</td>\n",
       "      <td>NaN</td>\n",
       "      <td>0</td>\n",
       "    </tr>\n",
       "    <tr>\n",
       "      <th>51671</th>\n",
       "      <td>21/09/2024</td>\n",
       "      <td>SC3</td>\n",
       "      <td>15:00</td>\n",
       "      <td>Forfar</td>\n",
       "      <td>Stranraer</td>\n",
       "      <td>2.0</td>\n",
       "      <td>1.0</td>\n",
       "      <td>H</td>\n",
       "      <td>1.0</td>\n",
       "      <td>1.0</td>\n",
       "      <td>...</td>\n",
       "      <td>NaN</td>\n",
       "      <td>NaN</td>\n",
       "      <td>NaN</td>\n",
       "      <td>NaN</td>\n",
       "      <td>NaN</td>\n",
       "      <td>8.0</td>\n",
       "      <td>26.0</td>\n",
       "      <td>NaN</td>\n",
       "      <td>NaN</td>\n",
       "      <td>1</td>\n",
       "    </tr>\n",
       "    <tr>\n",
       "      <th>51672</th>\n",
       "      <td>21/09/2024</td>\n",
       "      <td>SC3</td>\n",
       "      <td>15:00</td>\n",
       "      <td>Stirling</td>\n",
       "      <td>Bonnyrigg Rose</td>\n",
       "      <td>0.0</td>\n",
       "      <td>2.0</td>\n",
       "      <td>A</td>\n",
       "      <td>0.0</td>\n",
       "      <td>1.0</td>\n",
       "      <td>...</td>\n",
       "      <td>NaN</td>\n",
       "      <td>NaN</td>\n",
       "      <td>NaN</td>\n",
       "      <td>NaN</td>\n",
       "      <td>NaN</td>\n",
       "      <td>13.0</td>\n",
       "      <td>8.0</td>\n",
       "      <td>NaN</td>\n",
       "      <td>NaN</td>\n",
       "      <td>0</td>\n",
       "    </tr>\n",
       "  </tbody>\n",
       "</table>\n",
       "<p>5 rows × 234 columns</p>\n",
       "</div>"
      ],
      "text/plain": [
       "             Date  Div   Time   HomeTeam        AwayTeam  FTHG  FTAG FTR  \\\n",
       "51668  17/09/2024  SC3  19:45      Elgin        Spartans   1.0   1.0   D   \n",
       "51669  21/09/2024  SC3  15:00      Clyde           Elgin   0.0   0.0   D   \n",
       "51670  21/09/2024  SC3  15:00  East Fife       Peterhead   2.0   0.0   H   \n",
       "51671  21/09/2024  SC3  15:00     Forfar       Stranraer   2.0   1.0   H   \n",
       "51672  21/09/2024  SC3  15:00   Stirling  Bonnyrigg Rose   0.0   2.0   A   \n",
       "\n",
       "       HTHG  HTAG  ... Unnamed: 59 Unnamed: 60  HFKC  AFKC  Unnamed: 106  \\\n",
       "51668   0.0   0.0  ...         NaN         NaN   NaN   NaN           NaN   \n",
       "51669   0.0   0.0  ...         NaN         NaN   NaN   NaN           NaN   \n",
       "51670   2.0   0.0  ...         NaN         NaN   NaN   NaN           NaN   \n",
       "51671   1.0   1.0  ...         NaN         NaN   NaN   NaN           NaN   \n",
       "51672   0.0   1.0  ...         NaN         NaN   NaN   NaN           NaN   \n",
       "\n",
       "       GoalCumulativeSum  GoalCumulativeSumPrev  FormRatio  RecentFormRatio  \\\n",
       "51668               14.0                   18.0        NaN              NaN   \n",
       "51669               14.0                   14.0        NaN              NaN   \n",
       "51670               26.0                   14.0        NaN              NaN   \n",
       "51671                8.0                   26.0        NaN              NaN   \n",
       "51672               13.0                    8.0        NaN              NaN   \n",
       "\n",
       "       isOver  \n",
       "51668       0  \n",
       "51669       0  \n",
       "51670       0  \n",
       "51671       1  \n",
       "51672       0  \n",
       "\n",
       "[5 rows x 234 columns]"
      ]
     },
     "execution_count": 2,
     "metadata": {},
     "output_type": "execute_result"
    }
   ],
   "source": [
    "\n",
    "data = getFullData().copy()\n",
    "dataUnder = data.copy()\n",
    "data.tail()"
   ]
  },
  {
   "cell_type": "markdown",
   "metadata": {},
   "source": [
    "## Match Goal Distribuition"
   ]
  },
  {
   "cell_type": "code",
   "execution_count": 3,
   "metadata": {},
   "outputs": [
    {
     "data": {
      "image/png": "[encoded data removed]",
      "text/plain": [
       "<Figure size 640x480 with 1 Axes>"
      ]
     },
     "metadata": {},
     "output_type": "display_data"
    }
   ],
   "source": [
    "# Data distribution\n",
    "plt.title('Match Goals')\n",
    "sns.histplot(data['MatchGoal'])\n",
    "plt.show()"
   ]
  },
  {
   "cell_type": "markdown",
   "metadata": {},
   "source": [
    "## Feature Engineering"
   ]
  },
  {
   "cell_type": "code",
   "execution_count": 4,
   "metadata": {},
   "outputs": [],
   "source": [
    "columns_to_check = [\n",
    "    # 'feat1'\n",
    "    # , 'feat2'\n",
    "]\n",
    "data['GoalCumulativeSum'] = data['HomeGoalsCumulative']\t+ data['AwayGoalsCumulative']\n",
    "data['GoalCumulativeSumPrev'] = data['GoalCumulativeSum'].shift(1)\n",
    "\n",
    "# df = data[data['GoalCumulativeSum'] > 10]\n",
    "\n"
   ]
  },
  {
   "cell_type": "code",
   "execution_count": 5,
   "metadata": {},
   "outputs": [
    {
     "name": "stdout",
     "output_type": "stream",
     "text": [
      "21192\n",
      "X_train: (14834, 3) \n",
      "X_test: (6358, 3) \n",
      "y_train: (14834,) \n",
      "y_test: (6358,)\n"
     ]
    }
   ],
   "source": [
    "data = data.dropna(subset=features)\n",
    "# data = data.dropna()\n",
    "print(len(data))\n",
    "data['isOver'] = np.where(data['MatchGoal'] > 2.5, 1, 0)\n",
    "x_train, x_test, y_train, y_test = train_test_split(\n",
    "    data[features], data['isOver'], test_size=0.3, random_state=42, shuffle=True)\n",
    "\n",
    "x_train = x_train.sort_index()\n",
    "x_test = x_test.sort_index()\n",
    "y_train = y_train.sort_index()\n",
    "y_test = y_test.sort_index()\n",
    "\n",
    "\n",
    "print(f'X_train: {x_train.shape} \\nX_test: {x_test.shape} \\ny_train: {y_train.shape} \\ny_test: {y_test.shape}')"
   ]
  },
  {
   "cell_type": "code",
   "execution_count": 6,
   "metadata": {},
   "outputs": [
    {
     "name": "stdout",
     "output_type": "stream",
     "text": [
      "21192\n"
     ]
    }
   ],
   "source": [
    "dataUnder = dataUnder.dropna(subset=featuresUnder)\n",
    "# data = data.dropna()\n",
    "print(len(dataUnder))\n",
    "dataUnder['isOver'] = np.where(dataUnder['MatchGoal'] > 2.5, 1, 0)\n",
    "x_train_under, x_test_under, y_train_under, y_test_under = train_test_split(\n",
    "    dataUnder[featuresUnder], dataUnder['isOver'], test_size=0.3, random_state=42, shuffle=True)\n",
    "\n",
    "x_train_under = x_train_under.sort_index()\n",
    "x_test_under = x_test_under.sort_index()\n",
    "y_train_under = y_train_under.sort_index()\n",
    "y_test_under = y_test_under.sort_index()"
   ]
  },
  {
   "cell_type": "markdown",
   "metadata": {},
   "source": [
    "## Models"
   ]
  },
  {
   "cell_type": "markdown",
   "metadata": {},
   "source": [
    "### Decision Tree model"
   ]
  },
  {
   "cell_type": "code",
   "execution_count": 7,
   "metadata": {},
   "outputs": [],
   "source": [
    "from sklearn.tree import DecisionTreeClassifier\n",
    "\n",
    "\n",
    "\n",
    "# Crea e addestra il modello di albero di decisione per la regressione\n",
    "# decTreeModel = DecisionTreeClassifier(random_state=42, min_samples_split=80\n",
    "#                                  # , class_weight={1: 1.2, 0: 1}\n",
    "#                                  # , class_weight='balanced'\n",
    "#                                  , max_depth=3  # , ccp_alpha= 0.00001\n",
    "#                                  # , max_features= 3\n",
    "#                                  ).fit(x_train_under, y_train_under)\n",
    "\n",
    "decTreeModel = RandomForestClassifier(random_state=42, n_estimators=100, \n",
    "                                min_samples_split=80, max_depth=3).fit(x_train_under, y_train_under) \n",
    "\n",
    "# dumpModel(\"Under.joblib\", decTreeModel)\n",
    "# decTreeModel = loadModel(\"Under.joblib\")"
   ]
  },
  {
   "cell_type": "markdown",
   "metadata": {},
   "source": [
    "### LogisticRegression"
   ]
  },
  {
   "cell_type": "code",
   "execution_count": 8,
   "metadata": {},
   "outputs": [],
   "source": [
    "logRegModel = trainLogRegModel(x_train, y_train)"
   ]
  },
  {
   "cell_type": "markdown",
   "metadata": {},
   "source": [
    "### Random Forest"
   ]
  },
  {
   "cell_type": "code",
   "execution_count": 9,
   "metadata": {},
   "outputs": [],
   "source": [
    "\n",
    "\n",
    "\n",
    "# Crea e addestra il modello di Random Forest\n",
    "rfModel = RandomForestClassifier(random_state=42, n_estimators=100, \n",
    "                                min_samples_split=80, max_depth=3).fit(x_train, y_train) \n",
    "\n",
    "# rfModel = DecisionTreeClassifier(random_state=42, min_samples_split=80\n",
    "#                                  # , class_weight={1: 1.2, 0: 1}\n",
    "#                                  # , class_weight='balanced'\n",
    "#                                  , max_depth=3  # , ccp_alpha= 0.00001\n",
    "#                                  # , max_features= 3\n",
    "#                                  ).fit(x_train, y_train)\n",
    "\n",
    "# dumpModel(\"Over.joblib\", rfModel)\n",
    "# rfModel = loadModel('Over.joblib')"
   ]
  },
  {
   "cell_type": "markdown",
   "metadata": {},
   "source": [
    "## Utility Func for Gain"
   ]
  },
  {
   "cell_type": "code",
   "execution_count": 10,
   "metadata": {},
   "outputs": [],
   "source": [
    "quotaMin = 1.50\n",
    "def calculate_gain_O25(row, prediction):\n",
    "    \n",
    "    if (row[prediction] == 1):\n",
    "        if row['B365>2.5'] > quotaMin :\n",
    "            if row['MatchGoal'] > 2.5:\n",
    "                return row['B365>2.5']-1\n",
    "            else:\n",
    "                return -1\n",
    "        else:\n",
    "            return 0\n",
    "    elif (row[prediction] == 0): \n",
    "        if row['B365<2.5'] > quotaMin :\n",
    "            if row['MatchGoal'] < 2.5:\n",
    "                return row['B365<2.5']-1\n",
    "            else:\n",
    "                return -1\n",
    "        else:\n",
    "            return 0\n",
    "    else:\n",
    "        return 0\n",
    "\n",
    "def calculate_gain_Over25(row, prediction):\n",
    "    if (row[prediction] == 1):\n",
    "        # return 0\n",
    "        if row['B365>2.5'] > quotaMin :\n",
    "            if row['MatchGoal'] > 2.5:\n",
    "                return row['B365>2.5']-1\n",
    "            else:\n",
    "                return -1\n",
    "        else:\n",
    "            return 0\n",
    "    else:\n",
    "        return 0\n",
    "    \n",
    "def calculate_gain_Under25(row, prediction):\n",
    "    if (row[prediction] == 0): \n",
    "        # return 0\n",
    "        if row['B365<2.5'] > quotaMin :\n",
    "            if row['MatchGoal'] < 2.5:\n",
    "                return row['B365<2.5']-1\n",
    "            else:\n",
    "                return -1\n",
    "        else:\n",
    "            return 0\n",
    "    else:\n",
    "        return 0"
   ]
  },
  {
   "cell_type": "markdown",
   "metadata": {},
   "source": [
    "## Metrics"
   ]
  },
  {
   "cell_type": "code",
   "execution_count": 11,
   "metadata": {},
   "outputs": [
    {
     "name": "stdout",
     "output_type": "stream",
     "text": [
      "6358\n",
      "Test LogReg Accuracy score: 54.31%\n",
      "Test DecTree Accuracy score: 55.36%\n",
      "Test Random Forest Accuracy score: 55.36%\n",
      "\n",
      "         Accuratezza_Over  Accuratezza_Under\n",
      "Modello                                     \n",
      "LogReg           0.557945                NaN\n",
      "RF               0.560361                NaN\n",
      "DecTree               NaN           0.543839\n",
      "51637    32.6\n",
      "Name: EquityOver, dtype: float64\n",
      "51637   -56.4\n",
      "Name: EquityUnder, dtype: float64\n",
      "[[1408 1657]\n",
      " [1181 2112]]\n"
     ]
    }
   ],
   "source": [
    "from itertools import count\n",
    "from sklearn.metrics import accuracy_score\n",
    "df_test = data[data.index.isin(x_test.index)].copy()\n",
    "df_test_under = dataUnder[dataUnder.index.isin(x_test_under.index)].copy()\n",
    "print(len(df_test))\n",
    "\n",
    "df_test['LogRegPred'] = logRegModel.predict(x_test)\n",
    "df_test_under['DecTreePred'] = decTreeModel.predict(x_test_under)\n",
    "df_test['RFPred'] = rfModel.predict(x_test)\n",
    "\n",
    "\n",
    "\n",
    "print(\n",
    "    f\"Test LogReg Accuracy score: {round(100*accuracy_score(y_test, df_test['LogRegPred']),2)}%\")\n",
    "print(\n",
    "    f\"Test DecTree Accuracy score: {round(100*accuracy_score(y_test_under, df_test_under['DecTreePred']),2)}%\")\n",
    "print(\n",
    "    f\"Test Random Forest Accuracy score: {round(100*accuracy_score(y_test, df_test['RFPred']),2)}%\")\n",
    "\n",
    "models = ['LogReg', 'RF']\n",
    "rows = []\n",
    "classAccuracyDf = pd.DataFrame(\n",
    "    columns=['Modello', 'Accuratezza_Under', 'Accuratezza_Over'])\n",
    "for model in models:\n",
    "    row = {\n",
    "        \"Modello\": model,\n",
    "        \"Accuratezza_Over\": class_accuracy(y_test, df_test[model+'Pred'])['Over']\n",
    "    }\n",
    "    rows.append(row)\n",
    "row = {\"Modello\": 'DecTree',\"Accuratezza_Under\": class_accuracy(y_test_under, df_test_under['DecTreePred'])['Under']}\n",
    "rows.append(row)\n",
    "\n",
    "classAccuracyDf = pd.DataFrame(rows)\n",
    "classAccuracyDf.set_index('Modello', inplace=True)\n",
    "\n",
    "print('')\n",
    "print(classAccuracyDf)\n",
    "df_test['numUnderLog'] = df_test[df_test['LogRegPred'] == 0]['LogRegPred'].count()\n",
    "df_test['numOverLog'] = df_test[df_test['LogRegPred'] == 1]['LogRegPred'].count()\n",
    "\n",
    "predictionUnder = 'DecTreePred'\n",
    "predictionOver = 'RFPred'\n",
    "\n",
    "df_test['B365<2.5'] = 1.8\n",
    "df_test['B365>2.5'] = 1.8\n",
    "df_test_under['B365<2.5'] = 1.8\n",
    "df_test_under['B365>2.5'] = 1.8\n",
    "\n",
    "df_test['GainOver'] = df_test.apply(calculate_gain_Over25, axis=1, args=(predictionOver,) )\n",
    "df_test_under['GainUnder'] = df_test_under.apply(calculate_gain_Under25, axis=1, args=(predictionUnder,) )\n",
    "# df_test['Gain'] = df_test['GainOver'].loc(-1)+ df_test_under['GainUnder'].loc(-1) \n",
    "# df_test['Equity'] = df_test['Gain'].cumsum()\n",
    "df_test['EquityOver'] = df_test['GainOver'].cumsum()\n",
    "df_test_under['EquityUnder'] = df_test_under['GainUnder'].cumsum()\n",
    "\n",
    "# print(df_test['Equity'].tail(1))\n",
    "print(df_test['EquityOver'].tail(1))\n",
    "print(df_test_under['EquityUnder'].tail(1))\n",
    "\n",
    "from sklearn.metrics import confusion_matrix\n",
    "cm = confusion_matrix(df_test['isOver'], df_test[predictionOver])\n",
    "print(cm)\n",
    "# exportExcelWithTimeStamp(df_test_under, \"../Dataframe/\", \"df.xlsx\")\n",
    "\n"
   ]
  }
 ],
 "metadata": {
  "kernelspec": {
   "display_name": "Python 3",
   "language": "python",
   "name": "python3"
  },
  "language_info": {
   "codemirror_mode": {
    "name": "ipython",
    "version": 3
   },
   "file_extension": ".py",
   "mimetype": "text/x-python",
   "name": "python",
   "nbconvert_exporter": "python",
   "pygments_lexer": "ipython3",
   "version": "3.11.2"
  }
 },
 "nbformat": 4,
 "nbformat_minor": 2
}
