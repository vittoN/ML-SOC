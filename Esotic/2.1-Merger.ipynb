{
 "cells": [
  {
   "cell_type": "code",
   "execution_count": 2,
   "metadata": {},
   "outputs": [
    {
     "name": "stdout",
     "output_type": "stream",
     "text": [
      "Processing file: data/engdata/Esotic\\ARG-E.xlsx\n",
      "Processing file: data/engdata/Esotic\\BRA-E.xlsx\n",
      "Processing file: data/engdata/Esotic\\CHN-E.xlsx\n",
      "Processing file: data/engdata/Esotic\\DNK-E.xlsx\n",
      "Processing file: data/engdata/Esotic\\FIN (1)-E.xlsx\n",
      "Processing file: data/engdata/Esotic\\IRL-E.xlsx\n",
      "Processing file: data/engdata/Esotic\\NOR-E.xlsx\n",
      "Processing file: data/engdata/Esotic\\SWE-E.xlsx\n",
      "Processing file: data/engdata/Esotic\\USA-E.xlsx\n",
      "File Excel uniti con successo in 'dati_uniti.xlsx'\n"
     ]
    }
   ],
   "source": [
    "import pandas as pd\n",
    "import os\n",
    "\n",
    "# Sostituisci con il percorso reale della cartella contenente i file .xlsx\n",
    "folder_path = \"data/engdata/Esotic\"\n",
    "\n",
    "# Crea una lista vuota per memorizzare i dataframe di ogni file\n",
    "all_dataframes = []\n",
    "\n",
    "# Iterazione su tutti i file .xlsx nella cartella\n",
    "for filename in os.listdir(folder_path):\n",
    "    if filename.endswith('.xlsx'):\n",
    "        file_path = os.path.join(folder_path, filename)\n",
    "        print(f\"Processing file: {file_path}\")\n",
    "        # Leggi il file Excel in un dataframe\n",
    "        df = pd.read_excel(file_path)\n",
    "        # Aggiungi il dataframe alla lista\n",
    "        all_dataframes.append(df)\n",
    "\n",
    "# Concatena tutti i dataframe in un unico dataframe\n",
    "final_df = pd.concat(all_dataframes, ignore_index=True)\n",
    "\n"
   ]
  },
  {
   "cell_type": "code",
   "execution_count": 4,
   "metadata": {},
   "outputs": [
    {
     "name": "stderr",
     "output_type": "stream",
     "text": [
      "C:\\Users\\vitto\\AppData\\Local\\Temp\\ipykernel_23352\\3669481818.py:6: FutureWarning: A value is trying to be set on a copy of a DataFrame or Series through chained assignment using an inplace method.\n",
      "The behavior will change in pandas 3.0. This inplace method will never work because the intermediate object on which we are setting values always behaves as a copy.\n",
      "\n",
      "For example, when doing 'df[col].method(value, inplace=True)', try using 'df.method({col: value}, inplace=True)' or df[col] = df[col].method(value) instead, to perform the operation inplace on the original object.\n",
      "\n",
      "\n",
      "  final_df['feat2'].replace([np.inf, -np.inf], np.nan, inplace=True)\n",
      "C:\\Users\\vitto\\AppData\\Local\\Temp\\ipykernel_23352\\3669481818.py:7: FutureWarning: A value is trying to be set on a copy of a DataFrame or Series through chained assignment using an inplace method.\n",
      "The behavior will change in pandas 3.0. This inplace method will never work because the intermediate object on which we are setting values always behaves as a copy.\n",
      "\n",
      "For example, when doing 'df[col].method(value, inplace=True)', try using 'df.method({col: value}, inplace=True)' or df[col] = df[col].method(value) instead, to perform the operation inplace on the original object.\n",
      "\n",
      "\n",
      "  final_df['feat1'].replace([np.inf, -np.inf], np.nan, inplace=True)\n"
     ]
    },
    {
     "name": "stdout",
     "output_type": "stream",
     "text": [
      "File Excel uniti con successo in 'dati_uniti.xlsx'\n"
     ]
    }
   ],
   "source": [
    "import numpy as np # Fundamental package for scientific computing with Python\n",
    "\n",
    "final_df['feat1'] = abs((final_df['HomeEwmaGoalsScored'] + final_df['HomeEwmaGoalsConceded']) / (final_df['AwayEwmaGoalsScored'] + final_df['AwayEwmaGoalsConceded']))\n",
    "final_df['feat2'] = abs((final_df['HomeGoalsCumulative'] + final_df['AwayGoalsCumulative']) / (final_df['HomeGoalsConcededCumulative'] + final_df['AwayGoalsConcededCumulative']))\n",
    "\n",
    "final_df['feat2'].replace([np.inf, -np.inf], np.nan, inplace=True)\n",
    "final_df['feat1'].replace([np.inf, -np.inf], np.nan, inplace=True)\n",
    "\n",
    "# Salva il dataframe finale in un nuovo file Excel\n",
    "final_df.to_excel(\"data/mergedEsotic.xlsx\", index=False)\n",
    "\n",
    "print(\"File Excel uniti con successo in 'dati_uniti.xlsx'\")"
   ]
  }
 ],
 "metadata": {
  "kernelspec": {
   "display_name": "Python 3",
   "language": "python",
   "name": "python3"
  },
  "language_info": {
   "codemirror_mode": {
    "name": "ipython",
    "version": 3
   },
   "file_extension": ".py",
   "mimetype": "text/x-python",
   "name": "python",
   "nbconvert_exporter": "python",
   "pygments_lexer": "ipython3",
   "version": "3.11.2"
  }
 },
 "nbformat": 4,
 "nbformat_minor": 2
}
